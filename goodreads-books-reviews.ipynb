{
 "cells": [
  {
   "cell_type": "code",
   "execution_count": 1,
   "id": "11d87a28",
   "metadata": {
    "_cell_guid": "b1076dfc-b9ad-4769-8c92-a6c4dae69d19",
    "_uuid": "8f2839f25d086af736a60e9eeb907d3b93b6e0e5",
    "execution": {
     "iopub.execute_input": "2023-03-12T14:29:57.804498Z",
     "iopub.status.busy": "2023-03-12T14:29:57.804087Z",
     "iopub.status.idle": "2023-03-12T14:29:57.817424Z",
     "shell.execute_reply": "2023-03-12T14:29:57.816444Z"
    },
    "papermill": {
     "duration": 0.030114,
     "end_time": "2023-03-12T14:29:57.819744",
     "exception": false,
     "start_time": "2023-03-12T14:29:57.789630",
     "status": "completed"
    },
    "tags": []
   },
   "outputs": [
    {
     "name": "stdout",
     "output_type": "stream",
     "text": [
      "/kaggle/input/goodreads-books-reviews-290312/goodreads_test.csv\n",
      "/kaggle/input/goodreads-books-reviews-290312/goodreads_sample_submission.csv\n",
      "/kaggle/input/goodreads-books-reviews-290312/goodreads_train.csv\n"
     ]
    }
   ],
   "source": [
    "# This Python 3 environment comes with many helpful analytics libraries installed\n",
    "# It is defined by the kaggle/python Docker image: https://github.com/kaggle/docker-python\n",
    "# For example, here's several helpful packages to load\n",
    "\n",
    "import numpy as np # linear algebra\n",
    "import pandas as pd # data processing, CSV file I/O (e.g. pd.read_csv)\n",
    "\n",
    "# Input data files are available in the read-only \"../input/\" directory\n",
    "# For example, running this (by clicking run or pressing Shift+Enter) will list all files under the input directory\n",
    "\n",
    "import os\n",
    "for dirname, _, filenames in os.walk('/kaggle/input'):\n",
    "    for filename in filenames:\n",
    "        print(os.path.join(dirname, filename))\n",
    "\n",
    "# You can write up to 20GB to the current directory (/kaggle/working/) that gets preserved as output when you create a version using \"Save & Run All\" \n",
    "# You can also write temporary files to /kaggle/temp/, but they won't be saved outside of the current session"
   ]
  },
  {
   "cell_type": "code",
   "execution_count": 2,
   "id": "001e8ada",
   "metadata": {
    "execution": {
     "iopub.execute_input": "2023-03-12T14:29:57.844790Z",
     "iopub.status.busy": "2023-03-12T14:29:57.844163Z",
     "iopub.status.idle": "2023-03-12T14:29:59.982491Z",
     "shell.execute_reply": "2023-03-12T14:29:59.981313Z"
    },
    "papermill": {
     "duration": 2.153641,
     "end_time": "2023-03-12T14:29:59.985124",
     "exception": false,
     "start_time": "2023-03-12T14:29:57.831483",
     "status": "completed"
    },
    "tags": []
   },
   "outputs": [],
   "source": [
    "import numpy as np\n",
    "import pandas as pd\n",
    "import seaborn as sns\n",
    "import matplotlib.pyplot as plt\n",
    "\n",
    "import nltk\n",
    "import string\n",
    "from nltk.corpus import stopwords\n",
    "from nltk.stem import PorterStemmer\n",
    "import re\n",
    "\n",
    "from wordcloud import WordCloud\n",
    "from collections import Counter\n",
    "\n",
    "from sklearn.preprocessing import LabelEncoder\n",
    "from sklearn.model_selection import train_test_split\n",
    "from sklearn.preprocessing import MinMaxScaler\n",
    "\n",
    "from sklearn.feature_extraction.text import CountVectorizer, TfidfVectorizer\n",
    "from sklearn.naive_bayes import GaussianNB, MultinomialNB, BernoulliNB\n",
    "from sklearn.linear_model import LogisticRegression\n",
    "from sklearn.svm import SVC\n",
    "from sklearn.tree import DecisionTreeClassifier\n",
    "from sklearn.neighbors import KNeighborsClassifier\n",
    "from sklearn.ensemble import RandomForestClassifier\n",
    "from sklearn.ensemble import AdaBoostClassifier, BaggingClassifier, GradientBoostingClassifier\n",
    "from sklearn.ensemble import ExtraTreesClassifier\n",
    "from xgboost import XGBClassifier\n",
    "from sklearn.ensemble import VotingClassifier\n",
    "from sklearn.ensemble import StackingClassifier\n",
    "\n",
    "from sklearn.metrics import accuracy_score, confusion_matrix, precision_score, ConfusionMatrixDisplay\n",
    "import pickle\n",
    "\n",
    "import pandas as pd\n",
    "import numpy as np\n",
    "import seaborn as sns\n",
    "import matplotlib.pyplot as plt\n",
    "\n",
    "import string\n",
    "import nltk\n",
    "import nltk.corpus\n",
    "from nltk.tokenize import word_tokenize\n",
    "from nltk.corpus import stopwords\n",
    "from nltk.stem import PorterStemmer\n",
    "import re\n",
    "\n",
    "from sklearn.model_selection import train_test_split\n",
    "from sklearn.feature_extraction.text import CountVectorizer, TfidfVectorizer\n",
    "\n",
    "from sklearn.linear_model import LogisticRegression\n",
    "from sklearn.tree import DecisionTreeClassifier\n",
    "from sklearn.ensemble import RandomForestClassifier\n",
    "from sklearn.naive_bayes import GaussianNB\n",
    "from sklearn.svm import SVC\n",
    "\n",
    "from sklearn.metrics import accuracy_score\n",
    "from sklearn.model_selection import cross_val_score"
   ]
  },
  {
   "cell_type": "code",
   "execution_count": 3,
   "id": "eaedffc8",
   "metadata": {
    "execution": {
     "iopub.execute_input": "2023-03-12T14:30:00.009868Z",
     "iopub.status.busy": "2023-03-12T14:30:00.009489Z",
     "iopub.status.idle": "2023-03-12T14:30:37.653321Z",
     "shell.execute_reply": "2023-03-12T14:30:37.652309Z"
    },
    "papermill": {
     "duration": 37.658998,
     "end_time": "2023-03-12T14:30:37.655678",
     "exception": false,
     "start_time": "2023-03-12T14:29:59.996680",
     "status": "completed"
    },
    "tags": []
   },
   "outputs": [],
   "source": [
    "test_data = pd.read_csv(\"/kaggle/input/goodreads-books-reviews-290312/goodreads_test.csv\")\n",
    "train = pd.read_csv(\"/kaggle/input/goodreads-books-reviews-290312/goodreads_train.csv\")"
   ]
  },
  {
   "cell_type": "markdown",
   "id": "f540ec1f",
   "metadata": {
    "papermill": {
     "duration": 0.011804,
     "end_time": "2023-03-12T14:30:37.680868",
     "exception": false,
     "start_time": "2023-03-12T14:30:37.669064",
     "status": "completed"
    },
    "tags": []
   },
   "source": [
    "# **Data Understanding**"
   ]
  },
  {
   "cell_type": "code",
   "execution_count": 4,
   "id": "d646b069",
   "metadata": {
    "execution": {
     "iopub.execute_input": "2023-03-12T14:30:37.705718Z",
     "iopub.status.busy": "2023-03-12T14:30:37.705330Z",
     "iopub.status.idle": "2023-03-12T14:30:37.730597Z",
     "shell.execute_reply": "2023-03-12T14:30:37.729580Z"
    },
    "papermill": {
     "duration": 0.040591,
     "end_time": "2023-03-12T14:30:37.732971",
     "exception": false,
     "start_time": "2023-03-12T14:30:37.692380",
     "status": "completed"
    },
    "tags": []
   },
   "outputs": [
    {
     "data": {
      "text/html": [
       "<div>\n",
       "<style scoped>\n",
       "    .dataframe tbody tr th:only-of-type {\n",
       "        vertical-align: middle;\n",
       "    }\n",
       "\n",
       "    .dataframe tbody tr th {\n",
       "        vertical-align: top;\n",
       "    }\n",
       "\n",
       "    .dataframe thead th {\n",
       "        text-align: right;\n",
       "    }\n",
       "</style>\n",
       "<table border=\"1\" class=\"dataframe\">\n",
       "  <thead>\n",
       "    <tr style=\"text-align: right;\">\n",
       "      <th></th>\n",
       "      <th>user_id</th>\n",
       "      <th>book_id</th>\n",
       "      <th>review_id</th>\n",
       "      <th>rating</th>\n",
       "      <th>review_text</th>\n",
       "      <th>date_added</th>\n",
       "      <th>date_updated</th>\n",
       "      <th>read_at</th>\n",
       "      <th>started_at</th>\n",
       "      <th>n_votes</th>\n",
       "      <th>n_comments</th>\n",
       "    </tr>\n",
       "  </thead>\n",
       "  <tbody>\n",
       "    <tr>\n",
       "      <th>0</th>\n",
       "      <td>8842281e1d1347389f2ab93d60773d4d</td>\n",
       "      <td>18245960</td>\n",
       "      <td>dfdbb7b0eb5a7e4c26d59a937e2e5feb</td>\n",
       "      <td>5</td>\n",
       "      <td>This is a special book. It started slow for ab...</td>\n",
       "      <td>Sun Jul 30 07:44:10 -0700 2017</td>\n",
       "      <td>Wed Aug 30 00:00:26 -0700 2017</td>\n",
       "      <td>Sat Aug 26 12:05:52 -0700 2017</td>\n",
       "      <td>Tue Aug 15 13:23:18 -0700 2017</td>\n",
       "      <td>28</td>\n",
       "      <td>1</td>\n",
       "    </tr>\n",
       "    <tr>\n",
       "      <th>1</th>\n",
       "      <td>8842281e1d1347389f2ab93d60773d4d</td>\n",
       "      <td>16981</td>\n",
       "      <td>a5d2c3628987712d0e05c4f90798eb67</td>\n",
       "      <td>3</td>\n",
       "      <td>Recommended by Don Katz. Avail for free in Dec...</td>\n",
       "      <td>Mon Dec 05 10:46:44 -0800 2016</td>\n",
       "      <td>Wed Mar 22 11:37:04 -0700 2017</td>\n",
       "      <td>NaN</td>\n",
       "      <td>NaN</td>\n",
       "      <td>1</td>\n",
       "      <td>0</td>\n",
       "    </tr>\n",
       "    <tr>\n",
       "      <th>2</th>\n",
       "      <td>8842281e1d1347389f2ab93d60773d4d</td>\n",
       "      <td>28684704</td>\n",
       "      <td>2ede853b14dc4583f96cf5d120af636f</td>\n",
       "      <td>3</td>\n",
       "      <td>A fun, fast paced science fiction thriller. I ...</td>\n",
       "      <td>Tue Nov 15 11:29:22 -0800 2016</td>\n",
       "      <td>Mon Mar 20 23:40:27 -0700 2017</td>\n",
       "      <td>Sat Mar 18 23:22:42 -0700 2017</td>\n",
       "      <td>Fri Mar 17 23:45:40 -0700 2017</td>\n",
       "      <td>22</td>\n",
       "      <td>0</td>\n",
       "    </tr>\n",
       "    <tr>\n",
       "      <th>3</th>\n",
       "      <td>8842281e1d1347389f2ab93d60773d4d</td>\n",
       "      <td>27161156</td>\n",
       "      <td>ced5675e55cd9d38a524743f5c40996e</td>\n",
       "      <td>0</td>\n",
       "      <td>Recommended reading to understand what is goin...</td>\n",
       "      <td>Wed Nov 09 17:37:04 -0800 2016</td>\n",
       "      <td>Wed Nov 09 17:38:20 -0800 2016</td>\n",
       "      <td>NaN</td>\n",
       "      <td>NaN</td>\n",
       "      <td>5</td>\n",
       "      <td>1</td>\n",
       "    </tr>\n",
       "    <tr>\n",
       "      <th>4</th>\n",
       "      <td>8842281e1d1347389f2ab93d60773d4d</td>\n",
       "      <td>25884323</td>\n",
       "      <td>332732725863131279a8e345b63ac33e</td>\n",
       "      <td>4</td>\n",
       "      <td>I really enjoyed this book, and there is a lot...</td>\n",
       "      <td>Mon Apr 25 09:31:23 -0700 2016</td>\n",
       "      <td>Mon Apr 25 09:31:23 -0700 2016</td>\n",
       "      <td>Sun Jun 26 00:00:00 -0700 2016</td>\n",
       "      <td>Sat May 28 00:00:00 -0700 2016</td>\n",
       "      <td>9</td>\n",
       "      <td>1</td>\n",
       "    </tr>\n",
       "  </tbody>\n",
       "</table>\n",
       "</div>"
      ],
      "text/plain": [
       "                            user_id   book_id  \\\n",
       "0  8842281e1d1347389f2ab93d60773d4d  18245960   \n",
       "1  8842281e1d1347389f2ab93d60773d4d     16981   \n",
       "2  8842281e1d1347389f2ab93d60773d4d  28684704   \n",
       "3  8842281e1d1347389f2ab93d60773d4d  27161156   \n",
       "4  8842281e1d1347389f2ab93d60773d4d  25884323   \n",
       "\n",
       "                          review_id  rating  \\\n",
       "0  dfdbb7b0eb5a7e4c26d59a937e2e5feb       5   \n",
       "1  a5d2c3628987712d0e05c4f90798eb67       3   \n",
       "2  2ede853b14dc4583f96cf5d120af636f       3   \n",
       "3  ced5675e55cd9d38a524743f5c40996e       0   \n",
       "4  332732725863131279a8e345b63ac33e       4   \n",
       "\n",
       "                                         review_text  \\\n",
       "0  This is a special book. It started slow for ab...   \n",
       "1  Recommended by Don Katz. Avail for free in Dec...   \n",
       "2  A fun, fast paced science fiction thriller. I ...   \n",
       "3  Recommended reading to understand what is goin...   \n",
       "4  I really enjoyed this book, and there is a lot...   \n",
       "\n",
       "                       date_added                    date_updated  \\\n",
       "0  Sun Jul 30 07:44:10 -0700 2017  Wed Aug 30 00:00:26 -0700 2017   \n",
       "1  Mon Dec 05 10:46:44 -0800 2016  Wed Mar 22 11:37:04 -0700 2017   \n",
       "2  Tue Nov 15 11:29:22 -0800 2016  Mon Mar 20 23:40:27 -0700 2017   \n",
       "3  Wed Nov 09 17:37:04 -0800 2016  Wed Nov 09 17:38:20 -0800 2016   \n",
       "4  Mon Apr 25 09:31:23 -0700 2016  Mon Apr 25 09:31:23 -0700 2016   \n",
       "\n",
       "                          read_at                      started_at  n_votes  \\\n",
       "0  Sat Aug 26 12:05:52 -0700 2017  Tue Aug 15 13:23:18 -0700 2017       28   \n",
       "1                             NaN                             NaN        1   \n",
       "2  Sat Mar 18 23:22:42 -0700 2017  Fri Mar 17 23:45:40 -0700 2017       22   \n",
       "3                             NaN                             NaN        5   \n",
       "4  Sun Jun 26 00:00:00 -0700 2016  Sat May 28 00:00:00 -0700 2016        9   \n",
       "\n",
       "   n_comments  \n",
       "0           1  \n",
       "1           0  \n",
       "2           0  \n",
       "3           1  \n",
       "4           1  "
      ]
     },
     "execution_count": 4,
     "metadata": {},
     "output_type": "execute_result"
    }
   ],
   "source": [
    "train.head()"
   ]
  },
  {
   "cell_type": "code",
   "execution_count": 5,
   "id": "1298bfec",
   "metadata": {
    "execution": {
     "iopub.execute_input": "2023-03-12T14:30:37.758337Z",
     "iopub.status.busy": "2023-03-12T14:30:37.757973Z",
     "iopub.status.idle": "2023-03-12T14:30:37.774100Z",
     "shell.execute_reply": "2023-03-12T14:30:37.772848Z"
    },
    "papermill": {
     "duration": 0.031332,
     "end_time": "2023-03-12T14:30:37.776314",
     "exception": false,
     "start_time": "2023-03-12T14:30:37.744982",
     "status": "completed"
    },
    "tags": []
   },
   "outputs": [
    {
     "data": {
      "text/html": [
       "<div>\n",
       "<style scoped>\n",
       "    .dataframe tbody tr th:only-of-type {\n",
       "        vertical-align: middle;\n",
       "    }\n",
       "\n",
       "    .dataframe tbody tr th {\n",
       "        vertical-align: top;\n",
       "    }\n",
       "\n",
       "    .dataframe thead th {\n",
       "        text-align: right;\n",
       "    }\n",
       "</style>\n",
       "<table border=\"1\" class=\"dataframe\">\n",
       "  <thead>\n",
       "    <tr style=\"text-align: right;\">\n",
       "      <th></th>\n",
       "      <th>user_id</th>\n",
       "      <th>book_id</th>\n",
       "      <th>review_id</th>\n",
       "      <th>review_text</th>\n",
       "      <th>date_added</th>\n",
       "      <th>date_updated</th>\n",
       "      <th>read_at</th>\n",
       "      <th>started_at</th>\n",
       "      <th>n_votes</th>\n",
       "      <th>n_comments</th>\n",
       "    </tr>\n",
       "  </thead>\n",
       "  <tbody>\n",
       "    <tr>\n",
       "      <th>0</th>\n",
       "      <td>b9450d1c1f97f891c392b1105959b56e</td>\n",
       "      <td>7092507</td>\n",
       "      <td>5c4df7e70e9b438c761f07a4620ccb7c</td>\n",
       "      <td>** spoiler alert ** \\n This is definitely one ...</td>\n",
       "      <td>Sat Nov 10 06:06:13 -0800 2012</td>\n",
       "      <td>Sun Nov 11 05:38:36 -0800 2012</td>\n",
       "      <td>Sun Nov 11 05:38:36 -0800 2012</td>\n",
       "      <td>Sat Nov 10 00:00:00 -0800 2012</td>\n",
       "      <td>1</td>\n",
       "      <td>0</td>\n",
       "    </tr>\n",
       "    <tr>\n",
       "      <th>1</th>\n",
       "      <td>b9450d1c1f97f891c392b1105959b56e</td>\n",
       "      <td>5576654</td>\n",
       "      <td>8eaeaf13213eeb16ad879a2a2591bbe5</td>\n",
       "      <td>** spoiler alert ** \\n \"You are what you drink...</td>\n",
       "      <td>Fri Nov 09 21:55:16 -0800 2012</td>\n",
       "      <td>Sat Nov 10 05:41:49 -0800 2012</td>\n",
       "      <td>Sat Nov 10 05:41:49 -0800 2012</td>\n",
       "      <td>Fri Nov 09 00:00:00 -0800 2012</td>\n",
       "      <td>1</td>\n",
       "      <td>0</td>\n",
       "    </tr>\n",
       "    <tr>\n",
       "      <th>2</th>\n",
       "      <td>b9450d1c1f97f891c392b1105959b56e</td>\n",
       "      <td>15754052</td>\n",
       "      <td>dce649b733c153ba5363a0413cac988f</td>\n",
       "      <td>Roar is one of my favorite characters in Under...</td>\n",
       "      <td>Fri Nov 09 00:25:50 -0800 2012</td>\n",
       "      <td>Sat Nov 10 06:14:10 -0800 2012</td>\n",
       "      <td>Sat Nov 10 06:14:10 -0800 2012</td>\n",
       "      <td>Fri Nov 09 00:00:00 -0800 2012</td>\n",
       "      <td>0</td>\n",
       "      <td>0</td>\n",
       "    </tr>\n",
       "    <tr>\n",
       "      <th>3</th>\n",
       "      <td>b9450d1c1f97f891c392b1105959b56e</td>\n",
       "      <td>17020</td>\n",
       "      <td>8a46df0bb997269d6834f9437a4b0a77</td>\n",
       "      <td>** spoiler alert ** \\n If you feel like travel...</td>\n",
       "      <td>Thu Nov 01 00:28:39 -0700 2012</td>\n",
       "      <td>Sat Nov 03 11:35:22 -0700 2012</td>\n",
       "      <td>Sat Nov 03 11:35:22 -0700 2012</td>\n",
       "      <td>Thu Nov 01 00:00:00 -0700 2012</td>\n",
       "      <td>0</td>\n",
       "      <td>0</td>\n",
       "    </tr>\n",
       "    <tr>\n",
       "      <th>4</th>\n",
       "      <td>b9450d1c1f97f891c392b1105959b56e</td>\n",
       "      <td>12551082</td>\n",
       "      <td>d11d3091e22f1cf3cb865598de197599</td>\n",
       "      <td>3.5 stars \\n I read and enjoyed the first two ...</td>\n",
       "      <td>Thu Oct 18 00:57:00 -0700 2012</td>\n",
       "      <td>Mon Apr 01 23:00:51 -0700 2013</td>\n",
       "      <td>Sat Mar 30 00:00:00 -0700 2013</td>\n",
       "      <td>Fri Mar 29 00:00:00 -0700 2013</td>\n",
       "      <td>0</td>\n",
       "      <td>0</td>\n",
       "    </tr>\n",
       "  </tbody>\n",
       "</table>\n",
       "</div>"
      ],
      "text/plain": [
       "                            user_id   book_id  \\\n",
       "0  b9450d1c1f97f891c392b1105959b56e   7092507   \n",
       "1  b9450d1c1f97f891c392b1105959b56e   5576654   \n",
       "2  b9450d1c1f97f891c392b1105959b56e  15754052   \n",
       "3  b9450d1c1f97f891c392b1105959b56e     17020   \n",
       "4  b9450d1c1f97f891c392b1105959b56e  12551082   \n",
       "\n",
       "                          review_id  \\\n",
       "0  5c4df7e70e9b438c761f07a4620ccb7c   \n",
       "1  8eaeaf13213eeb16ad879a2a2591bbe5   \n",
       "2  dce649b733c153ba5363a0413cac988f   \n",
       "3  8a46df0bb997269d6834f9437a4b0a77   \n",
       "4  d11d3091e22f1cf3cb865598de197599   \n",
       "\n",
       "                                         review_text  \\\n",
       "0  ** spoiler alert ** \\n This is definitely one ...   \n",
       "1  ** spoiler alert ** \\n \"You are what you drink...   \n",
       "2  Roar is one of my favorite characters in Under...   \n",
       "3  ** spoiler alert ** \\n If you feel like travel...   \n",
       "4  3.5 stars \\n I read and enjoyed the first two ...   \n",
       "\n",
       "                       date_added                    date_updated  \\\n",
       "0  Sat Nov 10 06:06:13 -0800 2012  Sun Nov 11 05:38:36 -0800 2012   \n",
       "1  Fri Nov 09 21:55:16 -0800 2012  Sat Nov 10 05:41:49 -0800 2012   \n",
       "2  Fri Nov 09 00:25:50 -0800 2012  Sat Nov 10 06:14:10 -0800 2012   \n",
       "3  Thu Nov 01 00:28:39 -0700 2012  Sat Nov 03 11:35:22 -0700 2012   \n",
       "4  Thu Oct 18 00:57:00 -0700 2012  Mon Apr 01 23:00:51 -0700 2013   \n",
       "\n",
       "                          read_at                      started_at  n_votes  \\\n",
       "0  Sun Nov 11 05:38:36 -0800 2012  Sat Nov 10 00:00:00 -0800 2012        1   \n",
       "1  Sat Nov 10 05:41:49 -0800 2012  Fri Nov 09 00:00:00 -0800 2012        1   \n",
       "2  Sat Nov 10 06:14:10 -0800 2012  Fri Nov 09 00:00:00 -0800 2012        0   \n",
       "3  Sat Nov 03 11:35:22 -0700 2012  Thu Nov 01 00:00:00 -0700 2012        0   \n",
       "4  Sat Mar 30 00:00:00 -0700 2013  Fri Mar 29 00:00:00 -0700 2013        0   \n",
       "\n",
       "   n_comments  \n",
       "0           0  \n",
       "1           0  \n",
       "2           0  \n",
       "3           0  \n",
       "4           0  "
      ]
     },
     "execution_count": 5,
     "metadata": {},
     "output_type": "execute_result"
    }
   ],
   "source": [
    "test_data.head()"
   ]
  },
  {
   "cell_type": "code",
   "execution_count": 6,
   "id": "b2fed2b5",
   "metadata": {
    "execution": {
     "iopub.execute_input": "2023-03-12T14:30:37.802334Z",
     "iopub.status.busy": "2023-03-12T14:30:37.801957Z",
     "iopub.status.idle": "2023-03-12T14:30:37.809642Z",
     "shell.execute_reply": "2023-03-12T14:30:37.808481Z"
    },
    "papermill": {
     "duration": 0.023111,
     "end_time": "2023-03-12T14:30:37.811641",
     "exception": false,
     "start_time": "2023-03-12T14:30:37.788530",
     "status": "completed"
    },
    "tags": []
   },
   "outputs": [
    {
     "data": {
      "text/plain": [
       "(900000, 11)"
      ]
     },
     "execution_count": 6,
     "metadata": {},
     "output_type": "execute_result"
    }
   ],
   "source": [
    "train.shape"
   ]
  },
  {
   "cell_type": "code",
   "execution_count": 7,
   "id": "c3177236",
   "metadata": {
    "execution": {
     "iopub.execute_input": "2023-03-12T14:30:37.837850Z",
     "iopub.status.busy": "2023-03-12T14:30:37.837457Z",
     "iopub.status.idle": "2023-03-12T14:30:37.844639Z",
     "shell.execute_reply": "2023-03-12T14:30:37.843651Z"
    },
    "papermill": {
     "duration": 0.023464,
     "end_time": "2023-03-12T14:30:37.847185",
     "exception": false,
     "start_time": "2023-03-12T14:30:37.823721",
     "status": "completed"
    },
    "tags": []
   },
   "outputs": [
    {
     "data": {
      "text/plain": [
       "(478033, 10)"
      ]
     },
     "execution_count": 7,
     "metadata": {},
     "output_type": "execute_result"
    }
   ],
   "source": [
    "test_data.shape"
   ]
  },
  {
   "cell_type": "code",
   "execution_count": 8,
   "id": "91897474",
   "metadata": {
    "execution": {
     "iopub.execute_input": "2023-03-12T14:30:37.874540Z",
     "iopub.status.busy": "2023-03-12T14:30:37.874130Z",
     "iopub.status.idle": "2023-03-12T14:30:37.917036Z",
     "shell.execute_reply": "2023-03-12T14:30:37.915569Z"
    },
    "papermill": {
     "duration": 0.059903,
     "end_time": "2023-03-12T14:30:37.919713",
     "exception": false,
     "start_time": "2023-03-12T14:30:37.859810",
     "status": "completed"
    },
    "tags": []
   },
   "outputs": [
    {
     "data": {
      "text/html": [
       "<div>\n",
       "<style scoped>\n",
       "    .dataframe tbody tr th:only-of-type {\n",
       "        vertical-align: middle;\n",
       "    }\n",
       "\n",
       "    .dataframe tbody tr th {\n",
       "        vertical-align: top;\n",
       "    }\n",
       "\n",
       "    .dataframe thead th {\n",
       "        text-align: right;\n",
       "    }\n",
       "</style>\n",
       "<table border=\"1\" class=\"dataframe\">\n",
       "  <thead>\n",
       "    <tr style=\"text-align: right;\">\n",
       "      <th></th>\n",
       "      <th>user_id</th>\n",
       "      <th>book_id</th>\n",
       "      <th>review_id</th>\n",
       "      <th>rating</th>\n",
       "      <th>review_text</th>\n",
       "      <th>date_added</th>\n",
       "      <th>date_updated</th>\n",
       "      <th>read_at</th>\n",
       "      <th>started_at</th>\n",
       "      <th>n_votes</th>\n",
       "      <th>n_comments</th>\n",
       "    </tr>\n",
       "  </thead>\n",
       "  <tbody>\n",
       "    <tr>\n",
       "      <th>40291</th>\n",
       "      <td>470c2bb294ac1665de18ad582884b703</td>\n",
       "      <td>26247008</td>\n",
       "      <td>d4dc9978debfec1d0c479fa8cf18b990</td>\n",
       "      <td>4</td>\n",
       "      <td>Awesome. \\n You don't read Moriarty's books so...</td>\n",
       "      <td>Mon Jun 26 04:30:40 -0700 2017</td>\n",
       "      <td>Wed Jun 28 02:43:09 -0700 2017</td>\n",
       "      <td>Wed Jun 28 02:43:09 -0700 2017</td>\n",
       "      <td>Mon Jun 26 00:00:00 -0700 2017</td>\n",
       "      <td>0</td>\n",
       "      <td>0</td>\n",
       "    </tr>\n",
       "    <tr>\n",
       "      <th>354803</th>\n",
       "      <td>ce70644e9110ea9d935943dbdd288160</td>\n",
       "      <td>62291</td>\n",
       "      <td>490131808a60a74ffa13e671577e609a</td>\n",
       "      <td>3</td>\n",
       "      <td>*spoiler free* \\n I think I am getting tired o...</td>\n",
       "      <td>Sun Jan 25 05:47:28 -0800 2015</td>\n",
       "      <td>Sun Feb 15 16:45:04 -0800 2015</td>\n",
       "      <td>Sat Feb 14 00:00:00 -0800 2015</td>\n",
       "      <td>Sun Jan 25 00:00:00 -0800 2015</td>\n",
       "      <td>0</td>\n",
       "      <td>0</td>\n",
       "    </tr>\n",
       "    <tr>\n",
       "      <th>571504</th>\n",
       "      <td>9e1a00c1c1f98c2256e01b9386910983</td>\n",
       "      <td>17345314</td>\n",
       "      <td>549d264374c17235afdbb4557ab738d0</td>\n",
       "      <td>2</td>\n",
       "      <td>I feel like I'm the only one who did not enjoy...</td>\n",
       "      <td>Thu Dec 18 15:11:20 -0800 2014</td>\n",
       "      <td>Tue Dec 23 23:06:29 -0800 2014</td>\n",
       "      <td>NaN</td>\n",
       "      <td>Mon Dec 22 00:00:00 -0800 2014</td>\n",
       "      <td>8</td>\n",
       "      <td>5</td>\n",
       "    </tr>\n",
       "    <tr>\n",
       "      <th>479176</th>\n",
       "      <td>9d1cdba7382edfd28c572944cce8c020</td>\n",
       "      <td>21421609</td>\n",
       "      <td>11f0fdadc73e2864516fa1bb793b4759</td>\n",
       "      <td>4</td>\n",
       "      <td>There's just something about books about assas...</td>\n",
       "      <td>Fri Jun 26 08:59:23 -0700 2015</td>\n",
       "      <td>Sun Jan 31 02:44:58 -0800 2016</td>\n",
       "      <td>Thu Jan 28 00:00:00 -0800 2016</td>\n",
       "      <td>Mon Jan 25 00:00:00 -0800 2016</td>\n",
       "      <td>1</td>\n",
       "      <td>0</td>\n",
       "    </tr>\n",
       "    <tr>\n",
       "      <th>271154</th>\n",
       "      <td>96aabdc9fe6675eee808c9eaa95647e6</td>\n",
       "      <td>15787204</td>\n",
       "      <td>8f2c9c362200f480e05178fce79ee71a</td>\n",
       "      <td>5</td>\n",
       "      <td>DOWN AND DIRTY QUICKIE REVIEW! \\n One Sentence...</td>\n",
       "      <td>Mon Mar 14 14:10:37 -0700 2016</td>\n",
       "      <td>Thu Jan 26 11:36:14 -0800 2017</td>\n",
       "      <td>Wed Nov 02 00:00:00 -0700 2016</td>\n",
       "      <td>Wed Oct 26 00:00:00 -0700 2016</td>\n",
       "      <td>0</td>\n",
       "      <td>0</td>\n",
       "    </tr>\n",
       "  </tbody>\n",
       "</table>\n",
       "</div>"
      ],
      "text/plain": [
       "                                 user_id   book_id  \\\n",
       "40291   470c2bb294ac1665de18ad582884b703  26247008   \n",
       "354803  ce70644e9110ea9d935943dbdd288160     62291   \n",
       "571504  9e1a00c1c1f98c2256e01b9386910983  17345314   \n",
       "479176  9d1cdba7382edfd28c572944cce8c020  21421609   \n",
       "271154  96aabdc9fe6675eee808c9eaa95647e6  15787204   \n",
       "\n",
       "                               review_id  rating  \\\n",
       "40291   d4dc9978debfec1d0c479fa8cf18b990       4   \n",
       "354803  490131808a60a74ffa13e671577e609a       3   \n",
       "571504  549d264374c17235afdbb4557ab738d0       2   \n",
       "479176  11f0fdadc73e2864516fa1bb793b4759       4   \n",
       "271154  8f2c9c362200f480e05178fce79ee71a       5   \n",
       "\n",
       "                                              review_text  \\\n",
       "40291   Awesome. \\n You don't read Moriarty's books so...   \n",
       "354803  *spoiler free* \\n I think I am getting tired o...   \n",
       "571504  I feel like I'm the only one who did not enjoy...   \n",
       "479176  There's just something about books about assas...   \n",
       "271154  DOWN AND DIRTY QUICKIE REVIEW! \\n One Sentence...   \n",
       "\n",
       "                            date_added                    date_updated  \\\n",
       "40291   Mon Jun 26 04:30:40 -0700 2017  Wed Jun 28 02:43:09 -0700 2017   \n",
       "354803  Sun Jan 25 05:47:28 -0800 2015  Sun Feb 15 16:45:04 -0800 2015   \n",
       "571504  Thu Dec 18 15:11:20 -0800 2014  Tue Dec 23 23:06:29 -0800 2014   \n",
       "479176  Fri Jun 26 08:59:23 -0700 2015  Sun Jan 31 02:44:58 -0800 2016   \n",
       "271154  Mon Mar 14 14:10:37 -0700 2016  Thu Jan 26 11:36:14 -0800 2017   \n",
       "\n",
       "                               read_at                      started_at  \\\n",
       "40291   Wed Jun 28 02:43:09 -0700 2017  Mon Jun 26 00:00:00 -0700 2017   \n",
       "354803  Sat Feb 14 00:00:00 -0800 2015  Sun Jan 25 00:00:00 -0800 2015   \n",
       "571504                             NaN  Mon Dec 22 00:00:00 -0800 2014   \n",
       "479176  Thu Jan 28 00:00:00 -0800 2016  Mon Jan 25 00:00:00 -0800 2016   \n",
       "271154  Wed Nov 02 00:00:00 -0700 2016  Wed Oct 26 00:00:00 -0700 2016   \n",
       "\n",
       "        n_votes  n_comments  \n",
       "40291         0           0  \n",
       "354803        0           0  \n",
       "571504        8           5  \n",
       "479176        1           0  \n",
       "271154        0           0  "
      ]
     },
     "execution_count": 8,
     "metadata": {},
     "output_type": "execute_result"
    }
   ],
   "source": [
    "train.sample(5)"
   ]
  },
  {
   "cell_type": "code",
   "execution_count": 9,
   "id": "cb9f0c93",
   "metadata": {
    "execution": {
     "iopub.execute_input": "2023-03-12T14:30:37.947483Z",
     "iopub.status.busy": "2023-03-12T14:30:37.947073Z",
     "iopub.status.idle": "2023-03-12T14:30:38.294396Z",
     "shell.execute_reply": "2023-03-12T14:30:38.292956Z"
    },
    "papermill": {
     "duration": 0.363918,
     "end_time": "2023-03-12T14:30:38.296485",
     "exception": false,
     "start_time": "2023-03-12T14:30:37.932567",
     "status": "completed"
    },
    "tags": []
   },
   "outputs": [
    {
     "name": "stdout",
     "output_type": "stream",
     "text": [
      "<class 'pandas.core.frame.DataFrame'>\n",
      "RangeIndex: 900000 entries, 0 to 899999\n",
      "Data columns (total 11 columns):\n",
      " #   Column        Non-Null Count   Dtype \n",
      "---  ------        --------------   ----- \n",
      " 0   user_id       900000 non-null  object\n",
      " 1   book_id       900000 non-null  int64 \n",
      " 2   review_id     900000 non-null  object\n",
      " 3   rating        900000 non-null  int64 \n",
      " 4   review_text   900000 non-null  object\n",
      " 5   date_added    900000 non-null  object\n",
      " 6   date_updated  900000 non-null  object\n",
      " 7   read_at       808234 non-null  object\n",
      " 8   started_at    625703 non-null  object\n",
      " 9   n_votes       900000 non-null  int64 \n",
      " 10  n_comments    900000 non-null  int64 \n",
      "dtypes: int64(4), object(7)\n",
      "memory usage: 75.5+ MB\n"
     ]
    }
   ],
   "source": [
    "train.info()"
   ]
  },
  {
   "cell_type": "code",
   "execution_count": 10,
   "id": "c2e52cd2",
   "metadata": {
    "execution": {
     "iopub.execute_input": "2023-03-12T14:30:38.323286Z",
     "iopub.status.busy": "2023-03-12T14:30:38.322933Z",
     "iopub.status.idle": "2023-03-12T14:30:38.506223Z",
     "shell.execute_reply": "2023-03-12T14:30:38.505096Z"
    },
    "papermill": {
     "duration": 0.199597,
     "end_time": "2023-03-12T14:30:38.508620",
     "exception": false,
     "start_time": "2023-03-12T14:30:38.309023",
     "status": "completed"
    },
    "tags": []
   },
   "outputs": [
    {
     "name": "stdout",
     "output_type": "stream",
     "text": [
      "<class 'pandas.core.frame.DataFrame'>\n",
      "RangeIndex: 478033 entries, 0 to 478032\n",
      "Data columns (total 10 columns):\n",
      " #   Column        Non-Null Count   Dtype \n",
      "---  ------        --------------   ----- \n",
      " 0   user_id       478033 non-null  object\n",
      " 1   book_id       478033 non-null  int64 \n",
      " 2   review_id     478033 non-null  object\n",
      " 3   review_text   478033 non-null  object\n",
      " 4   date_added    478033 non-null  object\n",
      " 5   date_updated  478033 non-null  object\n",
      " 6   read_at       435555 non-null  object\n",
      " 7   started_at    334989 non-null  object\n",
      " 8   n_votes       478033 non-null  int64 \n",
      " 9   n_comments    478033 non-null  int64 \n",
      "dtypes: int64(3), object(7)\n",
      "memory usage: 36.5+ MB\n"
     ]
    }
   ],
   "source": [
    "test_data.info()"
   ]
  },
  {
   "cell_type": "code",
   "execution_count": 11,
   "id": "56bcfc26",
   "metadata": {
    "execution": {
     "iopub.execute_input": "2023-03-12T14:30:38.536396Z",
     "iopub.status.busy": "2023-03-12T14:30:38.536003Z",
     "iopub.status.idle": "2023-03-12T14:30:38.868145Z",
     "shell.execute_reply": "2023-03-12T14:30:38.866721Z"
    },
    "papermill": {
     "duration": 0.3489,
     "end_time": "2023-03-12T14:30:38.871049",
     "exception": false,
     "start_time": "2023-03-12T14:30:38.522149",
     "status": "completed"
    },
    "tags": []
   },
   "outputs": [
    {
     "data": {
      "text/plain": [
       "user_id          0.000000\n",
       "book_id          0.000000\n",
       "review_id        0.000000\n",
       "rating           0.000000\n",
       "review_text      0.000000\n",
       "date_added       0.000000\n",
       "date_updated     0.000000\n",
       "read_at         10.196222\n",
       "started_at      30.477444\n",
       "n_votes          0.000000\n",
       "n_comments       0.000000\n",
       "dtype: float64"
      ]
     },
     "execution_count": 11,
     "metadata": {},
     "output_type": "execute_result"
    }
   ],
   "source": [
    "train.isnull().mean()*100"
   ]
  },
  {
   "cell_type": "code",
   "execution_count": 12,
   "id": "a410d2a4",
   "metadata": {
    "execution": {
     "iopub.execute_input": "2023-03-12T14:30:38.898336Z",
     "iopub.status.busy": "2023-03-12T14:30:38.898008Z",
     "iopub.status.idle": "2023-03-12T14:30:39.079988Z",
     "shell.execute_reply": "2023-03-12T14:30:39.078500Z"
    },
    "papermill": {
     "duration": 0.197894,
     "end_time": "2023-03-12T14:30:39.082132",
     "exception": false,
     "start_time": "2023-03-12T14:30:38.884238",
     "status": "completed"
    },
    "tags": []
   },
   "outputs": [
    {
     "data": {
      "text/plain": [
       "user_id          0.000000\n",
       "book_id          0.000000\n",
       "review_id        0.000000\n",
       "review_text      0.000000\n",
       "date_added       0.000000\n",
       "date_updated     0.000000\n",
       "read_at          8.885997\n",
       "started_at      29.923457\n",
       "n_votes          0.000000\n",
       "n_comments       0.000000\n",
       "dtype: float64"
      ]
     },
     "execution_count": 12,
     "metadata": {},
     "output_type": "execute_result"
    }
   ],
   "source": [
    "test_data.isnull().mean()*100"
   ]
  },
  {
   "cell_type": "code",
   "execution_count": 13,
   "id": "914f951b",
   "metadata": {
    "execution": {
     "iopub.execute_input": "2023-03-12T14:30:39.109197Z",
     "iopub.status.busy": "2023-03-12T14:30:39.108867Z",
     "iopub.status.idle": "2023-03-12T14:30:42.514973Z",
     "shell.execute_reply": "2023-03-12T14:30:42.514038Z"
    },
    "papermill": {
     "duration": 3.421711,
     "end_time": "2023-03-12T14:30:42.516925",
     "exception": false,
     "start_time": "2023-03-12T14:30:39.095214",
     "status": "completed"
    },
    "tags": []
   },
   "outputs": [
    {
     "data": {
      "text/plain": [
       "0"
      ]
     },
     "execution_count": 13,
     "metadata": {},
     "output_type": "execute_result"
    }
   ],
   "source": [
    "train.duplicated().sum()"
   ]
  },
  {
   "cell_type": "code",
   "execution_count": 14,
   "id": "c6a8b908",
   "metadata": {
    "execution": {
     "iopub.execute_input": "2023-03-12T14:30:42.545320Z",
     "iopub.status.busy": "2023-03-12T14:30:42.544997Z",
     "iopub.status.idle": "2023-03-12T14:30:44.295907Z",
     "shell.execute_reply": "2023-03-12T14:30:44.295160Z"
    },
    "papermill": {
     "duration": 1.76737,
     "end_time": "2023-03-12T14:30:44.297679",
     "exception": false,
     "start_time": "2023-03-12T14:30:42.530309",
     "status": "completed"
    },
    "tags": []
   },
   "outputs": [
    {
     "data": {
      "text/plain": [
       "0"
      ]
     },
     "execution_count": 14,
     "metadata": {},
     "output_type": "execute_result"
    }
   ],
   "source": [
    "test_data.duplicated().sum()"
   ]
  },
  {
   "cell_type": "markdown",
   "id": "e19b30d2",
   "metadata": {
    "papermill": {
     "duration": 0.012413,
     "end_time": "2023-03-12T14:30:44.323137",
     "exception": false,
     "start_time": "2023-03-12T14:30:44.310724",
     "status": "completed"
    },
    "tags": []
   },
   "source": [
    "# **Data Cleaning / Preprocessing**"
   ]
  },
  {
   "cell_type": "code",
   "execution_count": 15,
   "id": "fc631a3c",
   "metadata": {
    "execution": {
     "iopub.execute_input": "2023-03-12T14:30:44.350866Z",
     "iopub.status.busy": "2023-03-12T14:30:44.349994Z",
     "iopub.status.idle": "2023-03-12T14:30:44.364564Z",
     "shell.execute_reply": "2023-03-12T14:30:44.363368Z"
    },
    "papermill": {
     "duration": 0.031561,
     "end_time": "2023-03-12T14:30:44.367376",
     "exception": false,
     "start_time": "2023-03-12T14:30:44.335815",
     "status": "completed"
    },
    "tags": []
   },
   "outputs": [
    {
     "data": {
      "text/html": [
       "<div>\n",
       "<style scoped>\n",
       "    .dataframe tbody tr th:only-of-type {\n",
       "        vertical-align: middle;\n",
       "    }\n",
       "\n",
       "    .dataframe tbody tr th {\n",
       "        vertical-align: top;\n",
       "    }\n",
       "\n",
       "    .dataframe thead th {\n",
       "        text-align: right;\n",
       "    }\n",
       "</style>\n",
       "<table border=\"1\" class=\"dataframe\">\n",
       "  <thead>\n",
       "    <tr style=\"text-align: right;\">\n",
       "      <th></th>\n",
       "      <th>user_id</th>\n",
       "      <th>book_id</th>\n",
       "      <th>review_id</th>\n",
       "      <th>rating</th>\n",
       "      <th>review_text</th>\n",
       "      <th>date_added</th>\n",
       "      <th>date_updated</th>\n",
       "      <th>read_at</th>\n",
       "      <th>started_at</th>\n",
       "      <th>n_votes</th>\n",
       "      <th>n_comments</th>\n",
       "    </tr>\n",
       "  </thead>\n",
       "  <tbody>\n",
       "    <tr>\n",
       "      <th>0</th>\n",
       "      <td>8842281e1d1347389f2ab93d60773d4d</td>\n",
       "      <td>18245960</td>\n",
       "      <td>dfdbb7b0eb5a7e4c26d59a937e2e5feb</td>\n",
       "      <td>5</td>\n",
       "      <td>This is a special book. It started slow for ab...</td>\n",
       "      <td>Sun Jul 30 07:44:10 -0700 2017</td>\n",
       "      <td>Wed Aug 30 00:00:26 -0700 2017</td>\n",
       "      <td>Sat Aug 26 12:05:52 -0700 2017</td>\n",
       "      <td>Tue Aug 15 13:23:18 -0700 2017</td>\n",
       "      <td>28</td>\n",
       "      <td>1</td>\n",
       "    </tr>\n",
       "    <tr>\n",
       "      <th>1</th>\n",
       "      <td>8842281e1d1347389f2ab93d60773d4d</td>\n",
       "      <td>16981</td>\n",
       "      <td>a5d2c3628987712d0e05c4f90798eb67</td>\n",
       "      <td>3</td>\n",
       "      <td>Recommended by Don Katz. Avail for free in Dec...</td>\n",
       "      <td>Mon Dec 05 10:46:44 -0800 2016</td>\n",
       "      <td>Wed Mar 22 11:37:04 -0700 2017</td>\n",
       "      <td>NaN</td>\n",
       "      <td>NaN</td>\n",
       "      <td>1</td>\n",
       "      <td>0</td>\n",
       "    </tr>\n",
       "    <tr>\n",
       "      <th>2</th>\n",
       "      <td>8842281e1d1347389f2ab93d60773d4d</td>\n",
       "      <td>28684704</td>\n",
       "      <td>2ede853b14dc4583f96cf5d120af636f</td>\n",
       "      <td>3</td>\n",
       "      <td>A fun, fast paced science fiction thriller. I ...</td>\n",
       "      <td>Tue Nov 15 11:29:22 -0800 2016</td>\n",
       "      <td>Mon Mar 20 23:40:27 -0700 2017</td>\n",
       "      <td>Sat Mar 18 23:22:42 -0700 2017</td>\n",
       "      <td>Fri Mar 17 23:45:40 -0700 2017</td>\n",
       "      <td>22</td>\n",
       "      <td>0</td>\n",
       "    </tr>\n",
       "    <tr>\n",
       "      <th>3</th>\n",
       "      <td>8842281e1d1347389f2ab93d60773d4d</td>\n",
       "      <td>27161156</td>\n",
       "      <td>ced5675e55cd9d38a524743f5c40996e</td>\n",
       "      <td>0</td>\n",
       "      <td>Recommended reading to understand what is goin...</td>\n",
       "      <td>Wed Nov 09 17:37:04 -0800 2016</td>\n",
       "      <td>Wed Nov 09 17:38:20 -0800 2016</td>\n",
       "      <td>NaN</td>\n",
       "      <td>NaN</td>\n",
       "      <td>5</td>\n",
       "      <td>1</td>\n",
       "    </tr>\n",
       "    <tr>\n",
       "      <th>4</th>\n",
       "      <td>8842281e1d1347389f2ab93d60773d4d</td>\n",
       "      <td>25884323</td>\n",
       "      <td>332732725863131279a8e345b63ac33e</td>\n",
       "      <td>4</td>\n",
       "      <td>I really enjoyed this book, and there is a lot...</td>\n",
       "      <td>Mon Apr 25 09:31:23 -0700 2016</td>\n",
       "      <td>Mon Apr 25 09:31:23 -0700 2016</td>\n",
       "      <td>Sun Jun 26 00:00:00 -0700 2016</td>\n",
       "      <td>Sat May 28 00:00:00 -0700 2016</td>\n",
       "      <td>9</td>\n",
       "      <td>1</td>\n",
       "    </tr>\n",
       "  </tbody>\n",
       "</table>\n",
       "</div>"
      ],
      "text/plain": [
       "                            user_id   book_id  \\\n",
       "0  8842281e1d1347389f2ab93d60773d4d  18245960   \n",
       "1  8842281e1d1347389f2ab93d60773d4d     16981   \n",
       "2  8842281e1d1347389f2ab93d60773d4d  28684704   \n",
       "3  8842281e1d1347389f2ab93d60773d4d  27161156   \n",
       "4  8842281e1d1347389f2ab93d60773d4d  25884323   \n",
       "\n",
       "                          review_id  rating  \\\n",
       "0  dfdbb7b0eb5a7e4c26d59a937e2e5feb       5   \n",
       "1  a5d2c3628987712d0e05c4f90798eb67       3   \n",
       "2  2ede853b14dc4583f96cf5d120af636f       3   \n",
       "3  ced5675e55cd9d38a524743f5c40996e       0   \n",
       "4  332732725863131279a8e345b63ac33e       4   \n",
       "\n",
       "                                         review_text  \\\n",
       "0  This is a special book. It started slow for ab...   \n",
       "1  Recommended by Don Katz. Avail for free in Dec...   \n",
       "2  A fun, fast paced science fiction thriller. I ...   \n",
       "3  Recommended reading to understand what is goin...   \n",
       "4  I really enjoyed this book, and there is a lot...   \n",
       "\n",
       "                       date_added                    date_updated  \\\n",
       "0  Sun Jul 30 07:44:10 -0700 2017  Wed Aug 30 00:00:26 -0700 2017   \n",
       "1  Mon Dec 05 10:46:44 -0800 2016  Wed Mar 22 11:37:04 -0700 2017   \n",
       "2  Tue Nov 15 11:29:22 -0800 2016  Mon Mar 20 23:40:27 -0700 2017   \n",
       "3  Wed Nov 09 17:37:04 -0800 2016  Wed Nov 09 17:38:20 -0800 2016   \n",
       "4  Mon Apr 25 09:31:23 -0700 2016  Mon Apr 25 09:31:23 -0700 2016   \n",
       "\n",
       "                          read_at                      started_at  n_votes  \\\n",
       "0  Sat Aug 26 12:05:52 -0700 2017  Tue Aug 15 13:23:18 -0700 2017       28   \n",
       "1                             NaN                             NaN        1   \n",
       "2  Sat Mar 18 23:22:42 -0700 2017  Fri Mar 17 23:45:40 -0700 2017       22   \n",
       "3                             NaN                             NaN        5   \n",
       "4  Sun Jun 26 00:00:00 -0700 2016  Sat May 28 00:00:00 -0700 2016        9   \n",
       "\n",
       "   n_comments  \n",
       "0           1  \n",
       "1           0  \n",
       "2           0  \n",
       "3           1  \n",
       "4           1  "
      ]
     },
     "execution_count": 15,
     "metadata": {},
     "output_type": "execute_result"
    }
   ],
   "source": [
    "train.head()"
   ]
  },
  {
   "cell_type": "code",
   "execution_count": 16,
   "id": "ebb811ac",
   "metadata": {
    "execution": {
     "iopub.execute_input": "2023-03-12T14:30:44.399693Z",
     "iopub.status.busy": "2023-03-12T14:30:44.399288Z",
     "iopub.status.idle": "2023-03-12T14:30:44.425727Z",
     "shell.execute_reply": "2023-03-12T14:30:44.424550Z"
    },
    "papermill": {
     "duration": 0.04833,
     "end_time": "2023-03-12T14:30:44.429468",
     "exception": false,
     "start_time": "2023-03-12T14:30:44.381138",
     "status": "completed"
    },
    "tags": []
   },
   "outputs": [],
   "source": [
    "train = train[[\"review_text\", \"rating\"]].iloc[:20000,:]\n",
    "test = train[[\"review_text\"]]"
   ]
  },
  {
   "cell_type": "code",
   "execution_count": 17,
   "id": "d3fc926f",
   "metadata": {
    "execution": {
     "iopub.execute_input": "2023-03-12T14:30:44.465203Z",
     "iopub.status.busy": "2023-03-12T14:30:44.464821Z",
     "iopub.status.idle": "2023-03-12T14:30:44.471456Z",
     "shell.execute_reply": "2023-03-12T14:30:44.470257Z"
    },
    "papermill": {
     "duration": 0.026025,
     "end_time": "2023-03-12T14:30:44.473766",
     "exception": false,
     "start_time": "2023-03-12T14:30:44.447741",
     "status": "completed"
    },
    "tags": []
   },
   "outputs": [
    {
     "data": {
      "text/plain": [
       "(20000, 2)"
      ]
     },
     "execution_count": 17,
     "metadata": {},
     "output_type": "execute_result"
    }
   ],
   "source": [
    "train.shape"
   ]
  },
  {
   "cell_type": "code",
   "execution_count": 18,
   "id": "82cbca3f",
   "metadata": {
    "execution": {
     "iopub.execute_input": "2023-03-12T14:30:44.502012Z",
     "iopub.status.busy": "2023-03-12T14:30:44.501647Z",
     "iopub.status.idle": "2023-03-12T14:30:44.511099Z",
     "shell.execute_reply": "2023-03-12T14:30:44.510172Z"
    },
    "papermill": {
     "duration": 0.026151,
     "end_time": "2023-03-12T14:30:44.513578",
     "exception": false,
     "start_time": "2023-03-12T14:30:44.487427",
     "status": "completed"
    },
    "tags": []
   },
   "outputs": [
    {
     "data": {
      "text/html": [
       "<div>\n",
       "<style scoped>\n",
       "    .dataframe tbody tr th:only-of-type {\n",
       "        vertical-align: middle;\n",
       "    }\n",
       "\n",
       "    .dataframe tbody tr th {\n",
       "        vertical-align: top;\n",
       "    }\n",
       "\n",
       "    .dataframe thead th {\n",
       "        text-align: right;\n",
       "    }\n",
       "</style>\n",
       "<table border=\"1\" class=\"dataframe\">\n",
       "  <thead>\n",
       "    <tr style=\"text-align: right;\">\n",
       "      <th></th>\n",
       "      <th>review_text</th>\n",
       "      <th>rating</th>\n",
       "    </tr>\n",
       "  </thead>\n",
       "  <tbody>\n",
       "    <tr>\n",
       "      <th>0</th>\n",
       "      <td>This is a special book. It started slow for ab...</td>\n",
       "      <td>5</td>\n",
       "    </tr>\n",
       "    <tr>\n",
       "      <th>1</th>\n",
       "      <td>Recommended by Don Katz. Avail for free in Dec...</td>\n",
       "      <td>3</td>\n",
       "    </tr>\n",
       "    <tr>\n",
       "      <th>2</th>\n",
       "      <td>A fun, fast paced science fiction thriller. I ...</td>\n",
       "      <td>3</td>\n",
       "    </tr>\n",
       "    <tr>\n",
       "      <th>3</th>\n",
       "      <td>Recommended reading to understand what is goin...</td>\n",
       "      <td>0</td>\n",
       "    </tr>\n",
       "    <tr>\n",
       "      <th>4</th>\n",
       "      <td>I really enjoyed this book, and there is a lot...</td>\n",
       "      <td>4</td>\n",
       "    </tr>\n",
       "  </tbody>\n",
       "</table>\n",
       "</div>"
      ],
      "text/plain": [
       "                                         review_text  rating\n",
       "0  This is a special book. It started slow for ab...       5\n",
       "1  Recommended by Don Katz. Avail for free in Dec...       3\n",
       "2  A fun, fast paced science fiction thriller. I ...       3\n",
       "3  Recommended reading to understand what is goin...       0\n",
       "4  I really enjoyed this book, and there is a lot...       4"
      ]
     },
     "execution_count": 18,
     "metadata": {},
     "output_type": "execute_result"
    }
   ],
   "source": [
    "train.head()"
   ]
  },
  {
   "cell_type": "code",
   "execution_count": 19,
   "id": "a5627d14",
   "metadata": {
    "execution": {
     "iopub.execute_input": "2023-03-12T14:30:44.542814Z",
     "iopub.status.busy": "2023-03-12T14:30:44.542490Z",
     "iopub.status.idle": "2023-03-12T14:30:44.549130Z",
     "shell.execute_reply": "2023-03-12T14:30:44.547895Z"
    },
    "papermill": {
     "duration": 0.023432,
     "end_time": "2023-03-12T14:30:44.551096",
     "exception": false,
     "start_time": "2023-03-12T14:30:44.527664",
     "status": "completed"
    },
    "tags": []
   },
   "outputs": [
    {
     "data": {
      "text/plain": [
       "'This is a special book. It started slow for about the first third, then in the middle third it started to get interesting, then the last third blew my mind. This is what I love about good science fiction - it pushes your thinking about where things can go. \\n It is a 2015 Hugo winner, and translated from its original Chinese, which made it interesting in just a different way from most things I\\'ve read. For instance the intermixing of Chinese revolutionary history - how they kept accusing people of being \"reactionaries\", etc. \\n It is a book about science, and aliens. The science described in the book is impressive - its a book grounded in physics and pretty accurate as far as I could tell. (view spoiler)[Though when it got to folding protons into 8 dimensions I think he was just making stuff up - interesting to think about though. \\n But what would happen if our SETI stations received a message - if we found someone was out there - and the person monitoring and answering the signal on our side was disillusioned? That part of the book was a bit dark - I would like to think human reaction to discovering alien civilization that is hostile would be more like Enders Game where we would band together. \\n I did like how the book unveiled the Trisolaran culture through the game. It was a smart way to build empathy with them and also understand what they\\'ve gone through across so many centuries. And who know a 3 body problem was an unsolvable math problem? But I still don\\'t get who made the game - maybe that will come in the next book. \\n I loved this quote: \\n \"In the long history of scientific progress, how many protons have been smashed apart in accelerators by physicists? How many neutrons and electrons? Probably no fewer than a hundred million. Every collision was probably the end of the civilizations and intelligences in a microcosmos. In fact, even in nature, the destruction of universes must be happening at every second--for example, through the decay of neutrons. Also, a high-energy cosmic ray entering the atmosphere may destroy thousands of such miniature universes....\" \\n (hide spoiler)]'"
      ]
     },
     "execution_count": 19,
     "metadata": {},
     "output_type": "execute_result"
    }
   ],
   "source": [
    "train[\"review_text\"][0]"
   ]
  },
  {
   "cell_type": "code",
   "execution_count": 20,
   "id": "3fd94b23",
   "metadata": {
    "execution": {
     "iopub.execute_input": "2023-03-12T14:30:44.579641Z",
     "iopub.status.busy": "2023-03-12T14:30:44.579265Z",
     "iopub.status.idle": "2023-03-12T14:30:44.586414Z",
     "shell.execute_reply": "2023-03-12T14:30:44.585683Z"
    },
    "papermill": {
     "duration": 0.024372,
     "end_time": "2023-03-12T14:30:44.589025",
     "exception": false,
     "start_time": "2023-03-12T14:30:44.564653",
     "status": "completed"
    },
    "tags": []
   },
   "outputs": [
    {
     "data": {
      "text/plain": [
       "4    7204\n",
       "5    6294\n",
       "3    4204\n",
       "2    1366\n",
       "1     509\n",
       "0     423\n",
       "Name: rating, dtype: int64"
      ]
     },
     "execution_count": 20,
     "metadata": {},
     "output_type": "execute_result"
    }
   ],
   "source": [
    "train[\"rating\"].value_counts()"
   ]
  },
  {
   "cell_type": "code",
   "execution_count": 21,
   "id": "11bec2b1",
   "metadata": {
    "execution": {
     "iopub.execute_input": "2023-03-12T14:30:44.618615Z",
     "iopub.status.busy": "2023-03-12T14:30:44.618274Z",
     "iopub.status.idle": "2023-03-12T14:30:44.623393Z",
     "shell.execute_reply": "2023-03-12T14:30:44.622433Z"
    },
    "papermill": {
     "duration": 0.02191,
     "end_time": "2023-03-12T14:30:44.625189",
     "exception": false,
     "start_time": "2023-03-12T14:30:44.603279",
     "status": "completed"
    },
    "tags": []
   },
   "outputs": [],
   "source": [
    "#REMOVING LINKS, PUNCTUATIONS and CREATING TOKENS(TOKENISATION)\n",
    "\n",
    "def preprocessing1(text):\n",
    "    te = re.sub(r'http\\S+', \"\", text)\n",
    "    tokens = word_tokenize(te)\n",
    "    \n",
    "    punctuations = string.punctuation\n",
    "    txt = []\n",
    "    for i in tokens:\n",
    "        if i not in punctuations:\n",
    "            txt.append(i)\n",
    "    return txt"
   ]
  },
  {
   "cell_type": "code",
   "execution_count": 22,
   "id": "46e7fe96",
   "metadata": {
    "execution": {
     "iopub.execute_input": "2023-03-12T14:30:44.654880Z",
     "iopub.status.busy": "2023-03-12T14:30:44.654551Z",
     "iopub.status.idle": "2023-03-12T14:31:12.012565Z",
     "shell.execute_reply": "2023-03-12T14:31:12.010999Z"
    },
    "papermill": {
     "duration": 27.375808,
     "end_time": "2023-03-12T14:31:12.015055",
     "exception": false,
     "start_time": "2023-03-12T14:30:44.639247",
     "status": "completed"
    },
    "tags": []
   },
   "outputs": [],
   "source": [
    "train[\"review_text\"] = train[\"review_text\"].apply(preprocessing1)"
   ]
  },
  {
   "cell_type": "code",
   "execution_count": 23,
   "id": "312982fc",
   "metadata": {
    "execution": {
     "iopub.execute_input": "2023-03-12T14:31:12.044500Z",
     "iopub.status.busy": "2023-03-12T14:31:12.044171Z",
     "iopub.status.idle": "2023-03-12T14:31:12.056399Z",
     "shell.execute_reply": "2023-03-12T14:31:12.055056Z"
    },
    "papermill": {
     "duration": 0.029851,
     "end_time": "2023-03-12T14:31:12.058917",
     "exception": false,
     "start_time": "2023-03-12T14:31:12.029066",
     "status": "completed"
    },
    "tags": []
   },
   "outputs": [
    {
     "data": {
      "text/plain": [
       "['This',\n",
       " 'is',\n",
       " 'a',\n",
       " 'special',\n",
       " 'book',\n",
       " 'It',\n",
       " 'started',\n",
       " 'slow',\n",
       " 'for',\n",
       " 'about',\n",
       " 'the',\n",
       " 'first',\n",
       " 'third',\n",
       " 'then',\n",
       " 'in',\n",
       " 'the',\n",
       " 'middle',\n",
       " 'third',\n",
       " 'it',\n",
       " 'started',\n",
       " 'to',\n",
       " 'get',\n",
       " 'interesting',\n",
       " 'then',\n",
       " 'the',\n",
       " 'last',\n",
       " 'third',\n",
       " 'blew',\n",
       " 'my',\n",
       " 'mind',\n",
       " 'This',\n",
       " 'is',\n",
       " 'what',\n",
       " 'I',\n",
       " 'love',\n",
       " 'about',\n",
       " 'good',\n",
       " 'science',\n",
       " 'fiction',\n",
       " 'it',\n",
       " 'pushes',\n",
       " 'your',\n",
       " 'thinking',\n",
       " 'about',\n",
       " 'where',\n",
       " 'things',\n",
       " 'can',\n",
       " 'go',\n",
       " 'It',\n",
       " 'is',\n",
       " 'a',\n",
       " '2015',\n",
       " 'Hugo',\n",
       " 'winner',\n",
       " 'and',\n",
       " 'translated',\n",
       " 'from',\n",
       " 'its',\n",
       " 'original',\n",
       " 'Chinese',\n",
       " 'which',\n",
       " 'made',\n",
       " 'it',\n",
       " 'interesting',\n",
       " 'in',\n",
       " 'just',\n",
       " 'a',\n",
       " 'different',\n",
       " 'way',\n",
       " 'from',\n",
       " 'most',\n",
       " 'things',\n",
       " 'I',\n",
       " \"'ve\",\n",
       " 'read',\n",
       " 'For',\n",
       " 'instance',\n",
       " 'the',\n",
       " 'intermixing',\n",
       " 'of',\n",
       " 'Chinese',\n",
       " 'revolutionary',\n",
       " 'history',\n",
       " 'how',\n",
       " 'they',\n",
       " 'kept',\n",
       " 'accusing',\n",
       " 'people',\n",
       " 'of',\n",
       " 'being',\n",
       " '``',\n",
       " 'reactionaries',\n",
       " \"''\",\n",
       " 'etc',\n",
       " 'It',\n",
       " 'is',\n",
       " 'a',\n",
       " 'book',\n",
       " 'about',\n",
       " 'science',\n",
       " 'and',\n",
       " 'aliens',\n",
       " 'The',\n",
       " 'science',\n",
       " 'described',\n",
       " 'in',\n",
       " 'the',\n",
       " 'book',\n",
       " 'is',\n",
       " 'impressive',\n",
       " 'its',\n",
       " 'a',\n",
       " 'book',\n",
       " 'grounded',\n",
       " 'in',\n",
       " 'physics',\n",
       " 'and',\n",
       " 'pretty',\n",
       " 'accurate',\n",
       " 'as',\n",
       " 'far',\n",
       " 'as',\n",
       " 'I',\n",
       " 'could',\n",
       " 'tell',\n",
       " 'view',\n",
       " 'spoiler',\n",
       " 'Though',\n",
       " 'when',\n",
       " 'it',\n",
       " 'got',\n",
       " 'to',\n",
       " 'folding',\n",
       " 'protons',\n",
       " 'into',\n",
       " '8',\n",
       " 'dimensions',\n",
       " 'I',\n",
       " 'think',\n",
       " 'he',\n",
       " 'was',\n",
       " 'just',\n",
       " 'making',\n",
       " 'stuff',\n",
       " 'up',\n",
       " 'interesting',\n",
       " 'to',\n",
       " 'think',\n",
       " 'about',\n",
       " 'though',\n",
       " 'But',\n",
       " 'what',\n",
       " 'would',\n",
       " 'happen',\n",
       " 'if',\n",
       " 'our',\n",
       " 'SETI',\n",
       " 'stations',\n",
       " 'received',\n",
       " 'a',\n",
       " 'message',\n",
       " 'if',\n",
       " 'we',\n",
       " 'found',\n",
       " 'someone',\n",
       " 'was',\n",
       " 'out',\n",
       " 'there',\n",
       " 'and',\n",
       " 'the',\n",
       " 'person',\n",
       " 'monitoring',\n",
       " 'and',\n",
       " 'answering',\n",
       " 'the',\n",
       " 'signal',\n",
       " 'on',\n",
       " 'our',\n",
       " 'side',\n",
       " 'was',\n",
       " 'disillusioned',\n",
       " 'That',\n",
       " 'part',\n",
       " 'of',\n",
       " 'the',\n",
       " 'book',\n",
       " 'was',\n",
       " 'a',\n",
       " 'bit',\n",
       " 'dark',\n",
       " 'I',\n",
       " 'would',\n",
       " 'like',\n",
       " 'to',\n",
       " 'think',\n",
       " 'human',\n",
       " 'reaction',\n",
       " 'to',\n",
       " 'discovering',\n",
       " 'alien',\n",
       " 'civilization',\n",
       " 'that',\n",
       " 'is',\n",
       " 'hostile',\n",
       " 'would',\n",
       " 'be',\n",
       " 'more',\n",
       " 'like',\n",
       " 'Enders',\n",
       " 'Game',\n",
       " 'where',\n",
       " 'we',\n",
       " 'would',\n",
       " 'band',\n",
       " 'together',\n",
       " 'I',\n",
       " 'did',\n",
       " 'like',\n",
       " 'how',\n",
       " 'the',\n",
       " 'book',\n",
       " 'unveiled',\n",
       " 'the',\n",
       " 'Trisolaran',\n",
       " 'culture',\n",
       " 'through',\n",
       " 'the',\n",
       " 'game',\n",
       " 'It',\n",
       " 'was',\n",
       " 'a',\n",
       " 'smart',\n",
       " 'way',\n",
       " 'to',\n",
       " 'build',\n",
       " 'empathy',\n",
       " 'with',\n",
       " 'them',\n",
       " 'and',\n",
       " 'also',\n",
       " 'understand',\n",
       " 'what',\n",
       " 'they',\n",
       " \"'ve\",\n",
       " 'gone',\n",
       " 'through',\n",
       " 'across',\n",
       " 'so',\n",
       " 'many',\n",
       " 'centuries',\n",
       " 'And',\n",
       " 'who',\n",
       " 'know',\n",
       " 'a',\n",
       " '3',\n",
       " 'body',\n",
       " 'problem',\n",
       " 'was',\n",
       " 'an',\n",
       " 'unsolvable',\n",
       " 'math',\n",
       " 'problem',\n",
       " 'But',\n",
       " 'I',\n",
       " 'still',\n",
       " 'do',\n",
       " \"n't\",\n",
       " 'get',\n",
       " 'who',\n",
       " 'made',\n",
       " 'the',\n",
       " 'game',\n",
       " 'maybe',\n",
       " 'that',\n",
       " 'will',\n",
       " 'come',\n",
       " 'in',\n",
       " 'the',\n",
       " 'next',\n",
       " 'book',\n",
       " 'I',\n",
       " 'loved',\n",
       " 'this',\n",
       " 'quote',\n",
       " '``',\n",
       " 'In',\n",
       " 'the',\n",
       " 'long',\n",
       " 'history',\n",
       " 'of',\n",
       " 'scientific',\n",
       " 'progress',\n",
       " 'how',\n",
       " 'many',\n",
       " 'protons',\n",
       " 'have',\n",
       " 'been',\n",
       " 'smashed',\n",
       " 'apart',\n",
       " 'in',\n",
       " 'accelerators',\n",
       " 'by',\n",
       " 'physicists',\n",
       " 'How',\n",
       " 'many',\n",
       " 'neutrons',\n",
       " 'and',\n",
       " 'electrons',\n",
       " 'Probably',\n",
       " 'no',\n",
       " 'fewer',\n",
       " 'than',\n",
       " 'a',\n",
       " 'hundred',\n",
       " 'million',\n",
       " 'Every',\n",
       " 'collision',\n",
       " 'was',\n",
       " 'probably',\n",
       " 'the',\n",
       " 'end',\n",
       " 'of',\n",
       " 'the',\n",
       " 'civilizations',\n",
       " 'and',\n",
       " 'intelligences',\n",
       " 'in',\n",
       " 'a',\n",
       " 'microcosmos',\n",
       " 'In',\n",
       " 'fact',\n",
       " 'even',\n",
       " 'in',\n",
       " 'nature',\n",
       " 'the',\n",
       " 'destruction',\n",
       " 'of',\n",
       " 'universes',\n",
       " 'must',\n",
       " 'be',\n",
       " 'happening',\n",
       " 'at',\n",
       " 'every',\n",
       " 'second',\n",
       " '--',\n",
       " 'for',\n",
       " 'example',\n",
       " 'through',\n",
       " 'the',\n",
       " 'decay',\n",
       " 'of',\n",
       " 'neutrons',\n",
       " 'Also',\n",
       " 'a',\n",
       " 'high-energy',\n",
       " 'cosmic',\n",
       " 'ray',\n",
       " 'entering',\n",
       " 'the',\n",
       " 'atmosphere',\n",
       " 'may',\n",
       " 'destroy',\n",
       " 'thousands',\n",
       " 'of',\n",
       " 'such',\n",
       " 'miniature',\n",
       " 'universes',\n",
       " '...',\n",
       " \"''\",\n",
       " 'hide',\n",
       " 'spoiler']"
      ]
     },
     "execution_count": 23,
     "metadata": {},
     "output_type": "execute_result"
    }
   ],
   "source": [
    "train[\"review_text\"][0]"
   ]
  },
  {
   "cell_type": "code",
   "execution_count": 24,
   "id": "b220a596",
   "metadata": {
    "execution": {
     "iopub.execute_input": "2023-03-12T14:31:12.088868Z",
     "iopub.status.busy": "2023-03-12T14:31:12.088472Z",
     "iopub.status.idle": "2023-03-12T14:31:12.094900Z",
     "shell.execute_reply": "2023-03-12T14:31:12.093569Z"
    },
    "papermill": {
     "duration": 0.023513,
     "end_time": "2023-03-12T14:31:12.096938",
     "exception": false,
     "start_time": "2023-03-12T14:31:12.073425",
     "status": "completed"
    },
    "tags": []
   },
   "outputs": [],
   "source": [
    "#REMOVING STOPWORDS & CONVERTING TO LOWERCASE\n",
    "\n",
    "def preprocessing2(text):\n",
    "    stopword = stopwords.words(\"english\")\n",
    "    ntxt = []\n",
    "    for j in text:\n",
    "        if j not in stopword:\n",
    "            ntxt.append(j.lower())\n",
    "    return ntxt"
   ]
  },
  {
   "cell_type": "code",
   "execution_count": 25,
   "id": "c95ae7c9",
   "metadata": {
    "execution": {
     "iopub.execute_input": "2023-03-12T14:31:12.126928Z",
     "iopub.status.busy": "2023-03-12T14:31:12.125865Z",
     "iopub.status.idle": "2023-03-12T14:31:22.817915Z",
     "shell.execute_reply": "2023-03-12T14:31:22.816722Z"
    },
    "papermill": {
     "duration": 10.709311,
     "end_time": "2023-03-12T14:31:22.820241",
     "exception": false,
     "start_time": "2023-03-12T14:31:12.110930",
     "status": "completed"
    },
    "tags": []
   },
   "outputs": [],
   "source": [
    "train[\"review_text\"] = train[\"review_text\"].apply(preprocessing2)"
   ]
  },
  {
   "cell_type": "code",
   "execution_count": 26,
   "id": "e60a0bb3",
   "metadata": {
    "execution": {
     "iopub.execute_input": "2023-03-12T14:31:22.850712Z",
     "iopub.status.busy": "2023-03-12T14:31:22.850362Z",
     "iopub.status.idle": "2023-03-12T14:31:22.860225Z",
     "shell.execute_reply": "2023-03-12T14:31:22.859109Z"
    },
    "papermill": {
     "duration": 0.027,
     "end_time": "2023-03-12T14:31:22.862178",
     "exception": false,
     "start_time": "2023-03-12T14:31:22.835178",
     "status": "completed"
    },
    "tags": []
   },
   "outputs": [
    {
     "data": {
      "text/plain": [
       "['this',\n",
       " 'special',\n",
       " 'book',\n",
       " 'it',\n",
       " 'started',\n",
       " 'slow',\n",
       " 'first',\n",
       " 'third',\n",
       " 'middle',\n",
       " 'third',\n",
       " 'started',\n",
       " 'get',\n",
       " 'interesting',\n",
       " 'last',\n",
       " 'third',\n",
       " 'blew',\n",
       " 'mind',\n",
       " 'this',\n",
       " 'i',\n",
       " 'love',\n",
       " 'good',\n",
       " 'science',\n",
       " 'fiction',\n",
       " 'pushes',\n",
       " 'thinking',\n",
       " 'things',\n",
       " 'go',\n",
       " 'it',\n",
       " '2015',\n",
       " 'hugo',\n",
       " 'winner',\n",
       " 'translated',\n",
       " 'original',\n",
       " 'chinese',\n",
       " 'made',\n",
       " 'interesting',\n",
       " 'different',\n",
       " 'way',\n",
       " 'things',\n",
       " 'i',\n",
       " \"'ve\",\n",
       " 'read',\n",
       " 'for',\n",
       " 'instance',\n",
       " 'intermixing',\n",
       " 'chinese',\n",
       " 'revolutionary',\n",
       " 'history',\n",
       " 'kept',\n",
       " 'accusing',\n",
       " 'people',\n",
       " '``',\n",
       " 'reactionaries',\n",
       " \"''\",\n",
       " 'etc',\n",
       " 'it',\n",
       " 'book',\n",
       " 'science',\n",
       " 'aliens',\n",
       " 'the',\n",
       " 'science',\n",
       " 'described',\n",
       " 'book',\n",
       " 'impressive',\n",
       " 'book',\n",
       " 'grounded',\n",
       " 'physics',\n",
       " 'pretty',\n",
       " 'accurate',\n",
       " 'far',\n",
       " 'i',\n",
       " 'could',\n",
       " 'tell',\n",
       " 'view',\n",
       " 'spoiler',\n",
       " 'though',\n",
       " 'got',\n",
       " 'folding',\n",
       " 'protons',\n",
       " '8',\n",
       " 'dimensions',\n",
       " 'i',\n",
       " 'think',\n",
       " 'making',\n",
       " 'stuff',\n",
       " 'interesting',\n",
       " 'think',\n",
       " 'though',\n",
       " 'but',\n",
       " 'would',\n",
       " 'happen',\n",
       " 'seti',\n",
       " 'stations',\n",
       " 'received',\n",
       " 'message',\n",
       " 'found',\n",
       " 'someone',\n",
       " 'person',\n",
       " 'monitoring',\n",
       " 'answering',\n",
       " 'signal',\n",
       " 'side',\n",
       " 'disillusioned',\n",
       " 'that',\n",
       " 'part',\n",
       " 'book',\n",
       " 'bit',\n",
       " 'dark',\n",
       " 'i',\n",
       " 'would',\n",
       " 'like',\n",
       " 'think',\n",
       " 'human',\n",
       " 'reaction',\n",
       " 'discovering',\n",
       " 'alien',\n",
       " 'civilization',\n",
       " 'hostile',\n",
       " 'would',\n",
       " 'like',\n",
       " 'enders',\n",
       " 'game',\n",
       " 'would',\n",
       " 'band',\n",
       " 'together',\n",
       " 'i',\n",
       " 'like',\n",
       " 'book',\n",
       " 'unveiled',\n",
       " 'trisolaran',\n",
       " 'culture',\n",
       " 'game',\n",
       " 'it',\n",
       " 'smart',\n",
       " 'way',\n",
       " 'build',\n",
       " 'empathy',\n",
       " 'also',\n",
       " 'understand',\n",
       " \"'ve\",\n",
       " 'gone',\n",
       " 'across',\n",
       " 'many',\n",
       " 'centuries',\n",
       " 'and',\n",
       " 'know',\n",
       " '3',\n",
       " 'body',\n",
       " 'problem',\n",
       " 'unsolvable',\n",
       " 'math',\n",
       " 'problem',\n",
       " 'but',\n",
       " 'i',\n",
       " 'still',\n",
       " \"n't\",\n",
       " 'get',\n",
       " 'made',\n",
       " 'game',\n",
       " 'maybe',\n",
       " 'come',\n",
       " 'next',\n",
       " 'book',\n",
       " 'i',\n",
       " 'loved',\n",
       " 'quote',\n",
       " '``',\n",
       " 'in',\n",
       " 'long',\n",
       " 'history',\n",
       " 'scientific',\n",
       " 'progress',\n",
       " 'many',\n",
       " 'protons',\n",
       " 'smashed',\n",
       " 'apart',\n",
       " 'accelerators',\n",
       " 'physicists',\n",
       " 'how',\n",
       " 'many',\n",
       " 'neutrons',\n",
       " 'electrons',\n",
       " 'probably',\n",
       " 'fewer',\n",
       " 'hundred',\n",
       " 'million',\n",
       " 'every',\n",
       " 'collision',\n",
       " 'probably',\n",
       " 'end',\n",
       " 'civilizations',\n",
       " 'intelligences',\n",
       " 'microcosmos',\n",
       " 'in',\n",
       " 'fact',\n",
       " 'even',\n",
       " 'nature',\n",
       " 'destruction',\n",
       " 'universes',\n",
       " 'must',\n",
       " 'happening',\n",
       " 'every',\n",
       " 'second',\n",
       " '--',\n",
       " 'example',\n",
       " 'decay',\n",
       " 'neutrons',\n",
       " 'also',\n",
       " 'high-energy',\n",
       " 'cosmic',\n",
       " 'ray',\n",
       " 'entering',\n",
       " 'atmosphere',\n",
       " 'may',\n",
       " 'destroy',\n",
       " 'thousands',\n",
       " 'miniature',\n",
       " 'universes',\n",
       " '...',\n",
       " \"''\",\n",
       " 'hide',\n",
       " 'spoiler']"
      ]
     },
     "execution_count": 26,
     "metadata": {},
     "output_type": "execute_result"
    }
   ],
   "source": [
    "train[\"review_text\"][0]"
   ]
  },
  {
   "cell_type": "code",
   "execution_count": 27,
   "id": "d2656703",
   "metadata": {
    "execution": {
     "iopub.execute_input": "2023-03-12T14:31:22.895986Z",
     "iopub.status.busy": "2023-03-12T14:31:22.895593Z",
     "iopub.status.idle": "2023-03-12T14:31:22.901736Z",
     "shell.execute_reply": "2023-03-12T14:31:22.900643Z"
    },
    "papermill": {
     "duration": 0.026457,
     "end_time": "2023-03-12T14:31:22.904153",
     "exception": false,
     "start_time": "2023-03-12T14:31:22.877696",
     "status": "completed"
    },
    "tags": []
   },
   "outputs": [],
   "source": [
    "#STEMMING\n",
    "\n",
    "def preprocessing3(text):\n",
    "    stem = []\n",
    "    Stemmer = PorterStemmer()\n",
    "    for i in text:\n",
    "        stem.append(Stemmer.stem(i))\n",
    "    return \" \".join(stem)"
   ]
  },
  {
   "cell_type": "code",
   "execution_count": 28,
   "id": "920ef1dc",
   "metadata": {
    "execution": {
     "iopub.execute_input": "2023-03-12T14:31:22.942574Z",
     "iopub.status.busy": "2023-03-12T14:31:22.942172Z",
     "iopub.status.idle": "2023-03-12T14:32:09.362053Z",
     "shell.execute_reply": "2023-03-12T14:32:09.360957Z"
    },
    "papermill": {
     "duration": 46.442009,
     "end_time": "2023-03-12T14:32:09.364450",
     "exception": false,
     "start_time": "2023-03-12T14:31:22.922441",
     "status": "completed"
    },
    "tags": []
   },
   "outputs": [],
   "source": [
    "train[\"review_text\"] = train[\"review_text\"].apply(preprocessing3)"
   ]
  },
  {
   "cell_type": "code",
   "execution_count": 29,
   "id": "44edf311",
   "metadata": {
    "execution": {
     "iopub.execute_input": "2023-03-12T14:32:09.395566Z",
     "iopub.status.busy": "2023-03-12T14:32:09.395214Z",
     "iopub.status.idle": "2023-03-12T14:32:09.401074Z",
     "shell.execute_reply": "2023-03-12T14:32:09.400374Z"
    },
    "papermill": {
     "duration": 0.023269,
     "end_time": "2023-03-12T14:32:09.402734",
     "exception": false,
     "start_time": "2023-03-12T14:32:09.379465",
     "status": "completed"
    },
    "tags": []
   },
   "outputs": [
    {
     "data": {
      "text/plain": [
       "\"thi special book it start slow first third middl third start get interest last third blew mind thi i love good scienc fiction push think thing go it 2015 hugo winner translat origin chines made interest differ way thing i 've read for instanc intermix chines revolutionari histori kept accus peopl `` reactionari '' etc it book scienc alien the scienc describ book impress book ground physic pretti accur far i could tell view spoiler though got fold proton 8 dimens i think make stuff interest think though but would happen seti station receiv messag found someon person monitor answer signal side disillus that part book bit dark i would like think human reaction discov alien civil hostil would like ender game would band togeth i like book unveil trisolaran cultur game it smart way build empathi also understand 've gone across mani centuri and know 3 bodi problem unsolv math problem but i still n't get made game mayb come next book i love quot `` in long histori scientif progress mani proton smash apart acceler physicist how mani neutron electron probabl fewer hundr million everi collis probabl end civil intellig microcosmo in fact even natur destruct univers must happen everi second -- exampl decay neutron also high-energi cosmic ray enter atmospher may destroy thousand miniatur univers ... '' hide spoiler\""
      ]
     },
     "execution_count": 29,
     "metadata": {},
     "output_type": "execute_result"
    }
   ],
   "source": [
    "train[\"review_text\"][0]"
   ]
  },
  {
   "cell_type": "code",
   "execution_count": 30,
   "id": "5351d73a",
   "metadata": {
    "execution": {
     "iopub.execute_input": "2023-03-12T14:32:09.432165Z",
     "iopub.status.busy": "2023-03-12T14:32:09.431814Z",
     "iopub.status.idle": "2023-03-12T14:33:32.909969Z",
     "shell.execute_reply": "2023-03-12T14:33:32.908680Z"
    },
    "papermill": {
     "duration": 83.508199,
     "end_time": "2023-03-12T14:33:32.924762",
     "exception": false,
     "start_time": "2023-03-12T14:32:09.416563",
     "status": "completed"
    },
    "tags": []
   },
   "outputs": [
    {
     "name": "stderr",
     "output_type": "stream",
     "text": [
      "/opt/conda/lib/python3.7/site-packages/ipykernel_launcher.py:1: SettingWithCopyWarning: \n",
      "A value is trying to be set on a copy of a slice from a DataFrame.\n",
      "Try using .loc[row_indexer,col_indexer] = value instead\n",
      "\n",
      "See the caveats in the documentation: https://pandas.pydata.org/pandas-docs/stable/user_guide/indexing.html#returning-a-view-versus-a-copy\n",
      "  \"\"\"Entry point for launching an IPython kernel.\n",
      "/opt/conda/lib/python3.7/site-packages/ipykernel_launcher.py:2: SettingWithCopyWarning: \n",
      "A value is trying to be set on a copy of a slice from a DataFrame.\n",
      "Try using .loc[row_indexer,col_indexer] = value instead\n",
      "\n",
      "See the caveats in the documentation: https://pandas.pydata.org/pandas-docs/stable/user_guide/indexing.html#returning-a-view-versus-a-copy\n",
      "  \n",
      "/opt/conda/lib/python3.7/site-packages/ipykernel_launcher.py:3: SettingWithCopyWarning: \n",
      "A value is trying to be set on a copy of a slice from a DataFrame.\n",
      "Try using .loc[row_indexer,col_indexer] = value instead\n",
      "\n",
      "See the caveats in the documentation: https://pandas.pydata.org/pandas-docs/stable/user_guide/indexing.html#returning-a-view-versus-a-copy\n",
      "  This is separate from the ipykernel package so we can avoid doing imports until\n"
     ]
    }
   ],
   "source": [
    "test[\"review_text\"] = test[\"review_text\"].apply(preprocessing1)\n",
    "test[\"review_text\"] = test[\"review_text\"].apply(preprocessing2)\n",
    "test[\"review_text\"] = test[\"review_text\"].apply(preprocessing3)"
   ]
  },
  {
   "cell_type": "code",
   "execution_count": 31,
   "id": "13188fd4",
   "metadata": {
    "execution": {
     "iopub.execute_input": "2023-03-12T14:33:32.957371Z",
     "iopub.status.busy": "2023-03-12T14:33:32.956435Z",
     "iopub.status.idle": "2023-03-12T14:33:32.963206Z",
     "shell.execute_reply": "2023-03-12T14:33:32.962419Z"
    },
    "papermill": {
     "duration": 0.025254,
     "end_time": "2023-03-12T14:33:32.964995",
     "exception": false,
     "start_time": "2023-03-12T14:33:32.939741",
     "status": "completed"
    },
    "tags": []
   },
   "outputs": [
    {
     "data": {
      "text/plain": [
       "\"thi special book it start slow first third middl third start get interest last third blew mind thi i love good scienc fiction push think thing go it 2015 hugo winner translat origin chines made interest differ way thing i 've read for instanc intermix chines revolutionari histori kept accus peopl `` reactionari '' etc it book scienc alien the scienc describ book impress book ground physic pretti accur far i could tell view spoiler though got fold proton 8 dimens i think make stuff interest think though but would happen seti station receiv messag found someon person monitor answer signal side disillus that part book bit dark i would like think human reaction discov alien civil hostil would like ender game would band togeth i like book unveil trisolaran cultur game it smart way build empathi also understand 've gone across mani centuri and know 3 bodi problem unsolv math problem but i still n't get made game mayb come next book i love quot `` in long histori scientif progress mani proton smash apart acceler physicist how mani neutron electron probabl fewer hundr million everi collis probabl end civil intellig microcosmo in fact even natur destruct univers must happen everi second -- exampl decay neutron also high-energi cosmic ray enter atmospher may destroy thousand miniatur univers ... '' hide spoiler\""
      ]
     },
     "execution_count": 31,
     "metadata": {},
     "output_type": "execute_result"
    }
   ],
   "source": [
    "test[\"review_text\"][0]"
   ]
  },
  {
   "cell_type": "code",
   "execution_count": 32,
   "id": "dd16b2c6",
   "metadata": {
    "execution": {
     "iopub.execute_input": "2023-03-12T14:33:32.997120Z",
     "iopub.status.busy": "2023-03-12T14:33:32.996133Z",
     "iopub.status.idle": "2023-03-12T14:33:33.006091Z",
     "shell.execute_reply": "2023-03-12T14:33:33.005173Z"
    },
    "papermill": {
     "duration": 0.028209,
     "end_time": "2023-03-12T14:33:33.008434",
     "exception": false,
     "start_time": "2023-03-12T14:33:32.980225",
     "status": "completed"
    },
    "tags": []
   },
   "outputs": [
    {
     "data": {
      "text/html": [
       "<div>\n",
       "<style scoped>\n",
       "    .dataframe tbody tr th:only-of-type {\n",
       "        vertical-align: middle;\n",
       "    }\n",
       "\n",
       "    .dataframe tbody tr th {\n",
       "        vertical-align: top;\n",
       "    }\n",
       "\n",
       "    .dataframe thead th {\n",
       "        text-align: right;\n",
       "    }\n",
       "</style>\n",
       "<table border=\"1\" class=\"dataframe\">\n",
       "  <thead>\n",
       "    <tr style=\"text-align: right;\">\n",
       "      <th></th>\n",
       "      <th>review_text</th>\n",
       "      <th>rating</th>\n",
       "    </tr>\n",
       "  </thead>\n",
       "  <tbody>\n",
       "    <tr>\n",
       "      <th>0</th>\n",
       "      <td>thi special book it start slow first third mid...</td>\n",
       "      <td>5</td>\n",
       "    </tr>\n",
       "    <tr>\n",
       "      <th>1</th>\n",
       "      <td>recommend don katz avail free decemb</td>\n",
       "      <td>3</td>\n",
       "    </tr>\n",
       "    <tr>\n",
       "      <th>2</th>\n",
       "      <td>a fun fast pace scienc fiction thriller i read...</td>\n",
       "      <td>3</td>\n",
       "    </tr>\n",
       "    <tr>\n",
       "      <th>3</th>\n",
       "      <td>recommend read understand go middl america pos...</td>\n",
       "      <td>0</td>\n",
       "    </tr>\n",
       "    <tr>\n",
       "      <th>4</th>\n",
       "      <td>i realli enjoy book lot recommend it drag litt...</td>\n",
       "      <td>4</td>\n",
       "    </tr>\n",
       "    <tr>\n",
       "      <th>5</th>\n",
       "      <td>a beauti stori it rare encount book good job p...</td>\n",
       "      <td>4</td>\n",
       "    </tr>\n",
       "    <tr>\n",
       "      <th>6</th>\n",
       "      <td>5 star give better framework organ stuff stuff...</td>\n",
       "      <td>5</td>\n",
       "    </tr>\n",
       "    <tr>\n",
       "      <th>7</th>\n",
       "      <td>numer peopl publish told book year</td>\n",
       "      <td>0</td>\n",
       "    </tr>\n",
       "    <tr>\n",
       "      <th>8</th>\n",
       "      <td>anoth hard put nonfict book erik larson i real...</td>\n",
       "      <td>4</td>\n",
       "    </tr>\n",
       "    <tr>\n",
       "      <th>9</th>\n",
       "      <td>i love stephenson anoth hit absolut love the g...</td>\n",
       "      <td>5</td>\n",
       "    </tr>\n",
       "  </tbody>\n",
       "</table>\n",
       "</div>"
      ],
      "text/plain": [
       "                                         review_text  rating\n",
       "0  thi special book it start slow first third mid...       5\n",
       "1               recommend don katz avail free decemb       3\n",
       "2  a fun fast pace scienc fiction thriller i read...       3\n",
       "3  recommend read understand go middl america pos...       0\n",
       "4  i realli enjoy book lot recommend it drag litt...       4\n",
       "5  a beauti stori it rare encount book good job p...       4\n",
       "6  5 star give better framework organ stuff stuff...       5\n",
       "7                 numer peopl publish told book year       0\n",
       "8  anoth hard put nonfict book erik larson i real...       4\n",
       "9  i love stephenson anoth hit absolut love the g...       5"
      ]
     },
     "execution_count": 32,
     "metadata": {},
     "output_type": "execute_result"
    }
   ],
   "source": [
    "train.head(10)"
   ]
  },
  {
   "cell_type": "code",
   "execution_count": 33,
   "id": "de253a36",
   "metadata": {
    "execution": {
     "iopub.execute_input": "2023-03-12T14:33:33.040639Z",
     "iopub.status.busy": "2023-03-12T14:33:33.039469Z",
     "iopub.status.idle": "2023-03-12T14:33:33.050398Z",
     "shell.execute_reply": "2023-03-12T14:33:33.049691Z"
    },
    "papermill": {
     "duration": 0.02824,
     "end_time": "2023-03-12T14:33:33.052081",
     "exception": false,
     "start_time": "2023-03-12T14:33:33.023841",
     "status": "completed"
    },
    "tags": []
   },
   "outputs": [
    {
     "data": {
      "text/plain": [
       "review_text    0\n",
       "rating         0\n",
       "dtype: int64"
      ]
     },
     "execution_count": 33,
     "metadata": {},
     "output_type": "execute_result"
    }
   ],
   "source": [
    "train.isna().sum()"
   ]
  },
  {
   "cell_type": "code",
   "execution_count": 34,
   "id": "c9c3afc8",
   "metadata": {
    "execution": {
     "iopub.execute_input": "2023-03-12T14:33:33.083889Z",
     "iopub.status.busy": "2023-03-12T14:33:33.083131Z",
     "iopub.status.idle": "2023-03-12T14:33:33.093363Z",
     "shell.execute_reply": "2023-03-12T14:33:33.092468Z"
    },
    "papermill": {
     "duration": 0.028122,
     "end_time": "2023-03-12T14:33:33.095265",
     "exception": false,
     "start_time": "2023-03-12T14:33:33.067143",
     "status": "completed"
    },
    "tags": []
   },
   "outputs": [
    {
     "data": {
      "text/plain": [
       "review_text    0\n",
       "dtype: int64"
      ]
     },
     "execution_count": 34,
     "metadata": {},
     "output_type": "execute_result"
    }
   ],
   "source": [
    "test.isna().sum()"
   ]
  },
  {
   "cell_type": "code",
   "execution_count": 35,
   "id": "3640fa41",
   "metadata": {
    "execution": {
     "iopub.execute_input": "2023-03-12T14:33:33.126112Z",
     "iopub.status.busy": "2023-03-12T14:33:33.125793Z",
     "iopub.status.idle": "2023-03-12T14:33:33.131045Z",
     "shell.execute_reply": "2023-03-12T14:33:33.130215Z"
    },
    "papermill": {
     "duration": 0.022918,
     "end_time": "2023-03-12T14:33:33.132924",
     "exception": false,
     "start_time": "2023-03-12T14:33:33.110006",
     "status": "completed"
    },
    "tags": []
   },
   "outputs": [
    {
     "data": {
      "text/plain": [
       "(20000, 2)"
      ]
     },
     "execution_count": 35,
     "metadata": {},
     "output_type": "execute_result"
    }
   ],
   "source": [
    "train.shape"
   ]
  },
  {
   "cell_type": "code",
   "execution_count": 36,
   "id": "fce76526",
   "metadata": {
    "execution": {
     "iopub.execute_input": "2023-03-12T14:33:33.163488Z",
     "iopub.status.busy": "2023-03-12T14:33:33.163148Z",
     "iopub.status.idle": "2023-03-12T14:33:33.169243Z",
     "shell.execute_reply": "2023-03-12T14:33:33.168327Z"
    },
    "papermill": {
     "duration": 0.023506,
     "end_time": "2023-03-12T14:33:33.171052",
     "exception": false,
     "start_time": "2023-03-12T14:33:33.147546",
     "status": "completed"
    },
    "tags": []
   },
   "outputs": [
    {
     "data": {
      "text/plain": [
       "(20000, 1)"
      ]
     },
     "execution_count": 36,
     "metadata": {},
     "output_type": "execute_result"
    }
   ],
   "source": [
    "test.shape"
   ]
  },
  {
   "cell_type": "code",
   "execution_count": 37,
   "id": "399f0e71",
   "metadata": {
    "execution": {
     "iopub.execute_input": "2023-03-12T14:33:33.203255Z",
     "iopub.status.busy": "2023-03-12T14:33:33.202713Z",
     "iopub.status.idle": "2023-03-12T14:33:33.381638Z",
     "shell.execute_reply": "2023-03-12T14:33:33.380574Z"
    },
    "papermill": {
     "duration": 0.197967,
     "end_time": "2023-03-12T14:33:33.384220",
     "exception": false,
     "start_time": "2023-03-12T14:33:33.186253",
     "status": "completed"
    },
    "tags": []
   },
   "outputs": [],
   "source": [
    "train.to_csv(\"Cleaned_train_Details.csv\")"
   ]
  },
  {
   "cell_type": "code",
   "execution_count": 38,
   "id": "fff26a3a",
   "metadata": {
    "execution": {
     "iopub.execute_input": "2023-03-12T14:33:33.415669Z",
     "iopub.status.busy": "2023-03-12T14:33:33.415312Z",
     "iopub.status.idle": "2023-03-12T14:33:33.584565Z",
     "shell.execute_reply": "2023-03-12T14:33:33.583570Z"
    },
    "papermill": {
     "duration": 0.187721,
     "end_time": "2023-03-12T14:33:33.587016",
     "exception": false,
     "start_time": "2023-03-12T14:33:33.399295",
     "status": "completed"
    },
    "tags": []
   },
   "outputs": [],
   "source": [
    "test.to_csv(\"Cleaned_test_Details.csv\")"
   ]
  },
  {
   "cell_type": "code",
   "execution_count": 39,
   "id": "ad35d14e",
   "metadata": {
    "execution": {
     "iopub.execute_input": "2023-03-12T14:33:33.619046Z",
     "iopub.status.busy": "2023-03-12T14:33:33.618382Z",
     "iopub.status.idle": "2023-03-12T14:33:34.261716Z",
     "shell.execute_reply": "2023-03-12T14:33:34.260925Z"
    },
    "papermill": {
     "duration": 0.663362,
     "end_time": "2023-03-12T14:33:34.265779",
     "exception": false,
     "start_time": "2023-03-12T14:33:33.602417",
     "status": "completed"
    },
    "tags": []
   },
   "outputs": [
    {
     "data": {
      "text/plain": [
       "<matplotlib.image.AxesImage at 0x7f0a042d5e90>"
      ]
     },
     "execution_count": 39,
     "metadata": {},
     "output_type": "execute_result"
    },
    {
     "data": {
      "image/png": "[encoded data removed]",
      "text/plain": [
       "<Figure size 1500x600 with 1 Axes>"
      ]
     },
     "metadata": {},
     "output_type": "display_data"
    }
   ],
   "source": [
    "# WordCloud for ham Messages\n",
    "\n",
    "wc = WordCloud(width=500,height=500,min_font_size=10,background_color='white')\n",
    "ham_wc = wc.generate(train[train['rating'] == 0]['review_text'].str.cat(sep=\" \"))\n",
    "plt.figure(figsize=(15,6))\n",
    "plt.imshow(ham_wc)"
   ]
  },
  {
   "cell_type": "code",
   "execution_count": null,
   "id": "4199b88c",
   "metadata": {
    "papermill": {
     "duration": 0.018268,
     "end_time": "2023-03-12T14:33:34.302484",
     "exception": false,
     "start_time": "2023-03-12T14:33:34.284216",
     "status": "completed"
    },
    "tags": []
   },
   "outputs": [],
   "source": []
  },
  {
   "cell_type": "markdown",
   "id": "47e68b95",
   "metadata": {
    "papermill": {
     "duration": 0.017387,
     "end_time": "2023-03-12T14:33:34.337848",
     "exception": false,
     "start_time": "2023-03-12T14:33:34.320461",
     "status": "completed"
    },
    "tags": []
   },
   "source": [
    "# **Model Building¶**"
   ]
  },
  {
   "cell_type": "code",
   "execution_count": 40,
   "id": "f8c21397",
   "metadata": {
    "execution": {
     "iopub.execute_input": "2023-03-12T14:33:34.375286Z",
     "iopub.status.busy": "2023-03-12T14:33:34.374627Z",
     "iopub.status.idle": "2023-03-12T14:33:34.378557Z",
     "shell.execute_reply": "2023-03-12T14:33:34.377867Z"
    },
    "papermill": {
     "duration": 0.024705,
     "end_time": "2023-03-12T14:33:34.380250",
     "exception": false,
     "start_time": "2023-03-12T14:33:34.355545",
     "status": "completed"
    },
    "tags": []
   },
   "outputs": [],
   "source": [
    "cv = CountVectorizer()\n",
    "tfd = TfidfVectorizer(max_features=3000)"
   ]
  },
  {
   "cell_type": "code",
   "execution_count": 41,
   "id": "b6450991",
   "metadata": {
    "execution": {
     "iopub.execute_input": "2023-03-12T14:33:34.417099Z",
     "iopub.status.busy": "2023-03-12T14:33:34.416533Z",
     "iopub.status.idle": "2023-03-12T14:33:35.898598Z",
     "shell.execute_reply": "2023-03-12T14:33:35.897530Z"
    },
    "papermill": {
     "duration": 1.503366,
     "end_time": "2023-03-12T14:33:35.901275",
     "exception": false,
     "start_time": "2023-03-12T14:33:34.397909",
     "status": "completed"
    },
    "tags": []
   },
   "outputs": [],
   "source": [
    "x = tfd.fit_transform(train[\"review_text\"]).toarray()\n",
    "y = train[\"rating\"].values"
   ]
  },
  {
   "cell_type": "code",
   "execution_count": 42,
   "id": "755acbc2",
   "metadata": {
    "execution": {
     "iopub.execute_input": "2023-03-12T14:33:35.938099Z",
     "iopub.status.busy": "2023-03-12T14:33:35.937744Z",
     "iopub.status.idle": "2023-03-12T14:33:35.946134Z",
     "shell.execute_reply": "2023-03-12T14:33:35.944984Z"
    },
    "papermill": {
     "duration": 0.029096,
     "end_time": "2023-03-12T14:33:35.948073",
     "exception": false,
     "start_time": "2023-03-12T14:33:35.918977",
     "status": "completed"
    },
    "tags": []
   },
   "outputs": [
    {
     "data": {
      "text/plain": [
       "array([[0.        , 0.        , 0.        , ..., 0.        , 0.        ,\n",
       "        0.        ],\n",
       "       [0.        , 0.        , 0.        , ..., 0.        , 0.        ,\n",
       "        0.        ],\n",
       "       [0.        , 0.        , 0.        , ..., 0.        , 0.        ,\n",
       "        0.        ],\n",
       "       ...,\n",
       "       [0.        , 0.        , 0.        , ..., 0.        , 0.        ,\n",
       "        0.        ],\n",
       "       [0.        , 0.        , 0.        , ..., 0.        , 0.        ,\n",
       "        0.        ],\n",
       "       [0.        , 0.        , 0.41101879, ..., 0.        , 0.        ,\n",
       "        0.        ]])"
      ]
     },
     "execution_count": 42,
     "metadata": {},
     "output_type": "execute_result"
    }
   ],
   "source": [
    "x"
   ]
  },
  {
   "cell_type": "code",
   "execution_count": 43,
   "id": "e4a5b995",
   "metadata": {
    "execution": {
     "iopub.execute_input": "2023-03-12T14:33:35.986961Z",
     "iopub.status.busy": "2023-03-12T14:33:35.986336Z",
     "iopub.status.idle": "2023-03-12T14:33:36.097907Z",
     "shell.execute_reply": "2023-03-12T14:33:36.096899Z"
    },
    "papermill": {
     "duration": 0.133641,
     "end_time": "2023-03-12T14:33:36.100284",
     "exception": false,
     "start_time": "2023-03-12T14:33:35.966643",
     "status": "completed"
    },
    "tags": []
   },
   "outputs": [],
   "source": [
    "x_train, x_test, y_train, y_test = train_test_split(x, y, test_size=0.2, random_state=2)"
   ]
  },
  {
   "cell_type": "code",
   "execution_count": 44,
   "id": "d242b5fc",
   "metadata": {
    "execution": {
     "iopub.execute_input": "2023-03-12T14:33:36.138495Z",
     "iopub.status.busy": "2023-03-12T14:33:36.137928Z",
     "iopub.status.idle": "2023-03-12T14:33:36.786248Z",
     "shell.execute_reply": "2023-03-12T14:33:36.785194Z"
    },
    "papermill": {
     "duration": 0.669886,
     "end_time": "2023-03-12T14:33:36.788288",
     "exception": false,
     "start_time": "2023-03-12T14:33:36.118402",
     "status": "completed"
    },
    "tags": []
   },
   "outputs": [
    {
     "name": "stdout",
     "output_type": "stream",
     "text": [
      "22.900000000000002\n",
      "[[ 33  30   9   6   6   5]\n",
      " [ 17  26  23  15  12   5]\n",
      " [ 45  66  75  52  32  12]\n",
      " [133 217 183 147 100  63]\n",
      " [180 238 280 216 296 205]\n",
      " [225 198 167 131 213 339]]\n"
     ]
    }
   ],
   "source": [
    "gnb = GaussianNB()\n",
    "gnb.fit(x_train, y_train)\n",
    "pred = gnb.predict(x_test)\n",
    "print(accuracy_score(y_test,pred)*100)\n",
    "print(confusion_matrix(y_test,pred))"
   ]
  },
  {
   "cell_type": "code",
   "execution_count": 45,
   "id": "eea7e9f4",
   "metadata": {
    "execution": {
     "iopub.execute_input": "2023-03-12T14:33:36.826933Z",
     "iopub.status.busy": "2023-03-12T14:33:36.825767Z",
     "iopub.status.idle": "2023-03-12T14:33:36.937485Z",
     "shell.execute_reply": "2023-03-12T14:33:36.936650Z"
    },
    "papermill": {
     "duration": 0.133196,
     "end_time": "2023-03-12T14:33:36.939733",
     "exception": false,
     "start_time": "2023-03-12T14:33:36.806537",
     "status": "completed"
    },
    "tags": []
   },
   "outputs": [
    {
     "name": "stdout",
     "output_type": "stream",
     "text": [
      "48.875\n",
      "[[   2    0    0   14   44   29]\n",
      " [   0    0    4   31   41   22]\n",
      " [   0    0    0   94  161   27]\n",
      " [   0    0    0  184  572   87]\n",
      " [   0    0    0   62 1063  290]\n",
      " [   0    0    0    7  560  706]]\n"
     ]
    }
   ],
   "source": [
    "mnb = MultinomialNB()\n",
    "mnb.fit(x_train, y_train)\n",
    "pred = mnb.predict(x_test)\n",
    "print(accuracy_score(y_test,pred)*100)\n",
    "print(confusion_matrix(y_test,pred))"
   ]
  },
  {
   "cell_type": "code",
   "execution_count": 46,
   "id": "cb6a426f",
   "metadata": {
    "execution": {
     "iopub.execute_input": "2023-03-12T14:33:36.990497Z",
     "iopub.status.busy": "2023-03-12T14:33:36.990123Z",
     "iopub.status.idle": "2023-03-12T14:33:37.370764Z",
     "shell.execute_reply": "2023-03-12T14:33:37.369405Z"
    },
    "papermill": {
     "duration": 0.409431,
     "end_time": "2023-03-12T14:33:37.373689",
     "exception": false,
     "start_time": "2023-03-12T14:33:36.964258",
     "status": "completed"
    },
    "tags": []
   },
   "outputs": [
    {
     "name": "stdout",
     "output_type": "stream",
     "text": [
      "28.475\n",
      "[[ 68   2   7   7   1   4]\n",
      " [ 42  25  13  16   1   1]\n",
      " [ 98  33  63  72  14   2]\n",
      " [305  37  89 251 102  59]\n",
      " [486  36  82 241 278 292]\n",
      " [558  20  29  92 120 454]]\n"
     ]
    }
   ],
   "source": [
    "bnb = BernoulliNB()\n",
    "bnb.fit(x_train, y_train)\n",
    "pred = bnb.predict(x_test)\n",
    "print(accuracy_score(y_test,pred)*100)\n",
    "print(confusion_matrix(y_test,pred))"
   ]
  },
  {
   "cell_type": "markdown",
   "id": "7972d138",
   "metadata": {
    "execution": {
     "iopub.execute_input": "2023-03-12T09:35:14.394087Z",
     "iopub.status.busy": "2023-03-12T09:35:14.393136Z"
    },
    "papermill": {
     "duration": 0.023497,
     "end_time": "2023-03-12T14:33:37.423190",
     "exception": false,
     "start_time": "2023-03-12T14:33:37.399693",
     "status": "completed"
    },
    "tags": []
   },
   "source": [
    "knc = SVC(kernel='sigmoid', gamma=1.0)\n",
    "knc.fit(x_train, y_train)\n",
    "pred = knc.predict(x_test)\n",
    "print(accuracy_score(y_test,pred)*100)\n",
    "print(confusion_matrix(y_test,pred))"
   ]
  },
  {
   "cell_type": "code",
   "execution_count": 47,
   "id": "bc57399b",
   "metadata": {
    "execution": {
     "iopub.execute_input": "2023-03-12T14:33:37.476155Z",
     "iopub.status.busy": "2023-03-12T14:33:37.475780Z",
     "iopub.status.idle": "2023-03-12T14:33:37.482191Z",
     "shell.execute_reply": "2023-03-12T14:33:37.481385Z"
    },
    "papermill": {
     "duration": 0.035516,
     "end_time": "2023-03-12T14:33:37.484882",
     "exception": false,
     "start_time": "2023-03-12T14:33:37.449366",
     "status": "completed"
    },
    "tags": []
   },
   "outputs": [],
   "source": [
    "# svc = SVC(kernel='sigmoid', gamma=1.0)\n",
    "knc = KNeighborsClassifier()\n",
    "mnb = MultinomialNB()\n",
    "dtc = DecisionTreeClassifier(max_depth=5)\n",
    "lrc = LogisticRegression(solver='liblinear', penalty='l1')\n",
    "rfc = RandomForestClassifier(n_estimators=50, random_state=2)\n",
    "abc = AdaBoostClassifier(n_estimators=50, random_state=2)\n",
    "bc = BaggingClassifier(n_estimators=50, random_state=2)\n",
    "etc = ExtraTreesClassifier(n_estimators=50, random_state=2)\n",
    "gbdt = GradientBoostingClassifier(n_estimators=50,random_state=2)\n",
    "# xgb = XGBClassifier(n_estimators=50,random_state=2)"
   ]
  },
  {
   "cell_type": "code",
   "execution_count": 48,
   "id": "1003f0b1",
   "metadata": {
    "execution": {
     "iopub.execute_input": "2023-03-12T14:33:37.522489Z",
     "iopub.status.busy": "2023-03-12T14:33:37.521887Z",
     "iopub.status.idle": "2023-03-12T14:33:37.526051Z",
     "shell.execute_reply": "2023-03-12T14:33:37.525395Z"
    },
    "papermill": {
     "duration": 0.024675,
     "end_time": "2023-03-12T14:33:37.527748",
     "exception": false,
     "start_time": "2023-03-12T14:33:37.503073",
     "status": "completed"
    },
    "tags": []
   },
   "outputs": [],
   "source": [
    "def model_training(model):\n",
    "    model.fit(x_train, y_train) \n",
    "    pred = model.predict(x_test)\n",
    "    accuracy = accuracy_score(y_test, pred)\n",
    "#     precision = precision_score(y_test, pred)\n",
    "    \n",
    "    return accuracy"
   ]
  },
  {
   "cell_type": "code",
   "execution_count": 49,
   "id": "a3c27ca5",
   "metadata": {
    "execution": {
     "iopub.execute_input": "2023-03-12T14:33:37.565853Z",
     "iopub.status.busy": "2023-03-12T14:33:37.565086Z",
     "iopub.status.idle": "2023-03-12T14:33:37.569661Z",
     "shell.execute_reply": "2023-03-12T14:33:37.568919Z"
    },
    "papermill": {
     "duration": 0.025966,
     "end_time": "2023-03-12T14:33:37.571609",
     "exception": false,
     "start_time": "2023-03-12T14:33:37.545643",
     "status": "completed"
    },
    "tags": []
   },
   "outputs": [],
   "source": [
    "models = {\n",
    "#     'SVC' : svc,\n",
    "    'KN' : knc, \n",
    "    'NB': mnb, \n",
    "    'DT': dtc, \n",
    "    'LR': lrc, \n",
    "    'RF': rfc,\n",
    "    'AdaBoost': abc, \n",
    "    'BgC': bc,\n",
    "    'ETC': etc,\n",
    "    'GBDT':gbdt\n",
    "#     'xgb':xgb\n",
    "}"
   ]
  },
  {
   "cell_type": "code",
   "execution_count": 50,
   "id": "640b0eac",
   "metadata": {
    "execution": {
     "iopub.execute_input": "2023-03-12T14:33:37.610536Z",
     "iopub.status.busy": "2023-03-12T14:33:37.609367Z",
     "iopub.status.idle": "2023-03-12T14:48:17.206454Z",
     "shell.execute_reply": "2023-03-12T14:48:17.204776Z"
    },
    "papermill": {
     "duration": 879.635806,
     "end_time": "2023-03-12T14:48:17.225778",
     "exception": false,
     "start_time": "2023-03-12T14:33:37.589972",
     "status": "completed"
    },
    "tags": []
   },
   "outputs": [
    {
     "name": "stdout",
     "output_type": "stream",
     "text": [
      "For  KN\n",
      "Accuracy -  22.900000000000002\n",
      "====================================\n",
      "For  NB\n",
      "Accuracy -  48.875\n",
      "====================================\n",
      "For  DT\n",
      "Accuracy -  40.300000000000004\n",
      "====================================\n",
      "For  LR\n",
      "Accuracy -  52.2\n",
      "====================================\n",
      "For  RF\n",
      "Accuracy -  48.375\n",
      "====================================\n",
      "For  AdaBoost\n",
      "Accuracy -  42.125\n",
      "====================================\n",
      "For  BgC\n",
      "Accuracy -  48.0\n",
      "====================================\n",
      "For  ETC\n",
      "Accuracy -  48.35\n",
      "====================================\n",
      "For  GBDT\n",
      "Accuracy -  46.475\n",
      "====================================\n"
     ]
    }
   ],
   "source": [
    "accuracy_scores = []\n",
    "# precision_scores = []\n",
    "\n",
    "for name, model in models.items():\n",
    "    \n",
    "    current_accuracy = model_training(model)\n",
    "    \n",
    "    print(\"For \",name)\n",
    "    print(\"Accuracy - \",current_accuracy*100)\n",
    "#     print(\"Precision - \",current_precision*100)\n",
    "    print(\"====================================\")\n",
    "    \n",
    "    accuracy_scores.append(current_accuracy)\n",
    "#     precision_scores.append(current_precision)"
   ]
  },
  {
   "cell_type": "code",
   "execution_count": 51,
   "id": "8a53a7ed",
   "metadata": {
    "execution": {
     "iopub.execute_input": "2023-03-12T14:48:17.266133Z",
     "iopub.status.busy": "2023-03-12T14:48:17.265713Z",
     "iopub.status.idle": "2023-03-12T14:48:17.276750Z",
     "shell.execute_reply": "2023-03-12T14:48:17.275705Z"
    },
    "papermill": {
     "duration": 0.034358,
     "end_time": "2023-03-12T14:48:17.278557",
     "exception": false,
     "start_time": "2023-03-12T14:48:17.244199",
     "status": "completed"
    },
    "tags": []
   },
   "outputs": [
    {
     "data": {
      "text/html": [
       "<div>\n",
       "<style scoped>\n",
       "    .dataframe tbody tr th:only-of-type {\n",
       "        vertical-align: middle;\n",
       "    }\n",
       "\n",
       "    .dataframe tbody tr th {\n",
       "        vertical-align: top;\n",
       "    }\n",
       "\n",
       "    .dataframe thead th {\n",
       "        text-align: right;\n",
       "    }\n",
       "</style>\n",
       "<table border=\"1\" class=\"dataframe\">\n",
       "  <thead>\n",
       "    <tr style=\"text-align: right;\">\n",
       "      <th></th>\n",
       "      <th>Models/Algorithms</th>\n",
       "      <th>Accuracy</th>\n",
       "    </tr>\n",
       "  </thead>\n",
       "  <tbody>\n",
       "    <tr>\n",
       "      <th>3</th>\n",
       "      <td>LR</td>\n",
       "      <td>0.52200</td>\n",
       "    </tr>\n",
       "    <tr>\n",
       "      <th>1</th>\n",
       "      <td>NB</td>\n",
       "      <td>0.48875</td>\n",
       "    </tr>\n",
       "    <tr>\n",
       "      <th>4</th>\n",
       "      <td>RF</td>\n",
       "      <td>0.48375</td>\n",
       "    </tr>\n",
       "    <tr>\n",
       "      <th>7</th>\n",
       "      <td>ETC</td>\n",
       "      <td>0.48350</td>\n",
       "    </tr>\n",
       "    <tr>\n",
       "      <th>6</th>\n",
       "      <td>BgC</td>\n",
       "      <td>0.48000</td>\n",
       "    </tr>\n",
       "    <tr>\n",
       "      <th>8</th>\n",
       "      <td>GBDT</td>\n",
       "      <td>0.46475</td>\n",
       "    </tr>\n",
       "    <tr>\n",
       "      <th>5</th>\n",
       "      <td>AdaBoost</td>\n",
       "      <td>0.42125</td>\n",
       "    </tr>\n",
       "    <tr>\n",
       "      <th>2</th>\n",
       "      <td>DT</td>\n",
       "      <td>0.40300</td>\n",
       "    </tr>\n",
       "    <tr>\n",
       "      <th>0</th>\n",
       "      <td>KN</td>\n",
       "      <td>0.22900</td>\n",
       "    </tr>\n",
       "  </tbody>\n",
       "</table>\n",
       "</div>"
      ],
      "text/plain": [
       "  Models/Algorithms  Accuracy\n",
       "3                LR   0.52200\n",
       "1                NB   0.48875\n",
       "4                RF   0.48375\n",
       "7               ETC   0.48350\n",
       "6               BgC   0.48000\n",
       "8              GBDT   0.46475\n",
       "5          AdaBoost   0.42125\n",
       "2                DT   0.40300\n",
       "0                KN   0.22900"
      ]
     },
     "execution_count": 51,
     "metadata": {},
     "output_type": "execute_result"
    }
   ],
   "source": [
    "model_performance = pd.DataFrame({'Models/Algorithms':models.keys(), 'Accuracy':accuracy_scores}).sort_values('Accuracy', ascending=False)\n",
    "model_performance"
   ]
  },
  {
   "cell_type": "code",
   "execution_count": 52,
   "id": "49c64ada",
   "metadata": {
    "execution": {
     "iopub.execute_input": "2023-03-12T14:48:17.318039Z",
     "iopub.status.busy": "2023-03-12T14:48:17.317669Z",
     "iopub.status.idle": "2023-03-12T14:48:40.585008Z",
     "shell.execute_reply": "2023-03-12T14:48:40.583442Z"
    },
    "papermill": {
     "duration": 23.289808,
     "end_time": "2023-03-12T14:48:40.587095",
     "exception": false,
     "start_time": "2023-03-12T14:48:17.297287",
     "status": "completed"
    },
    "tags": []
   },
   "outputs": [
    {
     "name": "stdout",
     "output_type": "stream",
     "text": [
      "Accuracy 51.525\n"
     ]
    }
   ],
   "source": [
    "# Voting Classifier \n",
    "# Selecting the three Classifiers which are better in case of Accuracy and Precision\n",
    "# svc = SVC(kernel='sigmoid', gamma=1.0,probability=True)\n",
    "# mnb = MultinomialNB()\n",
    "# etc = ExtraTreesClassifier(n_estimators=50, random_state=2)\n",
    "\n",
    "voting = VotingClassifier(estimators=[('NB', mnb,), ('LR', lrc), ('ETC', etc)], voting='soft')\n",
    "voting.fit(x_train, y_train)\n",
    "pred = voting.predict(x_test)\n",
    "\n",
    "print(\"Accuracy\",accuracy_score(y_test, pred)*100)\n",
    "# print(\"Precision\",precision_score(y_test, pred)*100)"
   ]
  },
  {
   "cell_type": "code",
   "execution_count": 53,
   "id": "6126e596",
   "metadata": {
    "execution": {
     "iopub.execute_input": "2023-03-12T14:48:40.625341Z",
     "iopub.status.busy": "2023-03-12T14:48:40.625007Z",
     "iopub.status.idle": "2023-03-12T14:50:40.386866Z",
     "shell.execute_reply": "2023-03-12T14:50:40.385908Z"
    },
    "papermill": {
     "duration": 119.801945,
     "end_time": "2023-03-12T14:50:40.407583",
     "exception": false,
     "start_time": "2023-03-12T14:48:40.605638",
     "status": "completed"
    },
    "tags": []
   },
   "outputs": [
    {
     "name": "stdout",
     "output_type": "stream",
     "text": [
      "Accuracy 53.125\n"
     ]
    }
   ],
   "source": [
    "# Applying stacking\n",
    "# Selecting the three Classifiers which are better in case of Accuracy and Precision and Considering Final Estimator as RandomForestClassifier \n",
    "\n",
    "estimators=[('NB', mnb,), ('LR', lrc), ('ETC', etc)]\n",
    "final_estimator=RandomForestClassifier()\n",
    "stc = StackingClassifier(estimators=estimators, final_estimator=final_estimator)\n",
    "stc.fit(x_train, y_train)\n",
    "pred = stc.predict(x_test)\n",
    "\n",
    "print(\"Accuracy\",accuracy_score(y_test, pred)*100)\n",
    "# print(\"Precision\",precision_score(y_test, pred)*100)"
   ]
  },
  {
   "cell_type": "code",
   "execution_count": null,
   "id": "e34feb00",
   "metadata": {
    "papermill": {
     "duration": 0.018761,
     "end_time": "2023-03-12T14:50:40.445044",
     "exception": false,
     "start_time": "2023-03-12T14:50:40.426283",
     "status": "completed"
    },
    "tags": []
   },
   "outputs": [],
   "source": []
  }
 ],
 "metadata": {
  "kernelspec": {
   "display_name": "Python 3",
   "language": "python",
   "name": "python3"
  },
  "language_info": {
   "codemirror_mode": {
    "name": "ipython",
    "version": 3
   },
   "file_extension": ".py",
   "mimetype": "text/x-python",
   "name": "python",
   "nbconvert_exporter": "python",
   "pygments_lexer": "ipython3",
   "version": "3.7.12"
  },
  "papermill": {
   "default_parameters": {},
   "duration": 1252.615675,
   "end_time": "2023-03-12T14:50:41.990674",
   "environment_variables": {},
   "exception": null,
   "input_path": "__notebook__.ipynb",
   "output_path": "__notebook__.ipynb",
   "parameters": {},
   "start_time": "2023-03-12T14:29:49.374999",
   "version": "2.4.0"
  }
 },
 "nbformat": 4,
 "nbformat_minor": 5
}
