{
 "cells": [
  {
   "cell_type": "code",
   "execution_count": 1,
   "id": "4cbf9acd",
   "metadata": {
    "_cell_guid": "b1076dfc-b9ad-4769-8c92-a6c4dae69d19",
    "_uuid": "8f2839f25d086af736a60e9eeb907d3b93b6e0e5",
    "execution": {
     "iopub.execute_input": "2023-03-12T14:21:02.160011Z",
     "iopub.status.busy": "2023-03-12T14:21:02.159545Z",
     "iopub.status.idle": "2023-03-12T14:21:02.177548Z",
     "shell.execute_reply": "2023-03-12T14:21:02.175620Z"
    },
    "papermill": {
     "duration": 0.037704,
     "end_time": "2023-03-12T14:21:02.180602",
     "exception": false,
     "start_time": "2023-03-12T14:21:02.142898",
     "status": "completed"
    },
    "tags": []
   },
   "outputs": [
    {
     "name": "stdout",
     "output_type": "stream",
     "text": [
      "/kaggle/input/goodreads-books-reviews-290312/goodreads_test.csv\n",
      "/kaggle/input/goodreads-books-reviews-290312/goodreads_sample_submission.csv\n",
      "/kaggle/input/goodreads-books-reviews-290312/goodreads_train.csv\n"
     ]
    }
   ],
   "source": [
    "# This Python 3 environment comes with many helpful analytics libraries installed\n",
    "# It is defined by the kaggle/python Docker image: https://github.com/kaggle/docker-python\n",
    "# For example, here's several helpful packages to load\n",
    "\n",
    "import numpy as np # linear algebra\n",
    "import pandas as pd # data processing, CSV file I/O (e.g. pd.read_csv)\n",
    "\n",
    "# Input data files are available in the read-only \"../input/\" directory\n",
    "# For example, running this (by clicking run or pressing Shift+Enter) will list all files under the input directory\n",
    "\n",
    "import os\n",
    "for dirname, _, filenames in os.walk('/kaggle/input'):\n",
    "    for filename in filenames:\n",
    "        print(os.path.join(dirname, filename))\n",
    "\n",
    "# You can write up to 20GB to the current directory (/kaggle/working/) that gets preserved as output when you create a version using \"Save & Run All\" \n",
    "# You can also write temporary files to /kaggle/temp/, but they won't be saved outside of the current session"
   ]
  },
  {
   "cell_type": "code",
   "execution_count": 2,
   "id": "4e05a367",
   "metadata": {
    "execution": {
     "iopub.execute_input": "2023-03-12T14:21:02.209991Z",
     "iopub.status.busy": "2023-03-12T14:21:02.208827Z",
     "iopub.status.idle": "2023-03-12T14:21:04.884032Z",
     "shell.execute_reply": "2023-03-12T14:21:04.882988Z"
    },
    "papermill": {
     "duration": 2.692761,
     "end_time": "2023-03-12T14:21:04.886890",
     "exception": false,
     "start_time": "2023-03-12T14:21:02.194129",
     "status": "completed"
    },
    "tags": []
   },
   "outputs": [],
   "source": [
    "import numpy as np\n",
    "import pandas as pd\n",
    "import seaborn as sns\n",
    "import matplotlib.pyplot as plt\n",
    "\n",
    "import nltk\n",
    "import string\n",
    "from nltk.corpus import stopwords\n",
    "from nltk.stem import PorterStemmer\n",
    "import re\n",
    "\n",
    "from wordcloud import WordCloud\n",
    "from collections import Counter\n",
    "\n",
    "from sklearn.preprocessing import LabelEncoder\n",
    "from sklearn.model_selection import train_test_split\n",
    "from sklearn.preprocessing import MinMaxScaler\n",
    "\n",
    "from sklearn.feature_extraction.text import CountVectorizer, TfidfVectorizer\n",
    "from sklearn.naive_bayes import GaussianNB, MultinomialNB, BernoulliNB\n",
    "from sklearn.linear_model import LogisticRegression\n",
    "from sklearn.svm import SVC\n",
    "from sklearn.tree import DecisionTreeClassifier\n",
    "from sklearn.neighbors import KNeighborsClassifier\n",
    "from sklearn.ensemble import RandomForestClassifier\n",
    "from sklearn.ensemble import AdaBoostClassifier, BaggingClassifier, GradientBoostingClassifier\n",
    "from sklearn.ensemble import ExtraTreesClassifier\n",
    "from xgboost import XGBClassifier\n",
    "from sklearn.ensemble import VotingClassifier\n",
    "from sklearn.ensemble import StackingClassifier\n",
    "\n",
    "from sklearn.metrics import accuracy_score, confusion_matrix, precision_score, ConfusionMatrixDisplay\n",
    "import pickle\n",
    "\n",
    "import pandas as pd\n",
    "import numpy as np\n",
    "import seaborn as sns\n",
    "import matplotlib.pyplot as plt\n",
    "\n",
    "import string\n",
    "import nltk\n",
    "import nltk.corpus\n",
    "from nltk.tokenize import word_tokenize\n",
    "from nltk.corpus import stopwords\n",
    "from nltk.stem import PorterStemmer\n",
    "import re\n",
    "\n",
    "from sklearn.model_selection import train_test_split\n",
    "from sklearn.feature_extraction.text import CountVectorizer, TfidfVectorizer\n",
    "\n",
    "from sklearn.linear_model import LogisticRegression\n",
    "from sklearn.tree import DecisionTreeClassifier\n",
    "from sklearn.ensemble import RandomForestClassifier\n",
    "from sklearn.naive_bayes import GaussianNB\n",
    "from sklearn.svm import SVC\n",
    "\n",
    "from sklearn.metrics import accuracy_score\n",
    "from sklearn.model_selection import cross_val_score"
   ]
  },
  {
   "cell_type": "code",
   "execution_count": 3,
   "id": "fff4d613",
   "metadata": {
    "execution": {
     "iopub.execute_input": "2023-03-12T14:21:04.919669Z",
     "iopub.status.busy": "2023-03-12T14:21:04.918690Z",
     "iopub.status.idle": "2023-03-12T14:21:41.997007Z",
     "shell.execute_reply": "2023-03-12T14:21:41.995880Z"
    },
    "papermill": {
     "duration": 37.097853,
     "end_time": "2023-03-12T14:21:42.000036",
     "exception": false,
     "start_time": "2023-03-12T14:21:04.902183",
     "status": "completed"
    },
    "tags": []
   },
   "outputs": [],
   "source": [
    "test_data = pd.read_csv(\"/kaggle/input/goodreads-books-reviews-290312/goodreads_test.csv\")\n",
    "train = pd.read_csv(\"/kaggle/input/goodreads-books-reviews-290312/goodreads_train.csv\")"
   ]
  },
  {
   "cell_type": "markdown",
   "id": "140f478a",
   "metadata": {
    "papermill": {
     "duration": 0.013041,
     "end_time": "2023-03-12T14:21:42.027786",
     "exception": false,
     "start_time": "2023-03-12T14:21:42.014745",
     "status": "completed"
    },
    "tags": []
   },
   "source": [
    "# **Data Understanding**"
   ]
  },
  {
   "cell_type": "code",
   "execution_count": 4,
   "id": "4b02d320",
   "metadata": {
    "execution": {
     "iopub.execute_input": "2023-03-12T14:21:42.055543Z",
     "iopub.status.busy": "2023-03-12T14:21:42.055151Z",
     "iopub.status.idle": "2023-03-12T14:21:42.088387Z",
     "shell.execute_reply": "2023-03-12T14:21:42.087253Z"
    },
    "papermill": {
     "duration": 0.050406,
     "end_time": "2023-03-12T14:21:42.091226",
     "exception": false,
     "start_time": "2023-03-12T14:21:42.040820",
     "status": "completed"
    },
    "tags": []
   },
   "outputs": [
    {
     "data": {
      "text/html": [
       "<div>\n",
       "<style scoped>\n",
       "    .dataframe tbody tr th:only-of-type {\n",
       "        vertical-align: middle;\n",
       "    }\n",
       "\n",
       "    .dataframe tbody tr th {\n",
       "        vertical-align: top;\n",
       "    }\n",
       "\n",
       "    .dataframe thead th {\n",
       "        text-align: right;\n",
       "    }\n",
       "</style>\n",
       "<table border=\"1\" class=\"dataframe\">\n",
       "  <thead>\n",
       "    <tr style=\"text-align: right;\">\n",
       "      <th></th>\n",
       "      <th>user_id</th>\n",
       "      <th>book_id</th>\n",
       "      <th>review_id</th>\n",
       "      <th>rating</th>\n",
       "      <th>review_text</th>\n",
       "      <th>date_added</th>\n",
       "      <th>date_updated</th>\n",
       "      <th>read_at</th>\n",
       "      <th>started_at</th>\n",
       "      <th>n_votes</th>\n",
       "      <th>n_comments</th>\n",
       "    </tr>\n",
       "  </thead>\n",
       "  <tbody>\n",
       "    <tr>\n",
       "      <th>0</th>\n",
       "      <td>8842281e1d1347389f2ab93d60773d4d</td>\n",
       "      <td>18245960</td>\n",
       "      <td>dfdbb7b0eb5a7e4c26d59a937e2e5feb</td>\n",
       "      <td>5</td>\n",
       "      <td>This is a special book. It started slow for ab...</td>\n",
       "      <td>Sun Jul 30 07:44:10 -0700 2017</td>\n",
       "      <td>Wed Aug 30 00:00:26 -0700 2017</td>\n",
       "      <td>Sat Aug 26 12:05:52 -0700 2017</td>\n",
       "      <td>Tue Aug 15 13:23:18 -0700 2017</td>\n",
       "      <td>28</td>\n",
       "      <td>1</td>\n",
       "    </tr>\n",
       "    <tr>\n",
       "      <th>1</th>\n",
       "      <td>8842281e1d1347389f2ab93d60773d4d</td>\n",
       "      <td>16981</td>\n",
       "      <td>a5d2c3628987712d0e05c4f90798eb67</td>\n",
       "      <td>3</td>\n",
       "      <td>Recommended by Don Katz. Avail for free in Dec...</td>\n",
       "      <td>Mon Dec 05 10:46:44 -0800 2016</td>\n",
       "      <td>Wed Mar 22 11:37:04 -0700 2017</td>\n",
       "      <td>NaN</td>\n",
       "      <td>NaN</td>\n",
       "      <td>1</td>\n",
       "      <td>0</td>\n",
       "    </tr>\n",
       "    <tr>\n",
       "      <th>2</th>\n",
       "      <td>8842281e1d1347389f2ab93d60773d4d</td>\n",
       "      <td>28684704</td>\n",
       "      <td>2ede853b14dc4583f96cf5d120af636f</td>\n",
       "      <td>3</td>\n",
       "      <td>A fun, fast paced science fiction thriller. I ...</td>\n",
       "      <td>Tue Nov 15 11:29:22 -0800 2016</td>\n",
       "      <td>Mon Mar 20 23:40:27 -0700 2017</td>\n",
       "      <td>Sat Mar 18 23:22:42 -0700 2017</td>\n",
       "      <td>Fri Mar 17 23:45:40 -0700 2017</td>\n",
       "      <td>22</td>\n",
       "      <td>0</td>\n",
       "    </tr>\n",
       "    <tr>\n",
       "      <th>3</th>\n",
       "      <td>8842281e1d1347389f2ab93d60773d4d</td>\n",
       "      <td>27161156</td>\n",
       "      <td>ced5675e55cd9d38a524743f5c40996e</td>\n",
       "      <td>0</td>\n",
       "      <td>Recommended reading to understand what is goin...</td>\n",
       "      <td>Wed Nov 09 17:37:04 -0800 2016</td>\n",
       "      <td>Wed Nov 09 17:38:20 -0800 2016</td>\n",
       "      <td>NaN</td>\n",
       "      <td>NaN</td>\n",
       "      <td>5</td>\n",
       "      <td>1</td>\n",
       "    </tr>\n",
       "    <tr>\n",
       "      <th>4</th>\n",
       "      <td>8842281e1d1347389f2ab93d60773d4d</td>\n",
       "      <td>25884323</td>\n",
       "      <td>332732725863131279a8e345b63ac33e</td>\n",
       "      <td>4</td>\n",
       "      <td>I really enjoyed this book, and there is a lot...</td>\n",
       "      <td>Mon Apr 25 09:31:23 -0700 2016</td>\n",
       "      <td>Mon Apr 25 09:31:23 -0700 2016</td>\n",
       "      <td>Sun Jun 26 00:00:00 -0700 2016</td>\n",
       "      <td>Sat May 28 00:00:00 -0700 2016</td>\n",
       "      <td>9</td>\n",
       "      <td>1</td>\n",
       "    </tr>\n",
       "  </tbody>\n",
       "</table>\n",
       "</div>"
      ],
      "text/plain": [
       "                            user_id   book_id  \\\n",
       "0  8842281e1d1347389f2ab93d60773d4d  18245960   \n",
       "1  8842281e1d1347389f2ab93d60773d4d     16981   \n",
       "2  8842281e1d1347389f2ab93d60773d4d  28684704   \n",
       "3  8842281e1d1347389f2ab93d60773d4d  27161156   \n",
       "4  8842281e1d1347389f2ab93d60773d4d  25884323   \n",
       "\n",
       "                          review_id  rating  \\\n",
       "0  dfdbb7b0eb5a7e4c26d59a937e2e5feb       5   \n",
       "1  a5d2c3628987712d0e05c4f90798eb67       3   \n",
       "2  2ede853b14dc4583f96cf5d120af636f       3   \n",
       "3  ced5675e55cd9d38a524743f5c40996e       0   \n",
       "4  332732725863131279a8e345b63ac33e       4   \n",
       "\n",
       "                                         review_text  \\\n",
       "0  This is a special book. It started slow for ab...   \n",
       "1  Recommended by Don Katz. Avail for free in Dec...   \n",
       "2  A fun, fast paced science fiction thriller. I ...   \n",
       "3  Recommended reading to understand what is goin...   \n",
       "4  I really enjoyed this book, and there is a lot...   \n",
       "\n",
       "                       date_added                    date_updated  \\\n",
       "0  Sun Jul 30 07:44:10 -0700 2017  Wed Aug 30 00:00:26 -0700 2017   \n",
       "1  Mon Dec 05 10:46:44 -0800 2016  Wed Mar 22 11:37:04 -0700 2017   \n",
       "2  Tue Nov 15 11:29:22 -0800 2016  Mon Mar 20 23:40:27 -0700 2017   \n",
       "3  Wed Nov 09 17:37:04 -0800 2016  Wed Nov 09 17:38:20 -0800 2016   \n",
       "4  Mon Apr 25 09:31:23 -0700 2016  Mon Apr 25 09:31:23 -0700 2016   \n",
       "\n",
       "                          read_at                      started_at  n_votes  \\\n",
       "0  Sat Aug 26 12:05:52 -0700 2017  Tue Aug 15 13:23:18 -0700 2017       28   \n",
       "1                             NaN                             NaN        1   \n",
       "2  Sat Mar 18 23:22:42 -0700 2017  Fri Mar 17 23:45:40 -0700 2017       22   \n",
       "3                             NaN                             NaN        5   \n",
       "4  Sun Jun 26 00:00:00 -0700 2016  Sat May 28 00:00:00 -0700 2016        9   \n",
       "\n",
       "   n_comments  \n",
       "0           1  \n",
       "1           0  \n",
       "2           0  \n",
       "3           1  \n",
       "4           1  "
      ]
     },
     "execution_count": 4,
     "metadata": {},
     "output_type": "execute_result"
    }
   ],
   "source": [
    "train.head()"
   ]
  },
  {
   "cell_type": "code",
   "execution_count": 5,
   "id": "54fa0b6b",
   "metadata": {
    "execution": {
     "iopub.execute_input": "2023-03-12T14:21:42.120877Z",
     "iopub.status.busy": "2023-03-12T14:21:42.119893Z",
     "iopub.status.idle": "2023-03-12T14:21:42.136320Z",
     "shell.execute_reply": "2023-03-12T14:21:42.135115Z"
    },
    "papermill": {
     "duration": 0.034031,
     "end_time": "2023-03-12T14:21:42.139046",
     "exception": false,
     "start_time": "2023-03-12T14:21:42.105015",
     "status": "completed"
    },
    "tags": []
   },
   "outputs": [
    {
     "data": {
      "text/html": [
       "<div>\n",
       "<style scoped>\n",
       "    .dataframe tbody tr th:only-of-type {\n",
       "        vertical-align: middle;\n",
       "    }\n",
       "\n",
       "    .dataframe tbody tr th {\n",
       "        vertical-align: top;\n",
       "    }\n",
       "\n",
       "    .dataframe thead th {\n",
       "        text-align: right;\n",
       "    }\n",
       "</style>\n",
       "<table border=\"1\" class=\"dataframe\">\n",
       "  <thead>\n",
       "    <tr style=\"text-align: right;\">\n",
       "      <th></th>\n",
       "      <th>user_id</th>\n",
       "      <th>book_id</th>\n",
       "      <th>review_id</th>\n",
       "      <th>review_text</th>\n",
       "      <th>date_added</th>\n",
       "      <th>date_updated</th>\n",
       "      <th>read_at</th>\n",
       "      <th>started_at</th>\n",
       "      <th>n_votes</th>\n",
       "      <th>n_comments</th>\n",
       "    </tr>\n",
       "  </thead>\n",
       "  <tbody>\n",
       "    <tr>\n",
       "      <th>0</th>\n",
       "      <td>b9450d1c1f97f891c392b1105959b56e</td>\n",
       "      <td>7092507</td>\n",
       "      <td>5c4df7e70e9b438c761f07a4620ccb7c</td>\n",
       "      <td>** spoiler alert ** \\n This is definitely one ...</td>\n",
       "      <td>Sat Nov 10 06:06:13 -0800 2012</td>\n",
       "      <td>Sun Nov 11 05:38:36 -0800 2012</td>\n",
       "      <td>Sun Nov 11 05:38:36 -0800 2012</td>\n",
       "      <td>Sat Nov 10 00:00:00 -0800 2012</td>\n",
       "      <td>1</td>\n",
       "      <td>0</td>\n",
       "    </tr>\n",
       "    <tr>\n",
       "      <th>1</th>\n",
       "      <td>b9450d1c1f97f891c392b1105959b56e</td>\n",
       "      <td>5576654</td>\n",
       "      <td>8eaeaf13213eeb16ad879a2a2591bbe5</td>\n",
       "      <td>** spoiler alert ** \\n \"You are what you drink...</td>\n",
       "      <td>Fri Nov 09 21:55:16 -0800 2012</td>\n",
       "      <td>Sat Nov 10 05:41:49 -0800 2012</td>\n",
       "      <td>Sat Nov 10 05:41:49 -0800 2012</td>\n",
       "      <td>Fri Nov 09 00:00:00 -0800 2012</td>\n",
       "      <td>1</td>\n",
       "      <td>0</td>\n",
       "    </tr>\n",
       "    <tr>\n",
       "      <th>2</th>\n",
       "      <td>b9450d1c1f97f891c392b1105959b56e</td>\n",
       "      <td>15754052</td>\n",
       "      <td>dce649b733c153ba5363a0413cac988f</td>\n",
       "      <td>Roar is one of my favorite characters in Under...</td>\n",
       "      <td>Fri Nov 09 00:25:50 -0800 2012</td>\n",
       "      <td>Sat Nov 10 06:14:10 -0800 2012</td>\n",
       "      <td>Sat Nov 10 06:14:10 -0800 2012</td>\n",
       "      <td>Fri Nov 09 00:00:00 -0800 2012</td>\n",
       "      <td>0</td>\n",
       "      <td>0</td>\n",
       "    </tr>\n",
       "    <tr>\n",
       "      <th>3</th>\n",
       "      <td>b9450d1c1f97f891c392b1105959b56e</td>\n",
       "      <td>17020</td>\n",
       "      <td>8a46df0bb997269d6834f9437a4b0a77</td>\n",
       "      <td>** spoiler alert ** \\n If you feel like travel...</td>\n",
       "      <td>Thu Nov 01 00:28:39 -0700 2012</td>\n",
       "      <td>Sat Nov 03 11:35:22 -0700 2012</td>\n",
       "      <td>Sat Nov 03 11:35:22 -0700 2012</td>\n",
       "      <td>Thu Nov 01 00:00:00 -0700 2012</td>\n",
       "      <td>0</td>\n",
       "      <td>0</td>\n",
       "    </tr>\n",
       "    <tr>\n",
       "      <th>4</th>\n",
       "      <td>b9450d1c1f97f891c392b1105959b56e</td>\n",
       "      <td>12551082</td>\n",
       "      <td>d11d3091e22f1cf3cb865598de197599</td>\n",
       "      <td>3.5 stars \\n I read and enjoyed the first two ...</td>\n",
       "      <td>Thu Oct 18 00:57:00 -0700 2012</td>\n",
       "      <td>Mon Apr 01 23:00:51 -0700 2013</td>\n",
       "      <td>Sat Mar 30 00:00:00 -0700 2013</td>\n",
       "      <td>Fri Mar 29 00:00:00 -0700 2013</td>\n",
       "      <td>0</td>\n",
       "      <td>0</td>\n",
       "    </tr>\n",
       "  </tbody>\n",
       "</table>\n",
       "</div>"
      ],
      "text/plain": [
       "                            user_id   book_id  \\\n",
       "0  b9450d1c1f97f891c392b1105959b56e   7092507   \n",
       "1  b9450d1c1f97f891c392b1105959b56e   5576654   \n",
       "2  b9450d1c1f97f891c392b1105959b56e  15754052   \n",
       "3  b9450d1c1f97f891c392b1105959b56e     17020   \n",
       "4  b9450d1c1f97f891c392b1105959b56e  12551082   \n",
       "\n",
       "                          review_id  \\\n",
       "0  5c4df7e70e9b438c761f07a4620ccb7c   \n",
       "1  8eaeaf13213eeb16ad879a2a2591bbe5   \n",
       "2  dce649b733c153ba5363a0413cac988f   \n",
       "3  8a46df0bb997269d6834f9437a4b0a77   \n",
       "4  d11d3091e22f1cf3cb865598de197599   \n",
       "\n",
       "                                         review_text  \\\n",
       "0  ** spoiler alert ** \\n This is definitely one ...   \n",
       "1  ** spoiler alert ** \\n \"You are what you drink...   \n",
       "2  Roar is one of my favorite characters in Under...   \n",
       "3  ** spoiler alert ** \\n If you feel like travel...   \n",
       "4  3.5 stars \\n I read and enjoyed the first two ...   \n",
       "\n",
       "                       date_added                    date_updated  \\\n",
       "0  Sat Nov 10 06:06:13 -0800 2012  Sun Nov 11 05:38:36 -0800 2012   \n",
       "1  Fri Nov 09 21:55:16 -0800 2012  Sat Nov 10 05:41:49 -0800 2012   \n",
       "2  Fri Nov 09 00:25:50 -0800 2012  Sat Nov 10 06:14:10 -0800 2012   \n",
       "3  Thu Nov 01 00:28:39 -0700 2012  Sat Nov 03 11:35:22 -0700 2012   \n",
       "4  Thu Oct 18 00:57:00 -0700 2012  Mon Apr 01 23:00:51 -0700 2013   \n",
       "\n",
       "                          read_at                      started_at  n_votes  \\\n",
       "0  Sun Nov 11 05:38:36 -0800 2012  Sat Nov 10 00:00:00 -0800 2012        1   \n",
       "1  Sat Nov 10 05:41:49 -0800 2012  Fri Nov 09 00:00:00 -0800 2012        1   \n",
       "2  Sat Nov 10 06:14:10 -0800 2012  Fri Nov 09 00:00:00 -0800 2012        0   \n",
       "3  Sat Nov 03 11:35:22 -0700 2012  Thu Nov 01 00:00:00 -0700 2012        0   \n",
       "4  Sat Mar 30 00:00:00 -0700 2013  Fri Mar 29 00:00:00 -0700 2013        0   \n",
       "\n",
       "   n_comments  \n",
       "0           0  \n",
       "1           0  \n",
       "2           0  \n",
       "3           0  \n",
       "4           0  "
      ]
     },
     "execution_count": 5,
     "metadata": {},
     "output_type": "execute_result"
    }
   ],
   "source": [
    "test_data.head()"
   ]
  },
  {
   "cell_type": "code",
   "execution_count": 6,
   "id": "ebcd9caf",
   "metadata": {
    "execution": {
     "iopub.execute_input": "2023-03-12T14:21:42.169802Z",
     "iopub.status.busy": "2023-03-12T14:21:42.169008Z",
     "iopub.status.idle": "2023-03-12T14:21:42.176293Z",
     "shell.execute_reply": "2023-03-12T14:21:42.175153Z"
    },
    "papermill": {
     "duration": 0.026078,
     "end_time": "2023-03-12T14:21:42.178858",
     "exception": false,
     "start_time": "2023-03-12T14:21:42.152780",
     "status": "completed"
    },
    "tags": []
   },
   "outputs": [
    {
     "data": {
      "text/plain": [
       "(900000, 11)"
      ]
     },
     "execution_count": 6,
     "metadata": {},
     "output_type": "execute_result"
    }
   ],
   "source": [
    "train.shape"
   ]
  },
  {
   "cell_type": "code",
   "execution_count": 7,
   "id": "6da811f4",
   "metadata": {
    "execution": {
     "iopub.execute_input": "2023-03-12T14:21:42.208649Z",
     "iopub.status.busy": "2023-03-12T14:21:42.207888Z",
     "iopub.status.idle": "2023-03-12T14:21:42.214919Z",
     "shell.execute_reply": "2023-03-12T14:21:42.213818Z"
    },
    "papermill": {
     "duration": 0.024798,
     "end_time": "2023-03-12T14:21:42.217489",
     "exception": false,
     "start_time": "2023-03-12T14:21:42.192691",
     "status": "completed"
    },
    "tags": []
   },
   "outputs": [
    {
     "data": {
      "text/plain": [
       "(478033, 10)"
      ]
     },
     "execution_count": 7,
     "metadata": {},
     "output_type": "execute_result"
    }
   ],
   "source": [
    "test_data.shape"
   ]
  },
  {
   "cell_type": "code",
   "execution_count": 8,
   "id": "cc262ef4",
   "metadata": {
    "execution": {
     "iopub.execute_input": "2023-03-12T14:21:42.247386Z",
     "iopub.status.busy": "2023-03-12T14:21:42.246507Z",
     "iopub.status.idle": "2023-03-12T14:21:42.298132Z",
     "shell.execute_reply": "2023-03-12T14:21:42.296961Z"
    },
    "papermill": {
     "duration": 0.069396,
     "end_time": "2023-03-12T14:21:42.300690",
     "exception": false,
     "start_time": "2023-03-12T14:21:42.231294",
     "status": "completed"
    },
    "tags": []
   },
   "outputs": [
    {
     "data": {
      "text/html": [
       "<div>\n",
       "<style scoped>\n",
       "    .dataframe tbody tr th:only-of-type {\n",
       "        vertical-align: middle;\n",
       "    }\n",
       "\n",
       "    .dataframe tbody tr th {\n",
       "        vertical-align: top;\n",
       "    }\n",
       "\n",
       "    .dataframe thead th {\n",
       "        text-align: right;\n",
       "    }\n",
       "</style>\n",
       "<table border=\"1\" class=\"dataframe\">\n",
       "  <thead>\n",
       "    <tr style=\"text-align: right;\">\n",
       "      <th></th>\n",
       "      <th>user_id</th>\n",
       "      <th>book_id</th>\n",
       "      <th>review_id</th>\n",
       "      <th>rating</th>\n",
       "      <th>review_text</th>\n",
       "      <th>date_added</th>\n",
       "      <th>date_updated</th>\n",
       "      <th>read_at</th>\n",
       "      <th>started_at</th>\n",
       "      <th>n_votes</th>\n",
       "      <th>n_comments</th>\n",
       "    </tr>\n",
       "  </thead>\n",
       "  <tbody>\n",
       "    <tr>\n",
       "      <th>482596</th>\n",
       "      <td>c5ee4fcdaa1b91b9c26f85bc2fab254b</td>\n",
       "      <td>15451058</td>\n",
       "      <td>15cde2fdc2c6ef0fad231f627277dd5d</td>\n",
       "      <td>4</td>\n",
       "      <td>IQ \"No wonder oral history turns out to be mor...</td>\n",
       "      <td>Sun Jul 09 18:29:38 -0700 2017</td>\n",
       "      <td>Sun Jul 09 20:04:10 -0700 2017</td>\n",
       "      <td>Mon Jul 03 00:00:00 -0700 2017</td>\n",
       "      <td>NaN</td>\n",
       "      <td>0</td>\n",
       "      <td>0</td>\n",
       "    </tr>\n",
       "    <tr>\n",
       "      <th>225705</th>\n",
       "      <td>bc21c582b7ab4615709d4d338692aa55</td>\n",
       "      <td>10959277</td>\n",
       "      <td>bb1b75db26bfde6d657755a880bbea23</td>\n",
       "      <td>2</td>\n",
       "      <td>I enjoyed it but it was a bit predictable</td>\n",
       "      <td>Tue Jan 01 13:42:38 -0800 2013</td>\n",
       "      <td>Tue Jan 01 13:42:56 -0800 2013</td>\n",
       "      <td>NaN</td>\n",
       "      <td>NaN</td>\n",
       "      <td>0</td>\n",
       "      <td>0</td>\n",
       "    </tr>\n",
       "    <tr>\n",
       "      <th>206529</th>\n",
       "      <td>e988c0db08608d6b07fa0942acc69f02</td>\n",
       "      <td>25334922</td>\n",
       "      <td>92813fd9b50524117ed5db91c8126b2a</td>\n",
       "      <td>4</td>\n",
       "      <td>TW: sexual abuse, physical abuse, emotional ab...</td>\n",
       "      <td>Sun Dec 04 03:47:09 -0800 2016</td>\n",
       "      <td>Mon Oct 02 14:36:49 -0700 2017</td>\n",
       "      <td>Wed Jun 14 16:11:33 -0700 2017</td>\n",
       "      <td>Thu Jun 01 13:08:29 -0700 2017</td>\n",
       "      <td>13</td>\n",
       "      <td>2</td>\n",
       "    </tr>\n",
       "    <tr>\n",
       "      <th>367151</th>\n",
       "      <td>d2d4f3bd677bb6780ce937c77ddfceb7</td>\n",
       "      <td>827412</td>\n",
       "      <td>80a9ae0918f5c7c2b4711bd8cbaf39fb</td>\n",
       "      <td>3</td>\n",
       "      <td>I've been enjoying this series so far, it's no...</td>\n",
       "      <td>Tue Jan 12 13:25:44 -0800 2010</td>\n",
       "      <td>Sat Mar 06 04:50:45 -0800 2010</td>\n",
       "      <td>Sat Mar 06 00:00:00 -0800 2010</td>\n",
       "      <td>Fri Mar 05 00:00:00 -0800 2010</td>\n",
       "      <td>0</td>\n",
       "      <td>0</td>\n",
       "    </tr>\n",
       "    <tr>\n",
       "      <th>346559</th>\n",
       "      <td>8f449db8ab08a61ca51ae8c85804c106</td>\n",
       "      <td>18006496</td>\n",
       "      <td>5a7e97de79e777da1e0a40118b469303</td>\n",
       "      <td>4</td>\n",
       "      <td>4.5 \\n Oh, I loved this and I can't wait for t...</td>\n",
       "      <td>Sun Feb 21 06:17:58 -0800 2016</td>\n",
       "      <td>Tue Feb 23 12:48:42 -0800 2016</td>\n",
       "      <td>Tue Feb 23 12:48:42 -0800 2016</td>\n",
       "      <td>Sun Feb 21 00:00:00 -0800 2016</td>\n",
       "      <td>0</td>\n",
       "      <td>0</td>\n",
       "    </tr>\n",
       "  </tbody>\n",
       "</table>\n",
       "</div>"
      ],
      "text/plain": [
       "                                 user_id   book_id  \\\n",
       "482596  c5ee4fcdaa1b91b9c26f85bc2fab254b  15451058   \n",
       "225705  bc21c582b7ab4615709d4d338692aa55  10959277   \n",
       "206529  e988c0db08608d6b07fa0942acc69f02  25334922   \n",
       "367151  d2d4f3bd677bb6780ce937c77ddfceb7    827412   \n",
       "346559  8f449db8ab08a61ca51ae8c85804c106  18006496   \n",
       "\n",
       "                               review_id  rating  \\\n",
       "482596  15cde2fdc2c6ef0fad231f627277dd5d       4   \n",
       "225705  bb1b75db26bfde6d657755a880bbea23       2   \n",
       "206529  92813fd9b50524117ed5db91c8126b2a       4   \n",
       "367151  80a9ae0918f5c7c2b4711bd8cbaf39fb       3   \n",
       "346559  5a7e97de79e777da1e0a40118b469303       4   \n",
       "\n",
       "                                              review_text  \\\n",
       "482596  IQ \"No wonder oral history turns out to be mor...   \n",
       "225705          I enjoyed it but it was a bit predictable   \n",
       "206529  TW: sexual abuse, physical abuse, emotional ab...   \n",
       "367151  I've been enjoying this series so far, it's no...   \n",
       "346559  4.5 \\n Oh, I loved this and I can't wait for t...   \n",
       "\n",
       "                            date_added                    date_updated  \\\n",
       "482596  Sun Jul 09 18:29:38 -0700 2017  Sun Jul 09 20:04:10 -0700 2017   \n",
       "225705  Tue Jan 01 13:42:38 -0800 2013  Tue Jan 01 13:42:56 -0800 2013   \n",
       "206529  Sun Dec 04 03:47:09 -0800 2016  Mon Oct 02 14:36:49 -0700 2017   \n",
       "367151  Tue Jan 12 13:25:44 -0800 2010  Sat Mar 06 04:50:45 -0800 2010   \n",
       "346559  Sun Feb 21 06:17:58 -0800 2016  Tue Feb 23 12:48:42 -0800 2016   \n",
       "\n",
       "                               read_at                      started_at  \\\n",
       "482596  Mon Jul 03 00:00:00 -0700 2017                             NaN   \n",
       "225705                             NaN                             NaN   \n",
       "206529  Wed Jun 14 16:11:33 -0700 2017  Thu Jun 01 13:08:29 -0700 2017   \n",
       "367151  Sat Mar 06 00:00:00 -0800 2010  Fri Mar 05 00:00:00 -0800 2010   \n",
       "346559  Tue Feb 23 12:48:42 -0800 2016  Sun Feb 21 00:00:00 -0800 2016   \n",
       "\n",
       "        n_votes  n_comments  \n",
       "482596        0           0  \n",
       "225705        0           0  \n",
       "206529       13           2  \n",
       "367151        0           0  \n",
       "346559        0           0  "
      ]
     },
     "execution_count": 8,
     "metadata": {},
     "output_type": "execute_result"
    }
   ],
   "source": [
    "train.sample(5)"
   ]
  },
  {
   "cell_type": "code",
   "execution_count": 9,
   "id": "486a3575",
   "metadata": {
    "execution": {
     "iopub.execute_input": "2023-03-12T14:21:42.330936Z",
     "iopub.status.busy": "2023-03-12T14:21:42.330511Z",
     "iopub.status.idle": "2023-03-12T14:21:42.777180Z",
     "shell.execute_reply": "2023-03-12T14:21:42.776173Z"
    },
    "papermill": {
     "duration": 0.464831,
     "end_time": "2023-03-12T14:21:42.779821",
     "exception": false,
     "start_time": "2023-03-12T14:21:42.314990",
     "status": "completed"
    },
    "tags": []
   },
   "outputs": [
    {
     "name": "stdout",
     "output_type": "stream",
     "text": [
      "<class 'pandas.core.frame.DataFrame'>\n",
      "RangeIndex: 900000 entries, 0 to 899999\n",
      "Data columns (total 11 columns):\n",
      " #   Column        Non-Null Count   Dtype \n",
      "---  ------        --------------   ----- \n",
      " 0   user_id       900000 non-null  object\n",
      " 1   book_id       900000 non-null  int64 \n",
      " 2   review_id     900000 non-null  object\n",
      " 3   rating        900000 non-null  int64 \n",
      " 4   review_text   900000 non-null  object\n",
      " 5   date_added    900000 non-null  object\n",
      " 6   date_updated  900000 non-null  object\n",
      " 7   read_at       808234 non-null  object\n",
      " 8   started_at    625703 non-null  object\n",
      " 9   n_votes       900000 non-null  int64 \n",
      " 10  n_comments    900000 non-null  int64 \n",
      "dtypes: int64(4), object(7)\n",
      "memory usage: 75.5+ MB\n"
     ]
    }
   ],
   "source": [
    "train.info()"
   ]
  },
  {
   "cell_type": "code",
   "execution_count": 10,
   "id": "0490f996",
   "metadata": {
    "execution": {
     "iopub.execute_input": "2023-03-12T14:21:42.810884Z",
     "iopub.status.busy": "2023-03-12T14:21:42.810259Z",
     "iopub.status.idle": "2023-03-12T14:21:43.033384Z",
     "shell.execute_reply": "2023-03-12T14:21:43.031729Z"
    },
    "papermill": {
     "duration": 0.242168,
     "end_time": "2023-03-12T14:21:43.036219",
     "exception": false,
     "start_time": "2023-03-12T14:21:42.794051",
     "status": "completed"
    },
    "tags": []
   },
   "outputs": [
    {
     "name": "stdout",
     "output_type": "stream",
     "text": [
      "<class 'pandas.core.frame.DataFrame'>\n",
      "RangeIndex: 478033 entries, 0 to 478032\n",
      "Data columns (total 10 columns):\n",
      " #   Column        Non-Null Count   Dtype \n",
      "---  ------        --------------   ----- \n",
      " 0   user_id       478033 non-null  object\n",
      " 1   book_id       478033 non-null  int64 \n",
      " 2   review_id     478033 non-null  object\n",
      " 3   review_text   478033 non-null  object\n",
      " 4   date_added    478033 non-null  object\n",
      " 5   date_updated  478033 non-null  object\n",
      " 6   read_at       435555 non-null  object\n",
      " 7   started_at    334989 non-null  object\n",
      " 8   n_votes       478033 non-null  int64 \n",
      " 9   n_comments    478033 non-null  int64 \n",
      "dtypes: int64(3), object(7)\n",
      "memory usage: 36.5+ MB\n"
     ]
    }
   ],
   "source": [
    "test_data.info()"
   ]
  },
  {
   "cell_type": "code",
   "execution_count": 11,
   "id": "94484796",
   "metadata": {
    "execution": {
     "iopub.execute_input": "2023-03-12T14:21:43.067928Z",
     "iopub.status.busy": "2023-03-12T14:21:43.066759Z",
     "iopub.status.idle": "2023-03-12T14:21:43.473870Z",
     "shell.execute_reply": "2023-03-12T14:21:43.472638Z"
    },
    "papermill": {
     "duration": 0.425525,
     "end_time": "2023-03-12T14:21:43.476445",
     "exception": false,
     "start_time": "2023-03-12T14:21:43.050920",
     "status": "completed"
    },
    "tags": []
   },
   "outputs": [
    {
     "data": {
      "text/plain": [
       "user_id          0.000000\n",
       "book_id          0.000000\n",
       "review_id        0.000000\n",
       "rating           0.000000\n",
       "review_text      0.000000\n",
       "date_added       0.000000\n",
       "date_updated     0.000000\n",
       "read_at         10.196222\n",
       "started_at      30.477444\n",
       "n_votes          0.000000\n",
       "n_comments       0.000000\n",
       "dtype: float64"
      ]
     },
     "execution_count": 11,
     "metadata": {},
     "output_type": "execute_result"
    }
   ],
   "source": [
    "train.isnull().mean()*100"
   ]
  },
  {
   "cell_type": "code",
   "execution_count": 12,
   "id": "4c0d4bd9",
   "metadata": {
    "execution": {
     "iopub.execute_input": "2023-03-12T14:21:43.508499Z",
     "iopub.status.busy": "2023-03-12T14:21:43.507505Z",
     "iopub.status.idle": "2023-03-12T14:21:43.726887Z",
     "shell.execute_reply": "2023-03-12T14:21:43.725927Z"
    },
    "papermill": {
     "duration": 0.238636,
     "end_time": "2023-03-12T14:21:43.729616",
     "exception": false,
     "start_time": "2023-03-12T14:21:43.490980",
     "status": "completed"
    },
    "tags": []
   },
   "outputs": [
    {
     "data": {
      "text/plain": [
       "user_id          0.000000\n",
       "book_id          0.000000\n",
       "review_id        0.000000\n",
       "review_text      0.000000\n",
       "date_added       0.000000\n",
       "date_updated     0.000000\n",
       "read_at          8.885997\n",
       "started_at      29.923457\n",
       "n_votes          0.000000\n",
       "n_comments       0.000000\n",
       "dtype: float64"
      ]
     },
     "execution_count": 12,
     "metadata": {},
     "output_type": "execute_result"
    }
   ],
   "source": [
    "test_data.isnull().mean()*100"
   ]
  },
  {
   "cell_type": "code",
   "execution_count": 13,
   "id": "8b38f53b",
   "metadata": {
    "execution": {
     "iopub.execute_input": "2023-03-12T14:21:43.761446Z",
     "iopub.status.busy": "2023-03-12T14:21:43.761022Z",
     "iopub.status.idle": "2023-03-12T14:21:48.097034Z",
     "shell.execute_reply": "2023-03-12T14:21:48.095812Z"
    },
    "papermill": {
     "duration": 4.355031,
     "end_time": "2023-03-12T14:21:48.099648",
     "exception": false,
     "start_time": "2023-03-12T14:21:43.744617",
     "status": "completed"
    },
    "tags": []
   },
   "outputs": [
    {
     "data": {
      "text/plain": [
       "0"
      ]
     },
     "execution_count": 13,
     "metadata": {},
     "output_type": "execute_result"
    }
   ],
   "source": [
    "train.duplicated().sum()"
   ]
  },
  {
   "cell_type": "code",
   "execution_count": 14,
   "id": "b06f13da",
   "metadata": {
    "execution": {
     "iopub.execute_input": "2023-03-12T14:21:48.130991Z",
     "iopub.status.busy": "2023-03-12T14:21:48.130166Z",
     "iopub.status.idle": "2023-03-12T14:21:50.330802Z",
     "shell.execute_reply": "2023-03-12T14:21:50.329501Z"
    },
    "papermill": {
     "duration": 2.21911,
     "end_time": "2023-03-12T14:21:50.333378",
     "exception": false,
     "start_time": "2023-03-12T14:21:48.114268",
     "status": "completed"
    },
    "tags": []
   },
   "outputs": [
    {
     "data": {
      "text/plain": [
       "0"
      ]
     },
     "execution_count": 14,
     "metadata": {},
     "output_type": "execute_result"
    }
   ],
   "source": [
    "test_data.duplicated().sum()"
   ]
  },
  {
   "cell_type": "markdown",
   "id": "ca9a2ea8",
   "metadata": {
    "papermill": {
     "duration": 0.014563,
     "end_time": "2023-03-12T14:21:50.362997",
     "exception": false,
     "start_time": "2023-03-12T14:21:50.348434",
     "status": "completed"
    },
    "tags": []
   },
   "source": [
    "# **Data Cleaning / Preprocessing**"
   ]
  },
  {
   "cell_type": "code",
   "execution_count": 15,
   "id": "6532b875",
   "metadata": {
    "execution": {
     "iopub.execute_input": "2023-03-12T14:21:50.395008Z",
     "iopub.status.busy": "2023-03-12T14:21:50.394612Z",
     "iopub.status.idle": "2023-03-12T14:21:50.410912Z",
     "shell.execute_reply": "2023-03-12T14:21:50.409634Z"
    },
    "papermill": {
     "duration": 0.035504,
     "end_time": "2023-03-12T14:21:50.413388",
     "exception": false,
     "start_time": "2023-03-12T14:21:50.377884",
     "status": "completed"
    },
    "tags": []
   },
   "outputs": [
    {
     "data": {
      "text/html": [
       "<div>\n",
       "<style scoped>\n",
       "    .dataframe tbody tr th:only-of-type {\n",
       "        vertical-align: middle;\n",
       "    }\n",
       "\n",
       "    .dataframe tbody tr th {\n",
       "        vertical-align: top;\n",
       "    }\n",
       "\n",
       "    .dataframe thead th {\n",
       "        text-align: right;\n",
       "    }\n",
       "</style>\n",
       "<table border=\"1\" class=\"dataframe\">\n",
       "  <thead>\n",
       "    <tr style=\"text-align: right;\">\n",
       "      <th></th>\n",
       "      <th>user_id</th>\n",
       "      <th>book_id</th>\n",
       "      <th>review_id</th>\n",
       "      <th>rating</th>\n",
       "      <th>review_text</th>\n",
       "      <th>date_added</th>\n",
       "      <th>date_updated</th>\n",
       "      <th>read_at</th>\n",
       "      <th>started_at</th>\n",
       "      <th>n_votes</th>\n",
       "      <th>n_comments</th>\n",
       "    </tr>\n",
       "  </thead>\n",
       "  <tbody>\n",
       "    <tr>\n",
       "      <th>0</th>\n",
       "      <td>8842281e1d1347389f2ab93d60773d4d</td>\n",
       "      <td>18245960</td>\n",
       "      <td>dfdbb7b0eb5a7e4c26d59a937e2e5feb</td>\n",
       "      <td>5</td>\n",
       "      <td>This is a special book. It started slow for ab...</td>\n",
       "      <td>Sun Jul 30 07:44:10 -0700 2017</td>\n",
       "      <td>Wed Aug 30 00:00:26 -0700 2017</td>\n",
       "      <td>Sat Aug 26 12:05:52 -0700 2017</td>\n",
       "      <td>Tue Aug 15 13:23:18 -0700 2017</td>\n",
       "      <td>28</td>\n",
       "      <td>1</td>\n",
       "    </tr>\n",
       "    <tr>\n",
       "      <th>1</th>\n",
       "      <td>8842281e1d1347389f2ab93d60773d4d</td>\n",
       "      <td>16981</td>\n",
       "      <td>a5d2c3628987712d0e05c4f90798eb67</td>\n",
       "      <td>3</td>\n",
       "      <td>Recommended by Don Katz. Avail for free in Dec...</td>\n",
       "      <td>Mon Dec 05 10:46:44 -0800 2016</td>\n",
       "      <td>Wed Mar 22 11:37:04 -0700 2017</td>\n",
       "      <td>NaN</td>\n",
       "      <td>NaN</td>\n",
       "      <td>1</td>\n",
       "      <td>0</td>\n",
       "    </tr>\n",
       "    <tr>\n",
       "      <th>2</th>\n",
       "      <td>8842281e1d1347389f2ab93d60773d4d</td>\n",
       "      <td>28684704</td>\n",
       "      <td>2ede853b14dc4583f96cf5d120af636f</td>\n",
       "      <td>3</td>\n",
       "      <td>A fun, fast paced science fiction thriller. I ...</td>\n",
       "      <td>Tue Nov 15 11:29:22 -0800 2016</td>\n",
       "      <td>Mon Mar 20 23:40:27 -0700 2017</td>\n",
       "      <td>Sat Mar 18 23:22:42 -0700 2017</td>\n",
       "      <td>Fri Mar 17 23:45:40 -0700 2017</td>\n",
       "      <td>22</td>\n",
       "      <td>0</td>\n",
       "    </tr>\n",
       "    <tr>\n",
       "      <th>3</th>\n",
       "      <td>8842281e1d1347389f2ab93d60773d4d</td>\n",
       "      <td>27161156</td>\n",
       "      <td>ced5675e55cd9d38a524743f5c40996e</td>\n",
       "      <td>0</td>\n",
       "      <td>Recommended reading to understand what is goin...</td>\n",
       "      <td>Wed Nov 09 17:37:04 -0800 2016</td>\n",
       "      <td>Wed Nov 09 17:38:20 -0800 2016</td>\n",
       "      <td>NaN</td>\n",
       "      <td>NaN</td>\n",
       "      <td>5</td>\n",
       "      <td>1</td>\n",
       "    </tr>\n",
       "    <tr>\n",
       "      <th>4</th>\n",
       "      <td>8842281e1d1347389f2ab93d60773d4d</td>\n",
       "      <td>25884323</td>\n",
       "      <td>332732725863131279a8e345b63ac33e</td>\n",
       "      <td>4</td>\n",
       "      <td>I really enjoyed this book, and there is a lot...</td>\n",
       "      <td>Mon Apr 25 09:31:23 -0700 2016</td>\n",
       "      <td>Mon Apr 25 09:31:23 -0700 2016</td>\n",
       "      <td>Sun Jun 26 00:00:00 -0700 2016</td>\n",
       "      <td>Sat May 28 00:00:00 -0700 2016</td>\n",
       "      <td>9</td>\n",
       "      <td>1</td>\n",
       "    </tr>\n",
       "  </tbody>\n",
       "</table>\n",
       "</div>"
      ],
      "text/plain": [
       "                            user_id   book_id  \\\n",
       "0  8842281e1d1347389f2ab93d60773d4d  18245960   \n",
       "1  8842281e1d1347389f2ab93d60773d4d     16981   \n",
       "2  8842281e1d1347389f2ab93d60773d4d  28684704   \n",
       "3  8842281e1d1347389f2ab93d60773d4d  27161156   \n",
       "4  8842281e1d1347389f2ab93d60773d4d  25884323   \n",
       "\n",
       "                          review_id  rating  \\\n",
       "0  dfdbb7b0eb5a7e4c26d59a937e2e5feb       5   \n",
       "1  a5d2c3628987712d0e05c4f90798eb67       3   \n",
       "2  2ede853b14dc4583f96cf5d120af636f       3   \n",
       "3  ced5675e55cd9d38a524743f5c40996e       0   \n",
       "4  332732725863131279a8e345b63ac33e       4   \n",
       "\n",
       "                                         review_text  \\\n",
       "0  This is a special book. It started slow for ab...   \n",
       "1  Recommended by Don Katz. Avail for free in Dec...   \n",
       "2  A fun, fast paced science fiction thriller. I ...   \n",
       "3  Recommended reading to understand what is goin...   \n",
       "4  I really enjoyed this book, and there is a lot...   \n",
       "\n",
       "                       date_added                    date_updated  \\\n",
       "0  Sun Jul 30 07:44:10 -0700 2017  Wed Aug 30 00:00:26 -0700 2017   \n",
       "1  Mon Dec 05 10:46:44 -0800 2016  Wed Mar 22 11:37:04 -0700 2017   \n",
       "2  Tue Nov 15 11:29:22 -0800 2016  Mon Mar 20 23:40:27 -0700 2017   \n",
       "3  Wed Nov 09 17:37:04 -0800 2016  Wed Nov 09 17:38:20 -0800 2016   \n",
       "4  Mon Apr 25 09:31:23 -0700 2016  Mon Apr 25 09:31:23 -0700 2016   \n",
       "\n",
       "                          read_at                      started_at  n_votes  \\\n",
       "0  Sat Aug 26 12:05:52 -0700 2017  Tue Aug 15 13:23:18 -0700 2017       28   \n",
       "1                             NaN                             NaN        1   \n",
       "2  Sat Mar 18 23:22:42 -0700 2017  Fri Mar 17 23:45:40 -0700 2017       22   \n",
       "3                             NaN                             NaN        5   \n",
       "4  Sun Jun 26 00:00:00 -0700 2016  Sat May 28 00:00:00 -0700 2016        9   \n",
       "\n",
       "   n_comments  \n",
       "0           1  \n",
       "1           0  \n",
       "2           0  \n",
       "3           1  \n",
       "4           1  "
      ]
     },
     "execution_count": 15,
     "metadata": {},
     "output_type": "execute_result"
    }
   ],
   "source": [
    "train.head()"
   ]
  },
  {
   "cell_type": "code",
   "execution_count": 16,
   "id": "925ff69e",
   "metadata": {
    "execution": {
     "iopub.execute_input": "2023-03-12T14:21:50.445882Z",
     "iopub.status.busy": "2023-03-12T14:21:50.445184Z",
     "iopub.status.idle": "2023-03-12T14:21:50.475744Z",
     "shell.execute_reply": "2023-03-12T14:21:50.474633Z"
    },
    "papermill": {
     "duration": 0.049833,
     "end_time": "2023-03-12T14:21:50.478492",
     "exception": false,
     "start_time": "2023-03-12T14:21:50.428659",
     "status": "completed"
    },
    "tags": []
   },
   "outputs": [],
   "source": [
    "train = train[[\"review_text\", \"rating\"]].iloc[:20000,:]\n",
    "test = train[[\"review_text\"]]"
   ]
  },
  {
   "cell_type": "code",
   "execution_count": 17,
   "id": "f13ce0b0",
   "metadata": {
    "execution": {
     "iopub.execute_input": "2023-03-12T14:21:50.510919Z",
     "iopub.status.busy": "2023-03-12T14:21:50.510500Z",
     "iopub.status.idle": "2023-03-12T14:21:50.517766Z",
     "shell.execute_reply": "2023-03-12T14:21:50.516638Z"
    },
    "papermill": {
     "duration": 0.026375,
     "end_time": "2023-03-12T14:21:50.520138",
     "exception": false,
     "start_time": "2023-03-12T14:21:50.493763",
     "status": "completed"
    },
    "tags": []
   },
   "outputs": [
    {
     "data": {
      "text/plain": [
       "(20000, 2)"
      ]
     },
     "execution_count": 17,
     "metadata": {},
     "output_type": "execute_result"
    }
   ],
   "source": [
    "train.shape"
   ]
  },
  {
   "cell_type": "code",
   "execution_count": 18,
   "id": "64e32b12",
   "metadata": {
    "execution": {
     "iopub.execute_input": "2023-03-12T14:21:50.552489Z",
     "iopub.status.busy": "2023-03-12T14:21:50.552097Z",
     "iopub.status.idle": "2023-03-12T14:21:50.562791Z",
     "shell.execute_reply": "2023-03-12T14:21:50.561508Z"
    },
    "papermill": {
     "duration": 0.029799,
     "end_time": "2023-03-12T14:21:50.565133",
     "exception": false,
     "start_time": "2023-03-12T14:21:50.535334",
     "status": "completed"
    },
    "tags": []
   },
   "outputs": [
    {
     "data": {
      "text/html": [
       "<div>\n",
       "<style scoped>\n",
       "    .dataframe tbody tr th:only-of-type {\n",
       "        vertical-align: middle;\n",
       "    }\n",
       "\n",
       "    .dataframe tbody tr th {\n",
       "        vertical-align: top;\n",
       "    }\n",
       "\n",
       "    .dataframe thead th {\n",
       "        text-align: right;\n",
       "    }\n",
       "</style>\n",
       "<table border=\"1\" class=\"dataframe\">\n",
       "  <thead>\n",
       "    <tr style=\"text-align: right;\">\n",
       "      <th></th>\n",
       "      <th>review_text</th>\n",
       "      <th>rating</th>\n",
       "    </tr>\n",
       "  </thead>\n",
       "  <tbody>\n",
       "    <tr>\n",
       "      <th>0</th>\n",
       "      <td>This is a special book. It started slow for ab...</td>\n",
       "      <td>5</td>\n",
       "    </tr>\n",
       "    <tr>\n",
       "      <th>1</th>\n",
       "      <td>Recommended by Don Katz. Avail for free in Dec...</td>\n",
       "      <td>3</td>\n",
       "    </tr>\n",
       "    <tr>\n",
       "      <th>2</th>\n",
       "      <td>A fun, fast paced science fiction thriller. I ...</td>\n",
       "      <td>3</td>\n",
       "    </tr>\n",
       "    <tr>\n",
       "      <th>3</th>\n",
       "      <td>Recommended reading to understand what is goin...</td>\n",
       "      <td>0</td>\n",
       "    </tr>\n",
       "    <tr>\n",
       "      <th>4</th>\n",
       "      <td>I really enjoyed this book, and there is a lot...</td>\n",
       "      <td>4</td>\n",
       "    </tr>\n",
       "  </tbody>\n",
       "</table>\n",
       "</div>"
      ],
      "text/plain": [
       "                                         review_text  rating\n",
       "0  This is a special book. It started slow for ab...       5\n",
       "1  Recommended by Don Katz. Avail for free in Dec...       3\n",
       "2  A fun, fast paced science fiction thriller. I ...       3\n",
       "3  Recommended reading to understand what is goin...       0\n",
       "4  I really enjoyed this book, and there is a lot...       4"
      ]
     },
     "execution_count": 18,
     "metadata": {},
     "output_type": "execute_result"
    }
   ],
   "source": [
    "train.head()"
   ]
  },
  {
   "cell_type": "code",
   "execution_count": 19,
   "id": "4da81565",
   "metadata": {
    "execution": {
     "iopub.execute_input": "2023-03-12T14:21:50.597841Z",
     "iopub.status.busy": "2023-03-12T14:21:50.597418Z",
     "iopub.status.idle": "2023-03-12T14:21:50.604924Z",
     "shell.execute_reply": "2023-03-12T14:21:50.603639Z"
    },
    "papermill": {
     "duration": 0.02654,
     "end_time": "2023-03-12T14:21:50.607175",
     "exception": false,
     "start_time": "2023-03-12T14:21:50.580635",
     "status": "completed"
    },
    "tags": []
   },
   "outputs": [
    {
     "data": {
      "text/plain": [
       "'This is a special book. It started slow for about the first third, then in the middle third it started to get interesting, then the last third blew my mind. This is what I love about good science fiction - it pushes your thinking about where things can go. \\n It is a 2015 Hugo winner, and translated from its original Chinese, which made it interesting in just a different way from most things I\\'ve read. For instance the intermixing of Chinese revolutionary history - how they kept accusing people of being \"reactionaries\", etc. \\n It is a book about science, and aliens. The science described in the book is impressive - its a book grounded in physics and pretty accurate as far as I could tell. (view spoiler)[Though when it got to folding protons into 8 dimensions I think he was just making stuff up - interesting to think about though. \\n But what would happen if our SETI stations received a message - if we found someone was out there - and the person monitoring and answering the signal on our side was disillusioned? That part of the book was a bit dark - I would like to think human reaction to discovering alien civilization that is hostile would be more like Enders Game where we would band together. \\n I did like how the book unveiled the Trisolaran culture through the game. It was a smart way to build empathy with them and also understand what they\\'ve gone through across so many centuries. And who know a 3 body problem was an unsolvable math problem? But I still don\\'t get who made the game - maybe that will come in the next book. \\n I loved this quote: \\n \"In the long history of scientific progress, how many protons have been smashed apart in accelerators by physicists? How many neutrons and electrons? Probably no fewer than a hundred million. Every collision was probably the end of the civilizations and intelligences in a microcosmos. In fact, even in nature, the destruction of universes must be happening at every second--for example, through the decay of neutrons. Also, a high-energy cosmic ray entering the atmosphere may destroy thousands of such miniature universes....\" \\n (hide spoiler)]'"
      ]
     },
     "execution_count": 19,
     "metadata": {},
     "output_type": "execute_result"
    }
   ],
   "source": [
    "train[\"review_text\"][0]"
   ]
  },
  {
   "cell_type": "code",
   "execution_count": 20,
   "id": "948d4dfc",
   "metadata": {
    "execution": {
     "iopub.execute_input": "2023-03-12T14:21:50.639941Z",
     "iopub.status.busy": "2023-03-12T14:21:50.639503Z",
     "iopub.status.idle": "2023-03-12T14:21:50.648087Z",
     "shell.execute_reply": "2023-03-12T14:21:50.647142Z"
    },
    "papermill": {
     "duration": 0.027566,
     "end_time": "2023-03-12T14:21:50.650301",
     "exception": false,
     "start_time": "2023-03-12T14:21:50.622735",
     "status": "completed"
    },
    "tags": []
   },
   "outputs": [
    {
     "data": {
      "text/plain": [
       "4    7204\n",
       "5    6294\n",
       "3    4204\n",
       "2    1366\n",
       "1     509\n",
       "0     423\n",
       "Name: rating, dtype: int64"
      ]
     },
     "execution_count": 20,
     "metadata": {},
     "output_type": "execute_result"
    }
   ],
   "source": [
    "train[\"rating\"].value_counts()"
   ]
  },
  {
   "cell_type": "code",
   "execution_count": 21,
   "id": "067b9668",
   "metadata": {
    "execution": {
     "iopub.execute_input": "2023-03-12T14:21:50.683491Z",
     "iopub.status.busy": "2023-03-12T14:21:50.683073Z",
     "iopub.status.idle": "2023-03-12T14:21:50.689984Z",
     "shell.execute_reply": "2023-03-12T14:21:50.688714Z"
    },
    "papermill": {
     "duration": 0.026749,
     "end_time": "2023-03-12T14:21:50.692834",
     "exception": false,
     "start_time": "2023-03-12T14:21:50.666085",
     "status": "completed"
    },
    "tags": []
   },
   "outputs": [],
   "source": [
    "#REMOVING LINKS, PUNCTUATIONS and CREATING TOKENS(TOKENISATION)\n",
    "\n",
    "def preprocessing1(text):\n",
    "    te = re.sub(r'http\\S+', \"\", text)\n",
    "    tokens = word_tokenize(te)\n",
    "    \n",
    "    punctuations = string.punctuation\n",
    "    txt = []\n",
    "    for i in tokens:\n",
    "        if i not in punctuations:\n",
    "            txt.append(i)\n",
    "    return txt"
   ]
  },
  {
   "cell_type": "code",
   "execution_count": 22,
   "id": "5a90f848",
   "metadata": {
    "execution": {
     "iopub.execute_input": "2023-03-12T14:21:50.726131Z",
     "iopub.status.busy": "2023-03-12T14:21:50.725745Z",
     "iopub.status.idle": "2023-03-12T14:22:23.523731Z",
     "shell.execute_reply": "2023-03-12T14:22:23.522487Z"
    },
    "papermill": {
     "duration": 32.818302,
     "end_time": "2023-03-12T14:22:23.526828",
     "exception": false,
     "start_time": "2023-03-12T14:21:50.708526",
     "status": "completed"
    },
    "tags": []
   },
   "outputs": [],
   "source": [
    "train[\"review_text\"] = train[\"review_text\"].apply(preprocessing1)"
   ]
  },
  {
   "cell_type": "code",
   "execution_count": 23,
   "id": "3d2d312e",
   "metadata": {
    "execution": {
     "iopub.execute_input": "2023-03-12T14:22:23.560473Z",
     "iopub.status.busy": "2023-03-12T14:22:23.560004Z",
     "iopub.status.idle": "2023-03-12T14:22:23.573616Z",
     "shell.execute_reply": "2023-03-12T14:22:23.572414Z"
    },
    "papermill": {
     "duration": 0.033327,
     "end_time": "2023-03-12T14:22:23.576257",
     "exception": false,
     "start_time": "2023-03-12T14:22:23.542930",
     "status": "completed"
    },
    "tags": []
   },
   "outputs": [
    {
     "data": {
      "text/plain": [
       "['This',\n",
       " 'is',\n",
       " 'a',\n",
       " 'special',\n",
       " 'book',\n",
       " 'It',\n",
       " 'started',\n",
       " 'slow',\n",
       " 'for',\n",
       " 'about',\n",
       " 'the',\n",
       " 'first',\n",
       " 'third',\n",
       " 'then',\n",
       " 'in',\n",
       " 'the',\n",
       " 'middle',\n",
       " 'third',\n",
       " 'it',\n",
       " 'started',\n",
       " 'to',\n",
       " 'get',\n",
       " 'interesting',\n",
       " 'then',\n",
       " 'the',\n",
       " 'last',\n",
       " 'third',\n",
       " 'blew',\n",
       " 'my',\n",
       " 'mind',\n",
       " 'This',\n",
       " 'is',\n",
       " 'what',\n",
       " 'I',\n",
       " 'love',\n",
       " 'about',\n",
       " 'good',\n",
       " 'science',\n",
       " 'fiction',\n",
       " 'it',\n",
       " 'pushes',\n",
       " 'your',\n",
       " 'thinking',\n",
       " 'about',\n",
       " 'where',\n",
       " 'things',\n",
       " 'can',\n",
       " 'go',\n",
       " 'It',\n",
       " 'is',\n",
       " 'a',\n",
       " '2015',\n",
       " 'Hugo',\n",
       " 'winner',\n",
       " 'and',\n",
       " 'translated',\n",
       " 'from',\n",
       " 'its',\n",
       " 'original',\n",
       " 'Chinese',\n",
       " 'which',\n",
       " 'made',\n",
       " 'it',\n",
       " 'interesting',\n",
       " 'in',\n",
       " 'just',\n",
       " 'a',\n",
       " 'different',\n",
       " 'way',\n",
       " 'from',\n",
       " 'most',\n",
       " 'things',\n",
       " 'I',\n",
       " \"'ve\",\n",
       " 'read',\n",
       " 'For',\n",
       " 'instance',\n",
       " 'the',\n",
       " 'intermixing',\n",
       " 'of',\n",
       " 'Chinese',\n",
       " 'revolutionary',\n",
       " 'history',\n",
       " 'how',\n",
       " 'they',\n",
       " 'kept',\n",
       " 'accusing',\n",
       " 'people',\n",
       " 'of',\n",
       " 'being',\n",
       " '``',\n",
       " 'reactionaries',\n",
       " \"''\",\n",
       " 'etc',\n",
       " 'It',\n",
       " 'is',\n",
       " 'a',\n",
       " 'book',\n",
       " 'about',\n",
       " 'science',\n",
       " 'and',\n",
       " 'aliens',\n",
       " 'The',\n",
       " 'science',\n",
       " 'described',\n",
       " 'in',\n",
       " 'the',\n",
       " 'book',\n",
       " 'is',\n",
       " 'impressive',\n",
       " 'its',\n",
       " 'a',\n",
       " 'book',\n",
       " 'grounded',\n",
       " 'in',\n",
       " 'physics',\n",
       " 'and',\n",
       " 'pretty',\n",
       " 'accurate',\n",
       " 'as',\n",
       " 'far',\n",
       " 'as',\n",
       " 'I',\n",
       " 'could',\n",
       " 'tell',\n",
       " 'view',\n",
       " 'spoiler',\n",
       " 'Though',\n",
       " 'when',\n",
       " 'it',\n",
       " 'got',\n",
       " 'to',\n",
       " 'folding',\n",
       " 'protons',\n",
       " 'into',\n",
       " '8',\n",
       " 'dimensions',\n",
       " 'I',\n",
       " 'think',\n",
       " 'he',\n",
       " 'was',\n",
       " 'just',\n",
       " 'making',\n",
       " 'stuff',\n",
       " 'up',\n",
       " 'interesting',\n",
       " 'to',\n",
       " 'think',\n",
       " 'about',\n",
       " 'though',\n",
       " 'But',\n",
       " 'what',\n",
       " 'would',\n",
       " 'happen',\n",
       " 'if',\n",
       " 'our',\n",
       " 'SETI',\n",
       " 'stations',\n",
       " 'received',\n",
       " 'a',\n",
       " 'message',\n",
       " 'if',\n",
       " 'we',\n",
       " 'found',\n",
       " 'someone',\n",
       " 'was',\n",
       " 'out',\n",
       " 'there',\n",
       " 'and',\n",
       " 'the',\n",
       " 'person',\n",
       " 'monitoring',\n",
       " 'and',\n",
       " 'answering',\n",
       " 'the',\n",
       " 'signal',\n",
       " 'on',\n",
       " 'our',\n",
       " 'side',\n",
       " 'was',\n",
       " 'disillusioned',\n",
       " 'That',\n",
       " 'part',\n",
       " 'of',\n",
       " 'the',\n",
       " 'book',\n",
       " 'was',\n",
       " 'a',\n",
       " 'bit',\n",
       " 'dark',\n",
       " 'I',\n",
       " 'would',\n",
       " 'like',\n",
       " 'to',\n",
       " 'think',\n",
       " 'human',\n",
       " 'reaction',\n",
       " 'to',\n",
       " 'discovering',\n",
       " 'alien',\n",
       " 'civilization',\n",
       " 'that',\n",
       " 'is',\n",
       " 'hostile',\n",
       " 'would',\n",
       " 'be',\n",
       " 'more',\n",
       " 'like',\n",
       " 'Enders',\n",
       " 'Game',\n",
       " 'where',\n",
       " 'we',\n",
       " 'would',\n",
       " 'band',\n",
       " 'together',\n",
       " 'I',\n",
       " 'did',\n",
       " 'like',\n",
       " 'how',\n",
       " 'the',\n",
       " 'book',\n",
       " 'unveiled',\n",
       " 'the',\n",
       " 'Trisolaran',\n",
       " 'culture',\n",
       " 'through',\n",
       " 'the',\n",
       " 'game',\n",
       " 'It',\n",
       " 'was',\n",
       " 'a',\n",
       " 'smart',\n",
       " 'way',\n",
       " 'to',\n",
       " 'build',\n",
       " 'empathy',\n",
       " 'with',\n",
       " 'them',\n",
       " 'and',\n",
       " 'also',\n",
       " 'understand',\n",
       " 'what',\n",
       " 'they',\n",
       " \"'ve\",\n",
       " 'gone',\n",
       " 'through',\n",
       " 'across',\n",
       " 'so',\n",
       " 'many',\n",
       " 'centuries',\n",
       " 'And',\n",
       " 'who',\n",
       " 'know',\n",
       " 'a',\n",
       " '3',\n",
       " 'body',\n",
       " 'problem',\n",
       " 'was',\n",
       " 'an',\n",
       " 'unsolvable',\n",
       " 'math',\n",
       " 'problem',\n",
       " 'But',\n",
       " 'I',\n",
       " 'still',\n",
       " 'do',\n",
       " \"n't\",\n",
       " 'get',\n",
       " 'who',\n",
       " 'made',\n",
       " 'the',\n",
       " 'game',\n",
       " 'maybe',\n",
       " 'that',\n",
       " 'will',\n",
       " 'come',\n",
       " 'in',\n",
       " 'the',\n",
       " 'next',\n",
       " 'book',\n",
       " 'I',\n",
       " 'loved',\n",
       " 'this',\n",
       " 'quote',\n",
       " '``',\n",
       " 'In',\n",
       " 'the',\n",
       " 'long',\n",
       " 'history',\n",
       " 'of',\n",
       " 'scientific',\n",
       " 'progress',\n",
       " 'how',\n",
       " 'many',\n",
       " 'protons',\n",
       " 'have',\n",
       " 'been',\n",
       " 'smashed',\n",
       " 'apart',\n",
       " 'in',\n",
       " 'accelerators',\n",
       " 'by',\n",
       " 'physicists',\n",
       " 'How',\n",
       " 'many',\n",
       " 'neutrons',\n",
       " 'and',\n",
       " 'electrons',\n",
       " 'Probably',\n",
       " 'no',\n",
       " 'fewer',\n",
       " 'than',\n",
       " 'a',\n",
       " 'hundred',\n",
       " 'million',\n",
       " 'Every',\n",
       " 'collision',\n",
       " 'was',\n",
       " 'probably',\n",
       " 'the',\n",
       " 'end',\n",
       " 'of',\n",
       " 'the',\n",
       " 'civilizations',\n",
       " 'and',\n",
       " 'intelligences',\n",
       " 'in',\n",
       " 'a',\n",
       " 'microcosmos',\n",
       " 'In',\n",
       " 'fact',\n",
       " 'even',\n",
       " 'in',\n",
       " 'nature',\n",
       " 'the',\n",
       " 'destruction',\n",
       " 'of',\n",
       " 'universes',\n",
       " 'must',\n",
       " 'be',\n",
       " 'happening',\n",
       " 'at',\n",
       " 'every',\n",
       " 'second',\n",
       " '--',\n",
       " 'for',\n",
       " 'example',\n",
       " 'through',\n",
       " 'the',\n",
       " 'decay',\n",
       " 'of',\n",
       " 'neutrons',\n",
       " 'Also',\n",
       " 'a',\n",
       " 'high-energy',\n",
       " 'cosmic',\n",
       " 'ray',\n",
       " 'entering',\n",
       " 'the',\n",
       " 'atmosphere',\n",
       " 'may',\n",
       " 'destroy',\n",
       " 'thousands',\n",
       " 'of',\n",
       " 'such',\n",
       " 'miniature',\n",
       " 'universes',\n",
       " '...',\n",
       " \"''\",\n",
       " 'hide',\n",
       " 'spoiler']"
      ]
     },
     "execution_count": 23,
     "metadata": {},
     "output_type": "execute_result"
    }
   ],
   "source": [
    "train[\"review_text\"][0]"
   ]
  },
  {
   "cell_type": "code",
   "execution_count": 24,
   "id": "3b634786",
   "metadata": {
    "execution": {
     "iopub.execute_input": "2023-03-12T14:22:23.611629Z",
     "iopub.status.busy": "2023-03-12T14:22:23.611170Z",
     "iopub.status.idle": "2023-03-12T14:22:23.617851Z",
     "shell.execute_reply": "2023-03-12T14:22:23.616525Z"
    },
    "papermill": {
     "duration": 0.027933,
     "end_time": "2023-03-12T14:22:23.620537",
     "exception": false,
     "start_time": "2023-03-12T14:22:23.592604",
     "status": "completed"
    },
    "tags": []
   },
   "outputs": [],
   "source": [
    "#REMOVING STOPWORDS & CONVERTING TO LOWERCASE\n",
    "\n",
    "def preprocessing2(text):\n",
    "    stopword = stopwords.words(\"english\")\n",
    "    ntxt = []\n",
    "    for j in text:\n",
    "        if j not in stopword:\n",
    "            ntxt.append(j.lower())\n",
    "    return ntxt"
   ]
  },
  {
   "cell_type": "code",
   "execution_count": 25,
   "id": "cd4e692e",
   "metadata": {
    "execution": {
     "iopub.execute_input": "2023-03-12T14:22:23.655467Z",
     "iopub.status.busy": "2023-03-12T14:22:23.654553Z",
     "iopub.status.idle": "2023-03-12T14:22:35.877983Z",
     "shell.execute_reply": "2023-03-12T14:22:35.876652Z"
    },
    "papermill": {
     "duration": 12.24388,
     "end_time": "2023-03-12T14:22:35.880843",
     "exception": false,
     "start_time": "2023-03-12T14:22:23.636963",
     "status": "completed"
    },
    "tags": []
   },
   "outputs": [],
   "source": [
    "train[\"review_text\"] = train[\"review_text\"].apply(preprocessing2)"
   ]
  },
  {
   "cell_type": "code",
   "execution_count": 26,
   "id": "fbf66acd",
   "metadata": {
    "execution": {
     "iopub.execute_input": "2023-03-12T14:22:35.915742Z",
     "iopub.status.busy": "2023-03-12T14:22:35.914506Z",
     "iopub.status.idle": "2023-03-12T14:22:35.926033Z",
     "shell.execute_reply": "2023-03-12T14:22:35.924409Z"
    },
    "papermill": {
     "duration": 0.031829,
     "end_time": "2023-03-12T14:22:35.928928",
     "exception": false,
     "start_time": "2023-03-12T14:22:35.897099",
     "status": "completed"
    },
    "tags": []
   },
   "outputs": [
    {
     "data": {
      "text/plain": [
       "['this',\n",
       " 'special',\n",
       " 'book',\n",
       " 'it',\n",
       " 'started',\n",
       " 'slow',\n",
       " 'first',\n",
       " 'third',\n",
       " 'middle',\n",
       " 'third',\n",
       " 'started',\n",
       " 'get',\n",
       " 'interesting',\n",
       " 'last',\n",
       " 'third',\n",
       " 'blew',\n",
       " 'mind',\n",
       " 'this',\n",
       " 'i',\n",
       " 'love',\n",
       " 'good',\n",
       " 'science',\n",
       " 'fiction',\n",
       " 'pushes',\n",
       " 'thinking',\n",
       " 'things',\n",
       " 'go',\n",
       " 'it',\n",
       " '2015',\n",
       " 'hugo',\n",
       " 'winner',\n",
       " 'translated',\n",
       " 'original',\n",
       " 'chinese',\n",
       " 'made',\n",
       " 'interesting',\n",
       " 'different',\n",
       " 'way',\n",
       " 'things',\n",
       " 'i',\n",
       " \"'ve\",\n",
       " 'read',\n",
       " 'for',\n",
       " 'instance',\n",
       " 'intermixing',\n",
       " 'chinese',\n",
       " 'revolutionary',\n",
       " 'history',\n",
       " 'kept',\n",
       " 'accusing',\n",
       " 'people',\n",
       " '``',\n",
       " 'reactionaries',\n",
       " \"''\",\n",
       " 'etc',\n",
       " 'it',\n",
       " 'book',\n",
       " 'science',\n",
       " 'aliens',\n",
       " 'the',\n",
       " 'science',\n",
       " 'described',\n",
       " 'book',\n",
       " 'impressive',\n",
       " 'book',\n",
       " 'grounded',\n",
       " 'physics',\n",
       " 'pretty',\n",
       " 'accurate',\n",
       " 'far',\n",
       " 'i',\n",
       " 'could',\n",
       " 'tell',\n",
       " 'view',\n",
       " 'spoiler',\n",
       " 'though',\n",
       " 'got',\n",
       " 'folding',\n",
       " 'protons',\n",
       " '8',\n",
       " 'dimensions',\n",
       " 'i',\n",
       " 'think',\n",
       " 'making',\n",
       " 'stuff',\n",
       " 'interesting',\n",
       " 'think',\n",
       " 'though',\n",
       " 'but',\n",
       " 'would',\n",
       " 'happen',\n",
       " 'seti',\n",
       " 'stations',\n",
       " 'received',\n",
       " 'message',\n",
       " 'found',\n",
       " 'someone',\n",
       " 'person',\n",
       " 'monitoring',\n",
       " 'answering',\n",
       " 'signal',\n",
       " 'side',\n",
       " 'disillusioned',\n",
       " 'that',\n",
       " 'part',\n",
       " 'book',\n",
       " 'bit',\n",
       " 'dark',\n",
       " 'i',\n",
       " 'would',\n",
       " 'like',\n",
       " 'think',\n",
       " 'human',\n",
       " 'reaction',\n",
       " 'discovering',\n",
       " 'alien',\n",
       " 'civilization',\n",
       " 'hostile',\n",
       " 'would',\n",
       " 'like',\n",
       " 'enders',\n",
       " 'game',\n",
       " 'would',\n",
       " 'band',\n",
       " 'together',\n",
       " 'i',\n",
       " 'like',\n",
       " 'book',\n",
       " 'unveiled',\n",
       " 'trisolaran',\n",
       " 'culture',\n",
       " 'game',\n",
       " 'it',\n",
       " 'smart',\n",
       " 'way',\n",
       " 'build',\n",
       " 'empathy',\n",
       " 'also',\n",
       " 'understand',\n",
       " \"'ve\",\n",
       " 'gone',\n",
       " 'across',\n",
       " 'many',\n",
       " 'centuries',\n",
       " 'and',\n",
       " 'know',\n",
       " '3',\n",
       " 'body',\n",
       " 'problem',\n",
       " 'unsolvable',\n",
       " 'math',\n",
       " 'problem',\n",
       " 'but',\n",
       " 'i',\n",
       " 'still',\n",
       " \"n't\",\n",
       " 'get',\n",
       " 'made',\n",
       " 'game',\n",
       " 'maybe',\n",
       " 'come',\n",
       " 'next',\n",
       " 'book',\n",
       " 'i',\n",
       " 'loved',\n",
       " 'quote',\n",
       " '``',\n",
       " 'in',\n",
       " 'long',\n",
       " 'history',\n",
       " 'scientific',\n",
       " 'progress',\n",
       " 'many',\n",
       " 'protons',\n",
       " 'smashed',\n",
       " 'apart',\n",
       " 'accelerators',\n",
       " 'physicists',\n",
       " 'how',\n",
       " 'many',\n",
       " 'neutrons',\n",
       " 'electrons',\n",
       " 'probably',\n",
       " 'fewer',\n",
       " 'hundred',\n",
       " 'million',\n",
       " 'every',\n",
       " 'collision',\n",
       " 'probably',\n",
       " 'end',\n",
       " 'civilizations',\n",
       " 'intelligences',\n",
       " 'microcosmos',\n",
       " 'in',\n",
       " 'fact',\n",
       " 'even',\n",
       " 'nature',\n",
       " 'destruction',\n",
       " 'universes',\n",
       " 'must',\n",
       " 'happening',\n",
       " 'every',\n",
       " 'second',\n",
       " '--',\n",
       " 'example',\n",
       " 'decay',\n",
       " 'neutrons',\n",
       " 'also',\n",
       " 'high-energy',\n",
       " 'cosmic',\n",
       " 'ray',\n",
       " 'entering',\n",
       " 'atmosphere',\n",
       " 'may',\n",
       " 'destroy',\n",
       " 'thousands',\n",
       " 'miniature',\n",
       " 'universes',\n",
       " '...',\n",
       " \"''\",\n",
       " 'hide',\n",
       " 'spoiler']"
      ]
     },
     "execution_count": 26,
     "metadata": {},
     "output_type": "execute_result"
    }
   ],
   "source": [
    "train[\"review_text\"][0]"
   ]
  },
  {
   "cell_type": "code",
   "execution_count": 27,
   "id": "9880dc68",
   "metadata": {
    "execution": {
     "iopub.execute_input": "2023-03-12T14:22:35.965647Z",
     "iopub.status.busy": "2023-03-12T14:22:35.964986Z",
     "iopub.status.idle": "2023-03-12T14:22:35.970220Z",
     "shell.execute_reply": "2023-03-12T14:22:35.969233Z"
    },
    "papermill": {
     "duration": 0.026016,
     "end_time": "2023-03-12T14:22:35.972388",
     "exception": false,
     "start_time": "2023-03-12T14:22:35.946372",
     "status": "completed"
    },
    "tags": []
   },
   "outputs": [],
   "source": [
    "#STEMMING\n",
    "\n",
    "def preprocessing3(text):\n",
    "    stem = []\n",
    "    Stemmer = PorterStemmer()\n",
    "    for i in text:\n",
    "        stem.append(Stemmer.stem(i))\n",
    "    return \" \".join(stem)"
   ]
  },
  {
   "cell_type": "code",
   "execution_count": 28,
   "id": "bee4c057",
   "metadata": {
    "execution": {
     "iopub.execute_input": "2023-03-12T14:22:36.007429Z",
     "iopub.status.busy": "2023-03-12T14:22:36.006788Z",
     "iopub.status.idle": "2023-03-12T14:23:29.090903Z",
     "shell.execute_reply": "2023-03-12T14:23:29.089652Z"
    },
    "papermill": {
     "duration": 53.105223,
     "end_time": "2023-03-12T14:23:29.093968",
     "exception": false,
     "start_time": "2023-03-12T14:22:35.988745",
     "status": "completed"
    },
    "tags": []
   },
   "outputs": [],
   "source": [
    "train[\"review_text\"] = train[\"review_text\"].apply(preprocessing3)"
   ]
  },
  {
   "cell_type": "code",
   "execution_count": 29,
   "id": "f3728063",
   "metadata": {
    "execution": {
     "iopub.execute_input": "2023-03-12T14:23:29.128946Z",
     "iopub.status.busy": "2023-03-12T14:23:29.128511Z",
     "iopub.status.idle": "2023-03-12T14:23:29.135787Z",
     "shell.execute_reply": "2023-03-12T14:23:29.134592Z"
    },
    "papermill": {
     "duration": 0.027678,
     "end_time": "2023-03-12T14:23:29.138157",
     "exception": false,
     "start_time": "2023-03-12T14:23:29.110479",
     "status": "completed"
    },
    "tags": []
   },
   "outputs": [
    {
     "data": {
      "text/plain": [
       "\"thi special book it start slow first third middl third start get interest last third blew mind thi i love good scienc fiction push think thing go it 2015 hugo winner translat origin chines made interest differ way thing i 've read for instanc intermix chines revolutionari histori kept accus peopl `` reactionari '' etc it book scienc alien the scienc describ book impress book ground physic pretti accur far i could tell view spoiler though got fold proton 8 dimens i think make stuff interest think though but would happen seti station receiv messag found someon person monitor answer signal side disillus that part book bit dark i would like think human reaction discov alien civil hostil would like ender game would band togeth i like book unveil trisolaran cultur game it smart way build empathi also understand 've gone across mani centuri and know 3 bodi problem unsolv math problem but i still n't get made game mayb come next book i love quot `` in long histori scientif progress mani proton smash apart acceler physicist how mani neutron electron probabl fewer hundr million everi collis probabl end civil intellig microcosmo in fact even natur destruct univers must happen everi second -- exampl decay neutron also high-energi cosmic ray enter atmospher may destroy thousand miniatur univers ... '' hide spoiler\""
      ]
     },
     "execution_count": 29,
     "metadata": {},
     "output_type": "execute_result"
    }
   ],
   "source": [
    "train[\"review_text\"][0]"
   ]
  },
  {
   "cell_type": "code",
   "execution_count": 30,
   "id": "f2cf25c0",
   "metadata": {
    "execution": {
     "iopub.execute_input": "2023-03-12T14:23:29.173107Z",
     "iopub.status.busy": "2023-03-12T14:23:29.172459Z",
     "iopub.status.idle": "2023-03-12T14:25:07.433646Z",
     "shell.execute_reply": "2023-03-12T14:25:07.430669Z"
    },
    "papermill": {
     "duration": 98.300367,
     "end_time": "2023-03-12T14:25:07.454904",
     "exception": false,
     "start_time": "2023-03-12T14:23:29.154537",
     "status": "completed"
    },
    "tags": []
   },
   "outputs": [
    {
     "name": "stderr",
     "output_type": "stream",
     "text": [
      "/opt/conda/lib/python3.7/site-packages/ipykernel_launcher.py:1: SettingWithCopyWarning: \n",
      "A value is trying to be set on a copy of a slice from a DataFrame.\n",
      "Try using .loc[row_indexer,col_indexer] = value instead\n",
      "\n",
      "See the caveats in the documentation: https://pandas.pydata.org/pandas-docs/stable/user_guide/indexing.html#returning-a-view-versus-a-copy\n",
      "  \"\"\"Entry point for launching an IPython kernel.\n",
      "/opt/conda/lib/python3.7/site-packages/ipykernel_launcher.py:2: SettingWithCopyWarning: \n",
      "A value is trying to be set on a copy of a slice from a DataFrame.\n",
      "Try using .loc[row_indexer,col_indexer] = value instead\n",
      "\n",
      "See the caveats in the documentation: https://pandas.pydata.org/pandas-docs/stable/user_guide/indexing.html#returning-a-view-versus-a-copy\n",
      "  \n",
      "/opt/conda/lib/python3.7/site-packages/ipykernel_launcher.py:3: SettingWithCopyWarning: \n",
      "A value is trying to be set on a copy of a slice from a DataFrame.\n",
      "Try using .loc[row_indexer,col_indexer] = value instead\n",
      "\n",
      "See the caveats in the documentation: https://pandas.pydata.org/pandas-docs/stable/user_guide/indexing.html#returning-a-view-versus-a-copy\n",
      "  This is separate from the ipykernel package so we can avoid doing imports until\n"
     ]
    }
   ],
   "source": [
    "test[\"review_text\"] = test[\"review_text\"].apply(preprocessing1)\n",
    "test[\"review_text\"] = test[\"review_text\"].apply(preprocessing2)\n",
    "test[\"review_text\"] = test[\"review_text\"].apply(preprocessing3)"
   ]
  },
  {
   "cell_type": "code",
   "execution_count": 31,
   "id": "cec9a0de",
   "metadata": {
    "execution": {
     "iopub.execute_input": "2023-03-12T14:25:07.492500Z",
     "iopub.status.busy": "2023-03-12T14:25:07.492014Z",
     "iopub.status.idle": "2023-03-12T14:25:07.501411Z",
     "shell.execute_reply": "2023-03-12T14:25:07.499905Z"
    },
    "papermill": {
     "duration": 0.031226,
     "end_time": "2023-03-12T14:25:07.504208",
     "exception": false,
     "start_time": "2023-03-12T14:25:07.472982",
     "status": "completed"
    },
    "tags": []
   },
   "outputs": [
    {
     "data": {
      "text/plain": [
       "\"thi special book it start slow first third middl third start get interest last third blew mind thi i love good scienc fiction push think thing go it 2015 hugo winner translat origin chines made interest differ way thing i 've read for instanc intermix chines revolutionari histori kept accus peopl `` reactionari '' etc it book scienc alien the scienc describ book impress book ground physic pretti accur far i could tell view spoiler though got fold proton 8 dimens i think make stuff interest think though but would happen seti station receiv messag found someon person monitor answer signal side disillus that part book bit dark i would like think human reaction discov alien civil hostil would like ender game would band togeth i like book unveil trisolaran cultur game it smart way build empathi also understand 've gone across mani centuri and know 3 bodi problem unsolv math problem but i still n't get made game mayb come next book i love quot `` in long histori scientif progress mani proton smash apart acceler physicist how mani neutron electron probabl fewer hundr million everi collis probabl end civil intellig microcosmo in fact even natur destruct univers must happen everi second -- exampl decay neutron also high-energi cosmic ray enter atmospher may destroy thousand miniatur univers ... '' hide spoiler\""
      ]
     },
     "execution_count": 31,
     "metadata": {},
     "output_type": "execute_result"
    }
   ],
   "source": [
    "test[\"review_text\"][0]"
   ]
  },
  {
   "cell_type": "code",
   "execution_count": 32,
   "id": "f61bc37e",
   "metadata": {
    "execution": {
     "iopub.execute_input": "2023-03-12T14:25:07.541755Z",
     "iopub.status.busy": "2023-03-12T14:25:07.541286Z",
     "iopub.status.idle": "2023-03-12T14:25:07.554639Z",
     "shell.execute_reply": "2023-03-12T14:25:07.553217Z"
    },
    "papermill": {
     "duration": 0.036247,
     "end_time": "2023-03-12T14:25:07.557639",
     "exception": false,
     "start_time": "2023-03-12T14:25:07.521392",
     "status": "completed"
    },
    "tags": []
   },
   "outputs": [
    {
     "data": {
      "text/html": [
       "<div>\n",
       "<style scoped>\n",
       "    .dataframe tbody tr th:only-of-type {\n",
       "        vertical-align: middle;\n",
       "    }\n",
       "\n",
       "    .dataframe tbody tr th {\n",
       "        vertical-align: top;\n",
       "    }\n",
       "\n",
       "    .dataframe thead th {\n",
       "        text-align: right;\n",
       "    }\n",
       "</style>\n",
       "<table border=\"1\" class=\"dataframe\">\n",
       "  <thead>\n",
       "    <tr style=\"text-align: right;\">\n",
       "      <th></th>\n",
       "      <th>review_text</th>\n",
       "      <th>rating</th>\n",
       "    </tr>\n",
       "  </thead>\n",
       "  <tbody>\n",
       "    <tr>\n",
       "      <th>0</th>\n",
       "      <td>thi special book it start slow first third mid...</td>\n",
       "      <td>5</td>\n",
       "    </tr>\n",
       "    <tr>\n",
       "      <th>1</th>\n",
       "      <td>recommend don katz avail free decemb</td>\n",
       "      <td>3</td>\n",
       "    </tr>\n",
       "    <tr>\n",
       "      <th>2</th>\n",
       "      <td>a fun fast pace scienc fiction thriller i read...</td>\n",
       "      <td>3</td>\n",
       "    </tr>\n",
       "    <tr>\n",
       "      <th>3</th>\n",
       "      <td>recommend read understand go middl america pos...</td>\n",
       "      <td>0</td>\n",
       "    </tr>\n",
       "    <tr>\n",
       "      <th>4</th>\n",
       "      <td>i realli enjoy book lot recommend it drag litt...</td>\n",
       "      <td>4</td>\n",
       "    </tr>\n",
       "    <tr>\n",
       "      <th>5</th>\n",
       "      <td>a beauti stori it rare encount book good job p...</td>\n",
       "      <td>4</td>\n",
       "    </tr>\n",
       "    <tr>\n",
       "      <th>6</th>\n",
       "      <td>5 star give better framework organ stuff stuff...</td>\n",
       "      <td>5</td>\n",
       "    </tr>\n",
       "    <tr>\n",
       "      <th>7</th>\n",
       "      <td>numer peopl publish told book year</td>\n",
       "      <td>0</td>\n",
       "    </tr>\n",
       "    <tr>\n",
       "      <th>8</th>\n",
       "      <td>anoth hard put nonfict book erik larson i real...</td>\n",
       "      <td>4</td>\n",
       "    </tr>\n",
       "    <tr>\n",
       "      <th>9</th>\n",
       "      <td>i love stephenson anoth hit absolut love the g...</td>\n",
       "      <td>5</td>\n",
       "    </tr>\n",
       "  </tbody>\n",
       "</table>\n",
       "</div>"
      ],
      "text/plain": [
       "                                         review_text  rating\n",
       "0  thi special book it start slow first third mid...       5\n",
       "1               recommend don katz avail free decemb       3\n",
       "2  a fun fast pace scienc fiction thriller i read...       3\n",
       "3  recommend read understand go middl america pos...       0\n",
       "4  i realli enjoy book lot recommend it drag litt...       4\n",
       "5  a beauti stori it rare encount book good job p...       4\n",
       "6  5 star give better framework organ stuff stuff...       5\n",
       "7                 numer peopl publish told book year       0\n",
       "8  anoth hard put nonfict book erik larson i real...       4\n",
       "9  i love stephenson anoth hit absolut love the g...       5"
      ]
     },
     "execution_count": 32,
     "metadata": {},
     "output_type": "execute_result"
    }
   ],
   "source": [
    "train.head(10)"
   ]
  },
  {
   "cell_type": "code",
   "execution_count": 33,
   "id": "4a523063",
   "metadata": {
    "execution": {
     "iopub.execute_input": "2023-03-12T14:25:07.595029Z",
     "iopub.status.busy": "2023-03-12T14:25:07.594607Z",
     "iopub.status.idle": "2023-03-12T14:25:07.610518Z",
     "shell.execute_reply": "2023-03-12T14:25:07.609287Z"
    },
    "papermill": {
     "duration": 0.037525,
     "end_time": "2023-03-12T14:25:07.613288",
     "exception": false,
     "start_time": "2023-03-12T14:25:07.575763",
     "status": "completed"
    },
    "tags": []
   },
   "outputs": [
    {
     "data": {
      "text/plain": [
       "review_text    0\n",
       "rating         0\n",
       "dtype: int64"
      ]
     },
     "execution_count": 33,
     "metadata": {},
     "output_type": "execute_result"
    }
   ],
   "source": [
    "train.isna().sum()"
   ]
  },
  {
   "cell_type": "code",
   "execution_count": 34,
   "id": "866ab35f",
   "metadata": {
    "execution": {
     "iopub.execute_input": "2023-03-12T14:25:07.652017Z",
     "iopub.status.busy": "2023-03-12T14:25:07.651620Z",
     "iopub.status.idle": "2023-03-12T14:25:07.664341Z",
     "shell.execute_reply": "2023-03-12T14:25:07.663032Z"
    },
    "papermill": {
     "duration": 0.035492,
     "end_time": "2023-03-12T14:25:07.666912",
     "exception": false,
     "start_time": "2023-03-12T14:25:07.631420",
     "status": "completed"
    },
    "tags": []
   },
   "outputs": [
    {
     "data": {
      "text/plain": [
       "review_text    0\n",
       "dtype: int64"
      ]
     },
     "execution_count": 34,
     "metadata": {},
     "output_type": "execute_result"
    }
   ],
   "source": [
    "test.isna().sum()"
   ]
  },
  {
   "cell_type": "code",
   "execution_count": 35,
   "id": "4e741e49",
   "metadata": {
    "execution": {
     "iopub.execute_input": "2023-03-12T14:25:07.706550Z",
     "iopub.status.busy": "2023-03-12T14:25:07.706111Z",
     "iopub.status.idle": "2023-03-12T14:25:07.713593Z",
     "shell.execute_reply": "2023-03-12T14:25:07.712216Z"
    },
    "papermill": {
     "duration": 0.030548,
     "end_time": "2023-03-12T14:25:07.716152",
     "exception": false,
     "start_time": "2023-03-12T14:25:07.685604",
     "status": "completed"
    },
    "tags": []
   },
   "outputs": [
    {
     "data": {
      "text/plain": [
       "(20000, 2)"
      ]
     },
     "execution_count": 35,
     "metadata": {},
     "output_type": "execute_result"
    }
   ],
   "source": [
    "train.shape"
   ]
  },
  {
   "cell_type": "code",
   "execution_count": 36,
   "id": "f8817050",
   "metadata": {
    "execution": {
     "iopub.execute_input": "2023-03-12T14:25:07.754616Z",
     "iopub.status.busy": "2023-03-12T14:25:07.754092Z",
     "iopub.status.idle": "2023-03-12T14:25:07.762871Z",
     "shell.execute_reply": "2023-03-12T14:25:07.760886Z"
    },
    "papermill": {
     "duration": 0.030646,
     "end_time": "2023-03-12T14:25:07.765398",
     "exception": false,
     "start_time": "2023-03-12T14:25:07.734752",
     "status": "completed"
    },
    "tags": []
   },
   "outputs": [
    {
     "data": {
      "text/plain": [
       "(20000, 1)"
      ]
     },
     "execution_count": 36,
     "metadata": {},
     "output_type": "execute_result"
    }
   ],
   "source": [
    "test.shape"
   ]
  },
  {
   "cell_type": "code",
   "execution_count": 37,
   "id": "3344d041",
   "metadata": {
    "execution": {
     "iopub.execute_input": "2023-03-12T14:25:07.805296Z",
     "iopub.status.busy": "2023-03-12T14:25:07.804665Z",
     "iopub.status.idle": "2023-03-12T14:25:08.088263Z",
     "shell.execute_reply": "2023-03-12T14:25:08.086299Z"
    },
    "papermill": {
     "duration": 0.308663,
     "end_time": "2023-03-12T14:25:08.091793",
     "exception": false,
     "start_time": "2023-03-12T14:25:07.783130",
     "status": "completed"
    },
    "tags": []
   },
   "outputs": [],
   "source": [
    "train.to_csv(\"Cleaned_train_Details.csv\")"
   ]
  },
  {
   "cell_type": "code",
   "execution_count": 38,
   "id": "9acc99f5",
   "metadata": {
    "execution": {
     "iopub.execute_input": "2023-03-12T14:25:08.133483Z",
     "iopub.status.busy": "2023-03-12T14:25:08.133036Z",
     "iopub.status.idle": "2023-03-12T14:25:08.402005Z",
     "shell.execute_reply": "2023-03-12T14:25:08.400327Z"
    },
    "papermill": {
     "duration": 0.294066,
     "end_time": "2023-03-12T14:25:08.405285",
     "exception": false,
     "start_time": "2023-03-12T14:25:08.111219",
     "status": "completed"
    },
    "tags": []
   },
   "outputs": [],
   "source": [
    "test.to_csv(\"Cleaned_test_Details.csv\")"
   ]
  },
  {
   "cell_type": "code",
   "execution_count": 39,
   "id": "3dd50641",
   "metadata": {
    "execution": {
     "iopub.execute_input": "2023-03-12T14:25:08.446669Z",
     "iopub.status.busy": "2023-03-12T14:25:08.446224Z",
     "iopub.status.idle": "2023-03-12T14:25:09.617069Z",
     "shell.execute_reply": "2023-03-12T14:25:09.615310Z"
    },
    "papermill": {
     "duration": 1.196276,
     "end_time": "2023-03-12T14:25:09.621537",
     "exception": false,
     "start_time": "2023-03-12T14:25:08.425261",
     "status": "completed"
    },
    "tags": []
   },
   "outputs": [
    {
     "data": {
      "text/plain": [
       "<matplotlib.image.AxesImage at 0x7f0875d4f190>"
      ]
     },
     "execution_count": 39,
     "metadata": {},
     "output_type": "execute_result"
    },
    {
     "data": {
      "image/png": "[encoded data removed]",
      "text/plain": [
       "<Figure size 1500x600 with 1 Axes>"
      ]
     },
     "metadata": {},
     "output_type": "display_data"
    }
   ],
   "source": [
    "# WordCloud for ham Messages\n",
    "\n",
    "wc = WordCloud(width=500,height=500,min_font_size=10,background_color='white')\n",
    "ham_wc = wc.generate(train[train['rating'] == 0]['review_text'].str.cat(sep=\" \"))\n",
    "plt.figure(figsize=(15,6))\n",
    "plt.imshow(ham_wc)"
   ]
  },
  {
   "cell_type": "code",
   "execution_count": null,
   "id": "ba7f1aca",
   "metadata": {
    "papermill": {
     "duration": 0.021367,
     "end_time": "2023-03-12T14:25:09.665442",
     "exception": false,
     "start_time": "2023-03-12T14:25:09.644075",
     "status": "completed"
    },
    "tags": []
   },
   "outputs": [],
   "source": []
  },
  {
   "cell_type": "markdown",
   "id": "cd617c66",
   "metadata": {
    "papermill": {
     "duration": 0.022094,
     "end_time": "2023-03-12T14:25:09.709231",
     "exception": false,
     "start_time": "2023-03-12T14:25:09.687137",
     "status": "completed"
    },
    "tags": []
   },
   "source": [
    "# **Model Building¶**"
   ]
  },
  {
   "cell_type": "code",
   "execution_count": 40,
   "id": "d2ee49a5",
   "metadata": {
    "execution": {
     "iopub.execute_input": "2023-03-12T14:25:09.755118Z",
     "iopub.status.busy": "2023-03-12T14:25:09.754724Z",
     "iopub.status.idle": "2023-03-12T14:25:09.760140Z",
     "shell.execute_reply": "2023-03-12T14:25:09.758871Z"
    },
    "papermill": {
     "duration": 0.031408,
     "end_time": "2023-03-12T14:25:09.762704",
     "exception": false,
     "start_time": "2023-03-12T14:25:09.731296",
     "status": "completed"
    },
    "tags": []
   },
   "outputs": [],
   "source": [
    "cv = CountVectorizer()\n",
    "tfd = TfidfVectorizer(max_features=3000)"
   ]
  },
  {
   "cell_type": "code",
   "execution_count": 41,
   "id": "58bf621c",
   "metadata": {
    "execution": {
     "iopub.execute_input": "2023-03-12T14:25:09.810852Z",
     "iopub.status.busy": "2023-03-12T14:25:09.809806Z",
     "iopub.status.idle": "2023-03-12T14:25:12.227660Z",
     "shell.execute_reply": "2023-03-12T14:25:12.226245Z"
    },
    "papermill": {
     "duration": 2.446232,
     "end_time": "2023-03-12T14:25:12.230684",
     "exception": false,
     "start_time": "2023-03-12T14:25:09.784452",
     "status": "completed"
    },
    "tags": []
   },
   "outputs": [],
   "source": [
    "x = tfd.fit_transform(train[\"review_text\"]).toarray()\n",
    "y = train[\"rating\"].values"
   ]
  },
  {
   "cell_type": "code",
   "execution_count": 42,
   "id": "2cea4b34",
   "metadata": {
    "execution": {
     "iopub.execute_input": "2023-03-12T14:25:12.276035Z",
     "iopub.status.busy": "2023-03-12T14:25:12.275588Z",
     "iopub.status.idle": "2023-03-12T14:25:12.283197Z",
     "shell.execute_reply": "2023-03-12T14:25:12.282003Z"
    },
    "papermill": {
     "duration": 0.033505,
     "end_time": "2023-03-12T14:25:12.285606",
     "exception": false,
     "start_time": "2023-03-12T14:25:12.252101",
     "status": "completed"
    },
    "tags": []
   },
   "outputs": [
    {
     "data": {
      "text/plain": [
       "array([[0.        , 0.        , 0.        , ..., 0.        , 0.        ,\n",
       "        0.        ],\n",
       "       [0.        , 0.        , 0.        , ..., 0.        , 0.        ,\n",
       "        0.        ],\n",
       "       [0.        , 0.        , 0.        , ..., 0.        , 0.        ,\n",
       "        0.        ],\n",
       "       ...,\n",
       "       [0.        , 0.        , 0.        , ..., 0.        , 0.        ,\n",
       "        0.        ],\n",
       "       [0.        , 0.        , 0.        , ..., 0.        , 0.        ,\n",
       "        0.        ],\n",
       "       [0.        , 0.        , 0.41101879, ..., 0.        , 0.        ,\n",
       "        0.        ]])"
      ]
     },
     "execution_count": 42,
     "metadata": {},
     "output_type": "execute_result"
    }
   ],
   "source": [
    "x"
   ]
  },
  {
   "cell_type": "code",
   "execution_count": 43,
   "id": "fa545e25",
   "metadata": {
    "execution": {
     "iopub.execute_input": "2023-03-12T14:25:12.333034Z",
     "iopub.status.busy": "2023-03-12T14:25:12.332611Z",
     "iopub.status.idle": "2023-03-12T14:25:12.687244Z",
     "shell.execute_reply": "2023-03-12T14:25:12.686025Z"
    },
    "papermill": {
     "duration": 0.382114,
     "end_time": "2023-03-12T14:25:12.690074",
     "exception": false,
     "start_time": "2023-03-12T14:25:12.307960",
     "status": "completed"
    },
    "tags": []
   },
   "outputs": [],
   "source": [
    "x_train, x_test, y_train, y_test = train_test_split(x, y, test_size=0.2, random_state=2)"
   ]
  },
  {
   "cell_type": "code",
   "execution_count": 44,
   "id": "0793ce68",
   "metadata": {
    "execution": {
     "iopub.execute_input": "2023-03-12T14:25:12.741248Z",
     "iopub.status.busy": "2023-03-12T14:25:12.740831Z",
     "iopub.status.idle": "2023-03-12T14:25:14.660924Z",
     "shell.execute_reply": "2023-03-12T14:25:14.658506Z"
    },
    "papermill": {
     "duration": 1.952582,
     "end_time": "2023-03-12T14:25:14.666484",
     "exception": false,
     "start_time": "2023-03-12T14:25:12.713902",
     "status": "completed"
    },
    "tags": []
   },
   "outputs": [
    {
     "name": "stdout",
     "output_type": "stream",
     "text": [
      "22.900000000000002\n",
      "[[ 33  30   9   6   6   5]\n",
      " [ 17  26  23  15  12   5]\n",
      " [ 45  66  75  52  32  12]\n",
      " [133 217 183 147 100  63]\n",
      " [180 238 280 216 296 205]\n",
      " [225 198 167 131 213 339]]\n"
     ]
    }
   ],
   "source": [
    "gnb = GaussianNB()\n",
    "gnb.fit(x_train, y_train)\n",
    "pred = gnb.predict(x_test)\n",
    "print(accuracy_score(y_test,pred)*100)\n",
    "print(confusion_matrix(y_test,pred))"
   ]
  },
  {
   "cell_type": "code",
   "execution_count": 45,
   "id": "740bef65",
   "metadata": {
    "execution": {
     "iopub.execute_input": "2023-03-12T14:25:14.716277Z",
     "iopub.status.busy": "2023-03-12T14:25:14.715839Z",
     "iopub.status.idle": "2023-03-12T14:25:14.990732Z",
     "shell.execute_reply": "2023-03-12T14:25:14.989179Z"
    },
    "papermill": {
     "duration": 0.308519,
     "end_time": "2023-03-12T14:25:14.999356",
     "exception": false,
     "start_time": "2023-03-12T14:25:14.690837",
     "status": "completed"
    },
    "tags": []
   },
   "outputs": [
    {
     "name": "stdout",
     "output_type": "stream",
     "text": [
      "48.875\n",
      "[[   2    0    0   14   44   29]\n",
      " [   0    0    4   31   41   22]\n",
      " [   0    0    0   94  161   27]\n",
      " [   0    0    0  184  572   87]\n",
      " [   0    0    0   62 1063  290]\n",
      " [   0    0    0    7  560  706]]\n"
     ]
    }
   ],
   "source": [
    "mnb = MultinomialNB()\n",
    "mnb.fit(x_train, y_train)\n",
    "pred = mnb.predict(x_test)\n",
    "print(accuracy_score(y_test,pred)*100)\n",
    "print(confusion_matrix(y_test,pred))"
   ]
  },
  {
   "cell_type": "code",
   "execution_count": 46,
   "id": "488d8f52",
   "metadata": {
    "execution": {
     "iopub.execute_input": "2023-03-12T14:25:15.114450Z",
     "iopub.status.busy": "2023-03-12T14:25:15.114013Z",
     "iopub.status.idle": "2023-03-12T14:25:16.072002Z",
     "shell.execute_reply": "2023-03-12T14:25:16.069979Z"
    },
    "papermill": {
     "duration": 1.015517,
     "end_time": "2023-03-12T14:25:16.080525",
     "exception": false,
     "start_time": "2023-03-12T14:25:15.065008",
     "status": "completed"
    },
    "tags": []
   },
   "outputs": [
    {
     "name": "stdout",
     "output_type": "stream",
     "text": [
      "28.475\n",
      "[[ 68   2   7   7   1   4]\n",
      " [ 42  25  13  16   1   1]\n",
      " [ 98  33  63  72  14   2]\n",
      " [305  37  89 251 102  59]\n",
      " [486  36  82 241 278 292]\n",
      " [558  20  29  92 120 454]]\n"
     ]
    }
   ],
   "source": [
    "bnb = BernoulliNB()\n",
    "bnb.fit(x_train, y_train)\n",
    "pred = bnb.predict(x_test)\n",
    "print(accuracy_score(y_test,pred)*100)\n",
    "print(confusion_matrix(y_test,pred))"
   ]
  },
  {
   "cell_type": "markdown",
   "id": "cbdecd27",
   "metadata": {
    "execution": {
     "iopub.execute_input": "2023-03-12T09:35:14.394087Z",
     "iopub.status.busy": "2023-03-12T09:35:14.393136Z"
    },
    "papermill": {
     "duration": 0.048238,
     "end_time": "2023-03-12T14:25:16.189039",
     "exception": false,
     "start_time": "2023-03-12T14:25:16.140801",
     "status": "completed"
    },
    "tags": []
   },
   "source": [
    "knc = SVC(kernel='sigmoid', gamma=1.0)\n",
    "knc.fit(x_train, y_train)\n",
    "pred = knc.predict(x_test)\n",
    "print(accuracy_score(y_test,pred)*100)\n",
    "print(confusion_matrix(y_test,pred))"
   ]
  },
  {
   "cell_type": "code",
   "execution_count": 47,
   "id": "51a5f7c0",
   "metadata": {
    "execution": {
     "iopub.execute_input": "2023-03-12T14:25:16.241977Z",
     "iopub.status.busy": "2023-03-12T14:25:16.241523Z",
     "iopub.status.idle": "2023-03-12T14:25:16.250117Z",
     "shell.execute_reply": "2023-03-12T14:25:16.248136Z"
    },
    "papermill": {
     "duration": 0.039001,
     "end_time": "2023-03-12T14:25:16.253344",
     "exception": false,
     "start_time": "2023-03-12T14:25:16.214343",
     "status": "completed"
    },
    "tags": []
   },
   "outputs": [],
   "source": [
    "# svc = SVC(kernel='sigmoid', gamma=1.0)\n",
    "knc = KNeighborsClassifier()\n",
    "mnb = MultinomialNB()\n",
    "dtc = DecisionTreeClassifier(max_depth=5)\n",
    "lrc = LogisticRegression(solver='liblinear', penalty='l1')\n",
    "rfc = RandomForestClassifier(n_estimators=50, random_state=2)\n",
    "abc = AdaBoostClassifier(n_estimators=50, random_state=2)\n",
    "bc = BaggingClassifier(n_estimators=50, random_state=2)\n",
    "etc = ExtraTreesClassifier(n_estimators=50, random_state=2)\n",
    "gbdt = GradientBoostingClassifier(n_estimators=50,random_state=2)\n",
    "# xgb = XGBClassifier(n_estimators=50,random_state=2)"
   ]
  },
  {
   "cell_type": "code",
   "execution_count": 48,
   "id": "96918509",
   "metadata": {
    "execution": {
     "iopub.execute_input": "2023-03-12T14:25:16.305901Z",
     "iopub.status.busy": "2023-03-12T14:25:16.305353Z",
     "iopub.status.idle": "2023-03-12T14:25:16.314036Z",
     "shell.execute_reply": "2023-03-12T14:25:16.312236Z"
    },
    "papermill": {
     "duration": 0.041165,
     "end_time": "2023-03-12T14:25:16.319129",
     "exception": false,
     "start_time": "2023-03-12T14:25:16.277964",
     "status": "completed"
    },
    "tags": []
   },
   "outputs": [],
   "source": [
    "def model_training(model):\n",
    "    model.fit(x_train, y_train) \n",
    "    pred = model.predict(x_test)\n",
    "    accuracy = accuracy_score(y_test, pred)\n",
    "#     precision = precision_score(y_test, pred)\n",
    "    \n",
    "    return accuracy"
   ]
  },
  {
   "cell_type": "code",
   "execution_count": 49,
   "id": "256f2de1",
   "metadata": {
    "execution": {
     "iopub.execute_input": "2023-03-12T14:25:16.367710Z",
     "iopub.status.busy": "2023-03-12T14:25:16.367218Z",
     "iopub.status.idle": "2023-03-12T14:25:16.374273Z",
     "shell.execute_reply": "2023-03-12T14:25:16.372785Z"
    },
    "papermill": {
     "duration": 0.035706,
     "end_time": "2023-03-12T14:25:16.377486",
     "exception": false,
     "start_time": "2023-03-12T14:25:16.341780",
     "status": "completed"
    },
    "tags": []
   },
   "outputs": [],
   "source": [
    "models = {\n",
    "#     'SVC' : svc,\n",
    "    'KN' : knc, \n",
    "    'NB': mnb, \n",
    "    'DT': dtc, \n",
    "    'LR': lrc, \n",
    "    'RF': rfc,\n",
    "    'AdaBoost': abc, \n",
    "    'BgC': bc,\n",
    "    'ETC': etc,\n",
    "    'GBDT':gbdt\n",
    "#     'xgb':xgb\n",
    "}"
   ]
  },
  {
   "cell_type": "code",
   "execution_count": 50,
   "id": "f61d5450",
   "metadata": {
    "execution": {
     "iopub.execute_input": "2023-03-12T14:25:16.441156Z",
     "iopub.status.busy": "2023-03-12T14:25:16.439919Z",
     "iopub.status.idle": "2023-03-12T14:52:08.983665Z",
     "shell.execute_reply": "2023-03-12T14:52:08.982619Z"
    },
    "papermill": {
     "duration": 1612.60522,
     "end_time": "2023-03-12T14:52:09.009397",
     "exception": false,
     "start_time": "2023-03-12T14:25:16.404177",
     "status": "completed"
    },
    "tags": []
   },
   "outputs": [
    {
     "name": "stdout",
     "output_type": "stream",
     "text": [
      "For  KN\n",
      "Accuracy -  22.900000000000002\n",
      "====================================\n",
      "For  NB\n",
      "Accuracy -  48.875\n",
      "====================================\n",
      "For  DT\n",
      "Accuracy -  40.425\n",
      "====================================\n",
      "For  LR\n",
      "Accuracy -  52.2\n",
      "====================================\n",
      "For  RF\n",
      "Accuracy -  48.375\n",
      "====================================\n",
      "For  AdaBoost\n",
      "Accuracy -  42.125\n",
      "====================================\n",
      "For  BgC\n",
      "Accuracy -  48.0\n",
      "====================================\n",
      "For  ETC\n",
      "Accuracy -  48.35\n",
      "====================================\n",
      "For  GBDT\n",
      "Accuracy -  46.475\n",
      "====================================\n"
     ]
    }
   ],
   "source": [
    "accuracy_scores = []\n",
    "# precision_scores = []\n",
    "\n",
    "for name, model in models.items():\n",
    "    \n",
    "    current_accuracy = model_training(model)\n",
    "    \n",
    "    print(\"For \",name)\n",
    "    print(\"Accuracy - \",current_accuracy*100)\n",
    "#     print(\"Precision - \",current_precision*100)\n",
    "    print(\"====================================\")\n",
    "    \n",
    "    accuracy_scores.append(current_accuracy)\n",
    "#     precision_scores.append(current_precision)"
   ]
  },
  {
   "cell_type": "code",
   "execution_count": 51,
   "id": "8b53277a",
   "metadata": {
    "execution": {
     "iopub.execute_input": "2023-03-12T14:52:09.058697Z",
     "iopub.status.busy": "2023-03-12T14:52:09.057598Z",
     "iopub.status.idle": "2023-03-12T14:52:09.074005Z",
     "shell.execute_reply": "2023-03-12T14:52:09.072535Z"
    },
    "papermill": {
     "duration": 0.043898,
     "end_time": "2023-03-12T14:52:09.076626",
     "exception": false,
     "start_time": "2023-03-12T14:52:09.032728",
     "status": "completed"
    },
    "tags": []
   },
   "outputs": [
    {
     "data": {
      "text/html": [
       "<div>\n",
       "<style scoped>\n",
       "    .dataframe tbody tr th:only-of-type {\n",
       "        vertical-align: middle;\n",
       "    }\n",
       "\n",
       "    .dataframe tbody tr th {\n",
       "        vertical-align: top;\n",
       "    }\n",
       "\n",
       "    .dataframe thead th {\n",
       "        text-align: right;\n",
       "    }\n",
       "</style>\n",
       "<table border=\"1\" class=\"dataframe\">\n",
       "  <thead>\n",
       "    <tr style=\"text-align: right;\">\n",
       "      <th></th>\n",
       "      <th>Models/Algorithms</th>\n",
       "      <th>Accuracy</th>\n",
       "    </tr>\n",
       "  </thead>\n",
       "  <tbody>\n",
       "    <tr>\n",
       "      <th>3</th>\n",
       "      <td>LR</td>\n",
       "      <td>0.52200</td>\n",
       "    </tr>\n",
       "    <tr>\n",
       "      <th>1</th>\n",
       "      <td>NB</td>\n",
       "      <td>0.48875</td>\n",
       "    </tr>\n",
       "    <tr>\n",
       "      <th>4</th>\n",
       "      <td>RF</td>\n",
       "      <td>0.48375</td>\n",
       "    </tr>\n",
       "    <tr>\n",
       "      <th>7</th>\n",
       "      <td>ETC</td>\n",
       "      <td>0.48350</td>\n",
       "    </tr>\n",
       "    <tr>\n",
       "      <th>6</th>\n",
       "      <td>BgC</td>\n",
       "      <td>0.48000</td>\n",
       "    </tr>\n",
       "    <tr>\n",
       "      <th>8</th>\n",
       "      <td>GBDT</td>\n",
       "      <td>0.46475</td>\n",
       "    </tr>\n",
       "    <tr>\n",
       "      <th>5</th>\n",
       "      <td>AdaBoost</td>\n",
       "      <td>0.42125</td>\n",
       "    </tr>\n",
       "    <tr>\n",
       "      <th>2</th>\n",
       "      <td>DT</td>\n",
       "      <td>0.40425</td>\n",
       "    </tr>\n",
       "    <tr>\n",
       "      <th>0</th>\n",
       "      <td>KN</td>\n",
       "      <td>0.22900</td>\n",
       "    </tr>\n",
       "  </tbody>\n",
       "</table>\n",
       "</div>"
      ],
      "text/plain": [
       "  Models/Algorithms  Accuracy\n",
       "3                LR   0.52200\n",
       "1                NB   0.48875\n",
       "4                RF   0.48375\n",
       "7               ETC   0.48350\n",
       "6               BgC   0.48000\n",
       "8              GBDT   0.46475\n",
       "5          AdaBoost   0.42125\n",
       "2                DT   0.40425\n",
       "0                KN   0.22900"
      ]
     },
     "execution_count": 51,
     "metadata": {},
     "output_type": "execute_result"
    }
   ],
   "source": [
    "model_performance = pd.DataFrame({'Models/Algorithms':models.keys(), 'Accuracy':accuracy_scores}).sort_values('Accuracy', ascending=False)\n",
    "model_performance"
   ]
  },
  {
   "cell_type": "code",
   "execution_count": 52,
   "id": "5b7f90b5",
   "metadata": {
    "execution": {
     "iopub.execute_input": "2023-03-12T14:52:09.199494Z",
     "iopub.status.busy": "2023-03-12T14:52:09.199070Z",
     "iopub.status.idle": "2023-03-12T14:52:59.893024Z",
     "shell.execute_reply": "2023-03-12T14:52:59.891652Z"
    },
    "papermill": {
     "duration": 50.817591,
     "end_time": "2023-03-12T14:52:59.917962",
     "exception": false,
     "start_time": "2023-03-12T14:52:09.100371",
     "status": "completed"
    },
    "tags": []
   },
   "outputs": [
    {
     "name": "stdout",
     "output_type": "stream",
     "text": [
      "Accuracy 51.525\n"
     ]
    }
   ],
   "source": [
    "# Voting Classifier \n",
    "# Selecting the three Classifiers which are better in case of Accuracy and Precision\n",
    "# svc = SVC(kernel='sigmoid', gamma=1.0,probability=True)\n",
    "# mnb = MultinomialNB()\n",
    "# etc = ExtraTreesClassifier(n_estimators=50, random_state=2)\n",
    "\n",
    "voting = VotingClassifier(estimators=[('NB', mnb,), ('LR', lrc), ('ETC', etc)], voting='soft')\n",
    "voting.fit(x_train, y_train)\n",
    "pred = voting.predict(x_test)\n",
    "\n",
    "print(\"Accuracy\",accuracy_score(y_test, pred)*100)\n",
    "# print(\"Precision\",precision_score(y_test, pred)*100)"
   ]
  },
  {
   "cell_type": "code",
   "execution_count": 53,
   "id": "345f9933",
   "metadata": {
    "execution": {
     "iopub.execute_input": "2023-03-12T14:52:59.966436Z",
     "iopub.status.busy": "2023-03-12T14:52:59.965552Z",
     "iopub.status.idle": "2023-03-12T14:57:06.589124Z",
     "shell.execute_reply": "2023-03-12T14:57:06.587646Z"
    },
    "papermill": {
     "duration": 246.67635,
     "end_time": "2023-03-12T14:57:06.617259",
     "exception": false,
     "start_time": "2023-03-12T14:52:59.940909",
     "status": "completed"
    },
    "tags": []
   },
   "outputs": [
    {
     "name": "stdout",
     "output_type": "stream",
     "text": [
      "Accuracy 53.125\n"
     ]
    }
   ],
   "source": [
    "# Applying stacking\n",
    "# Selecting the three Classifiers which are better in case of Accuracy and Precision and Considering Final Estimator as RandomForestClassifier \n",
    "\n",
    "estimators=[('NB', mnb,), ('LR', lrc), ('ETC', etc)]\n",
    "final_estimator=RandomForestClassifier()\n",
    "stc = StackingClassifier(estimators=estimators, final_estimator=final_estimator)\n",
    "stc.fit(x_train, y_train)\n",
    "pred = stc.predict(x_test)\n",
    "\n",
    "print(\"Accuracy\",accuracy_score(y_test, pred)*100)\n",
    "# print(\"Precision\",precision_score(y_test, pred)*100)"
   ]
  },
  {
   "cell_type": "code",
   "execution_count": null,
   "id": "8b24424f",
   "metadata": {
    "papermill": {
     "duration": 0.023457,
     "end_time": "2023-03-12T14:57:06.664640",
     "exception": false,
     "start_time": "2023-03-12T14:57:06.641183",
     "status": "completed"
    },
    "tags": []
   },
   "outputs": [],
   "source": []
  }
 ],
 "metadata": {
  "kernelspec": {
   "display_name": "Python 3",
   "language": "python",
   "name": "python3"
  },
  "language_info": {
   "codemirror_mode": {
    "name": "ipython",
    "version": 3
   },
   "file_extension": ".py",
   "mimetype": "text/x-python",
   "name": "python",
   "nbconvert_exporter": "python",
   "pygments_lexer": "ipython3",
   "version": "3.7.12"
  },
  "papermill": {
   "default_parameters": {},
   "duration": 2178.396855,
   "end_time": "2023-03-12T14:57:08.423978",
   "environment_variables": {},
   "exception": null,
   "input_path": "__notebook__.ipynb",
   "output_path": "__notebook__.ipynb",
   "parameters": {},
   "start_time": "2023-03-12T14:20:50.027123",
   "version": "2.4.0"
  }
 },
 "nbformat": 4,
 "nbformat_minor": 5
}
