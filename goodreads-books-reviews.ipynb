{
 "cells": [
  {
   "cell_type": "code",
   "execution_count": 1,
   "id": "01a805cf",
   "metadata": {
    "_cell_guid": "b1076dfc-b9ad-4769-8c92-a6c4dae69d19",
    "_uuid": "8f2839f25d086af736a60e9eeb907d3b93b6e0e5",
    "execution": {
     "iopub.execute_input": "2023-03-12T14:41:25.314800Z",
     "iopub.status.busy": "2023-03-12T14:41:25.314345Z",
     "iopub.status.idle": "2023-03-12T14:41:25.332290Z",
     "shell.execute_reply": "2023-03-12T14:41:25.330532Z"
    },
    "papermill": {
     "duration": 0.03482,
     "end_time": "2023-03-12T14:41:25.334937",
     "exception": false,
     "start_time": "2023-03-12T14:41:25.300117",
     "status": "completed"
    },
    "tags": []
   },
   "outputs": [
    {
     "name": "stdout",
     "output_type": "stream",
     "text": [
      "/kaggle/input/goodreads-books-reviews-290312/goodreads_test.csv\n",
      "/kaggle/input/goodreads-books-reviews-290312/goodreads_sample_submission.csv\n",
      "/kaggle/input/goodreads-books-reviews-290312/goodreads_train.csv\n"
     ]
    }
   ],
   "source": [
    "# This Python 3 environment comes with many helpful analytics libraries installed\n",
    "# It is defined by the kaggle/python Docker image: https://github.com/kaggle/docker-python\n",
    "# For example, here's several helpful packages to load\n",
    "\n",
    "import numpy as np # linear algebra\n",
    "import pandas as pd # data processing, CSV file I/O (e.g. pd.read_csv)\n",
    "\n",
    "# Input data files are available in the read-only \"../input/\" directory\n",
    "# For example, running this (by clicking run or pressing Shift+Enter) will list all files under the input directory\n",
    "\n",
    "import os\n",
    "for dirname, _, filenames in os.walk('/kaggle/input'):\n",
    "    for filename in filenames:\n",
    "        print(os.path.join(dirname, filename))\n",
    "\n",
    "# You can write up to 20GB to the current directory (/kaggle/working/) that gets preserved as output when you create a version using \"Save & Run All\" \n",
    "# You can also write temporary files to /kaggle/temp/, but they won't be saved outside of the current session"
   ]
  },
  {
   "cell_type": "code",
   "execution_count": 2,
   "id": "7c86e3f9",
   "metadata": {
    "execution": {
     "iopub.execute_input": "2023-03-12T14:41:25.363999Z",
     "iopub.status.busy": "2023-03-12T14:41:25.362262Z",
     "iopub.status.idle": "2023-03-12T14:41:27.924944Z",
     "shell.execute_reply": "2023-03-12T14:41:27.923446Z"
    },
    "papermill": {
     "duration": 2.579649,
     "end_time": "2023-03-12T14:41:27.927362",
     "exception": false,
     "start_time": "2023-03-12T14:41:25.347713",
     "status": "completed"
    },
    "tags": []
   },
   "outputs": [],
   "source": [
    "import numpy as np\n",
    "import pandas as pd\n",
    "import seaborn as sns\n",
    "import matplotlib.pyplot as plt\n",
    "\n",
    "import nltk\n",
    "import string\n",
    "from nltk.corpus import stopwords\n",
    "from nltk.stem import PorterStemmer\n",
    "import re\n",
    "\n",
    "from wordcloud import WordCloud\n",
    "from collections import Counter\n",
    "\n",
    "from sklearn.preprocessing import LabelEncoder\n",
    "from sklearn.model_selection import train_test_split\n",
    "from sklearn.preprocessing import MinMaxScaler\n",
    "\n",
    "from sklearn.feature_extraction.text import CountVectorizer, TfidfVectorizer\n",
    "from sklearn.naive_bayes import GaussianNB, MultinomialNB, BernoulliNB\n",
    "from sklearn.linear_model import LogisticRegression\n",
    "from sklearn.svm import SVC\n",
    "from sklearn.tree import DecisionTreeClassifier\n",
    "from sklearn.neighbors import KNeighborsClassifier\n",
    "from sklearn.ensemble import RandomForestClassifier\n",
    "from sklearn.ensemble import AdaBoostClassifier, BaggingClassifier, GradientBoostingClassifier\n",
    "from sklearn.ensemble import ExtraTreesClassifier\n",
    "from xgboost import XGBClassifier\n",
    "from sklearn.ensemble import VotingClassifier\n",
    "from sklearn.ensemble import StackingClassifier\n",
    "\n",
    "from sklearn.metrics import accuracy_score, confusion_matrix, precision_score, ConfusionMatrixDisplay\n",
    "import pickle\n",
    "\n",
    "import pandas as pd\n",
    "import numpy as np\n",
    "import seaborn as sns\n",
    "import matplotlib.pyplot as plt\n",
    "\n",
    "import string\n",
    "import nltk\n",
    "import nltk.corpus\n",
    "from nltk.tokenize import word_tokenize\n",
    "from nltk.corpus import stopwords\n",
    "from nltk.stem import PorterStemmer\n",
    "import re\n",
    "\n",
    "from sklearn.model_selection import train_test_split\n",
    "from sklearn.feature_extraction.text import CountVectorizer, TfidfVectorizer\n",
    "\n",
    "from sklearn.linear_model import LogisticRegression\n",
    "from sklearn.tree import DecisionTreeClassifier\n",
    "from sklearn.ensemble import RandomForestClassifier\n",
    "from sklearn.naive_bayes import GaussianNB\n",
    "from sklearn.svm import SVC\n",
    "\n",
    "from sklearn.metrics import accuracy_score\n",
    "from sklearn.model_selection import cross_val_score"
   ]
  },
  {
   "cell_type": "code",
   "execution_count": 3,
   "id": "c2bcd362",
   "metadata": {
    "execution": {
     "iopub.execute_input": "2023-03-12T14:41:27.953306Z",
     "iopub.status.busy": "2023-03-12T14:41:27.952463Z",
     "iopub.status.idle": "2023-03-12T14:42:08.176488Z",
     "shell.execute_reply": "2023-03-12T14:42:08.175286Z"
    },
    "papermill": {
     "duration": 40.239772,
     "end_time": "2023-03-12T14:42:08.179036",
     "exception": false,
     "start_time": "2023-03-12T14:41:27.939264",
     "status": "completed"
    },
    "tags": []
   },
   "outputs": [],
   "source": [
    "test_data = pd.read_csv(\"/kaggle/input/goodreads-books-reviews-290312/goodreads_test.csv\")\n",
    "train = pd.read_csv(\"/kaggle/input/goodreads-books-reviews-290312/goodreads_train.csv\")"
   ]
  },
  {
   "cell_type": "markdown",
   "id": "794c8b33",
   "metadata": {
    "papermill": {
     "duration": 0.011407,
     "end_time": "2023-03-12T14:42:08.203065",
     "exception": false,
     "start_time": "2023-03-12T14:42:08.191658",
     "status": "completed"
    },
    "tags": []
   },
   "source": [
    "# **Data Understanding**"
   ]
  },
  {
   "cell_type": "code",
   "execution_count": 4,
   "id": "47f8332d",
   "metadata": {
    "execution": {
     "iopub.execute_input": "2023-03-12T14:42:08.227905Z",
     "iopub.status.busy": "2023-03-12T14:42:08.227535Z",
     "iopub.status.idle": "2023-03-12T14:42:08.255277Z",
     "shell.execute_reply": "2023-03-12T14:42:08.254674Z"
    },
    "papermill": {
     "duration": 0.042522,
     "end_time": "2023-03-12T14:42:08.257200",
     "exception": false,
     "start_time": "2023-03-12T14:42:08.214678",
     "status": "completed"
    },
    "tags": []
   },
   "outputs": [
    {
     "data": {
      "text/html": [
       "<div>\n",
       "<style scoped>\n",
       "    .dataframe tbody tr th:only-of-type {\n",
       "        vertical-align: middle;\n",
       "    }\n",
       "\n",
       "    .dataframe tbody tr th {\n",
       "        vertical-align: top;\n",
       "    }\n",
       "\n",
       "    .dataframe thead th {\n",
       "        text-align: right;\n",
       "    }\n",
       "</style>\n",
       "<table border=\"1\" class=\"dataframe\">\n",
       "  <thead>\n",
       "    <tr style=\"text-align: right;\">\n",
       "      <th></th>\n",
       "      <th>user_id</th>\n",
       "      <th>book_id</th>\n",
       "      <th>review_id</th>\n",
       "      <th>rating</th>\n",
       "      <th>review_text</th>\n",
       "      <th>date_added</th>\n",
       "      <th>date_updated</th>\n",
       "      <th>read_at</th>\n",
       "      <th>started_at</th>\n",
       "      <th>n_votes</th>\n",
       "      <th>n_comments</th>\n",
       "    </tr>\n",
       "  </thead>\n",
       "  <tbody>\n",
       "    <tr>\n",
       "      <th>0</th>\n",
       "      <td>8842281e1d1347389f2ab93d60773d4d</td>\n",
       "      <td>18245960</td>\n",
       "      <td>dfdbb7b0eb5a7e4c26d59a937e2e5feb</td>\n",
       "      <td>5</td>\n",
       "      <td>This is a special book. It started slow for ab...</td>\n",
       "      <td>Sun Jul 30 07:44:10 -0700 2017</td>\n",
       "      <td>Wed Aug 30 00:00:26 -0700 2017</td>\n",
       "      <td>Sat Aug 26 12:05:52 -0700 2017</td>\n",
       "      <td>Tue Aug 15 13:23:18 -0700 2017</td>\n",
       "      <td>28</td>\n",
       "      <td>1</td>\n",
       "    </tr>\n",
       "    <tr>\n",
       "      <th>1</th>\n",
       "      <td>8842281e1d1347389f2ab93d60773d4d</td>\n",
       "      <td>16981</td>\n",
       "      <td>a5d2c3628987712d0e05c4f90798eb67</td>\n",
       "      <td>3</td>\n",
       "      <td>Recommended by Don Katz. Avail for free in Dec...</td>\n",
       "      <td>Mon Dec 05 10:46:44 -0800 2016</td>\n",
       "      <td>Wed Mar 22 11:37:04 -0700 2017</td>\n",
       "      <td>NaN</td>\n",
       "      <td>NaN</td>\n",
       "      <td>1</td>\n",
       "      <td>0</td>\n",
       "    </tr>\n",
       "    <tr>\n",
       "      <th>2</th>\n",
       "      <td>8842281e1d1347389f2ab93d60773d4d</td>\n",
       "      <td>28684704</td>\n",
       "      <td>2ede853b14dc4583f96cf5d120af636f</td>\n",
       "      <td>3</td>\n",
       "      <td>A fun, fast paced science fiction thriller. I ...</td>\n",
       "      <td>Tue Nov 15 11:29:22 -0800 2016</td>\n",
       "      <td>Mon Mar 20 23:40:27 -0700 2017</td>\n",
       "      <td>Sat Mar 18 23:22:42 -0700 2017</td>\n",
       "      <td>Fri Mar 17 23:45:40 -0700 2017</td>\n",
       "      <td>22</td>\n",
       "      <td>0</td>\n",
       "    </tr>\n",
       "    <tr>\n",
       "      <th>3</th>\n",
       "      <td>8842281e1d1347389f2ab93d60773d4d</td>\n",
       "      <td>27161156</td>\n",
       "      <td>ced5675e55cd9d38a524743f5c40996e</td>\n",
       "      <td>0</td>\n",
       "      <td>Recommended reading to understand what is goin...</td>\n",
       "      <td>Wed Nov 09 17:37:04 -0800 2016</td>\n",
       "      <td>Wed Nov 09 17:38:20 -0800 2016</td>\n",
       "      <td>NaN</td>\n",
       "      <td>NaN</td>\n",
       "      <td>5</td>\n",
       "      <td>1</td>\n",
       "    </tr>\n",
       "    <tr>\n",
       "      <th>4</th>\n",
       "      <td>8842281e1d1347389f2ab93d60773d4d</td>\n",
       "      <td>25884323</td>\n",
       "      <td>332732725863131279a8e345b63ac33e</td>\n",
       "      <td>4</td>\n",
       "      <td>I really enjoyed this book, and there is a lot...</td>\n",
       "      <td>Mon Apr 25 09:31:23 -0700 2016</td>\n",
       "      <td>Mon Apr 25 09:31:23 -0700 2016</td>\n",
       "      <td>Sun Jun 26 00:00:00 -0700 2016</td>\n",
       "      <td>Sat May 28 00:00:00 -0700 2016</td>\n",
       "      <td>9</td>\n",
       "      <td>1</td>\n",
       "    </tr>\n",
       "  </tbody>\n",
       "</table>\n",
       "</div>"
      ],
      "text/plain": [
       "                            user_id   book_id  \\\n",
       "0  8842281e1d1347389f2ab93d60773d4d  18245960   \n",
       "1  8842281e1d1347389f2ab93d60773d4d     16981   \n",
       "2  8842281e1d1347389f2ab93d60773d4d  28684704   \n",
       "3  8842281e1d1347389f2ab93d60773d4d  27161156   \n",
       "4  8842281e1d1347389f2ab93d60773d4d  25884323   \n",
       "\n",
       "                          review_id  rating  \\\n",
       "0  dfdbb7b0eb5a7e4c26d59a937e2e5feb       5   \n",
       "1  a5d2c3628987712d0e05c4f90798eb67       3   \n",
       "2  2ede853b14dc4583f96cf5d120af636f       3   \n",
       "3  ced5675e55cd9d38a524743f5c40996e       0   \n",
       "4  332732725863131279a8e345b63ac33e       4   \n",
       "\n",
       "                                         review_text  \\\n",
       "0  This is a special book. It started slow for ab...   \n",
       "1  Recommended by Don Katz. Avail for free in Dec...   \n",
       "2  A fun, fast paced science fiction thriller. I ...   \n",
       "3  Recommended reading to understand what is goin...   \n",
       "4  I really enjoyed this book, and there is a lot...   \n",
       "\n",
       "                       date_added                    date_updated  \\\n",
       "0  Sun Jul 30 07:44:10 -0700 2017  Wed Aug 30 00:00:26 -0700 2017   \n",
       "1  Mon Dec 05 10:46:44 -0800 2016  Wed Mar 22 11:37:04 -0700 2017   \n",
       "2  Tue Nov 15 11:29:22 -0800 2016  Mon Mar 20 23:40:27 -0700 2017   \n",
       "3  Wed Nov 09 17:37:04 -0800 2016  Wed Nov 09 17:38:20 -0800 2016   \n",
       "4  Mon Apr 25 09:31:23 -0700 2016  Mon Apr 25 09:31:23 -0700 2016   \n",
       "\n",
       "                          read_at                      started_at  n_votes  \\\n",
       "0  Sat Aug 26 12:05:52 -0700 2017  Tue Aug 15 13:23:18 -0700 2017       28   \n",
       "1                             NaN                             NaN        1   \n",
       "2  Sat Mar 18 23:22:42 -0700 2017  Fri Mar 17 23:45:40 -0700 2017       22   \n",
       "3                             NaN                             NaN        5   \n",
       "4  Sun Jun 26 00:00:00 -0700 2016  Sat May 28 00:00:00 -0700 2016        9   \n",
       "\n",
       "   n_comments  \n",
       "0           1  \n",
       "1           0  \n",
       "2           0  \n",
       "3           1  \n",
       "4           1  "
      ]
     },
     "execution_count": 4,
     "metadata": {},
     "output_type": "execute_result"
    }
   ],
   "source": [
    "train.head()"
   ]
  },
  {
   "cell_type": "code",
   "execution_count": 5,
   "id": "4dac37ba",
   "metadata": {
    "execution": {
     "iopub.execute_input": "2023-03-12T14:42:08.281183Z",
     "iopub.status.busy": "2023-03-12T14:42:08.280809Z",
     "iopub.status.idle": "2023-03-12T14:42:08.293912Z",
     "shell.execute_reply": "2023-03-12T14:42:08.292911Z"
    },
    "papermill": {
     "duration": 0.027495,
     "end_time": "2023-03-12T14:42:08.295870",
     "exception": false,
     "start_time": "2023-03-12T14:42:08.268375",
     "status": "completed"
    },
    "tags": []
   },
   "outputs": [
    {
     "data": {
      "text/html": [
       "<div>\n",
       "<style scoped>\n",
       "    .dataframe tbody tr th:only-of-type {\n",
       "        vertical-align: middle;\n",
       "    }\n",
       "\n",
       "    .dataframe tbody tr th {\n",
       "        vertical-align: top;\n",
       "    }\n",
       "\n",
       "    .dataframe thead th {\n",
       "        text-align: right;\n",
       "    }\n",
       "</style>\n",
       "<table border=\"1\" class=\"dataframe\">\n",
       "  <thead>\n",
       "    <tr style=\"text-align: right;\">\n",
       "      <th></th>\n",
       "      <th>user_id</th>\n",
       "      <th>book_id</th>\n",
       "      <th>review_id</th>\n",
       "      <th>review_text</th>\n",
       "      <th>date_added</th>\n",
       "      <th>date_updated</th>\n",
       "      <th>read_at</th>\n",
       "      <th>started_at</th>\n",
       "      <th>n_votes</th>\n",
       "      <th>n_comments</th>\n",
       "    </tr>\n",
       "  </thead>\n",
       "  <tbody>\n",
       "    <tr>\n",
       "      <th>0</th>\n",
       "      <td>b9450d1c1f97f891c392b1105959b56e</td>\n",
       "      <td>7092507</td>\n",
       "      <td>5c4df7e70e9b438c761f07a4620ccb7c</td>\n",
       "      <td>** spoiler alert ** \\n This is definitely one ...</td>\n",
       "      <td>Sat Nov 10 06:06:13 -0800 2012</td>\n",
       "      <td>Sun Nov 11 05:38:36 -0800 2012</td>\n",
       "      <td>Sun Nov 11 05:38:36 -0800 2012</td>\n",
       "      <td>Sat Nov 10 00:00:00 -0800 2012</td>\n",
       "      <td>1</td>\n",
       "      <td>0</td>\n",
       "    </tr>\n",
       "    <tr>\n",
       "      <th>1</th>\n",
       "      <td>b9450d1c1f97f891c392b1105959b56e</td>\n",
       "      <td>5576654</td>\n",
       "      <td>8eaeaf13213eeb16ad879a2a2591bbe5</td>\n",
       "      <td>** spoiler alert ** \\n \"You are what you drink...</td>\n",
       "      <td>Fri Nov 09 21:55:16 -0800 2012</td>\n",
       "      <td>Sat Nov 10 05:41:49 -0800 2012</td>\n",
       "      <td>Sat Nov 10 05:41:49 -0800 2012</td>\n",
       "      <td>Fri Nov 09 00:00:00 -0800 2012</td>\n",
       "      <td>1</td>\n",
       "      <td>0</td>\n",
       "    </tr>\n",
       "    <tr>\n",
       "      <th>2</th>\n",
       "      <td>b9450d1c1f97f891c392b1105959b56e</td>\n",
       "      <td>15754052</td>\n",
       "      <td>dce649b733c153ba5363a0413cac988f</td>\n",
       "      <td>Roar is one of my favorite characters in Under...</td>\n",
       "      <td>Fri Nov 09 00:25:50 -0800 2012</td>\n",
       "      <td>Sat Nov 10 06:14:10 -0800 2012</td>\n",
       "      <td>Sat Nov 10 06:14:10 -0800 2012</td>\n",
       "      <td>Fri Nov 09 00:00:00 -0800 2012</td>\n",
       "      <td>0</td>\n",
       "      <td>0</td>\n",
       "    </tr>\n",
       "    <tr>\n",
       "      <th>3</th>\n",
       "      <td>b9450d1c1f97f891c392b1105959b56e</td>\n",
       "      <td>17020</td>\n",
       "      <td>8a46df0bb997269d6834f9437a4b0a77</td>\n",
       "      <td>** spoiler alert ** \\n If you feel like travel...</td>\n",
       "      <td>Thu Nov 01 00:28:39 -0700 2012</td>\n",
       "      <td>Sat Nov 03 11:35:22 -0700 2012</td>\n",
       "      <td>Sat Nov 03 11:35:22 -0700 2012</td>\n",
       "      <td>Thu Nov 01 00:00:00 -0700 2012</td>\n",
       "      <td>0</td>\n",
       "      <td>0</td>\n",
       "    </tr>\n",
       "    <tr>\n",
       "      <th>4</th>\n",
       "      <td>b9450d1c1f97f891c392b1105959b56e</td>\n",
       "      <td>12551082</td>\n",
       "      <td>d11d3091e22f1cf3cb865598de197599</td>\n",
       "      <td>3.5 stars \\n I read and enjoyed the first two ...</td>\n",
       "      <td>Thu Oct 18 00:57:00 -0700 2012</td>\n",
       "      <td>Mon Apr 01 23:00:51 -0700 2013</td>\n",
       "      <td>Sat Mar 30 00:00:00 -0700 2013</td>\n",
       "      <td>Fri Mar 29 00:00:00 -0700 2013</td>\n",
       "      <td>0</td>\n",
       "      <td>0</td>\n",
       "    </tr>\n",
       "  </tbody>\n",
       "</table>\n",
       "</div>"
      ],
      "text/plain": [
       "                            user_id   book_id  \\\n",
       "0  b9450d1c1f97f891c392b1105959b56e   7092507   \n",
       "1  b9450d1c1f97f891c392b1105959b56e   5576654   \n",
       "2  b9450d1c1f97f891c392b1105959b56e  15754052   \n",
       "3  b9450d1c1f97f891c392b1105959b56e     17020   \n",
       "4  b9450d1c1f97f891c392b1105959b56e  12551082   \n",
       "\n",
       "                          review_id  \\\n",
       "0  5c4df7e70e9b438c761f07a4620ccb7c   \n",
       "1  8eaeaf13213eeb16ad879a2a2591bbe5   \n",
       "2  dce649b733c153ba5363a0413cac988f   \n",
       "3  8a46df0bb997269d6834f9437a4b0a77   \n",
       "4  d11d3091e22f1cf3cb865598de197599   \n",
       "\n",
       "                                         review_text  \\\n",
       "0  ** spoiler alert ** \\n This is definitely one ...   \n",
       "1  ** spoiler alert ** \\n \"You are what you drink...   \n",
       "2  Roar is one of my favorite characters in Under...   \n",
       "3  ** spoiler alert ** \\n If you feel like travel...   \n",
       "4  3.5 stars \\n I read and enjoyed the first two ...   \n",
       "\n",
       "                       date_added                    date_updated  \\\n",
       "0  Sat Nov 10 06:06:13 -0800 2012  Sun Nov 11 05:38:36 -0800 2012   \n",
       "1  Fri Nov 09 21:55:16 -0800 2012  Sat Nov 10 05:41:49 -0800 2012   \n",
       "2  Fri Nov 09 00:25:50 -0800 2012  Sat Nov 10 06:14:10 -0800 2012   \n",
       "3  Thu Nov 01 00:28:39 -0700 2012  Sat Nov 03 11:35:22 -0700 2012   \n",
       "4  Thu Oct 18 00:57:00 -0700 2012  Mon Apr 01 23:00:51 -0700 2013   \n",
       "\n",
       "                          read_at                      started_at  n_votes  \\\n",
       "0  Sun Nov 11 05:38:36 -0800 2012  Sat Nov 10 00:00:00 -0800 2012        1   \n",
       "1  Sat Nov 10 05:41:49 -0800 2012  Fri Nov 09 00:00:00 -0800 2012        1   \n",
       "2  Sat Nov 10 06:14:10 -0800 2012  Fri Nov 09 00:00:00 -0800 2012        0   \n",
       "3  Sat Nov 03 11:35:22 -0700 2012  Thu Nov 01 00:00:00 -0700 2012        0   \n",
       "4  Sat Mar 30 00:00:00 -0700 2013  Fri Mar 29 00:00:00 -0700 2013        0   \n",
       "\n",
       "   n_comments  \n",
       "0           0  \n",
       "1           0  \n",
       "2           0  \n",
       "3           0  \n",
       "4           0  "
      ]
     },
     "execution_count": 5,
     "metadata": {},
     "output_type": "execute_result"
    }
   ],
   "source": [
    "test_data.head()"
   ]
  },
  {
   "cell_type": "code",
   "execution_count": 6,
   "id": "ee4f9ea3",
   "metadata": {
    "execution": {
     "iopub.execute_input": "2023-03-12T14:42:08.321751Z",
     "iopub.status.busy": "2023-03-12T14:42:08.321420Z",
     "iopub.status.idle": "2023-03-12T14:42:08.328710Z",
     "shell.execute_reply": "2023-03-12T14:42:08.327332Z"
    },
    "papermill": {
     "duration": 0.022718,
     "end_time": "2023-03-12T14:42:08.331049",
     "exception": false,
     "start_time": "2023-03-12T14:42:08.308331",
     "status": "completed"
    },
    "tags": []
   },
   "outputs": [
    {
     "data": {
      "text/plain": [
       "(900000, 11)"
      ]
     },
     "execution_count": 6,
     "metadata": {},
     "output_type": "execute_result"
    }
   ],
   "source": [
    "train.shape"
   ]
  },
  {
   "cell_type": "code",
   "execution_count": 7,
   "id": "b58cd1e3",
   "metadata": {
    "execution": {
     "iopub.execute_input": "2023-03-12T14:42:08.357433Z",
     "iopub.status.busy": "2023-03-12T14:42:08.357073Z",
     "iopub.status.idle": "2023-03-12T14:42:08.364738Z",
     "shell.execute_reply": "2023-03-12T14:42:08.363180Z"
    },
    "papermill": {
     "duration": 0.024283,
     "end_time": "2023-03-12T14:42:08.367477",
     "exception": false,
     "start_time": "2023-03-12T14:42:08.343194",
     "status": "completed"
    },
    "tags": []
   },
   "outputs": [
    {
     "data": {
      "text/plain": [
       "(478033, 10)"
      ]
     },
     "execution_count": 7,
     "metadata": {},
     "output_type": "execute_result"
    }
   ],
   "source": [
    "test_data.shape"
   ]
  },
  {
   "cell_type": "code",
   "execution_count": 8,
   "id": "fc8f6442",
   "metadata": {
    "execution": {
     "iopub.execute_input": "2023-03-12T14:42:08.394795Z",
     "iopub.status.busy": "2023-03-12T14:42:08.394460Z",
     "iopub.status.idle": "2023-03-12T14:42:08.441611Z",
     "shell.execute_reply": "2023-03-12T14:42:08.440635Z"
    },
    "papermill": {
     "duration": 0.063675,
     "end_time": "2023-03-12T14:42:08.444128",
     "exception": false,
     "start_time": "2023-03-12T14:42:08.380453",
     "status": "completed"
    },
    "tags": []
   },
   "outputs": [
    {
     "data": {
      "text/html": [
       "<div>\n",
       "<style scoped>\n",
       "    .dataframe tbody tr th:only-of-type {\n",
       "        vertical-align: middle;\n",
       "    }\n",
       "\n",
       "    .dataframe tbody tr th {\n",
       "        vertical-align: top;\n",
       "    }\n",
       "\n",
       "    .dataframe thead th {\n",
       "        text-align: right;\n",
       "    }\n",
       "</style>\n",
       "<table border=\"1\" class=\"dataframe\">\n",
       "  <thead>\n",
       "    <tr style=\"text-align: right;\">\n",
       "      <th></th>\n",
       "      <th>user_id</th>\n",
       "      <th>book_id</th>\n",
       "      <th>review_id</th>\n",
       "      <th>rating</th>\n",
       "      <th>review_text</th>\n",
       "      <th>date_added</th>\n",
       "      <th>date_updated</th>\n",
       "      <th>read_at</th>\n",
       "      <th>started_at</th>\n",
       "      <th>n_votes</th>\n",
       "      <th>n_comments</th>\n",
       "    </tr>\n",
       "  </thead>\n",
       "  <tbody>\n",
       "    <tr>\n",
       "      <th>793549</th>\n",
       "      <td>4828ba4c96384ec5a0d8b4818fe22e09</td>\n",
       "      <td>26242642</td>\n",
       "      <td>50d292e0b82b87c4b9e48207be0e707a</td>\n",
       "      <td>4</td>\n",
       "      <td>Three things I loved about this YA novel: (1) ...</td>\n",
       "      <td>Tue Nov 08 09:28:59 -0800 2016</td>\n",
       "      <td>Sat Nov 26 07:17:50 -0800 2016</td>\n",
       "      <td>Fri Nov 25 00:00:00 -0800 2016</td>\n",
       "      <td>Tue Nov 22 00:00:00 -0800 2016</td>\n",
       "      <td>0</td>\n",
       "      <td>0</td>\n",
       "    </tr>\n",
       "    <tr>\n",
       "      <th>41349</th>\n",
       "      <td>8e7e5b546a63cb9add8431ee6914cf59</td>\n",
       "      <td>6457229</td>\n",
       "      <td>1b8b7dd7f44dddee77731aa56fd8bf16</td>\n",
       "      <td>4</td>\n",
       "      <td>I burbled on the the Spouse yesterday about ho...</td>\n",
       "      <td>Tue Jul 08 13:06:38 -0700 2014</td>\n",
       "      <td>Sun Aug 27 06:40:47 -0700 2017</td>\n",
       "      <td>Mon Nov 01 00:00:00 -0700 2010</td>\n",
       "      <td>NaN</td>\n",
       "      <td>0</td>\n",
       "      <td>0</td>\n",
       "    </tr>\n",
       "    <tr>\n",
       "      <th>318481</th>\n",
       "      <td>913cd593a90ebd5455e7db3a082530e6</td>\n",
       "      <td>6567017</td>\n",
       "      <td>f4bf23fc0e135c6259a12488ac0f256f</td>\n",
       "      <td>5</td>\n",
       "      <td>Read for a second time in my giddy impatience ...</td>\n",
       "      <td>Tue Jan 18 16:38:13 -0800 2011</td>\n",
       "      <td>Mon Jan 05 07:00:35 -0800 2015</td>\n",
       "      <td>Mon Jan 09 00:00:00 -0800 2012</td>\n",
       "      <td>NaN</td>\n",
       "      <td>1</td>\n",
       "      <td>2</td>\n",
       "    </tr>\n",
       "    <tr>\n",
       "      <th>713073</th>\n",
       "      <td>39b03348f2fc24c8cfcd05affa61858f</td>\n",
       "      <td>8755776</td>\n",
       "      <td>1eeffb9c665272965b5dfbdf609227bf</td>\n",
       "      <td>4</td>\n",
       "      <td>Loved it as usual!!!</td>\n",
       "      <td>Tue Apr 07 06:38:03 -0700 2015</td>\n",
       "      <td>Sat Dec 19 06:44:44 -0800 2015</td>\n",
       "      <td>Sat Dec 19 06:44:44 -0800 2015</td>\n",
       "      <td>Mon Dec 14 00:00:00 -0800 2015</td>\n",
       "      <td>0</td>\n",
       "      <td>0</td>\n",
       "    </tr>\n",
       "    <tr>\n",
       "      <th>573078</th>\n",
       "      <td>d3bb92491935a6efe3c3aa21ad683e7e</td>\n",
       "      <td>9462812</td>\n",
       "      <td>be2c27ac43f505cfa41849609a5a08ea</td>\n",
       "      <td>4</td>\n",
       "      <td>I really like this series.. my only issue was ...</td>\n",
       "      <td>Thu Aug 28 21:25:45 -0700 2014</td>\n",
       "      <td>Mon Mar 09 06:06:03 -0700 2015</td>\n",
       "      <td>Sun Mar 08 00:00:00 -0800 2015</td>\n",
       "      <td>NaN</td>\n",
       "      <td>0</td>\n",
       "      <td>0</td>\n",
       "    </tr>\n",
       "  </tbody>\n",
       "</table>\n",
       "</div>"
      ],
      "text/plain": [
       "                                 user_id   book_id  \\\n",
       "793549  4828ba4c96384ec5a0d8b4818fe22e09  26242642   \n",
       "41349   8e7e5b546a63cb9add8431ee6914cf59   6457229   \n",
       "318481  913cd593a90ebd5455e7db3a082530e6   6567017   \n",
       "713073  39b03348f2fc24c8cfcd05affa61858f   8755776   \n",
       "573078  d3bb92491935a6efe3c3aa21ad683e7e   9462812   \n",
       "\n",
       "                               review_id  rating  \\\n",
       "793549  50d292e0b82b87c4b9e48207be0e707a       4   \n",
       "41349   1b8b7dd7f44dddee77731aa56fd8bf16       4   \n",
       "318481  f4bf23fc0e135c6259a12488ac0f256f       5   \n",
       "713073  1eeffb9c665272965b5dfbdf609227bf       4   \n",
       "573078  be2c27ac43f505cfa41849609a5a08ea       4   \n",
       "\n",
       "                                              review_text  \\\n",
       "793549  Three things I loved about this YA novel: (1) ...   \n",
       "41349   I burbled on the the Spouse yesterday about ho...   \n",
       "318481  Read for a second time in my giddy impatience ...   \n",
       "713073                               Loved it as usual!!!   \n",
       "573078  I really like this series.. my only issue was ...   \n",
       "\n",
       "                            date_added                    date_updated  \\\n",
       "793549  Tue Nov 08 09:28:59 -0800 2016  Sat Nov 26 07:17:50 -0800 2016   \n",
       "41349   Tue Jul 08 13:06:38 -0700 2014  Sun Aug 27 06:40:47 -0700 2017   \n",
       "318481  Tue Jan 18 16:38:13 -0800 2011  Mon Jan 05 07:00:35 -0800 2015   \n",
       "713073  Tue Apr 07 06:38:03 -0700 2015  Sat Dec 19 06:44:44 -0800 2015   \n",
       "573078  Thu Aug 28 21:25:45 -0700 2014  Mon Mar 09 06:06:03 -0700 2015   \n",
       "\n",
       "                               read_at                      started_at  \\\n",
       "793549  Fri Nov 25 00:00:00 -0800 2016  Tue Nov 22 00:00:00 -0800 2016   \n",
       "41349   Mon Nov 01 00:00:00 -0700 2010                             NaN   \n",
       "318481  Mon Jan 09 00:00:00 -0800 2012                             NaN   \n",
       "713073  Sat Dec 19 06:44:44 -0800 2015  Mon Dec 14 00:00:00 -0800 2015   \n",
       "573078  Sun Mar 08 00:00:00 -0800 2015                             NaN   \n",
       "\n",
       "        n_votes  n_comments  \n",
       "793549        0           0  \n",
       "41349         0           0  \n",
       "318481        1           2  \n",
       "713073        0           0  \n",
       "573078        0           0  "
      ]
     },
     "execution_count": 8,
     "metadata": {},
     "output_type": "execute_result"
    }
   ],
   "source": [
    "train.sample(5)"
   ]
  },
  {
   "cell_type": "code",
   "execution_count": 9,
   "id": "47ae1968",
   "metadata": {
    "execution": {
     "iopub.execute_input": "2023-03-12T14:42:08.472765Z",
     "iopub.status.busy": "2023-03-12T14:42:08.471231Z",
     "iopub.status.idle": "2023-03-12T14:42:08.823727Z",
     "shell.execute_reply": "2023-03-12T14:42:08.821925Z"
    },
    "papermill": {
     "duration": 0.368182,
     "end_time": "2023-03-12T14:42:08.825684",
     "exception": false,
     "start_time": "2023-03-12T14:42:08.457502",
     "status": "completed"
    },
    "tags": []
   },
   "outputs": [
    {
     "name": "stdout",
     "output_type": "stream",
     "text": [
      "<class 'pandas.core.frame.DataFrame'>\n",
      "RangeIndex: 900000 entries, 0 to 899999\n",
      "Data columns (total 11 columns):\n",
      " #   Column        Non-Null Count   Dtype \n",
      "---  ------        --------------   ----- \n",
      " 0   user_id       900000 non-null  object\n",
      " 1   book_id       900000 non-null  int64 \n",
      " 2   review_id     900000 non-null  object\n",
      " 3   rating        900000 non-null  int64 \n",
      " 4   review_text   900000 non-null  object\n",
      " 5   date_added    900000 non-null  object\n",
      " 6   date_updated  900000 non-null  object\n",
      " 7   read_at       808234 non-null  object\n",
      " 8   started_at    625703 non-null  object\n",
      " 9   n_votes       900000 non-null  int64 \n",
      " 10  n_comments    900000 non-null  int64 \n",
      "dtypes: int64(4), object(7)\n",
      "memory usage: 75.5+ MB\n"
     ]
    }
   ],
   "source": [
    "train.info()"
   ]
  },
  {
   "cell_type": "code",
   "execution_count": 10,
   "id": "f2c740c3",
   "metadata": {
    "execution": {
     "iopub.execute_input": "2023-03-12T14:42:08.851905Z",
     "iopub.status.busy": "2023-03-12T14:42:08.851537Z",
     "iopub.status.idle": "2023-03-12T14:42:09.038243Z",
     "shell.execute_reply": "2023-03-12T14:42:09.037161Z"
    },
    "papermill": {
     "duration": 0.202909,
     "end_time": "2023-03-12T14:42:09.040921",
     "exception": false,
     "start_time": "2023-03-12T14:42:08.838012",
     "status": "completed"
    },
    "tags": []
   },
   "outputs": [
    {
     "name": "stdout",
     "output_type": "stream",
     "text": [
      "<class 'pandas.core.frame.DataFrame'>\n",
      "RangeIndex: 478033 entries, 0 to 478032\n",
      "Data columns (total 10 columns):\n",
      " #   Column        Non-Null Count   Dtype \n",
      "---  ------        --------------   ----- \n",
      " 0   user_id       478033 non-null  object\n",
      " 1   book_id       478033 non-null  int64 \n",
      " 2   review_id     478033 non-null  object\n",
      " 3   review_text   478033 non-null  object\n",
      " 4   date_added    478033 non-null  object\n",
      " 5   date_updated  478033 non-null  object\n",
      " 6   read_at       435555 non-null  object\n",
      " 7   started_at    334989 non-null  object\n",
      " 8   n_votes       478033 non-null  int64 \n",
      " 9   n_comments    478033 non-null  int64 \n",
      "dtypes: int64(3), object(7)\n",
      "memory usage: 36.5+ MB\n"
     ]
    }
   ],
   "source": [
    "test_data.info()"
   ]
  },
  {
   "cell_type": "code",
   "execution_count": 11,
   "id": "ccec6f99",
   "metadata": {
    "execution": {
     "iopub.execute_input": "2023-03-12T14:42:09.067877Z",
     "iopub.status.busy": "2023-03-12T14:42:09.067531Z",
     "iopub.status.idle": "2023-03-12T14:42:09.413972Z",
     "shell.execute_reply": "2023-03-12T14:42:09.411901Z"
    },
    "papermill": {
     "duration": 0.363,
     "end_time": "2023-03-12T14:42:09.416675",
     "exception": false,
     "start_time": "2023-03-12T14:42:09.053675",
     "status": "completed"
    },
    "tags": []
   },
   "outputs": [
    {
     "data": {
      "text/plain": [
       "user_id          0.000000\n",
       "book_id          0.000000\n",
       "review_id        0.000000\n",
       "rating           0.000000\n",
       "review_text      0.000000\n",
       "date_added       0.000000\n",
       "date_updated     0.000000\n",
       "read_at         10.196222\n",
       "started_at      30.477444\n",
       "n_votes          0.000000\n",
       "n_comments       0.000000\n",
       "dtype: float64"
      ]
     },
     "execution_count": 11,
     "metadata": {},
     "output_type": "execute_result"
    }
   ],
   "source": [
    "train.isnull().mean()*100"
   ]
  },
  {
   "cell_type": "code",
   "execution_count": 12,
   "id": "45d848eb",
   "metadata": {
    "execution": {
     "iopub.execute_input": "2023-03-12T14:42:09.446774Z",
     "iopub.status.busy": "2023-03-12T14:42:09.445795Z",
     "iopub.status.idle": "2023-03-12T14:42:09.633910Z",
     "shell.execute_reply": "2023-03-12T14:42:09.632669Z"
    },
    "papermill": {
     "duration": 0.206128,
     "end_time": "2023-03-12T14:42:09.636322",
     "exception": false,
     "start_time": "2023-03-12T14:42:09.430194",
     "status": "completed"
    },
    "tags": []
   },
   "outputs": [
    {
     "data": {
      "text/plain": [
       "user_id          0.000000\n",
       "book_id          0.000000\n",
       "review_id        0.000000\n",
       "review_text      0.000000\n",
       "date_added       0.000000\n",
       "date_updated     0.000000\n",
       "read_at          8.885997\n",
       "started_at      29.923457\n",
       "n_votes          0.000000\n",
       "n_comments       0.000000\n",
       "dtype: float64"
      ]
     },
     "execution_count": 12,
     "metadata": {},
     "output_type": "execute_result"
    }
   ],
   "source": [
    "test_data.isnull().mean()*100"
   ]
  },
  {
   "cell_type": "code",
   "execution_count": 13,
   "id": "c04d8492",
   "metadata": {
    "execution": {
     "iopub.execute_input": "2023-03-12T14:42:09.665493Z",
     "iopub.status.busy": "2023-03-12T14:42:09.665104Z",
     "iopub.status.idle": "2023-03-12T14:42:13.595192Z",
     "shell.execute_reply": "2023-03-12T14:42:13.593229Z"
    },
    "papermill": {
     "duration": 3.94785,
     "end_time": "2023-03-12T14:42:13.598138",
     "exception": false,
     "start_time": "2023-03-12T14:42:09.650288",
     "status": "completed"
    },
    "tags": []
   },
   "outputs": [
    {
     "data": {
      "text/plain": [
       "0"
      ]
     },
     "execution_count": 13,
     "metadata": {},
     "output_type": "execute_result"
    }
   ],
   "source": [
    "train.duplicated().sum()"
   ]
  },
  {
   "cell_type": "code",
   "execution_count": 14,
   "id": "99f09cc8",
   "metadata": {
    "execution": {
     "iopub.execute_input": "2023-03-12T14:42:13.626910Z",
     "iopub.status.busy": "2023-03-12T14:42:13.626576Z",
     "iopub.status.idle": "2023-03-12T14:42:15.685331Z",
     "shell.execute_reply": "2023-03-12T14:42:15.683992Z"
    },
    "papermill": {
     "duration": 2.076594,
     "end_time": "2023-03-12T14:42:15.688511",
     "exception": false,
     "start_time": "2023-03-12T14:42:13.611917",
     "status": "completed"
    },
    "tags": []
   },
   "outputs": [
    {
     "data": {
      "text/plain": [
       "0"
      ]
     },
     "execution_count": 14,
     "metadata": {},
     "output_type": "execute_result"
    }
   ],
   "source": [
    "test_data.duplicated().sum()"
   ]
  },
  {
   "cell_type": "markdown",
   "id": "9bcf6804",
   "metadata": {
    "papermill": {
     "duration": 0.013458,
     "end_time": "2023-03-12T14:42:15.715645",
     "exception": false,
     "start_time": "2023-03-12T14:42:15.702187",
     "status": "completed"
    },
    "tags": []
   },
   "source": [
    "# **Data Cleaning / Preprocessing**"
   ]
  },
  {
   "cell_type": "code",
   "execution_count": 15,
   "id": "7f397eb9",
   "metadata": {
    "execution": {
     "iopub.execute_input": "2023-03-12T14:42:15.745023Z",
     "iopub.status.busy": "2023-03-12T14:42:15.744500Z",
     "iopub.status.idle": "2023-03-12T14:42:15.758534Z",
     "shell.execute_reply": "2023-03-12T14:42:15.757046Z"
    },
    "papermill": {
     "duration": 0.031863,
     "end_time": "2023-03-12T14:42:15.761130",
     "exception": false,
     "start_time": "2023-03-12T14:42:15.729267",
     "status": "completed"
    },
    "tags": []
   },
   "outputs": [
    {
     "data": {
      "text/html": [
       "<div>\n",
       "<style scoped>\n",
       "    .dataframe tbody tr th:only-of-type {\n",
       "        vertical-align: middle;\n",
       "    }\n",
       "\n",
       "    .dataframe tbody tr th {\n",
       "        vertical-align: top;\n",
       "    }\n",
       "\n",
       "    .dataframe thead th {\n",
       "        text-align: right;\n",
       "    }\n",
       "</style>\n",
       "<table border=\"1\" class=\"dataframe\">\n",
       "  <thead>\n",
       "    <tr style=\"text-align: right;\">\n",
       "      <th></th>\n",
       "      <th>user_id</th>\n",
       "      <th>book_id</th>\n",
       "      <th>review_id</th>\n",
       "      <th>rating</th>\n",
       "      <th>review_text</th>\n",
       "      <th>date_added</th>\n",
       "      <th>date_updated</th>\n",
       "      <th>read_at</th>\n",
       "      <th>started_at</th>\n",
       "      <th>n_votes</th>\n",
       "      <th>n_comments</th>\n",
       "    </tr>\n",
       "  </thead>\n",
       "  <tbody>\n",
       "    <tr>\n",
       "      <th>0</th>\n",
       "      <td>8842281e1d1347389f2ab93d60773d4d</td>\n",
       "      <td>18245960</td>\n",
       "      <td>dfdbb7b0eb5a7e4c26d59a937e2e5feb</td>\n",
       "      <td>5</td>\n",
       "      <td>This is a special book. It started slow for ab...</td>\n",
       "      <td>Sun Jul 30 07:44:10 -0700 2017</td>\n",
       "      <td>Wed Aug 30 00:00:26 -0700 2017</td>\n",
       "      <td>Sat Aug 26 12:05:52 -0700 2017</td>\n",
       "      <td>Tue Aug 15 13:23:18 -0700 2017</td>\n",
       "      <td>28</td>\n",
       "      <td>1</td>\n",
       "    </tr>\n",
       "    <tr>\n",
       "      <th>1</th>\n",
       "      <td>8842281e1d1347389f2ab93d60773d4d</td>\n",
       "      <td>16981</td>\n",
       "      <td>a5d2c3628987712d0e05c4f90798eb67</td>\n",
       "      <td>3</td>\n",
       "      <td>Recommended by Don Katz. Avail for free in Dec...</td>\n",
       "      <td>Mon Dec 05 10:46:44 -0800 2016</td>\n",
       "      <td>Wed Mar 22 11:37:04 -0700 2017</td>\n",
       "      <td>NaN</td>\n",
       "      <td>NaN</td>\n",
       "      <td>1</td>\n",
       "      <td>0</td>\n",
       "    </tr>\n",
       "    <tr>\n",
       "      <th>2</th>\n",
       "      <td>8842281e1d1347389f2ab93d60773d4d</td>\n",
       "      <td>28684704</td>\n",
       "      <td>2ede853b14dc4583f96cf5d120af636f</td>\n",
       "      <td>3</td>\n",
       "      <td>A fun, fast paced science fiction thriller. I ...</td>\n",
       "      <td>Tue Nov 15 11:29:22 -0800 2016</td>\n",
       "      <td>Mon Mar 20 23:40:27 -0700 2017</td>\n",
       "      <td>Sat Mar 18 23:22:42 -0700 2017</td>\n",
       "      <td>Fri Mar 17 23:45:40 -0700 2017</td>\n",
       "      <td>22</td>\n",
       "      <td>0</td>\n",
       "    </tr>\n",
       "    <tr>\n",
       "      <th>3</th>\n",
       "      <td>8842281e1d1347389f2ab93d60773d4d</td>\n",
       "      <td>27161156</td>\n",
       "      <td>ced5675e55cd9d38a524743f5c40996e</td>\n",
       "      <td>0</td>\n",
       "      <td>Recommended reading to understand what is goin...</td>\n",
       "      <td>Wed Nov 09 17:37:04 -0800 2016</td>\n",
       "      <td>Wed Nov 09 17:38:20 -0800 2016</td>\n",
       "      <td>NaN</td>\n",
       "      <td>NaN</td>\n",
       "      <td>5</td>\n",
       "      <td>1</td>\n",
       "    </tr>\n",
       "    <tr>\n",
       "      <th>4</th>\n",
       "      <td>8842281e1d1347389f2ab93d60773d4d</td>\n",
       "      <td>25884323</td>\n",
       "      <td>332732725863131279a8e345b63ac33e</td>\n",
       "      <td>4</td>\n",
       "      <td>I really enjoyed this book, and there is a lot...</td>\n",
       "      <td>Mon Apr 25 09:31:23 -0700 2016</td>\n",
       "      <td>Mon Apr 25 09:31:23 -0700 2016</td>\n",
       "      <td>Sun Jun 26 00:00:00 -0700 2016</td>\n",
       "      <td>Sat May 28 00:00:00 -0700 2016</td>\n",
       "      <td>9</td>\n",
       "      <td>1</td>\n",
       "    </tr>\n",
       "  </tbody>\n",
       "</table>\n",
       "</div>"
      ],
      "text/plain": [
       "                            user_id   book_id  \\\n",
       "0  8842281e1d1347389f2ab93d60773d4d  18245960   \n",
       "1  8842281e1d1347389f2ab93d60773d4d     16981   \n",
       "2  8842281e1d1347389f2ab93d60773d4d  28684704   \n",
       "3  8842281e1d1347389f2ab93d60773d4d  27161156   \n",
       "4  8842281e1d1347389f2ab93d60773d4d  25884323   \n",
       "\n",
       "                          review_id  rating  \\\n",
       "0  dfdbb7b0eb5a7e4c26d59a937e2e5feb       5   \n",
       "1  a5d2c3628987712d0e05c4f90798eb67       3   \n",
       "2  2ede853b14dc4583f96cf5d120af636f       3   \n",
       "3  ced5675e55cd9d38a524743f5c40996e       0   \n",
       "4  332732725863131279a8e345b63ac33e       4   \n",
       "\n",
       "                                         review_text  \\\n",
       "0  This is a special book. It started slow for ab...   \n",
       "1  Recommended by Don Katz. Avail for free in Dec...   \n",
       "2  A fun, fast paced science fiction thriller. I ...   \n",
       "3  Recommended reading to understand what is goin...   \n",
       "4  I really enjoyed this book, and there is a lot...   \n",
       "\n",
       "                       date_added                    date_updated  \\\n",
       "0  Sun Jul 30 07:44:10 -0700 2017  Wed Aug 30 00:00:26 -0700 2017   \n",
       "1  Mon Dec 05 10:46:44 -0800 2016  Wed Mar 22 11:37:04 -0700 2017   \n",
       "2  Tue Nov 15 11:29:22 -0800 2016  Mon Mar 20 23:40:27 -0700 2017   \n",
       "3  Wed Nov 09 17:37:04 -0800 2016  Wed Nov 09 17:38:20 -0800 2016   \n",
       "4  Mon Apr 25 09:31:23 -0700 2016  Mon Apr 25 09:31:23 -0700 2016   \n",
       "\n",
       "                          read_at                      started_at  n_votes  \\\n",
       "0  Sat Aug 26 12:05:52 -0700 2017  Tue Aug 15 13:23:18 -0700 2017       28   \n",
       "1                             NaN                             NaN        1   \n",
       "2  Sat Mar 18 23:22:42 -0700 2017  Fri Mar 17 23:45:40 -0700 2017       22   \n",
       "3                             NaN                             NaN        5   \n",
       "4  Sun Jun 26 00:00:00 -0700 2016  Sat May 28 00:00:00 -0700 2016        9   \n",
       "\n",
       "   n_comments  \n",
       "0           1  \n",
       "1           0  \n",
       "2           0  \n",
       "3           1  \n",
       "4           1  "
      ]
     },
     "execution_count": 15,
     "metadata": {},
     "output_type": "execute_result"
    }
   ],
   "source": [
    "train.head()"
   ]
  },
  {
   "cell_type": "code",
   "execution_count": 16,
   "id": "e970539d",
   "metadata": {
    "execution": {
     "iopub.execute_input": "2023-03-12T14:42:15.790857Z",
     "iopub.status.busy": "2023-03-12T14:42:15.789774Z",
     "iopub.status.idle": "2023-03-12T14:42:15.819985Z",
     "shell.execute_reply": "2023-03-12T14:42:15.818055Z"
    },
    "papermill": {
     "duration": 0.048099,
     "end_time": "2023-03-12T14:42:15.822813",
     "exception": false,
     "start_time": "2023-03-12T14:42:15.774714",
     "status": "completed"
    },
    "tags": []
   },
   "outputs": [],
   "source": [
    "train = train[[\"review_text\", \"rating\"]].iloc[:20000,:]\n",
    "test = train[[\"review_text\"]]"
   ]
  },
  {
   "cell_type": "code",
   "execution_count": 17,
   "id": "8590bfa0",
   "metadata": {
    "execution": {
     "iopub.execute_input": "2023-03-12T14:42:15.852106Z",
     "iopub.status.busy": "2023-03-12T14:42:15.851779Z",
     "iopub.status.idle": "2023-03-12T14:42:15.858718Z",
     "shell.execute_reply": "2023-03-12T14:42:15.857107Z"
    },
    "papermill": {
     "duration": 0.024143,
     "end_time": "2023-03-12T14:42:15.861035",
     "exception": false,
     "start_time": "2023-03-12T14:42:15.836892",
     "status": "completed"
    },
    "tags": []
   },
   "outputs": [
    {
     "data": {
      "text/plain": [
       "(20000, 2)"
      ]
     },
     "execution_count": 17,
     "metadata": {},
     "output_type": "execute_result"
    }
   ],
   "source": [
    "train.shape"
   ]
  },
  {
   "cell_type": "code",
   "execution_count": 18,
   "id": "2536214c",
   "metadata": {
    "execution": {
     "iopub.execute_input": "2023-03-12T14:42:15.889758Z",
     "iopub.status.busy": "2023-03-12T14:42:15.889385Z",
     "iopub.status.idle": "2023-03-12T14:42:15.900617Z",
     "shell.execute_reply": "2023-03-12T14:42:15.898786Z"
    },
    "papermill": {
     "duration": 0.028812,
     "end_time": "2023-03-12T14:42:15.903372",
     "exception": false,
     "start_time": "2023-03-12T14:42:15.874560",
     "status": "completed"
    },
    "tags": []
   },
   "outputs": [
    {
     "data": {
      "text/html": [
       "<div>\n",
       "<style scoped>\n",
       "    .dataframe tbody tr th:only-of-type {\n",
       "        vertical-align: middle;\n",
       "    }\n",
       "\n",
       "    .dataframe tbody tr th {\n",
       "        vertical-align: top;\n",
       "    }\n",
       "\n",
       "    .dataframe thead th {\n",
       "        text-align: right;\n",
       "    }\n",
       "</style>\n",
       "<table border=\"1\" class=\"dataframe\">\n",
       "  <thead>\n",
       "    <tr style=\"text-align: right;\">\n",
       "      <th></th>\n",
       "      <th>review_text</th>\n",
       "      <th>rating</th>\n",
       "    </tr>\n",
       "  </thead>\n",
       "  <tbody>\n",
       "    <tr>\n",
       "      <th>0</th>\n",
       "      <td>This is a special book. It started slow for ab...</td>\n",
       "      <td>5</td>\n",
       "    </tr>\n",
       "    <tr>\n",
       "      <th>1</th>\n",
       "      <td>Recommended by Don Katz. Avail for free in Dec...</td>\n",
       "      <td>3</td>\n",
       "    </tr>\n",
       "    <tr>\n",
       "      <th>2</th>\n",
       "      <td>A fun, fast paced science fiction thriller. I ...</td>\n",
       "      <td>3</td>\n",
       "    </tr>\n",
       "    <tr>\n",
       "      <th>3</th>\n",
       "      <td>Recommended reading to understand what is goin...</td>\n",
       "      <td>0</td>\n",
       "    </tr>\n",
       "    <tr>\n",
       "      <th>4</th>\n",
       "      <td>I really enjoyed this book, and there is a lot...</td>\n",
       "      <td>4</td>\n",
       "    </tr>\n",
       "  </tbody>\n",
       "</table>\n",
       "</div>"
      ],
      "text/plain": [
       "                                         review_text  rating\n",
       "0  This is a special book. It started slow for ab...       5\n",
       "1  Recommended by Don Katz. Avail for free in Dec...       3\n",
       "2  A fun, fast paced science fiction thriller. I ...       3\n",
       "3  Recommended reading to understand what is goin...       0\n",
       "4  I really enjoyed this book, and there is a lot...       4"
      ]
     },
     "execution_count": 18,
     "metadata": {},
     "output_type": "execute_result"
    }
   ],
   "source": [
    "train.head()"
   ]
  },
  {
   "cell_type": "code",
   "execution_count": 19,
   "id": "73b94c55",
   "metadata": {
    "execution": {
     "iopub.execute_input": "2023-03-12T14:42:15.932304Z",
     "iopub.status.busy": "2023-03-12T14:42:15.931952Z",
     "iopub.status.idle": "2023-03-12T14:42:15.940889Z",
     "shell.execute_reply": "2023-03-12T14:42:15.939185Z"
    },
    "papermill": {
     "duration": 0.026619,
     "end_time": "2023-03-12T14:42:15.943818",
     "exception": false,
     "start_time": "2023-03-12T14:42:15.917199",
     "status": "completed"
    },
    "tags": []
   },
   "outputs": [
    {
     "data": {
      "text/plain": [
       "'This is a special book. It started slow for about the first third, then in the middle third it started to get interesting, then the last third blew my mind. This is what I love about good science fiction - it pushes your thinking about where things can go. \\n It is a 2015 Hugo winner, and translated from its original Chinese, which made it interesting in just a different way from most things I\\'ve read. For instance the intermixing of Chinese revolutionary history - how they kept accusing people of being \"reactionaries\", etc. \\n It is a book about science, and aliens. The science described in the book is impressive - its a book grounded in physics and pretty accurate as far as I could tell. (view spoiler)[Though when it got to folding protons into 8 dimensions I think he was just making stuff up - interesting to think about though. \\n But what would happen if our SETI stations received a message - if we found someone was out there - and the person monitoring and answering the signal on our side was disillusioned? That part of the book was a bit dark - I would like to think human reaction to discovering alien civilization that is hostile would be more like Enders Game where we would band together. \\n I did like how the book unveiled the Trisolaran culture through the game. It was a smart way to build empathy with them and also understand what they\\'ve gone through across so many centuries. And who know a 3 body problem was an unsolvable math problem? But I still don\\'t get who made the game - maybe that will come in the next book. \\n I loved this quote: \\n \"In the long history of scientific progress, how many protons have been smashed apart in accelerators by physicists? How many neutrons and electrons? Probably no fewer than a hundred million. Every collision was probably the end of the civilizations and intelligences in a microcosmos. In fact, even in nature, the destruction of universes must be happening at every second--for example, through the decay of neutrons. Also, a high-energy cosmic ray entering the atmosphere may destroy thousands of such miniature universes....\" \\n (hide spoiler)]'"
      ]
     },
     "execution_count": 19,
     "metadata": {},
     "output_type": "execute_result"
    }
   ],
   "source": [
    "train[\"review_text\"][0]"
   ]
  },
  {
   "cell_type": "code",
   "execution_count": 20,
   "id": "52881207",
   "metadata": {
    "execution": {
     "iopub.execute_input": "2023-03-12T14:42:15.973234Z",
     "iopub.status.busy": "2023-03-12T14:42:15.972906Z",
     "iopub.status.idle": "2023-03-12T14:42:15.982220Z",
     "shell.execute_reply": "2023-03-12T14:42:15.980458Z"
    },
    "papermill": {
     "duration": 0.026976,
     "end_time": "2023-03-12T14:42:15.984932",
     "exception": false,
     "start_time": "2023-03-12T14:42:15.957956",
     "status": "completed"
    },
    "tags": []
   },
   "outputs": [
    {
     "data": {
      "text/plain": [
       "4    7204\n",
       "5    6294\n",
       "3    4204\n",
       "2    1366\n",
       "1     509\n",
       "0     423\n",
       "Name: rating, dtype: int64"
      ]
     },
     "execution_count": 20,
     "metadata": {},
     "output_type": "execute_result"
    }
   ],
   "source": [
    "train[\"rating\"].value_counts()"
   ]
  },
  {
   "cell_type": "code",
   "execution_count": 21,
   "id": "d472a7d8",
   "metadata": {
    "execution": {
     "iopub.execute_input": "2023-03-12T14:42:16.013632Z",
     "iopub.status.busy": "2023-03-12T14:42:16.013271Z",
     "iopub.status.idle": "2023-03-12T14:42:16.019558Z",
     "shell.execute_reply": "2023-03-12T14:42:16.018258Z"
    },
    "papermill": {
     "duration": 0.023851,
     "end_time": "2023-03-12T14:42:16.022102",
     "exception": false,
     "start_time": "2023-03-12T14:42:15.998251",
     "status": "completed"
    },
    "tags": []
   },
   "outputs": [],
   "source": [
    "#REMOVING LINKS, PUNCTUATIONS and CREATING TOKENS(TOKENISATION)\n",
    "\n",
    "def preprocessing1(text):\n",
    "    te = re.sub(r'http\\S+', \"\", text)\n",
    "    tokens = word_tokenize(te)\n",
    "    \n",
    "    punctuations = string.punctuation\n",
    "    txt = []\n",
    "    for i in tokens:\n",
    "        if i not in punctuations:\n",
    "            txt.append(i)\n",
    "    return txt"
   ]
  },
  {
   "cell_type": "code",
   "execution_count": 22,
   "id": "c581e7b7",
   "metadata": {
    "execution": {
     "iopub.execute_input": "2023-03-12T14:42:16.051227Z",
     "iopub.status.busy": "2023-03-12T14:42:16.050607Z",
     "iopub.status.idle": "2023-03-12T14:42:44.713124Z",
     "shell.execute_reply": "2023-03-12T14:42:44.711596Z"
    },
    "papermill": {
     "duration": 28.680385,
     "end_time": "2023-03-12T14:42:44.716034",
     "exception": false,
     "start_time": "2023-03-12T14:42:16.035649",
     "status": "completed"
    },
    "tags": []
   },
   "outputs": [],
   "source": [
    "train[\"review_text\"] = train[\"review_text\"].apply(preprocessing1)"
   ]
  },
  {
   "cell_type": "code",
   "execution_count": 23,
   "id": "203a5f49",
   "metadata": {
    "execution": {
     "iopub.execute_input": "2023-03-12T14:42:44.746048Z",
     "iopub.status.busy": "2023-03-12T14:42:44.745432Z",
     "iopub.status.idle": "2023-03-12T14:42:44.756935Z",
     "shell.execute_reply": "2023-03-12T14:42:44.755732Z"
    },
    "papermill": {
     "duration": 0.029208,
     "end_time": "2023-03-12T14:42:44.759003",
     "exception": false,
     "start_time": "2023-03-12T14:42:44.729795",
     "status": "completed"
    },
    "tags": []
   },
   "outputs": [
    {
     "data": {
      "text/plain": [
       "['This',\n",
       " 'is',\n",
       " 'a',\n",
       " 'special',\n",
       " 'book',\n",
       " 'It',\n",
       " 'started',\n",
       " 'slow',\n",
       " 'for',\n",
       " 'about',\n",
       " 'the',\n",
       " 'first',\n",
       " 'third',\n",
       " 'then',\n",
       " 'in',\n",
       " 'the',\n",
       " 'middle',\n",
       " 'third',\n",
       " 'it',\n",
       " 'started',\n",
       " 'to',\n",
       " 'get',\n",
       " 'interesting',\n",
       " 'then',\n",
       " 'the',\n",
       " 'last',\n",
       " 'third',\n",
       " 'blew',\n",
       " 'my',\n",
       " 'mind',\n",
       " 'This',\n",
       " 'is',\n",
       " 'what',\n",
       " 'I',\n",
       " 'love',\n",
       " 'about',\n",
       " 'good',\n",
       " 'science',\n",
       " 'fiction',\n",
       " 'it',\n",
       " 'pushes',\n",
       " 'your',\n",
       " 'thinking',\n",
       " 'about',\n",
       " 'where',\n",
       " 'things',\n",
       " 'can',\n",
       " 'go',\n",
       " 'It',\n",
       " 'is',\n",
       " 'a',\n",
       " '2015',\n",
       " 'Hugo',\n",
       " 'winner',\n",
       " 'and',\n",
       " 'translated',\n",
       " 'from',\n",
       " 'its',\n",
       " 'original',\n",
       " 'Chinese',\n",
       " 'which',\n",
       " 'made',\n",
       " 'it',\n",
       " 'interesting',\n",
       " 'in',\n",
       " 'just',\n",
       " 'a',\n",
       " 'different',\n",
       " 'way',\n",
       " 'from',\n",
       " 'most',\n",
       " 'things',\n",
       " 'I',\n",
       " \"'ve\",\n",
       " 'read',\n",
       " 'For',\n",
       " 'instance',\n",
       " 'the',\n",
       " 'intermixing',\n",
       " 'of',\n",
       " 'Chinese',\n",
       " 'revolutionary',\n",
       " 'history',\n",
       " 'how',\n",
       " 'they',\n",
       " 'kept',\n",
       " 'accusing',\n",
       " 'people',\n",
       " 'of',\n",
       " 'being',\n",
       " '``',\n",
       " 'reactionaries',\n",
       " \"''\",\n",
       " 'etc',\n",
       " 'It',\n",
       " 'is',\n",
       " 'a',\n",
       " 'book',\n",
       " 'about',\n",
       " 'science',\n",
       " 'and',\n",
       " 'aliens',\n",
       " 'The',\n",
       " 'science',\n",
       " 'described',\n",
       " 'in',\n",
       " 'the',\n",
       " 'book',\n",
       " 'is',\n",
       " 'impressive',\n",
       " 'its',\n",
       " 'a',\n",
       " 'book',\n",
       " 'grounded',\n",
       " 'in',\n",
       " 'physics',\n",
       " 'and',\n",
       " 'pretty',\n",
       " 'accurate',\n",
       " 'as',\n",
       " 'far',\n",
       " 'as',\n",
       " 'I',\n",
       " 'could',\n",
       " 'tell',\n",
       " 'view',\n",
       " 'spoiler',\n",
       " 'Though',\n",
       " 'when',\n",
       " 'it',\n",
       " 'got',\n",
       " 'to',\n",
       " 'folding',\n",
       " 'protons',\n",
       " 'into',\n",
       " '8',\n",
       " 'dimensions',\n",
       " 'I',\n",
       " 'think',\n",
       " 'he',\n",
       " 'was',\n",
       " 'just',\n",
       " 'making',\n",
       " 'stuff',\n",
       " 'up',\n",
       " 'interesting',\n",
       " 'to',\n",
       " 'think',\n",
       " 'about',\n",
       " 'though',\n",
       " 'But',\n",
       " 'what',\n",
       " 'would',\n",
       " 'happen',\n",
       " 'if',\n",
       " 'our',\n",
       " 'SETI',\n",
       " 'stations',\n",
       " 'received',\n",
       " 'a',\n",
       " 'message',\n",
       " 'if',\n",
       " 'we',\n",
       " 'found',\n",
       " 'someone',\n",
       " 'was',\n",
       " 'out',\n",
       " 'there',\n",
       " 'and',\n",
       " 'the',\n",
       " 'person',\n",
       " 'monitoring',\n",
       " 'and',\n",
       " 'answering',\n",
       " 'the',\n",
       " 'signal',\n",
       " 'on',\n",
       " 'our',\n",
       " 'side',\n",
       " 'was',\n",
       " 'disillusioned',\n",
       " 'That',\n",
       " 'part',\n",
       " 'of',\n",
       " 'the',\n",
       " 'book',\n",
       " 'was',\n",
       " 'a',\n",
       " 'bit',\n",
       " 'dark',\n",
       " 'I',\n",
       " 'would',\n",
       " 'like',\n",
       " 'to',\n",
       " 'think',\n",
       " 'human',\n",
       " 'reaction',\n",
       " 'to',\n",
       " 'discovering',\n",
       " 'alien',\n",
       " 'civilization',\n",
       " 'that',\n",
       " 'is',\n",
       " 'hostile',\n",
       " 'would',\n",
       " 'be',\n",
       " 'more',\n",
       " 'like',\n",
       " 'Enders',\n",
       " 'Game',\n",
       " 'where',\n",
       " 'we',\n",
       " 'would',\n",
       " 'band',\n",
       " 'together',\n",
       " 'I',\n",
       " 'did',\n",
       " 'like',\n",
       " 'how',\n",
       " 'the',\n",
       " 'book',\n",
       " 'unveiled',\n",
       " 'the',\n",
       " 'Trisolaran',\n",
       " 'culture',\n",
       " 'through',\n",
       " 'the',\n",
       " 'game',\n",
       " 'It',\n",
       " 'was',\n",
       " 'a',\n",
       " 'smart',\n",
       " 'way',\n",
       " 'to',\n",
       " 'build',\n",
       " 'empathy',\n",
       " 'with',\n",
       " 'them',\n",
       " 'and',\n",
       " 'also',\n",
       " 'understand',\n",
       " 'what',\n",
       " 'they',\n",
       " \"'ve\",\n",
       " 'gone',\n",
       " 'through',\n",
       " 'across',\n",
       " 'so',\n",
       " 'many',\n",
       " 'centuries',\n",
       " 'And',\n",
       " 'who',\n",
       " 'know',\n",
       " 'a',\n",
       " '3',\n",
       " 'body',\n",
       " 'problem',\n",
       " 'was',\n",
       " 'an',\n",
       " 'unsolvable',\n",
       " 'math',\n",
       " 'problem',\n",
       " 'But',\n",
       " 'I',\n",
       " 'still',\n",
       " 'do',\n",
       " \"n't\",\n",
       " 'get',\n",
       " 'who',\n",
       " 'made',\n",
       " 'the',\n",
       " 'game',\n",
       " 'maybe',\n",
       " 'that',\n",
       " 'will',\n",
       " 'come',\n",
       " 'in',\n",
       " 'the',\n",
       " 'next',\n",
       " 'book',\n",
       " 'I',\n",
       " 'loved',\n",
       " 'this',\n",
       " 'quote',\n",
       " '``',\n",
       " 'In',\n",
       " 'the',\n",
       " 'long',\n",
       " 'history',\n",
       " 'of',\n",
       " 'scientific',\n",
       " 'progress',\n",
       " 'how',\n",
       " 'many',\n",
       " 'protons',\n",
       " 'have',\n",
       " 'been',\n",
       " 'smashed',\n",
       " 'apart',\n",
       " 'in',\n",
       " 'accelerators',\n",
       " 'by',\n",
       " 'physicists',\n",
       " 'How',\n",
       " 'many',\n",
       " 'neutrons',\n",
       " 'and',\n",
       " 'electrons',\n",
       " 'Probably',\n",
       " 'no',\n",
       " 'fewer',\n",
       " 'than',\n",
       " 'a',\n",
       " 'hundred',\n",
       " 'million',\n",
       " 'Every',\n",
       " 'collision',\n",
       " 'was',\n",
       " 'probably',\n",
       " 'the',\n",
       " 'end',\n",
       " 'of',\n",
       " 'the',\n",
       " 'civilizations',\n",
       " 'and',\n",
       " 'intelligences',\n",
       " 'in',\n",
       " 'a',\n",
       " 'microcosmos',\n",
       " 'In',\n",
       " 'fact',\n",
       " 'even',\n",
       " 'in',\n",
       " 'nature',\n",
       " 'the',\n",
       " 'destruction',\n",
       " 'of',\n",
       " 'universes',\n",
       " 'must',\n",
       " 'be',\n",
       " 'happening',\n",
       " 'at',\n",
       " 'every',\n",
       " 'second',\n",
       " '--',\n",
       " 'for',\n",
       " 'example',\n",
       " 'through',\n",
       " 'the',\n",
       " 'decay',\n",
       " 'of',\n",
       " 'neutrons',\n",
       " 'Also',\n",
       " 'a',\n",
       " 'high-energy',\n",
       " 'cosmic',\n",
       " 'ray',\n",
       " 'entering',\n",
       " 'the',\n",
       " 'atmosphere',\n",
       " 'may',\n",
       " 'destroy',\n",
       " 'thousands',\n",
       " 'of',\n",
       " 'such',\n",
       " 'miniature',\n",
       " 'universes',\n",
       " '...',\n",
       " \"''\",\n",
       " 'hide',\n",
       " 'spoiler']"
      ]
     },
     "execution_count": 23,
     "metadata": {},
     "output_type": "execute_result"
    }
   ],
   "source": [
    "train[\"review_text\"][0]"
   ]
  },
  {
   "cell_type": "code",
   "execution_count": 24,
   "id": "b910f148",
   "metadata": {
    "execution": {
     "iopub.execute_input": "2023-03-12T14:42:44.787989Z",
     "iopub.status.busy": "2023-03-12T14:42:44.787674Z",
     "iopub.status.idle": "2023-03-12T14:42:44.793878Z",
     "shell.execute_reply": "2023-03-12T14:42:44.792176Z"
    },
    "papermill": {
     "duration": 0.023753,
     "end_time": "2023-03-12T14:42:44.796347",
     "exception": false,
     "start_time": "2023-03-12T14:42:44.772594",
     "status": "completed"
    },
    "tags": []
   },
   "outputs": [],
   "source": [
    "#REMOVING STOPWORDS & CONVERTING TO LOWERCASE\n",
    "\n",
    "def preprocessing2(text):\n",
    "    stopword = stopwords.words(\"english\")\n",
    "    ntxt = []\n",
    "    for j in text:\n",
    "        if j not in stopword:\n",
    "            ntxt.append(j.lower())\n",
    "    return ntxt"
   ]
  },
  {
   "cell_type": "code",
   "execution_count": 25,
   "id": "eddaaa12",
   "metadata": {
    "execution": {
     "iopub.execute_input": "2023-03-12T14:42:44.827263Z",
     "iopub.status.busy": "2023-03-12T14:42:44.826917Z",
     "iopub.status.idle": "2023-03-12T14:42:54.342627Z",
     "shell.execute_reply": "2023-03-12T14:42:54.341618Z"
    },
    "papermill": {
     "duration": 9.535124,
     "end_time": "2023-03-12T14:42:54.345219",
     "exception": false,
     "start_time": "2023-03-12T14:42:44.810095",
     "status": "completed"
    },
    "tags": []
   },
   "outputs": [],
   "source": [
    "train[\"review_text\"] = train[\"review_text\"].apply(preprocessing2)"
   ]
  },
  {
   "cell_type": "code",
   "execution_count": 26,
   "id": "f668e041",
   "metadata": {
    "execution": {
     "iopub.execute_input": "2023-03-12T14:42:54.374509Z",
     "iopub.status.busy": "2023-03-12T14:42:54.374143Z",
     "iopub.status.idle": "2023-03-12T14:42:54.385762Z",
     "shell.execute_reply": "2023-03-12T14:42:54.383781Z"
    },
    "papermill": {
     "duration": 0.03003,
     "end_time": "2023-03-12T14:42:54.389029",
     "exception": false,
     "start_time": "2023-03-12T14:42:54.358999",
     "status": "completed"
    },
    "tags": []
   },
   "outputs": [
    {
     "data": {
      "text/plain": [
       "['this',\n",
       " 'special',\n",
       " 'book',\n",
       " 'it',\n",
       " 'started',\n",
       " 'slow',\n",
       " 'first',\n",
       " 'third',\n",
       " 'middle',\n",
       " 'third',\n",
       " 'started',\n",
       " 'get',\n",
       " 'interesting',\n",
       " 'last',\n",
       " 'third',\n",
       " 'blew',\n",
       " 'mind',\n",
       " 'this',\n",
       " 'i',\n",
       " 'love',\n",
       " 'good',\n",
       " 'science',\n",
       " 'fiction',\n",
       " 'pushes',\n",
       " 'thinking',\n",
       " 'things',\n",
       " 'go',\n",
       " 'it',\n",
       " '2015',\n",
       " 'hugo',\n",
       " 'winner',\n",
       " 'translated',\n",
       " 'original',\n",
       " 'chinese',\n",
       " 'made',\n",
       " 'interesting',\n",
       " 'different',\n",
       " 'way',\n",
       " 'things',\n",
       " 'i',\n",
       " \"'ve\",\n",
       " 'read',\n",
       " 'for',\n",
       " 'instance',\n",
       " 'intermixing',\n",
       " 'chinese',\n",
       " 'revolutionary',\n",
       " 'history',\n",
       " 'kept',\n",
       " 'accusing',\n",
       " 'people',\n",
       " '``',\n",
       " 'reactionaries',\n",
       " \"''\",\n",
       " 'etc',\n",
       " 'it',\n",
       " 'book',\n",
       " 'science',\n",
       " 'aliens',\n",
       " 'the',\n",
       " 'science',\n",
       " 'described',\n",
       " 'book',\n",
       " 'impressive',\n",
       " 'book',\n",
       " 'grounded',\n",
       " 'physics',\n",
       " 'pretty',\n",
       " 'accurate',\n",
       " 'far',\n",
       " 'i',\n",
       " 'could',\n",
       " 'tell',\n",
       " 'view',\n",
       " 'spoiler',\n",
       " 'though',\n",
       " 'got',\n",
       " 'folding',\n",
       " 'protons',\n",
       " '8',\n",
       " 'dimensions',\n",
       " 'i',\n",
       " 'think',\n",
       " 'making',\n",
       " 'stuff',\n",
       " 'interesting',\n",
       " 'think',\n",
       " 'though',\n",
       " 'but',\n",
       " 'would',\n",
       " 'happen',\n",
       " 'seti',\n",
       " 'stations',\n",
       " 'received',\n",
       " 'message',\n",
       " 'found',\n",
       " 'someone',\n",
       " 'person',\n",
       " 'monitoring',\n",
       " 'answering',\n",
       " 'signal',\n",
       " 'side',\n",
       " 'disillusioned',\n",
       " 'that',\n",
       " 'part',\n",
       " 'book',\n",
       " 'bit',\n",
       " 'dark',\n",
       " 'i',\n",
       " 'would',\n",
       " 'like',\n",
       " 'think',\n",
       " 'human',\n",
       " 'reaction',\n",
       " 'discovering',\n",
       " 'alien',\n",
       " 'civilization',\n",
       " 'hostile',\n",
       " 'would',\n",
       " 'like',\n",
       " 'enders',\n",
       " 'game',\n",
       " 'would',\n",
       " 'band',\n",
       " 'together',\n",
       " 'i',\n",
       " 'like',\n",
       " 'book',\n",
       " 'unveiled',\n",
       " 'trisolaran',\n",
       " 'culture',\n",
       " 'game',\n",
       " 'it',\n",
       " 'smart',\n",
       " 'way',\n",
       " 'build',\n",
       " 'empathy',\n",
       " 'also',\n",
       " 'understand',\n",
       " \"'ve\",\n",
       " 'gone',\n",
       " 'across',\n",
       " 'many',\n",
       " 'centuries',\n",
       " 'and',\n",
       " 'know',\n",
       " '3',\n",
       " 'body',\n",
       " 'problem',\n",
       " 'unsolvable',\n",
       " 'math',\n",
       " 'problem',\n",
       " 'but',\n",
       " 'i',\n",
       " 'still',\n",
       " \"n't\",\n",
       " 'get',\n",
       " 'made',\n",
       " 'game',\n",
       " 'maybe',\n",
       " 'come',\n",
       " 'next',\n",
       " 'book',\n",
       " 'i',\n",
       " 'loved',\n",
       " 'quote',\n",
       " '``',\n",
       " 'in',\n",
       " 'long',\n",
       " 'history',\n",
       " 'scientific',\n",
       " 'progress',\n",
       " 'many',\n",
       " 'protons',\n",
       " 'smashed',\n",
       " 'apart',\n",
       " 'accelerators',\n",
       " 'physicists',\n",
       " 'how',\n",
       " 'many',\n",
       " 'neutrons',\n",
       " 'electrons',\n",
       " 'probably',\n",
       " 'fewer',\n",
       " 'hundred',\n",
       " 'million',\n",
       " 'every',\n",
       " 'collision',\n",
       " 'probably',\n",
       " 'end',\n",
       " 'civilizations',\n",
       " 'intelligences',\n",
       " 'microcosmos',\n",
       " 'in',\n",
       " 'fact',\n",
       " 'even',\n",
       " 'nature',\n",
       " 'destruction',\n",
       " 'universes',\n",
       " 'must',\n",
       " 'happening',\n",
       " 'every',\n",
       " 'second',\n",
       " '--',\n",
       " 'example',\n",
       " 'decay',\n",
       " 'neutrons',\n",
       " 'also',\n",
       " 'high-energy',\n",
       " 'cosmic',\n",
       " 'ray',\n",
       " 'entering',\n",
       " 'atmosphere',\n",
       " 'may',\n",
       " 'destroy',\n",
       " 'thousands',\n",
       " 'miniature',\n",
       " 'universes',\n",
       " '...',\n",
       " \"''\",\n",
       " 'hide',\n",
       " 'spoiler']"
      ]
     },
     "execution_count": 26,
     "metadata": {},
     "output_type": "execute_result"
    }
   ],
   "source": [
    "train[\"review_text\"][0]"
   ]
  },
  {
   "cell_type": "code",
   "execution_count": 27,
   "id": "03ced3ad",
   "metadata": {
    "execution": {
     "iopub.execute_input": "2023-03-12T14:42:54.419804Z",
     "iopub.status.busy": "2023-03-12T14:42:54.419458Z",
     "iopub.status.idle": "2023-03-12T14:42:54.425973Z",
     "shell.execute_reply": "2023-03-12T14:42:54.424060Z"
    },
    "papermill": {
     "duration": 0.025068,
     "end_time": "2023-03-12T14:42:54.428655",
     "exception": false,
     "start_time": "2023-03-12T14:42:54.403587",
     "status": "completed"
    },
    "tags": []
   },
   "outputs": [],
   "source": [
    "#STEMMING\n",
    "\n",
    "def preprocessing3(text):\n",
    "    stem = []\n",
    "    Stemmer = PorterStemmer()\n",
    "    for i in text:\n",
    "        stem.append(Stemmer.stem(i))\n",
    "    return \" \".join(stem)"
   ]
  },
  {
   "cell_type": "code",
   "execution_count": 28,
   "id": "ba40bdbd",
   "metadata": {
    "execution": {
     "iopub.execute_input": "2023-03-12T14:42:54.459663Z",
     "iopub.status.busy": "2023-03-12T14:42:54.459308Z",
     "iopub.status.idle": "2023-03-12T14:43:38.141667Z",
     "shell.execute_reply": "2023-03-12T14:43:38.140028Z"
    },
    "papermill": {
     "duration": 43.701283,
     "end_time": "2023-03-12T14:43:38.144513",
     "exception": false,
     "start_time": "2023-03-12T14:42:54.443230",
     "status": "completed"
    },
    "tags": []
   },
   "outputs": [],
   "source": [
    "train[\"review_text\"] = train[\"review_text\"].apply(preprocessing3)"
   ]
  },
  {
   "cell_type": "code",
   "execution_count": 29,
   "id": "ec5f917a",
   "metadata": {
    "execution": {
     "iopub.execute_input": "2023-03-12T14:43:38.175624Z",
     "iopub.status.busy": "2023-03-12T14:43:38.175097Z",
     "iopub.status.idle": "2023-03-12T14:43:38.183300Z",
     "shell.execute_reply": "2023-03-12T14:43:38.181549Z"
    },
    "papermill": {
     "duration": 0.027199,
     "end_time": "2023-03-12T14:43:38.186163",
     "exception": false,
     "start_time": "2023-03-12T14:43:38.158964",
     "status": "completed"
    },
    "tags": []
   },
   "outputs": [
    {
     "data": {
      "text/plain": [
       "\"thi special book it start slow first third middl third start get interest last third blew mind thi i love good scienc fiction push think thing go it 2015 hugo winner translat origin chines made interest differ way thing i 've read for instanc intermix chines revolutionari histori kept accus peopl `` reactionari '' etc it book scienc alien the scienc describ book impress book ground physic pretti accur far i could tell view spoiler though got fold proton 8 dimens i think make stuff interest think though but would happen seti station receiv messag found someon person monitor answer signal side disillus that part book bit dark i would like think human reaction discov alien civil hostil would like ender game would band togeth i like book unveil trisolaran cultur game it smart way build empathi also understand 've gone across mani centuri and know 3 bodi problem unsolv math problem but i still n't get made game mayb come next book i love quot `` in long histori scientif progress mani proton smash apart acceler physicist how mani neutron electron probabl fewer hundr million everi collis probabl end civil intellig microcosmo in fact even natur destruct univers must happen everi second -- exampl decay neutron also high-energi cosmic ray enter atmospher may destroy thousand miniatur univers ... '' hide spoiler\""
      ]
     },
     "execution_count": 29,
     "metadata": {},
     "output_type": "execute_result"
    }
   ],
   "source": [
    "train[\"review_text\"][0]"
   ]
  },
  {
   "cell_type": "code",
   "execution_count": 30,
   "id": "c69863b2",
   "metadata": {
    "execution": {
     "iopub.execute_input": "2023-03-12T14:43:38.217654Z",
     "iopub.status.busy": "2023-03-12T14:43:38.217314Z",
     "iopub.status.idle": "2023-03-12T14:45:00.577781Z",
     "shell.execute_reply": "2023-03-12T14:45:00.576762Z"
    },
    "papermill": {
     "duration": 82.394833,
     "end_time": "2023-03-12T14:45:00.596102",
     "exception": false,
     "start_time": "2023-03-12T14:43:38.201269",
     "status": "completed"
    },
    "tags": []
   },
   "outputs": [
    {
     "name": "stderr",
     "output_type": "stream",
     "text": [
      "/opt/conda/lib/python3.7/site-packages/ipykernel_launcher.py:1: SettingWithCopyWarning: \n",
      "A value is trying to be set on a copy of a slice from a DataFrame.\n",
      "Try using .loc[row_indexer,col_indexer] = value instead\n",
      "\n",
      "See the caveats in the documentation: https://pandas.pydata.org/pandas-docs/stable/user_guide/indexing.html#returning-a-view-versus-a-copy\n",
      "  \"\"\"Entry point for launching an IPython kernel.\n",
      "/opt/conda/lib/python3.7/site-packages/ipykernel_launcher.py:2: SettingWithCopyWarning: \n",
      "A value is trying to be set on a copy of a slice from a DataFrame.\n",
      "Try using .loc[row_indexer,col_indexer] = value instead\n",
      "\n",
      "See the caveats in the documentation: https://pandas.pydata.org/pandas-docs/stable/user_guide/indexing.html#returning-a-view-versus-a-copy\n",
      "  \n",
      "/opt/conda/lib/python3.7/site-packages/ipykernel_launcher.py:3: SettingWithCopyWarning: \n",
      "A value is trying to be set on a copy of a slice from a DataFrame.\n",
      "Try using .loc[row_indexer,col_indexer] = value instead\n",
      "\n",
      "See the caveats in the documentation: https://pandas.pydata.org/pandas-docs/stable/user_guide/indexing.html#returning-a-view-versus-a-copy\n",
      "  This is separate from the ipykernel package so we can avoid doing imports until\n"
     ]
    }
   ],
   "source": [
    "test[\"review_text\"] = test[\"review_text\"].apply(preprocessing1)\n",
    "test[\"review_text\"] = test[\"review_text\"].apply(preprocessing2)\n",
    "test[\"review_text\"] = test[\"review_text\"].apply(preprocessing3)"
   ]
  },
  {
   "cell_type": "code",
   "execution_count": 31,
   "id": "b6c39aa2",
   "metadata": {
    "execution": {
     "iopub.execute_input": "2023-03-12T14:45:00.630644Z",
     "iopub.status.busy": "2023-03-12T14:45:00.630222Z",
     "iopub.status.idle": "2023-03-12T14:45:00.639911Z",
     "shell.execute_reply": "2023-03-12T14:45:00.637942Z"
    },
    "papermill": {
     "duration": 0.030421,
     "end_time": "2023-03-12T14:45:00.642840",
     "exception": false,
     "start_time": "2023-03-12T14:45:00.612419",
     "status": "completed"
    },
    "tags": []
   },
   "outputs": [
    {
     "data": {
      "text/plain": [
       "\"thi special book it start slow first third middl third start get interest last third blew mind thi i love good scienc fiction push think thing go it 2015 hugo winner translat origin chines made interest differ way thing i 've read for instanc intermix chines revolutionari histori kept accus peopl `` reactionari '' etc it book scienc alien the scienc describ book impress book ground physic pretti accur far i could tell view spoiler though got fold proton 8 dimens i think make stuff interest think though but would happen seti station receiv messag found someon person monitor answer signal side disillus that part book bit dark i would like think human reaction discov alien civil hostil would like ender game would band togeth i like book unveil trisolaran cultur game it smart way build empathi also understand 've gone across mani centuri and know 3 bodi problem unsolv math problem but i still n't get made game mayb come next book i love quot `` in long histori scientif progress mani proton smash apart acceler physicist how mani neutron electron probabl fewer hundr million everi collis probabl end civil intellig microcosmo in fact even natur destruct univers must happen everi second -- exampl decay neutron also high-energi cosmic ray enter atmospher may destroy thousand miniatur univers ... '' hide spoiler\""
      ]
     },
     "execution_count": 31,
     "metadata": {},
     "output_type": "execute_result"
    }
   ],
   "source": [
    "test[\"review_text\"][0]"
   ]
  },
  {
   "cell_type": "code",
   "execution_count": 32,
   "id": "361dda0d",
   "metadata": {
    "execution": {
     "iopub.execute_input": "2023-03-12T14:45:00.676898Z",
     "iopub.status.busy": "2023-03-12T14:45:00.676500Z",
     "iopub.status.idle": "2023-03-12T14:45:00.688347Z",
     "shell.execute_reply": "2023-03-12T14:45:00.687044Z"
    },
    "papermill": {
     "duration": 0.033856,
     "end_time": "2023-03-12T14:45:00.692846",
     "exception": false,
     "start_time": "2023-03-12T14:45:00.658990",
     "status": "completed"
    },
    "tags": []
   },
   "outputs": [
    {
     "data": {
      "text/html": [
       "<div>\n",
       "<style scoped>\n",
       "    .dataframe tbody tr th:only-of-type {\n",
       "        vertical-align: middle;\n",
       "    }\n",
       "\n",
       "    .dataframe tbody tr th {\n",
       "        vertical-align: top;\n",
       "    }\n",
       "\n",
       "    .dataframe thead th {\n",
       "        text-align: right;\n",
       "    }\n",
       "</style>\n",
       "<table border=\"1\" class=\"dataframe\">\n",
       "  <thead>\n",
       "    <tr style=\"text-align: right;\">\n",
       "      <th></th>\n",
       "      <th>review_text</th>\n",
       "      <th>rating</th>\n",
       "    </tr>\n",
       "  </thead>\n",
       "  <tbody>\n",
       "    <tr>\n",
       "      <th>0</th>\n",
       "      <td>thi special book it start slow first third mid...</td>\n",
       "      <td>5</td>\n",
       "    </tr>\n",
       "    <tr>\n",
       "      <th>1</th>\n",
       "      <td>recommend don katz avail free decemb</td>\n",
       "      <td>3</td>\n",
       "    </tr>\n",
       "    <tr>\n",
       "      <th>2</th>\n",
       "      <td>a fun fast pace scienc fiction thriller i read...</td>\n",
       "      <td>3</td>\n",
       "    </tr>\n",
       "    <tr>\n",
       "      <th>3</th>\n",
       "      <td>recommend read understand go middl america pos...</td>\n",
       "      <td>0</td>\n",
       "    </tr>\n",
       "    <tr>\n",
       "      <th>4</th>\n",
       "      <td>i realli enjoy book lot recommend it drag litt...</td>\n",
       "      <td>4</td>\n",
       "    </tr>\n",
       "    <tr>\n",
       "      <th>5</th>\n",
       "      <td>a beauti stori it rare encount book good job p...</td>\n",
       "      <td>4</td>\n",
       "    </tr>\n",
       "    <tr>\n",
       "      <th>6</th>\n",
       "      <td>5 star give better framework organ stuff stuff...</td>\n",
       "      <td>5</td>\n",
       "    </tr>\n",
       "    <tr>\n",
       "      <th>7</th>\n",
       "      <td>numer peopl publish told book year</td>\n",
       "      <td>0</td>\n",
       "    </tr>\n",
       "    <tr>\n",
       "      <th>8</th>\n",
       "      <td>anoth hard put nonfict book erik larson i real...</td>\n",
       "      <td>4</td>\n",
       "    </tr>\n",
       "    <tr>\n",
       "      <th>9</th>\n",
       "      <td>i love stephenson anoth hit absolut love the g...</td>\n",
       "      <td>5</td>\n",
       "    </tr>\n",
       "  </tbody>\n",
       "</table>\n",
       "</div>"
      ],
      "text/plain": [
       "                                         review_text  rating\n",
       "0  thi special book it start slow first third mid...       5\n",
       "1               recommend don katz avail free decemb       3\n",
       "2  a fun fast pace scienc fiction thriller i read...       3\n",
       "3  recommend read understand go middl america pos...       0\n",
       "4  i realli enjoy book lot recommend it drag litt...       4\n",
       "5  a beauti stori it rare encount book good job p...       4\n",
       "6  5 star give better framework organ stuff stuff...       5\n",
       "7                 numer peopl publish told book year       0\n",
       "8  anoth hard put nonfict book erik larson i real...       4\n",
       "9  i love stephenson anoth hit absolut love the g...       5"
      ]
     },
     "execution_count": 32,
     "metadata": {},
     "output_type": "execute_result"
    }
   ],
   "source": [
    "train.head(10)"
   ]
  },
  {
   "cell_type": "code",
   "execution_count": 33,
   "id": "c050abbe",
   "metadata": {
    "execution": {
     "iopub.execute_input": "2023-03-12T14:45:00.734602Z",
     "iopub.status.busy": "2023-03-12T14:45:00.733970Z",
     "iopub.status.idle": "2023-03-12T14:45:00.747870Z",
     "shell.execute_reply": "2023-03-12T14:45:00.746210Z"
    },
    "papermill": {
     "duration": 0.037838,
     "end_time": "2023-03-12T14:45:00.750778",
     "exception": false,
     "start_time": "2023-03-12T14:45:00.712940",
     "status": "completed"
    },
    "tags": []
   },
   "outputs": [
    {
     "data": {
      "text/plain": [
       "review_text    0\n",
       "rating         0\n",
       "dtype: int64"
      ]
     },
     "execution_count": 33,
     "metadata": {},
     "output_type": "execute_result"
    }
   ],
   "source": [
    "train.isna().sum()"
   ]
  },
  {
   "cell_type": "code",
   "execution_count": 34,
   "id": "fab9868e",
   "metadata": {
    "execution": {
     "iopub.execute_input": "2023-03-12T14:45:00.785574Z",
     "iopub.status.busy": "2023-03-12T14:45:00.785018Z",
     "iopub.status.idle": "2023-03-12T14:45:00.796957Z",
     "shell.execute_reply": "2023-03-12T14:45:00.795991Z"
    },
    "papermill": {
     "duration": 0.031417,
     "end_time": "2023-03-12T14:45:00.799085",
     "exception": false,
     "start_time": "2023-03-12T14:45:00.767668",
     "status": "completed"
    },
    "tags": []
   },
   "outputs": [
    {
     "data": {
      "text/plain": [
       "review_text    0\n",
       "dtype: int64"
      ]
     },
     "execution_count": 34,
     "metadata": {},
     "output_type": "execute_result"
    }
   ],
   "source": [
    "test.isna().sum()"
   ]
  },
  {
   "cell_type": "code",
   "execution_count": 35,
   "id": "f1d2946c",
   "metadata": {
    "execution": {
     "iopub.execute_input": "2023-03-12T14:45:00.834239Z",
     "iopub.status.busy": "2023-03-12T14:45:00.832841Z",
     "iopub.status.idle": "2023-03-12T14:45:00.839803Z",
     "shell.execute_reply": "2023-03-12T14:45:00.838839Z"
    },
    "papermill": {
     "duration": 0.026214,
     "end_time": "2023-03-12T14:45:00.841711",
     "exception": false,
     "start_time": "2023-03-12T14:45:00.815497",
     "status": "completed"
    },
    "tags": []
   },
   "outputs": [
    {
     "data": {
      "text/plain": [
       "(20000, 2)"
      ]
     },
     "execution_count": 35,
     "metadata": {},
     "output_type": "execute_result"
    }
   ],
   "source": [
    "train.shape"
   ]
  },
  {
   "cell_type": "code",
   "execution_count": 36,
   "id": "4c2974a4",
   "metadata": {
    "execution": {
     "iopub.execute_input": "2023-03-12T14:45:00.877769Z",
     "iopub.status.busy": "2023-03-12T14:45:00.876667Z",
     "iopub.status.idle": "2023-03-12T14:45:00.884111Z",
     "shell.execute_reply": "2023-03-12T14:45:00.883022Z"
    },
    "papermill": {
     "duration": 0.027464,
     "end_time": "2023-03-12T14:45:00.886564",
     "exception": false,
     "start_time": "2023-03-12T14:45:00.859100",
     "status": "completed"
    },
    "tags": []
   },
   "outputs": [
    {
     "data": {
      "text/plain": [
       "(20000, 1)"
      ]
     },
     "execution_count": 36,
     "metadata": {},
     "output_type": "execute_result"
    }
   ],
   "source": [
    "test.shape"
   ]
  },
  {
   "cell_type": "code",
   "execution_count": 37,
   "id": "722beb46",
   "metadata": {
    "execution": {
     "iopub.execute_input": "2023-03-12T14:45:00.923134Z",
     "iopub.status.busy": "2023-03-12T14:45:00.922625Z",
     "iopub.status.idle": "2023-03-12T14:45:01.141157Z",
     "shell.execute_reply": "2023-03-12T14:45:01.138999Z"
    },
    "papermill": {
     "duration": 0.239941,
     "end_time": "2023-03-12T14:45:01.144109",
     "exception": false,
     "start_time": "2023-03-12T14:45:00.904168",
     "status": "completed"
    },
    "tags": []
   },
   "outputs": [],
   "source": [
    "train.to_csv(\"Cleaned_train_Details.csv\")"
   ]
  },
  {
   "cell_type": "code",
   "execution_count": 38,
   "id": "94765be8",
   "metadata": {
    "execution": {
     "iopub.execute_input": "2023-03-12T14:45:01.180905Z",
     "iopub.status.busy": "2023-03-12T14:45:01.179006Z",
     "iopub.status.idle": "2023-03-12T14:45:01.396595Z",
     "shell.execute_reply": "2023-03-12T14:45:01.394999Z"
    },
    "papermill": {
     "duration": 0.239559,
     "end_time": "2023-03-12T14:45:01.399702",
     "exception": false,
     "start_time": "2023-03-12T14:45:01.160143",
     "status": "completed"
    },
    "tags": []
   },
   "outputs": [],
   "source": [
    "test.to_csv(\"Cleaned_test_Details.csv\")"
   ]
  },
  {
   "cell_type": "code",
   "execution_count": 39,
   "id": "4a502d47",
   "metadata": {
    "execution": {
     "iopub.execute_input": "2023-03-12T14:45:01.434837Z",
     "iopub.status.busy": "2023-03-12T14:45:01.434354Z",
     "iopub.status.idle": "2023-03-12T14:45:02.189111Z",
     "shell.execute_reply": "2023-03-12T14:45:02.188148Z"
    },
    "papermill": {
     "duration": 0.774971,
     "end_time": "2023-03-12T14:45:02.191134",
     "exception": false,
     "start_time": "2023-03-12T14:45:01.416163",
     "status": "completed"
    },
    "tags": []
   },
   "outputs": [
    {
     "data": {
      "text/plain": [
       "<matplotlib.image.AxesImage at 0x7f048f299f10>"
      ]
     },
     "execution_count": 39,
     "metadata": {},
     "output_type": "execute_result"
    },
    {
     "data": {
      "image/png": "[encoded data removed]",
      "text/plain": [
       "<Figure size 1500x600 with 1 Axes>"
      ]
     },
     "metadata": {},
     "output_type": "display_data"
    }
   ],
   "source": [
    "# WordCloud for ham Messages\n",
    "\n",
    "wc = WordCloud(width=500,height=500,min_font_size=10,background_color='white')\n",
    "ham_wc = wc.generate(train[train['rating'] == 0]['review_text'].str.cat(sep=\" \"))\n",
    "plt.figure(figsize=(15,6))\n",
    "plt.imshow(ham_wc)"
   ]
  },
  {
   "cell_type": "code",
   "execution_count": null,
   "id": "dd278950",
   "metadata": {
    "papermill": {
     "duration": 0.019352,
     "end_time": "2023-03-12T14:45:02.230348",
     "exception": false,
     "start_time": "2023-03-12T14:45:02.210996",
     "status": "completed"
    },
    "tags": []
   },
   "outputs": [],
   "source": []
  },
  {
   "cell_type": "markdown",
   "id": "9a46bcf4",
   "metadata": {
    "papermill": {
     "duration": 0.018662,
     "end_time": "2023-03-12T14:45:02.267622",
     "exception": false,
     "start_time": "2023-03-12T14:45:02.248960",
     "status": "completed"
    },
    "tags": []
   },
   "source": [
    "# **Model Building¶**"
   ]
  },
  {
   "cell_type": "code",
   "execution_count": 40,
   "id": "15ccbe4f",
   "metadata": {
    "execution": {
     "iopub.execute_input": "2023-03-12T14:45:02.306684Z",
     "iopub.status.busy": "2023-03-12T14:45:02.306344Z",
     "iopub.status.idle": "2023-03-12T14:45:02.312213Z",
     "shell.execute_reply": "2023-03-12T14:45:02.309894Z"
    },
    "papermill": {
     "duration": 0.028774,
     "end_time": "2023-03-12T14:45:02.314926",
     "exception": false,
     "start_time": "2023-03-12T14:45:02.286152",
     "status": "completed"
    },
    "tags": []
   },
   "outputs": [],
   "source": [
    "cv = CountVectorizer()\n",
    "tfd = TfidfVectorizer(max_features=3000)"
   ]
  },
  {
   "cell_type": "code",
   "execution_count": 41,
   "id": "6bdaa76d",
   "metadata": {
    "execution": {
     "iopub.execute_input": "2023-03-12T14:45:02.356183Z",
     "iopub.status.busy": "2023-03-12T14:45:02.355832Z",
     "iopub.status.idle": "2023-03-12T14:45:04.143077Z",
     "shell.execute_reply": "2023-03-12T14:45:04.141161Z"
    },
    "papermill": {
     "duration": 1.811236,
     "end_time": "2023-03-12T14:45:04.145985",
     "exception": false,
     "start_time": "2023-03-12T14:45:02.334749",
     "status": "completed"
    },
    "tags": []
   },
   "outputs": [],
   "source": [
    "x = tfd.fit_transform(train[\"review_text\"]).toarray()\n",
    "y = train[\"rating\"].values"
   ]
  },
  {
   "cell_type": "code",
   "execution_count": 42,
   "id": "2bff8539",
   "metadata": {
    "execution": {
     "iopub.execute_input": "2023-03-12T14:45:04.185435Z",
     "iopub.status.busy": "2023-03-12T14:45:04.184285Z",
     "iopub.status.idle": "2023-03-12T14:45:04.191219Z",
     "shell.execute_reply": "2023-03-12T14:45:04.190528Z"
    },
    "papermill": {
     "duration": 0.028407,
     "end_time": "2023-03-12T14:45:04.192888",
     "exception": false,
     "start_time": "2023-03-12T14:45:04.164481",
     "status": "completed"
    },
    "tags": []
   },
   "outputs": [
    {
     "data": {
      "text/plain": [
       "array([[0.        , 0.        , 0.        , ..., 0.        , 0.        ,\n",
       "        0.        ],\n",
       "       [0.        , 0.        , 0.        , ..., 0.        , 0.        ,\n",
       "        0.        ],\n",
       "       [0.        , 0.        , 0.        , ..., 0.        , 0.        ,\n",
       "        0.        ],\n",
       "       ...,\n",
       "       [0.        , 0.        , 0.        , ..., 0.        , 0.        ,\n",
       "        0.        ],\n",
       "       [0.        , 0.        , 0.        , ..., 0.        , 0.        ,\n",
       "        0.        ],\n",
       "       [0.        , 0.        , 0.41101879, ..., 0.        , 0.        ,\n",
       "        0.        ]])"
      ]
     },
     "execution_count": 42,
     "metadata": {},
     "output_type": "execute_result"
    }
   ],
   "source": [
    "x"
   ]
  },
  {
   "cell_type": "code",
   "execution_count": 43,
   "id": "fcede1a0",
   "metadata": {
    "execution": {
     "iopub.execute_input": "2023-03-12T14:45:04.237811Z",
     "iopub.status.busy": "2023-03-12T14:45:04.237431Z",
     "iopub.status.idle": "2023-03-12T14:45:04.396274Z",
     "shell.execute_reply": "2023-03-12T14:45:04.394805Z"
    },
    "papermill": {
     "duration": 0.185434,
     "end_time": "2023-03-12T14:45:04.399154",
     "exception": false,
     "start_time": "2023-03-12T14:45:04.213720",
     "status": "completed"
    },
    "tags": []
   },
   "outputs": [],
   "source": [
    "x_train, x_test, y_train, y_test = train_test_split(x, y, test_size=0.2, random_state=2)"
   ]
  },
  {
   "cell_type": "code",
   "execution_count": 44,
   "id": "d13f2402",
   "metadata": {
    "execution": {
     "iopub.execute_input": "2023-03-12T14:45:04.441583Z",
     "iopub.status.busy": "2023-03-12T14:45:04.440985Z",
     "iopub.status.idle": "2023-03-12T14:45:05.277006Z",
     "shell.execute_reply": "2023-03-12T14:45:05.275425Z"
    },
    "papermill": {
     "duration": 0.859506,
     "end_time": "2023-03-12T14:45:05.279445",
     "exception": false,
     "start_time": "2023-03-12T14:45:04.419939",
     "status": "completed"
    },
    "tags": []
   },
   "outputs": [
    {
     "name": "stdout",
     "output_type": "stream",
     "text": [
      "22.900000000000002\n",
      "[[ 33  30   9   6   6   5]\n",
      " [ 17  26  23  15  12   5]\n",
      " [ 45  66  75  52  32  12]\n",
      " [133 217 183 147 100  63]\n",
      " [180 238 280 216 296 205]\n",
      " [225 198 167 131 213 339]]\n"
     ]
    }
   ],
   "source": [
    "gnb = GaussianNB()\n",
    "gnb.fit(x_train, y_train)\n",
    "pred = gnb.predict(x_test)\n",
    "print(accuracy_score(y_test,pred)*100)\n",
    "print(confusion_matrix(y_test,pred))"
   ]
  },
  {
   "cell_type": "code",
   "execution_count": 45,
   "id": "9c52165d",
   "metadata": {
    "execution": {
     "iopub.execute_input": "2023-03-12T14:45:05.318074Z",
     "iopub.status.busy": "2023-03-12T14:45:05.317759Z",
     "iopub.status.idle": "2023-03-12T14:45:05.453025Z",
     "shell.execute_reply": "2023-03-12T14:45:05.450712Z"
    },
    "papermill": {
     "duration": 0.15759,
     "end_time": "2023-03-12T14:45:05.455615",
     "exception": false,
     "start_time": "2023-03-12T14:45:05.298025",
     "status": "completed"
    },
    "tags": []
   },
   "outputs": [
    {
     "name": "stdout",
     "output_type": "stream",
     "text": [
      "48.875\n",
      "[[   2    0    0   14   44   29]\n",
      " [   0    0    4   31   41   22]\n",
      " [   0    0    0   94  161   27]\n",
      " [   0    0    0  184  572   87]\n",
      " [   0    0    0   62 1063  290]\n",
      " [   0    0    0    7  560  706]]\n"
     ]
    }
   ],
   "source": [
    "mnb = MultinomialNB()\n",
    "mnb.fit(x_train, y_train)\n",
    "pred = mnb.predict(x_test)\n",
    "print(accuracy_score(y_test,pred)*100)\n",
    "print(confusion_matrix(y_test,pred))"
   ]
  },
  {
   "cell_type": "code",
   "execution_count": 46,
   "id": "637440f9",
   "metadata": {
    "execution": {
     "iopub.execute_input": "2023-03-12T14:45:05.510969Z",
     "iopub.status.busy": "2023-03-12T14:45:05.509708Z",
     "iopub.status.idle": "2023-03-12T14:45:05.956062Z",
     "shell.execute_reply": "2023-03-12T14:45:05.955182Z"
    },
    "papermill": {
     "duration": 0.476694,
     "end_time": "2023-03-12T14:45:05.958691",
     "exception": false,
     "start_time": "2023-03-12T14:45:05.481997",
     "status": "completed"
    },
    "tags": []
   },
   "outputs": [
    {
     "name": "stdout",
     "output_type": "stream",
     "text": [
      "28.475\n",
      "[[ 68   2   7   7   1   4]\n",
      " [ 42  25  13  16   1   1]\n",
      " [ 98  33  63  72  14   2]\n",
      " [305  37  89 251 102  59]\n",
      " [486  36  82 241 278 292]\n",
      " [558  20  29  92 120 454]]\n"
     ]
    }
   ],
   "source": [
    "bnb = BernoulliNB()\n",
    "bnb.fit(x_train, y_train)\n",
    "pred = bnb.predict(x_test)\n",
    "print(accuracy_score(y_test,pred)*100)\n",
    "print(confusion_matrix(y_test,pred))"
   ]
  },
  {
   "cell_type": "markdown",
   "id": "eb8bdb6d",
   "metadata": {
    "execution": {
     "iopub.execute_input": "2023-03-12T09:35:14.394087Z",
     "iopub.status.busy": "2023-03-12T09:35:14.393136Z"
    },
    "papermill": {
     "duration": 0.025134,
     "end_time": "2023-03-12T14:45:06.010472",
     "exception": false,
     "start_time": "2023-03-12T14:45:05.985338",
     "status": "completed"
    },
    "tags": []
   },
   "source": [
    "knc = SVC(kernel='sigmoid', gamma=1.0)\n",
    "knc.fit(x_train, y_train)\n",
    "pred = knc.predict(x_test)\n",
    "print(accuracy_score(y_test,pred)*100)\n",
    "print(confusion_matrix(y_test,pred))"
   ]
  },
  {
   "cell_type": "code",
   "execution_count": 47,
   "id": "fb261d6a",
   "metadata": {
    "execution": {
     "iopub.execute_input": "2023-03-12T14:45:06.066372Z",
     "iopub.status.busy": "2023-03-12T14:45:06.066002Z",
     "iopub.status.idle": "2023-03-12T14:45:06.072772Z",
     "shell.execute_reply": "2023-03-12T14:45:06.071210Z"
    },
    "papermill": {
     "duration": 0.035819,
     "end_time": "2023-03-12T14:45:06.074974",
     "exception": false,
     "start_time": "2023-03-12T14:45:06.039155",
     "status": "completed"
    },
    "tags": []
   },
   "outputs": [],
   "source": [
    "# svc = SVC(kernel='sigmoid', gamma=1.0)\n",
    "knc = KNeighborsClassifier()\n",
    "mnb = MultinomialNB()\n",
    "dtc = DecisionTreeClassifier(max_depth=5)\n",
    "lrc = LogisticRegression(solver='liblinear', penalty='l1')\n",
    "rfc = RandomForestClassifier(n_estimators=50, random_state=2)\n",
    "abc = AdaBoostClassifier(n_estimators=50, random_state=2)\n",
    "bc = BaggingClassifier(n_estimators=50, random_state=2)\n",
    "etc = ExtraTreesClassifier(n_estimators=50, random_state=2)\n",
    "gbdt = GradientBoostingClassifier(n_estimators=50,random_state=2)\n",
    "# xgb = XGBClassifier(n_estimators=50,random_state=2)"
   ]
  },
  {
   "cell_type": "code",
   "execution_count": 48,
   "id": "857745a3",
   "metadata": {
    "execution": {
     "iopub.execute_input": "2023-03-12T14:45:06.116533Z",
     "iopub.status.busy": "2023-03-12T14:45:06.115478Z",
     "iopub.status.idle": "2023-03-12T14:45:06.120853Z",
     "shell.execute_reply": "2023-03-12T14:45:06.120143Z"
    },
    "papermill": {
     "duration": 0.02874,
     "end_time": "2023-03-12T14:45:06.123024",
     "exception": false,
     "start_time": "2023-03-12T14:45:06.094284",
     "status": "completed"
    },
    "tags": []
   },
   "outputs": [],
   "source": [
    "def model_training(model):\n",
    "    model.fit(x_train, y_train) \n",
    "    pred = model.predict(x_test)\n",
    "    accuracy = accuracy_score(y_test, pred)\n",
    "#     precision = precision_score(y_test, pred)\n",
    "    \n",
    "    return accuracy"
   ]
  },
  {
   "cell_type": "code",
   "execution_count": 49,
   "id": "88a99aac",
   "metadata": {
    "execution": {
     "iopub.execute_input": "2023-03-12T14:45:06.164854Z",
     "iopub.status.busy": "2023-03-12T14:45:06.164195Z",
     "iopub.status.idle": "2023-03-12T14:45:06.169293Z",
     "shell.execute_reply": "2023-03-12T14:45:06.168516Z"
    },
    "papermill": {
     "duration": 0.029073,
     "end_time": "2023-03-12T14:45:06.171449",
     "exception": false,
     "start_time": "2023-03-12T14:45:06.142376",
     "status": "completed"
    },
    "tags": []
   },
   "outputs": [],
   "source": [
    "models = {\n",
    "#     'SVC' : svc,\n",
    "    'KN' : knc, \n",
    "    'NB': mnb, \n",
    "    'DT': dtc, \n",
    "    'LR': lrc, \n",
    "    'RF': rfc,\n",
    "    'AdaBoost': abc, \n",
    "    'BgC': bc,\n",
    "    'ETC': etc,\n",
    "    'GBDT':gbdt\n",
    "#     'xgb':xgb\n",
    "}"
   ]
  },
  {
   "cell_type": "code",
   "execution_count": 50,
   "id": "543770db",
   "metadata": {
    "execution": {
     "iopub.execute_input": "2023-03-12T14:45:06.211768Z",
     "iopub.status.busy": "2023-03-12T14:45:06.211424Z",
     "iopub.status.idle": "2023-03-12T15:03:15.857168Z",
     "shell.execute_reply": "2023-03-12T15:03:15.855729Z"
    },
    "papermill": {
     "duration": 1089.686746,
     "end_time": "2023-03-12T15:03:15.877802",
     "exception": false,
     "start_time": "2023-03-12T14:45:06.191056",
     "status": "completed"
    },
    "tags": []
   },
   "outputs": [
    {
     "name": "stdout",
     "output_type": "stream",
     "text": [
      "For  KN\n",
      "Accuracy -  22.900000000000002\n",
      "====================================\n",
      "For  NB\n",
      "Accuracy -  48.875\n",
      "====================================\n",
      "For  DT\n",
      "Accuracy -  40.425\n",
      "====================================\n",
      "For  LR\n",
      "Accuracy -  52.225\n",
      "====================================\n",
      "For  RF\n",
      "Accuracy -  48.375\n",
      "====================================\n",
      "For  AdaBoost\n",
      "Accuracy -  42.125\n",
      "====================================\n",
      "For  BgC\n",
      "Accuracy -  48.0\n",
      "====================================\n",
      "For  ETC\n",
      "Accuracy -  48.35\n",
      "====================================\n",
      "For  GBDT\n",
      "Accuracy -  46.475\n",
      "====================================\n"
     ]
    }
   ],
   "source": [
    "accuracy_scores = []\n",
    "# precision_scores = []\n",
    "\n",
    "for name, model in models.items():\n",
    "    \n",
    "    current_accuracy = model_training(model)\n",
    "    \n",
    "    print(\"For \",name)\n",
    "    print(\"Accuracy - \",current_accuracy*100)\n",
    "#     print(\"Precision - \",current_precision*100)\n",
    "    print(\"====================================\")\n",
    "    \n",
    "    accuracy_scores.append(current_accuracy)\n",
    "#     precision_scores.append(current_precision)"
   ]
  },
  {
   "cell_type": "code",
   "execution_count": 51,
   "id": "47d59786",
   "metadata": {
    "execution": {
     "iopub.execute_input": "2023-03-12T15:03:15.918362Z",
     "iopub.status.busy": "2023-03-12T15:03:15.918012Z",
     "iopub.status.idle": "2023-03-12T15:03:15.929536Z",
     "shell.execute_reply": "2023-03-12T15:03:15.928863Z"
    },
    "papermill": {
     "duration": 0.033855,
     "end_time": "2023-03-12T15:03:15.931305",
     "exception": false,
     "start_time": "2023-03-12T15:03:15.897450",
     "status": "completed"
    },
    "tags": []
   },
   "outputs": [
    {
     "data": {
      "text/html": [
       "<div>\n",
       "<style scoped>\n",
       "    .dataframe tbody tr th:only-of-type {\n",
       "        vertical-align: middle;\n",
       "    }\n",
       "\n",
       "    .dataframe tbody tr th {\n",
       "        vertical-align: top;\n",
       "    }\n",
       "\n",
       "    .dataframe thead th {\n",
       "        text-align: right;\n",
       "    }\n",
       "</style>\n",
       "<table border=\"1\" class=\"dataframe\">\n",
       "  <thead>\n",
       "    <tr style=\"text-align: right;\">\n",
       "      <th></th>\n",
       "      <th>Models/Algorithms</th>\n",
       "      <th>Accuracy</th>\n",
       "    </tr>\n",
       "  </thead>\n",
       "  <tbody>\n",
       "    <tr>\n",
       "      <th>3</th>\n",
       "      <td>LR</td>\n",
       "      <td>0.52225</td>\n",
       "    </tr>\n",
       "    <tr>\n",
       "      <th>1</th>\n",
       "      <td>NB</td>\n",
       "      <td>0.48875</td>\n",
       "    </tr>\n",
       "    <tr>\n",
       "      <th>4</th>\n",
       "      <td>RF</td>\n",
       "      <td>0.48375</td>\n",
       "    </tr>\n",
       "    <tr>\n",
       "      <th>7</th>\n",
       "      <td>ETC</td>\n",
       "      <td>0.48350</td>\n",
       "    </tr>\n",
       "    <tr>\n",
       "      <th>6</th>\n",
       "      <td>BgC</td>\n",
       "      <td>0.48000</td>\n",
       "    </tr>\n",
       "    <tr>\n",
       "      <th>8</th>\n",
       "      <td>GBDT</td>\n",
       "      <td>0.46475</td>\n",
       "    </tr>\n",
       "    <tr>\n",
       "      <th>5</th>\n",
       "      <td>AdaBoost</td>\n",
       "      <td>0.42125</td>\n",
       "    </tr>\n",
       "    <tr>\n",
       "      <th>2</th>\n",
       "      <td>DT</td>\n",
       "      <td>0.40425</td>\n",
       "    </tr>\n",
       "    <tr>\n",
       "      <th>0</th>\n",
       "      <td>KN</td>\n",
       "      <td>0.22900</td>\n",
       "    </tr>\n",
       "  </tbody>\n",
       "</table>\n",
       "</div>"
      ],
      "text/plain": [
       "  Models/Algorithms  Accuracy\n",
       "3                LR   0.52225\n",
       "1                NB   0.48875\n",
       "4                RF   0.48375\n",
       "7               ETC   0.48350\n",
       "6               BgC   0.48000\n",
       "8              GBDT   0.46475\n",
       "5          AdaBoost   0.42125\n",
       "2                DT   0.40425\n",
       "0                KN   0.22900"
      ]
     },
     "execution_count": 51,
     "metadata": {},
     "output_type": "execute_result"
    }
   ],
   "source": [
    "model_performance = pd.DataFrame({'Models/Algorithms':models.keys(), 'Accuracy':accuracy_scores}).sort_values('Accuracy', ascending=False)\n",
    "model_performance"
   ]
  },
  {
   "cell_type": "code",
   "execution_count": 52,
   "id": "a251c867",
   "metadata": {
    "execution": {
     "iopub.execute_input": "2023-03-12T15:03:15.971728Z",
     "iopub.status.busy": "2023-03-12T15:03:15.971381Z",
     "iopub.status.idle": "2023-03-12T15:03:47.785509Z",
     "shell.execute_reply": "2023-03-12T15:03:47.784455Z"
    },
    "papermill": {
     "duration": 31.854528,
     "end_time": "2023-03-12T15:03:47.805737",
     "exception": false,
     "start_time": "2023-03-12T15:03:15.951209",
     "status": "completed"
    },
    "tags": []
   },
   "outputs": [
    {
     "name": "stdout",
     "output_type": "stream",
     "text": [
      "Accuracy 51.525\n"
     ]
    }
   ],
   "source": [
    "# Voting Classifier \n",
    "# Selecting the three Classifiers which are better in case of Accuracy and Precision\n",
    "# svc = SVC(kernel='sigmoid', gamma=1.0,probability=True)\n",
    "# mnb = MultinomialNB()\n",
    "# etc = ExtraTreesClassifier(n_estimators=50, random_state=2)\n",
    "\n",
    "voting = VotingClassifier(estimators=[('NB', mnb,), ('LR', lrc), ('ETC', etc)], voting='soft')\n",
    "voting.fit(x_train, y_train)\n",
    "pred = voting.predict(x_test)\n",
    "\n",
    "print(\"Accuracy\",accuracy_score(y_test, pred)*100)\n",
    "# print(\"Precision\",precision_score(y_test, pred)*100)"
   ]
  },
  {
   "cell_type": "code",
   "execution_count": 53,
   "id": "53d2200b",
   "metadata": {
    "execution": {
     "iopub.execute_input": "2023-03-12T15:03:47.845963Z",
     "iopub.status.busy": "2023-03-12T15:03:47.845478Z",
     "iopub.status.idle": "2023-03-12T15:06:31.517574Z",
     "shell.execute_reply": "2023-03-12T15:06:31.516825Z"
    },
    "papermill": {
     "duration": 163.714679,
     "end_time": "2023-03-12T15:06:31.539802",
     "exception": false,
     "start_time": "2023-03-12T15:03:47.825123",
     "status": "completed"
    },
    "tags": []
   },
   "outputs": [
    {
     "name": "stdout",
     "output_type": "stream",
     "text": [
      "Accuracy 53.425\n"
     ]
    }
   ],
   "source": [
    "# Applying stacking\n",
    "# Selecting the three Classifiers which are better in case of Accuracy and Precision and Considering Final Estimator as RandomForestClassifier \n",
    "\n",
    "estimators=[('NB', mnb,), ('LR', lrc), ('ETC', etc)]\n",
    "final_estimator=RandomForestClassifier()\n",
    "stc = StackingClassifier(estimators=estimators, final_estimator=final_estimator)\n",
    "stc.fit(x_train, y_train)\n",
    "pred = stc.predict(x_test)\n",
    "\n",
    "print(\"Accuracy\",accuracy_score(y_test, pred)*100)\n",
    "# print(\"Precision\",precision_score(y_test, pred)*100)"
   ]
  },
  {
   "cell_type": "code",
   "execution_count": null,
   "id": "0b52538b",
   "metadata": {
    "papermill": {
     "duration": 0.018406,
     "end_time": "2023-03-12T15:06:31.577230",
     "exception": false,
     "start_time": "2023-03-12T15:06:31.558824",
     "status": "completed"
    },
    "tags": []
   },
   "outputs": [],
   "source": []
  }
 ],
 "metadata": {
  "kernelspec": {
   "display_name": "Python 3",
   "language": "python",
   "name": "python3"
  },
  "language_info": {
   "codemirror_mode": {
    "name": "ipython",
    "version": 3
   },
   "file_extension": ".py",
   "mimetype": "text/x-python",
   "name": "python",
   "nbconvert_exporter": "python",
   "pygments_lexer": "ipython3",
   "version": "3.7.12"
  },
  "papermill": {
   "default_parameters": {},
   "duration": 1517.146196,
   "end_time": "2023-03-12T15:06:33.426894",
   "environment_variables": {},
   "exception": null,
   "input_path": "__notebook__.ipynb",
   "output_path": "__notebook__.ipynb",
   "parameters": {},
   "start_time": "2023-03-12T14:41:16.280698",
   "version": "2.4.0"
  }
 },
 "nbformat": 4,
 "nbformat_minor": 5
}
