{
 "cells": [
  {
   "cell_type": "code",
   "execution_count": 164,
   "id": "8ada6ec7",
   "metadata": {},
   "outputs": [],
   "source": [
    "import pandas as pd\n",
    "import numpy as np\n",
    "import seaborn as sns\n",
    "import matplotlib.pyplot as plt\n",
    "\n",
    "import string\n",
    "import nltk\n",
    "import nltk.corpus\n",
    "from nltk.tokenize import word_tokenize\n",
    "from nltk.corpus import stopwords\n",
    "from nltk.stem import PorterStemmer\n",
    "import re\n",
    "\n",
    "from sklearn.model_selection import train_test_split\n",
    "from sklearn.feature_extraction.text import CountVectorizer, TfidfVectorizer\n",
    "\n",
    "from sklearn.linear_model import LogisticRegression\n",
    "from sklearn.tree import DecisionTreeClassifier\n",
    "from sklearn.ensemble import RandomForestClassifier\n",
    "from sklearn.naive_bayes import GaussianNB\n",
    "from sklearn.svm import SVC\n",
    "\n",
    "from sklearn.metrics import accuracy_score\n",
    "from sklearn.model_selection import cross_val_score"
   ]
  },
  {
   "cell_type": "code",
   "execution_count": 165,
   "id": "eaa965a6",
   "metadata": {},
   "outputs": [],
   "source": [
    "train = pd.read_csv(\"train.csv\")\n",
    "test_data = pd.read_csv(\"test.csv\")"
   ]
  },
  {
   "cell_type": "markdown",
   "id": "5f21c840",
   "metadata": {},
   "source": [
    "# Data Understanding"
   ]
  },
  {
   "cell_type": "code",
   "execution_count": 166,
   "id": "fe3fd3bf",
   "metadata": {},
   "outputs": [
    {
     "data": {
      "text/html": [
       "<div>\n",
       "<style scoped>\n",
       "    .dataframe tbody tr th:only-of-type {\n",
       "        vertical-align: middle;\n",
       "    }\n",
       "\n",
       "    .dataframe tbody tr th {\n",
       "        vertical-align: top;\n",
       "    }\n",
       "\n",
       "    .dataframe thead th {\n",
       "        text-align: right;\n",
       "    }\n",
       "</style>\n",
       "<table border=\"1\" class=\"dataframe\">\n",
       "  <thead>\n",
       "    <tr style=\"text-align: right;\">\n",
       "      <th></th>\n",
       "      <th>id</th>\n",
       "      <th>label</th>\n",
       "      <th>tweet</th>\n",
       "    </tr>\n",
       "  </thead>\n",
       "  <tbody>\n",
       "    <tr>\n",
       "      <th>0</th>\n",
       "      <td>1</td>\n",
       "      <td>0</td>\n",
       "      <td>#fingerprint #Pregnancy Test https://goo.gl/h1...</td>\n",
       "    </tr>\n",
       "    <tr>\n",
       "      <th>1</th>\n",
       "      <td>2</td>\n",
       "      <td>0</td>\n",
       "      <td>Finally a transparant silicon case ^^ Thanks t...</td>\n",
       "    </tr>\n",
       "    <tr>\n",
       "      <th>2</th>\n",
       "      <td>3</td>\n",
       "      <td>0</td>\n",
       "      <td>We love this! Would you go? #talk #makememorie...</td>\n",
       "    </tr>\n",
       "    <tr>\n",
       "      <th>3</th>\n",
       "      <td>4</td>\n",
       "      <td>0</td>\n",
       "      <td>I'm wired I know I'm George I was made that wa...</td>\n",
       "    </tr>\n",
       "    <tr>\n",
       "      <th>4</th>\n",
       "      <td>5</td>\n",
       "      <td>1</td>\n",
       "      <td>What amazing service! Apple won't even talk to...</td>\n",
       "    </tr>\n",
       "  </tbody>\n",
       "</table>\n",
       "</div>"
      ],
      "text/plain": [
       "   id  label                                              tweet\n",
       "0   1      0  #fingerprint #Pregnancy Test https://goo.gl/h1...\n",
       "1   2      0  Finally a transparant silicon case ^^ Thanks t...\n",
       "2   3      0  We love this! Would you go? #talk #makememorie...\n",
       "3   4      0  I'm wired I know I'm George I was made that wa...\n",
       "4   5      1  What amazing service! Apple won't even talk to..."
      ]
     },
     "execution_count": 166,
     "metadata": {},
     "output_type": "execute_result"
    }
   ],
   "source": [
    "train.head()"
   ]
  },
  {
   "cell_type": "code",
   "execution_count": 167,
   "id": "d91c7a1e",
   "metadata": {},
   "outputs": [
    {
     "data": {
      "text/html": [
       "<div>\n",
       "<style scoped>\n",
       "    .dataframe tbody tr th:only-of-type {\n",
       "        vertical-align: middle;\n",
       "    }\n",
       "\n",
       "    .dataframe tbody tr th {\n",
       "        vertical-align: top;\n",
       "    }\n",
       "\n",
       "    .dataframe thead th {\n",
       "        text-align: right;\n",
       "    }\n",
       "</style>\n",
       "<table border=\"1\" class=\"dataframe\">\n",
       "  <thead>\n",
       "    <tr style=\"text-align: right;\">\n",
       "      <th></th>\n",
       "      <th>id</th>\n",
       "      <th>tweet</th>\n",
       "    </tr>\n",
       "  </thead>\n",
       "  <tbody>\n",
       "    <tr>\n",
       "      <th>0</th>\n",
       "      <td>7921</td>\n",
       "      <td>I hate the new #iphone upgrade. Won't let me d...</td>\n",
       "    </tr>\n",
       "    <tr>\n",
       "      <th>1</th>\n",
       "      <td>7922</td>\n",
       "      <td>currently shitting my fucking pants. #apple #i...</td>\n",
       "    </tr>\n",
       "    <tr>\n",
       "      <th>2</th>\n",
       "      <td>7923</td>\n",
       "      <td>I'd like to puts some CD-ROMS on my iPad, is t...</td>\n",
       "    </tr>\n",
       "    <tr>\n",
       "      <th>3</th>\n",
       "      <td>7924</td>\n",
       "      <td>My ipod is officially dead. I lost all my pict...</td>\n",
       "    </tr>\n",
       "    <tr>\n",
       "      <th>4</th>\n",
       "      <td>7925</td>\n",
       "      <td>Been fighting iTunes all night! I only want th...</td>\n",
       "    </tr>\n",
       "  </tbody>\n",
       "</table>\n",
       "</div>"
      ],
      "text/plain": [
       "     id                                              tweet\n",
       "0  7921  I hate the new #iphone upgrade. Won't let me d...\n",
       "1  7922  currently shitting my fucking pants. #apple #i...\n",
       "2  7923  I'd like to puts some CD-ROMS on my iPad, is t...\n",
       "3  7924  My ipod is officially dead. I lost all my pict...\n",
       "4  7925  Been fighting iTunes all night! I only want th..."
      ]
     },
     "execution_count": 167,
     "metadata": {},
     "output_type": "execute_result"
    }
   ],
   "source": [
    "test_data.head()"
   ]
  },
  {
   "cell_type": "code",
   "execution_count": 168,
   "id": "408eccad",
   "metadata": {},
   "outputs": [
    {
     "data": {
      "text/plain": [
       "(7920, 3)"
      ]
     },
     "execution_count": 168,
     "metadata": {},
     "output_type": "execute_result"
    }
   ],
   "source": [
    "train.shape"
   ]
  },
  {
   "cell_type": "code",
   "execution_count": 169,
   "id": "e0982d9b",
   "metadata": {},
   "outputs": [
    {
     "data": {
      "text/plain": [
       "(1953, 2)"
      ]
     },
     "execution_count": 169,
     "metadata": {},
     "output_type": "execute_result"
    }
   ],
   "source": [
    "test_data.shape"
   ]
  },
  {
   "cell_type": "code",
   "execution_count": 170,
   "id": "3694acc5",
   "metadata": {},
   "outputs": [
    {
     "data": {
      "text/html": [
       "<div>\n",
       "<style scoped>\n",
       "    .dataframe tbody tr th:only-of-type {\n",
       "        vertical-align: middle;\n",
       "    }\n",
       "\n",
       "    .dataframe tbody tr th {\n",
       "        vertical-align: top;\n",
       "    }\n",
       "\n",
       "    .dataframe thead th {\n",
       "        text-align: right;\n",
       "    }\n",
       "</style>\n",
       "<table border=\"1\" class=\"dataframe\">\n",
       "  <thead>\n",
       "    <tr style=\"text-align: right;\">\n",
       "      <th></th>\n",
       "      <th>id</th>\n",
       "      <th>label</th>\n",
       "      <th>tweet</th>\n",
       "    </tr>\n",
       "  </thead>\n",
       "  <tbody>\n",
       "    <tr>\n",
       "      <th>466</th>\n",
       "      <td>467</td>\n",
       "      <td>0</td>\n",
       "      <td>Sunset One Minute Ago #zeeland #dezeekust #bui...</td>\n",
       "    </tr>\n",
       "    <tr>\n",
       "      <th>6149</th>\n",
       "      <td>6150</td>\n",
       "      <td>0</td>\n",
       "      <td>Mornings’ duckies x. #sunday #morningwalk #iph...</td>\n",
       "    </tr>\n",
       "    <tr>\n",
       "      <th>3671</th>\n",
       "      <td>3672</td>\n",
       "      <td>0</td>\n",
       "      <td>My #urkel Technically he was dressed to be an ...</td>\n",
       "    </tr>\n",
       "    <tr>\n",
       "      <th>1857</th>\n",
       "      <td>1858</td>\n",
       "      <td>0</td>\n",
       "      <td>RT https://twitter.com/AbensonPH/status/700923...</td>\n",
       "    </tr>\n",
       "    <tr>\n",
       "      <th>7813</th>\n",
       "      <td>7814</td>\n",
       "      <td>0</td>\n",
       "      <td>#iPhone app #theme #preview. We’d your #inputs...</td>\n",
       "    </tr>\n",
       "  </tbody>\n",
       "</table>\n",
       "</div>"
      ],
      "text/plain": [
       "        id  label                                              tweet\n",
       "466    467      0  Sunset One Minute Ago #zeeland #dezeekust #bui...\n",
       "6149  6150      0  Mornings’ duckies x. #sunday #morningwalk #iph...\n",
       "3671  3672      0  My #urkel Technically he was dressed to be an ...\n",
       "1857  1858      0  RT https://twitter.com/AbensonPH/status/700923...\n",
       "7813  7814      0  #iPhone app #theme #preview. We’d your #inputs..."
      ]
     },
     "execution_count": 170,
     "metadata": {},
     "output_type": "execute_result"
    }
   ],
   "source": [
    "train.sample(5)"
   ]
  },
  {
   "cell_type": "code",
   "execution_count": 171,
   "id": "1f2a032b",
   "metadata": {},
   "outputs": [
    {
     "name": "stdout",
     "output_type": "stream",
     "text": [
      "<class 'pandas.core.frame.DataFrame'>\n",
      "RangeIndex: 7920 entries, 0 to 7919\n",
      "Data columns (total 3 columns):\n",
      " #   Column  Non-Null Count  Dtype \n",
      "---  ------  --------------  ----- \n",
      " 0   id      7920 non-null   int64 \n",
      " 1   label   7920 non-null   int64 \n",
      " 2   tweet   7920 non-null   object\n",
      "dtypes: int64(2), object(1)\n",
      "memory usage: 185.8+ KB\n"
     ]
    }
   ],
   "source": [
    "train.info()"
   ]
  },
  {
   "cell_type": "code",
   "execution_count": 172,
   "id": "954f0a0d",
   "metadata": {},
   "outputs": [
    {
     "name": "stdout",
     "output_type": "stream",
     "text": [
      "<class 'pandas.core.frame.DataFrame'>\n",
      "RangeIndex: 1953 entries, 0 to 1952\n",
      "Data columns (total 2 columns):\n",
      " #   Column  Non-Null Count  Dtype \n",
      "---  ------  --------------  ----- \n",
      " 0   id      1953 non-null   int64 \n",
      " 1   tweet   1953 non-null   object\n",
      "dtypes: int64(1), object(1)\n",
      "memory usage: 30.6+ KB\n"
     ]
    }
   ],
   "source": [
    "test_data.info()"
   ]
  },
  {
   "cell_type": "code",
   "execution_count": 173,
   "id": "a004ef8d",
   "metadata": {},
   "outputs": [
    {
     "data": {
      "text/plain": [
       "0"
      ]
     },
     "execution_count": 173,
     "metadata": {},
     "output_type": "execute_result"
    }
   ],
   "source": [
    "train.duplicated().sum()"
   ]
  },
  {
   "cell_type": "code",
   "execution_count": 174,
   "id": "3d73de53",
   "metadata": {},
   "outputs": [
    {
     "data": {
      "text/plain": [
       "0"
      ]
     },
     "execution_count": 174,
     "metadata": {},
     "output_type": "execute_result"
    }
   ],
   "source": [
    "test_data.duplicated().sum()"
   ]
  },
  {
   "cell_type": "markdown",
   "id": "69f98978",
   "metadata": {},
   "source": [
    "# Data Cleaning / Preprocessing"
   ]
  },
  {
   "cell_type": "code",
   "execution_count": 175,
   "id": "860faf52",
   "metadata": {},
   "outputs": [
    {
     "data": {
      "text/html": [
       "<div>\n",
       "<style scoped>\n",
       "    .dataframe tbody tr th:only-of-type {\n",
       "        vertical-align: middle;\n",
       "    }\n",
       "\n",
       "    .dataframe tbody tr th {\n",
       "        vertical-align: top;\n",
       "    }\n",
       "\n",
       "    .dataframe thead th {\n",
       "        text-align: right;\n",
       "    }\n",
       "</style>\n",
       "<table border=\"1\" class=\"dataframe\">\n",
       "  <thead>\n",
       "    <tr style=\"text-align: right;\">\n",
       "      <th></th>\n",
       "      <th>id</th>\n",
       "      <th>label</th>\n",
       "      <th>tweet</th>\n",
       "    </tr>\n",
       "  </thead>\n",
       "  <tbody>\n",
       "    <tr>\n",
       "      <th>0</th>\n",
       "      <td>1</td>\n",
       "      <td>0</td>\n",
       "      <td>#fingerprint #Pregnancy Test https://goo.gl/h1...</td>\n",
       "    </tr>\n",
       "    <tr>\n",
       "      <th>1</th>\n",
       "      <td>2</td>\n",
       "      <td>0</td>\n",
       "      <td>Finally a transparant silicon case ^^ Thanks t...</td>\n",
       "    </tr>\n",
       "    <tr>\n",
       "      <th>2</th>\n",
       "      <td>3</td>\n",
       "      <td>0</td>\n",
       "      <td>We love this! Would you go? #talk #makememorie...</td>\n",
       "    </tr>\n",
       "    <tr>\n",
       "      <th>3</th>\n",
       "      <td>4</td>\n",
       "      <td>0</td>\n",
       "      <td>I'm wired I know I'm George I was made that wa...</td>\n",
       "    </tr>\n",
       "    <tr>\n",
       "      <th>4</th>\n",
       "      <td>5</td>\n",
       "      <td>1</td>\n",
       "      <td>What amazing service! Apple won't even talk to...</td>\n",
       "    </tr>\n",
       "  </tbody>\n",
       "</table>\n",
       "</div>"
      ],
      "text/plain": [
       "   id  label                                              tweet\n",
       "0   1      0  #fingerprint #Pregnancy Test https://goo.gl/h1...\n",
       "1   2      0  Finally a transparant silicon case ^^ Thanks t...\n",
       "2   3      0  We love this! Would you go? #talk #makememorie...\n",
       "3   4      0  I'm wired I know I'm George I was made that wa...\n",
       "4   5      1  What amazing service! Apple won't even talk to..."
      ]
     },
     "execution_count": 175,
     "metadata": {},
     "output_type": "execute_result"
    }
   ],
   "source": [
    "train.head()"
   ]
  },
  {
   "cell_type": "code",
   "execution_count": 176,
   "id": "2d7a9d5e",
   "metadata": {},
   "outputs": [],
   "source": [
    "train = train.drop(columns=[\"id\"])\n",
    "test = test_data.drop(columns=[\"id\"])"
   ]
  },
  {
   "cell_type": "code",
   "execution_count": 177,
   "id": "5f225068",
   "metadata": {},
   "outputs": [
    {
     "data": {
      "text/plain": [
       "'#fingerprint #Pregnancy Test https://goo.gl/h1MfQV #android #apps #beautiful #cute #health #igers #iphoneonly #iphonesia #iphone'"
      ]
     },
     "execution_count": 177,
     "metadata": {},
     "output_type": "execute_result"
    }
   ],
   "source": [
    "train[\"tweet\"][0]"
   ]
  },
  {
   "cell_type": "code",
   "execution_count": 178,
   "id": "2f3a3dcc",
   "metadata": {},
   "outputs": [
    {
     "data": {
      "text/plain": [
       "'Finally a transparant silicon case ^^ Thanks to my uncle :) #yay #Sony #Xperia #S #sonyexperias… http://instagram.com/p/YGEt5JC6JM/'"
      ]
     },
     "execution_count": 178,
     "metadata": {},
     "output_type": "execute_result"
    }
   ],
   "source": [
    "train[\"tweet\"][1]"
   ]
  },
  {
   "cell_type": "code",
   "execution_count": 179,
   "id": "3018cb4a",
   "metadata": {},
   "outputs": [
    {
     "data": {
      "text/plain": [
       "0    5894\n",
       "1    2026\n",
       "Name: label, dtype: int64"
      ]
     },
     "execution_count": 179,
     "metadata": {},
     "output_type": "execute_result"
    }
   ],
   "source": [
    "train[\"label\"].value_counts()"
   ]
  },
  {
   "cell_type": "code",
   "execution_count": 180,
   "id": "58c3c8cf",
   "metadata": {},
   "outputs": [],
   "source": [
    "#REMOVING LINKS, TOKENISATION AND REMOVING PUNCTUATIONS\n",
    "\n",
    "def preprocessing1(text):\n",
    "    te = re.sub(r'http\\S+', \"\", text)\n",
    "    tokens = word_tokenize(te)\n",
    "    \n",
    "    punctuations = string.punctuation\n",
    "    txt = []\n",
    "    for i in tokens:\n",
    "        if i not in punctuations:\n",
    "            txt.append(i)\n",
    "    return txt"
   ]
  },
  {
   "cell_type": "code",
   "execution_count": 181,
   "id": "1b61f437",
   "metadata": {
    "scrolled": true
   },
   "outputs": [],
   "source": [
    "train[\"tweet\"] = train[\"tweet\"].apply(preprocessing1)"
   ]
  },
  {
   "cell_type": "code",
   "execution_count": 182,
   "id": "f4a2c268",
   "metadata": {
    "scrolled": true
   },
   "outputs": [
    {
     "data": {
      "text/plain": [
       "['fingerprint',\n",
       " 'Pregnancy',\n",
       " 'Test',\n",
       " 'android',\n",
       " 'apps',\n",
       " 'beautiful',\n",
       " 'cute',\n",
       " 'health',\n",
       " 'igers',\n",
       " 'iphoneonly',\n",
       " 'iphonesia',\n",
       " 'iphone']"
      ]
     },
     "execution_count": 182,
     "metadata": {},
     "output_type": "execute_result"
    }
   ],
   "source": [
    "train[\"tweet\"][0]"
   ]
  },
  {
   "cell_type": "code",
   "execution_count": 183,
   "id": "278c706c",
   "metadata": {},
   "outputs": [],
   "source": [
    "#REMOVING STOPWORDS & CONVERTING TO LOWERCASE\n",
    "\n",
    "def preprocessing2(text):\n",
    "    stopword = stopwords.words(\"english\")\n",
    "    ntxt = []\n",
    "    for j in text:\n",
    "        if j not in stopword:\n",
    "            ntxt.append(j.lower())\n",
    "    return ntxt"
   ]
  },
  {
   "cell_type": "code",
   "execution_count": 184,
   "id": "fe5cae21",
   "metadata": {},
   "outputs": [],
   "source": [
    "train[\"tweet\"] = train[\"tweet\"].apply(preprocessing2)"
   ]
  },
  {
   "cell_type": "code",
   "execution_count": 185,
   "id": "868ffeab",
   "metadata": {},
   "outputs": [
    {
     "data": {
      "text/plain": [
       "['fingerprint',\n",
       " 'pregnancy',\n",
       " 'test',\n",
       " 'android',\n",
       " 'apps',\n",
       " 'beautiful',\n",
       " 'cute',\n",
       " 'health',\n",
       " 'igers',\n",
       " 'iphoneonly',\n",
       " 'iphonesia',\n",
       " 'iphone']"
      ]
     },
     "execution_count": 185,
     "metadata": {},
     "output_type": "execute_result"
    }
   ],
   "source": [
    "train[\"tweet\"][0]"
   ]
  },
  {
   "cell_type": "code",
   "execution_count": 186,
   "id": "c0ffee40",
   "metadata": {},
   "outputs": [],
   "source": [
    "#STEMMING\n",
    "\n",
    "def preprocessing3(text):\n",
    "    stem = []\n",
    "    Stemmer = PorterStemmer()\n",
    "    for i in text:\n",
    "        stem.append(Stemmer.stem(i))\n",
    "    return \" \".join(stem)"
   ]
  },
  {
   "cell_type": "code",
   "execution_count": 187,
   "id": "201de538",
   "metadata": {},
   "outputs": [],
   "source": [
    "train[\"tweet\"] = train[\"tweet\"].apply(preprocessing3)"
   ]
  },
  {
   "cell_type": "code",
   "execution_count": 188,
   "id": "db9983e8",
   "metadata": {},
   "outputs": [
    {
     "data": {
      "text/plain": [
       "'fingerprint pregnanc test android app beauti cute health iger iphoneonli iphonesia iphon'"
      ]
     },
     "execution_count": 188,
     "metadata": {},
     "output_type": "execute_result"
    }
   ],
   "source": [
    "train[\"tweet\"][0]"
   ]
  },
  {
   "cell_type": "code",
   "execution_count": 189,
   "id": "06038b5d",
   "metadata": {},
   "outputs": [],
   "source": [
    "test[\"tweet\"] = test[\"tweet\"].apply(preprocessing1)\n",
    "test[\"tweet\"] = test[\"tweet\"].apply(preprocessing2)\n",
    "test[\"tweet\"] = test[\"tweet\"].apply(preprocessing3)"
   ]
  },
  {
   "cell_type": "code",
   "execution_count": 190,
   "id": "0b44e7be",
   "metadata": {},
   "outputs": [
    {
     "data": {
      "text/plain": [
       "\"i hate new iphon upgrad wo n't let download app ugh appl suck\""
      ]
     },
     "execution_count": 190,
     "metadata": {},
     "output_type": "execute_result"
    }
   ],
   "source": [
    "test[\"tweet\"][0]"
   ]
  },
  {
   "cell_type": "code",
   "execution_count": 191,
   "id": "964e7452",
   "metadata": {},
   "outputs": [
    {
     "data": {
      "text/html": [
       "<div>\n",
       "<style scoped>\n",
       "    .dataframe tbody tr th:only-of-type {\n",
       "        vertical-align: middle;\n",
       "    }\n",
       "\n",
       "    .dataframe tbody tr th {\n",
       "        vertical-align: top;\n",
       "    }\n",
       "\n",
       "    .dataframe thead th {\n",
       "        text-align: right;\n",
       "    }\n",
       "</style>\n",
       "<table border=\"1\" class=\"dataframe\">\n",
       "  <thead>\n",
       "    <tr style=\"text-align: right;\">\n",
       "      <th></th>\n",
       "      <th>label</th>\n",
       "      <th>tweet</th>\n",
       "    </tr>\n",
       "  </thead>\n",
       "  <tbody>\n",
       "    <tr>\n",
       "      <th>0</th>\n",
       "      <td>0</td>\n",
       "      <td>fingerprint pregnanc test android app beauti c...</td>\n",
       "    </tr>\n",
       "    <tr>\n",
       "      <th>1</th>\n",
       "      <td>0</td>\n",
       "      <td>final transpar silicon case ^^ thank uncl yay ...</td>\n",
       "    </tr>\n",
       "    <tr>\n",
       "      <th>2</th>\n",
       "      <td>0</td>\n",
       "      <td>we love would go talk makememori unplug relax ...</td>\n",
       "    </tr>\n",
       "    <tr>\n",
       "      <th>3</th>\n",
       "      <td>0</td>\n",
       "      <td>i 'm wire i know i 'm georg i made way iphon c...</td>\n",
       "    </tr>\n",
       "    <tr>\n",
       "      <th>4</th>\n",
       "      <td>1</td>\n",
       "      <td>what amaz servic appl wo n't even talk questio...</td>\n",
       "    </tr>\n",
       "    <tr>\n",
       "      <th>5</th>\n",
       "      <td>1</td>\n",
       "      <td>iphon softwar updat fuck phone big time stupid...</td>\n",
       "    </tr>\n",
       "    <tr>\n",
       "      <th>6</th>\n",
       "      <td>0</td>\n",
       "      <td>happi us .. instap instadaili us soni xperia x...</td>\n",
       "    </tr>\n",
       "    <tr>\n",
       "      <th>7</th>\n",
       "      <td>0</td>\n",
       "      <td>new type c charger cabl uk … bay amazon etsi n...</td>\n",
       "    </tr>\n",
       "    <tr>\n",
       "      <th>8</th>\n",
       "      <td>0</td>\n",
       "      <td>bout go shop listen music iphon justm music li...</td>\n",
       "    </tr>\n",
       "    <tr>\n",
       "      <th>9</th>\n",
       "      <td>0</td>\n",
       "      <td>photo fun selfi pool water soni camera picofth...</td>\n",
       "    </tr>\n",
       "  </tbody>\n",
       "</table>\n",
       "</div>"
      ],
      "text/plain": [
       "   label                                              tweet\n",
       "0      0  fingerprint pregnanc test android app beauti c...\n",
       "1      0  final transpar silicon case ^^ thank uncl yay ...\n",
       "2      0  we love would go talk makememori unplug relax ...\n",
       "3      0  i 'm wire i know i 'm georg i made way iphon c...\n",
       "4      1  what amaz servic appl wo n't even talk questio...\n",
       "5      1  iphon softwar updat fuck phone big time stupid...\n",
       "6      0  happi us .. instap instadaili us soni xperia x...\n",
       "7      0  new type c charger cabl uk … bay amazon etsi n...\n",
       "8      0  bout go shop listen music iphon justm music li...\n",
       "9      0  photo fun selfi pool water soni camera picofth..."
      ]
     },
     "execution_count": 191,
     "metadata": {},
     "output_type": "execute_result"
    }
   ],
   "source": [
    "train.head(10)"
   ]
  },
  {
   "cell_type": "code",
   "execution_count": 192,
   "id": "87fbb67a",
   "metadata": {},
   "outputs": [
    {
     "data": {
      "text/html": [
       "<div>\n",
       "<style scoped>\n",
       "    .dataframe tbody tr th:only-of-type {\n",
       "        vertical-align: middle;\n",
       "    }\n",
       "\n",
       "    .dataframe tbody tr th {\n",
       "        vertical-align: top;\n",
       "    }\n",
       "\n",
       "    .dataframe thead th {\n",
       "        text-align: right;\n",
       "    }\n",
       "</style>\n",
       "<table border=\"1\" class=\"dataframe\">\n",
       "  <thead>\n",
       "    <tr style=\"text-align: right;\">\n",
       "      <th></th>\n",
       "      <th>tweet</th>\n",
       "    </tr>\n",
       "  </thead>\n",
       "  <tbody>\n",
       "    <tr>\n",
       "      <th>0</th>\n",
       "      <td>i hate new iphon upgrad wo n't let download ap...</td>\n",
       "    </tr>\n",
       "    <tr>\n",
       "      <th>1</th>\n",
       "      <td>current shit fuck pant appl imac cashmoney rad...</td>\n",
       "    </tr>\n",
       "    <tr>\n",
       "      <th>2</th>\n",
       "      <td>i 'd like put cd-rom ipad possibl — ye would n...</td>\n",
       "    </tr>\n",
       "    <tr>\n",
       "      <th>3</th>\n",
       "      <td>my ipod offici dead i lost pictur video 1d 5so...</td>\n",
       "    </tr>\n",
       "    <tr>\n",
       "      <th>4</th>\n",
       "      <td>been fight itun night i want music i paid</td>\n",
       "    </tr>\n",
       "    <tr>\n",
       "      <th>5</th>\n",
       "      <td>repost getbakednfri repostapp ・・・ announc appl...</td>\n",
       "    </tr>\n",
       "    <tr>\n",
       "      <th>6</th>\n",
       "      <td>thi new appl softwar updat realli thing phone ...</td>\n",
       "    </tr>\n",
       "    <tr>\n",
       "      <th>7</th>\n",
       "      <td>babi iphon iphone6 gold new appl appleisbest 6...</td>\n",
       "    </tr>\n",
       "    <tr>\n",
       "      <th>8</th>\n",
       "      <td>i 'm confus ... i take time set appoint to sti...</td>\n",
       "    </tr>\n",
       "    <tr>\n",
       "      <th>9</th>\n",
       "      <td>fruit tast better pick appl healthi fruit nyc ...</td>\n",
       "    </tr>\n",
       "  </tbody>\n",
       "</table>\n",
       "</div>"
      ],
      "text/plain": [
       "                                               tweet\n",
       "0  i hate new iphon upgrad wo n't let download ap...\n",
       "1  current shit fuck pant appl imac cashmoney rad...\n",
       "2  i 'd like put cd-rom ipad possibl — ye would n...\n",
       "3  my ipod offici dead i lost pictur video 1d 5so...\n",
       "4          been fight itun night i want music i paid\n",
       "5  repost getbakednfri repostapp ・・・ announc appl...\n",
       "6  thi new appl softwar updat realli thing phone ...\n",
       "7  babi iphon iphone6 gold new appl appleisbest 6...\n",
       "8  i 'm confus ... i take time set appoint to sti...\n",
       "9  fruit tast better pick appl healthi fruit nyc ..."
      ]
     },
     "execution_count": 192,
     "metadata": {},
     "output_type": "execute_result"
    }
   ],
   "source": [
    "test.head(10)"
   ]
  },
  {
   "cell_type": "code",
   "execution_count": 193,
   "id": "f5aa8a8a",
   "metadata": {},
   "outputs": [
    {
     "data": {
      "text/plain": [
       "label    0\n",
       "tweet    0\n",
       "dtype: int64"
      ]
     },
     "execution_count": 193,
     "metadata": {},
     "output_type": "execute_result"
    }
   ],
   "source": [
    "train.isna().sum()"
   ]
  },
  {
   "cell_type": "code",
   "execution_count": 194,
   "id": "f7371e7c",
   "metadata": {},
   "outputs": [
    {
     "data": {
      "text/plain": [
       "tweet    0\n",
       "dtype: int64"
      ]
     },
     "execution_count": 194,
     "metadata": {},
     "output_type": "execute_result"
    }
   ],
   "source": [
    "test.isna().sum()"
   ]
  },
  {
   "cell_type": "code",
   "execution_count": 195,
   "id": "1205841f",
   "metadata": {},
   "outputs": [
    {
     "data": {
      "text/plain": [
       "(7920, 2)"
      ]
     },
     "execution_count": 195,
     "metadata": {},
     "output_type": "execute_result"
    }
   ],
   "source": [
    "train.shape"
   ]
  },
  {
   "cell_type": "code",
   "execution_count": 196,
   "id": "878acfa6",
   "metadata": {},
   "outputs": [
    {
     "data": {
      "text/plain": [
       "(1953, 1)"
      ]
     },
     "execution_count": 196,
     "metadata": {},
     "output_type": "execute_result"
    }
   ],
   "source": [
    "test.shape"
   ]
  },
  {
   "cell_type": "markdown",
   "id": "19011e22",
   "metadata": {},
   "source": [
    "# MODEL BUILDING"
   ]
  },
  {
   "cell_type": "code",
   "execution_count": 198,
   "id": "8e502a5c",
   "metadata": {},
   "outputs": [],
   "source": [
    "x = train[\"tweet\"]\n",
    "y = train[\"label\"]"
   ]
  },
  {
   "cell_type": "code",
   "execution_count": 199,
   "id": "10ad68ab",
   "metadata": {},
   "outputs": [],
   "source": [
    "tfidf = TfidfVectorizer()\n",
    "x = tfidf.fit_transform(x)"
   ]
  },
  {
   "cell_type": "code",
   "execution_count": 200,
   "id": "91e55f3d",
   "metadata": {},
   "outputs": [],
   "source": [
    "test_transformed = tfidf.transform(test[\"tweet\"])"
   ]
  },
  {
   "cell_type": "code",
   "execution_count": 201,
   "id": "4495cc7b",
   "metadata": {},
   "outputs": [
    {
     "data": {
      "text/plain": [
       "(1953, 16324)"
      ]
     },
     "execution_count": 201,
     "metadata": {},
     "output_type": "execute_result"
    }
   ],
   "source": [
    "test_transformed.shape"
   ]
  },
  {
   "cell_type": "code",
   "execution_count": 202,
   "id": "52a35b98",
   "metadata": {},
   "outputs": [
    {
     "data": {
      "text/plain": [
       "(7920, 16324)"
      ]
     },
     "execution_count": 202,
     "metadata": {},
     "output_type": "execute_result"
    }
   ],
   "source": [
    "x.shape"
   ]
  },
  {
   "cell_type": "code",
   "execution_count": 67,
   "id": "69393702",
   "metadata": {},
   "outputs": [],
   "source": [
    "x_train, x_test, y_train, y_test = train_test_split(x,y, test_size=0.2, random_state=None)"
   ]
  },
  {
   "cell_type": "markdown",
   "id": "532760a0",
   "metadata": {},
   "source": [
    "**Logistic Regression**"
   ]
  },
  {
   "cell_type": "code",
   "execution_count": 68,
   "id": "1b6e6213",
   "metadata": {},
   "outputs": [
    {
     "data": {
      "text/plain": [
       "85.54292929292929"
      ]
     },
     "execution_count": 68,
     "metadata": {},
     "output_type": "execute_result"
    }
   ],
   "source": [
    "logr = LogisticRegression()\n",
    "model = logr.fit(x_train,y_train)\n",
    "pred = model.predict(x_test)\n",
    "accuracy_score(y_test, pred)*100"
   ]
  },
  {
   "cell_type": "code",
   "execution_count": 73,
   "id": "e1f4c0ee",
   "metadata": {},
   "outputs": [
    {
     "name": "stdout",
     "output_type": "stream",
     "text": [
      "i=  167\n",
      "89.14141414141415\n"
     ]
    }
   ],
   "source": [
    "score = []\n",
    "for i in range(1000):\n",
    "    x = train[\"tweet\"]\n",
    "    y = train[\"label\"]\n",
    "    x = tfidf.fit_transform(x)\n",
    "    \n",
    "    x_train, x_test, y_train, y_test = train_test_split(x,y, test_size=0.2, random_state=i)\n",
    "    \n",
    "    logr = LogisticRegression()\n",
    "    logr.fit(x_train, y_train)\n",
    "    pred = logr.predict(x_test)\n",
    "    score.append(accuracy_score(y_test,pred)*100)\n",
    "print(\"i= \",np.argmax(score))\n",
    "print(score[np.argmax(score)])"
   ]
  },
  {
   "cell_type": "code",
   "execution_count": 74,
   "id": "d331c4fb",
   "metadata": {},
   "outputs": [
    {
     "data": {
      "text/plain": [
       "89.14141414141415"
      ]
     },
     "execution_count": 74,
     "metadata": {},
     "output_type": "execute_result"
    }
   ],
   "source": [
    "logr = LogisticRegression()\n",
    "x = train[\"tweet\"]\n",
    "y = train[\"label\"]\n",
    "x = tfidf.fit_transform(x)\n",
    "x_train, x_test, y_train, y_test = train_test_split(x,y, test_size=0.2, random_state=np.argmax(score))\n",
    "\n",
    "model1 = logr.fit(x_train,y_train)\n",
    "pred = model1.predict(x_test)\n",
    "accuracy_score(y_test, pred)*100"
   ]
  },
  {
   "cell_type": "code",
   "execution_count": 75,
   "id": "ad64e18b",
   "metadata": {},
   "outputs": [
    {
     "data": {
      "text/plain": [
       "91.82449494949495"
      ]
     },
     "execution_count": 75,
     "metadata": {},
     "output_type": "execute_result"
    }
   ],
   "source": [
    "# Training Data Accuracy\n",
    "\n",
    "pred = model1.predict(x_train)\n",
    "accuracy_score(y_train, pred)*100     #Generalized"
   ]
  },
  {
   "cell_type": "code",
   "execution_count": 76,
   "id": "1a64895b",
   "metadata": {},
   "outputs": [
    {
     "name": "stdout",
     "output_type": "stream",
     "text": [
      "[0.86277603 0.87066246 0.87223975 0.87539432 0.8659306  0.85804416\n",
      " 0.86729858 0.87993681 0.84834123 0.8657188 ]\n",
      "87.0\n"
     ]
    }
   ],
   "source": [
    "#CROSS VALIDATION TO CHECK WHETHER THE MODEL IS GENERALIZED OR NOT\n",
    "\n",
    "mod1 = cross_val_score(LogisticRegression(), x_train, y_train, cv=10)\n",
    "print(mod1)\n",
    "print(np.round(np.mean(mod1),2)*100)"
   ]
  },
  {
   "cell_type": "code",
   "execution_count": null,
   "id": "988eda79",
   "metadata": {},
   "outputs": [],
   "source": []
  },
  {
   "cell_type": "markdown",
   "id": "c8478830",
   "metadata": {},
   "source": [
    "**Decision Tree Classifier**"
   ]
  },
  {
   "cell_type": "code",
   "execution_count": 77,
   "id": "9cb1f366",
   "metadata": {},
   "outputs": [
    {
     "data": {
      "text/plain": [
       "82.82828282828282"
      ]
     },
     "execution_count": 77,
     "metadata": {},
     "output_type": "execute_result"
    }
   ],
   "source": [
    "dtc = DecisionTreeClassifier(random_state=4)\n",
    "model = dtc.fit(x_train,y_train)\n",
    "pred = model.predict(x_test)\n",
    "accuracy_score(y_test, pred)*100"
   ]
  },
  {
   "cell_type": "code",
   "execution_count": 78,
   "id": "fa19c849",
   "metadata": {},
   "outputs": [
    {
     "name": "stdout",
     "output_type": "stream",
     "text": [
      "i=  13\n",
      "85.35353535353535\n"
     ]
    }
   ],
   "source": [
    "score = []\n",
    "for i in range(100):\n",
    "    x = train[\"tweet\"]\n",
    "    y = train[\"label\"]\n",
    "    x = tfidf.fit_transform(x)\n",
    "    \n",
    "    x_train, x_test, y_train, y_test = train_test_split(x,y, test_size=0.2, random_state=i)\n",
    "    \n",
    "    dtc = DecisionTreeClassifier(random_state=4)\n",
    "    dtc.fit(x_train, y_train)\n",
    "    pred = dtc.predict(x_test)\n",
    "    score.append(accuracy_score(y_test,pred)*100)\n",
    "print(\"i= \",np.argmax(score))\n",
    "print(score[np.argmax(score)])"
   ]
  },
  {
   "cell_type": "code",
   "execution_count": 81,
   "id": "f0e9310d",
   "metadata": {
    "scrolled": true
   },
   "outputs": [
    {
     "data": {
      "text/plain": [
       "85.35353535353535"
      ]
     },
     "execution_count": 81,
     "metadata": {},
     "output_type": "execute_result"
    }
   ],
   "source": [
    "dtc = DecisionTreeClassifier(random_state=4)\n",
    "x = train[\"tweet\"]\n",
    "y = train[\"label\"]\n",
    "x = tfidf.fit_transform(x)\n",
    "x_train, x_test, y_train, y_test = train_test_split(x,y, test_size=0.2, random_state=np.argmax(score))\n",
    "\n",
    "model2 = dtc.fit(x_train,y_train)\n",
    "pred = model2.predict(x_test)\n",
    "accuracy_score(y_test, pred)*100"
   ]
  },
  {
   "cell_type": "code",
   "execution_count": 82,
   "id": "16832281",
   "metadata": {},
   "outputs": [
    {
     "data": {
      "text/plain": [
       "99.95265151515152"
      ]
     },
     "execution_count": 82,
     "metadata": {},
     "output_type": "execute_result"
    }
   ],
   "source": [
    "# Training Data Accuracy\n",
    "\n",
    "pred = model2.predict(x_train)\n",
    "accuracy_score(y_train, pred)*100     #Overfitting"
   ]
  },
  {
   "cell_type": "code",
   "execution_count": 83,
   "id": "228eb8f9",
   "metadata": {},
   "outputs": [
    {
     "name": "stdout",
     "output_type": "stream",
     "text": [
      "[0.83280757 0.83741121 0.83267561 0.82478295 0.81689029]\n",
      "83.0\n"
     ]
    }
   ],
   "source": [
    "#CROSS VALIDATION TO CHECK WHETHER THE MODEL IS GENERALIZED OR NOT\n",
    "\n",
    "mod2 = cross_val_score(DecisionTreeClassifier(random_state=4), x_train, y_train, cv=5)\n",
    "print(mod2)\n",
    "print(np.round(np.mean(mod2),2)*100)"
   ]
  },
  {
   "cell_type": "code",
   "execution_count": null,
   "id": "98cfa041",
   "metadata": {},
   "outputs": [],
   "source": []
  },
  {
   "cell_type": "markdown",
   "id": "f1993638",
   "metadata": {},
   "source": [
    "**RandomForest Classifier**"
   ]
  },
  {
   "cell_type": "code",
   "execution_count": 86,
   "id": "db0430cf",
   "metadata": {},
   "outputs": [
    {
     "data": {
      "text/plain": [
       "87.81565656565657"
      ]
     },
     "execution_count": 86,
     "metadata": {},
     "output_type": "execute_result"
    }
   ],
   "source": [
    "rfc = RandomForestClassifier(random_state=4)\n",
    "model = rfc.fit(x_train,y_train)\n",
    "pred = model.predict(x_test)\n",
    "accuracy_score(y_test, pred)*100"
   ]
  },
  {
   "cell_type": "code",
   "execution_count": 87,
   "id": "e956fef3",
   "metadata": {},
   "outputs": [
    {
     "name": "stdout",
     "output_type": "stream",
     "text": [
      "i=  71\n",
      "88.25757575757575\n"
     ]
    }
   ],
   "source": [
    "score = []\n",
    "for i in range(100):\n",
    "    x = train[\"tweet\"]\n",
    "    y = train[\"label\"]\n",
    "    x = tfidf.fit_transform(x)\n",
    "    \n",
    "    x_train, x_test, y_train, y_test = train_test_split(x,y, test_size=0.2, random_state=i)\n",
    "    \n",
    "    rfc = RandomForestClassifier(random_state=4)\n",
    "    rfc.fit(x_train, y_train)\n",
    "    pred = rfc.predict(x_test)\n",
    "    score.append(accuracy_score(y_test,pred)*100)\n",
    "print(\"i= \",np.argmax(score))\n",
    "print(score[np.argmax(score)])"
   ]
  },
  {
   "cell_type": "code",
   "execution_count": 88,
   "id": "b04051de",
   "metadata": {},
   "outputs": [
    {
     "data": {
      "text/plain": [
       "88.25757575757575"
      ]
     },
     "execution_count": 88,
     "metadata": {},
     "output_type": "execute_result"
    }
   ],
   "source": [
    "rfc = RandomForestClassifier(random_state=4)\n",
    "x = train[\"tweet\"]\n",
    "y = train[\"label\"]\n",
    "x = tfidf.fit_transform(x)\n",
    "x_train, x_test, y_train, y_test = train_test_split(x,y, test_size=0.2, random_state=np.argmax(score))\n",
    "\n",
    "model3 = rfc.fit(x_train,y_train)\n",
    "pred = model3.predict(x_test)\n",
    "accuracy_score(y_test, pred)*100"
   ]
  },
  {
   "cell_type": "code",
   "execution_count": 89,
   "id": "8a9f35fb",
   "metadata": {},
   "outputs": [
    {
     "data": {
      "text/plain": [
       "99.98421717171718"
      ]
     },
     "execution_count": 89,
     "metadata": {},
     "output_type": "execute_result"
    }
   ],
   "source": [
    "# Training Data Accuracy\n",
    "\n",
    "pred = model3.predict(x_train)\n",
    "accuracy_score(y_train, pred)*100     #Overfitting"
   ]
  },
  {
   "cell_type": "code",
   "execution_count": 90,
   "id": "497e537c",
   "metadata": {},
   "outputs": [
    {
     "name": "stdout",
     "output_type": "stream",
     "text": [
      "[0.85646688 0.88643533 0.85962145 0.86750789 0.85962145 0.8785489\n",
      " 0.85624013 0.84834123 0.85781991 0.88467615]\n",
      "87.0\n"
     ]
    }
   ],
   "source": [
    "#CROSS VALIDATION TO CHECK WHETHER THE MODEL IS GENERALIZED OR NOT\n",
    "\n",
    "mod3 = cross_val_score(RandomForestClassifier(random_state=4), x_train, y_train, cv=10)\n",
    "print(mod3)\n",
    "print(np.round(np.mean(mod3),2)*100)"
   ]
  },
  {
   "cell_type": "code",
   "execution_count": null,
   "id": "70ecddf9",
   "metadata": {},
   "outputs": [],
   "source": []
  },
  {
   "cell_type": "markdown",
   "id": "2308bfff",
   "metadata": {},
   "source": [
    "**Support Vector Classifier**"
   ]
  },
  {
   "cell_type": "code",
   "execution_count": 94,
   "id": "ac0afa54",
   "metadata": {},
   "outputs": [
    {
     "data": {
      "text/plain": [
       "89.77272727272727"
      ]
     },
     "execution_count": 94,
     "metadata": {},
     "output_type": "execute_result"
    }
   ],
   "source": [
    "svc = SVC(kernel=\"linear\",tol=0.1)\n",
    "model = svc.fit(x_train,y_train)\n",
    "pred = model.predict(x_test)\n",
    "accuracy_score(y_test, pred)*100"
   ]
  },
  {
   "cell_type": "code",
   "execution_count": 95,
   "id": "73106f1c",
   "metadata": {},
   "outputs": [
    {
     "name": "stdout",
     "output_type": "stream",
     "text": [
      "i=  49\n",
      "90.78282828282829\n"
     ]
    }
   ],
   "source": [
    "score = []\n",
    "for i in range(50):\n",
    "    x = train[\"tweet\"]\n",
    "    y = train[\"label\"]\n",
    "    x = tfidf.fit_transform(x)    \n",
    "    x_train, x_test, y_train, y_test = train_test_split(x,y, test_size=0.2, random_state=i)\n",
    "    \n",
    "    svc = SVC(kernel=\"linear\",tol=0.1)\n",
    "    svc.fit(x_train, y_train)\n",
    "    pred = svc.predict(x_test)\n",
    "    score.append(accuracy_score(y_test,pred)*100)\n",
    "print(\"i= \",np.argmax(score))\n",
    "print(score[np.argmax(score)])"
   ]
  },
  {
   "cell_type": "code",
   "execution_count": 96,
   "id": "6f1f4cc4",
   "metadata": {},
   "outputs": [
    {
     "data": {
      "text/plain": [
       "90.78282828282829"
      ]
     },
     "execution_count": 96,
     "metadata": {},
     "output_type": "execute_result"
    }
   ],
   "source": [
    "svc = SVC(kernel=\"linear\",tol=0.1)\n",
    "x = train[\"tweet\"]\n",
    "y = train[\"label\"]\n",
    "x = tfidf.fit_transform(x)\n",
    "x_train, x_test, y_train, y_test = train_test_split(x,y, test_size=0.2, random_state=np.argmax(score))\n",
    "\n",
    "model4 = svc.fit(x_train,y_train)\n",
    "pred = model4.predict(x_test)\n",
    "accuracy_score(y_test, pred)*100"
   ]
  },
  {
   "cell_type": "code",
   "execution_count": 97,
   "id": "ea2224fb",
   "metadata": {},
   "outputs": [
    {
     "data": {
      "text/plain": [
       "96.32260101010101"
      ]
     },
     "execution_count": 97,
     "metadata": {},
     "output_type": "execute_result"
    }
   ],
   "source": [
    "# Training Data Accuracy\n",
    "\n",
    "pred = model4.predict(x_train)\n",
    "accuracy_score(y_train, pred)*100     #Generalized"
   ]
  },
  {
   "cell_type": "code",
   "execution_count": 98,
   "id": "a444067f",
   "metadata": {},
   "outputs": [
    {
     "name": "stdout",
     "output_type": "stream",
     "text": [
      "[0.88194444 0.87058081 0.89646465 0.87563131]\n",
      "88.0\n"
     ]
    }
   ],
   "source": [
    "#CROSS VALIDATION TO CHECK WHETHER THE MODEL IS GENERALIZED OR NOT\n",
    "\n",
    "mod4 = cross_val_score(SVC(kernel=\"linear\",tol=0.1), x_train, y_train, cv=4)\n",
    "print(mod4)\n",
    "print(np.round(np.mean(mod4),2)*100)"
   ]
  },
  {
   "cell_type": "code",
   "execution_count": null,
   "id": "a75b94ef",
   "metadata": {},
   "outputs": [],
   "source": []
  },
  {
   "cell_type": "code",
   "execution_count": 207,
   "id": "f6571e99",
   "metadata": {
    "scrolled": true
   },
   "outputs": [
    {
     "data": {
      "text/plain": [
       "array([1, 1, 1, ..., 1, 1, 0], dtype=int64)"
      ]
     },
     "execution_count": 207,
     "metadata": {},
     "output_type": "execute_result"
    }
   ],
   "source": [
    "test_pred = model1.predict(test_transformed)\n",
    "test_pred"
   ]
  },
  {
   "cell_type": "code",
   "execution_count": 208,
   "id": "60126be6",
   "metadata": {},
   "outputs": [],
   "source": [
    "submission = pd.DataFrame({\"id\": test_data[\"id\"], \"label\": test_pred})"
   ]
  },
  {
   "cell_type": "code",
   "execution_count": 209,
   "id": "eac63c43",
   "metadata": {},
   "outputs": [
    {
     "data": {
      "text/html": [
       "<div>\n",
       "<style scoped>\n",
       "    .dataframe tbody tr th:only-of-type {\n",
       "        vertical-align: middle;\n",
       "    }\n",
       "\n",
       "    .dataframe tbody tr th {\n",
       "        vertical-align: top;\n",
       "    }\n",
       "\n",
       "    .dataframe thead th {\n",
       "        text-align: right;\n",
       "    }\n",
       "</style>\n",
       "<table border=\"1\" class=\"dataframe\">\n",
       "  <thead>\n",
       "    <tr style=\"text-align: right;\">\n",
       "      <th></th>\n",
       "      <th>id</th>\n",
       "      <th>label</th>\n",
       "    </tr>\n",
       "  </thead>\n",
       "  <tbody>\n",
       "    <tr>\n",
       "      <th>0</th>\n",
       "      <td>7921</td>\n",
       "      <td>1</td>\n",
       "    </tr>\n",
       "    <tr>\n",
       "      <th>1</th>\n",
       "      <td>7922</td>\n",
       "      <td>1</td>\n",
       "    </tr>\n",
       "    <tr>\n",
       "      <th>2</th>\n",
       "      <td>7923</td>\n",
       "      <td>1</td>\n",
       "    </tr>\n",
       "    <tr>\n",
       "      <th>3</th>\n",
       "      <td>7924</td>\n",
       "      <td>0</td>\n",
       "    </tr>\n",
       "    <tr>\n",
       "      <th>4</th>\n",
       "      <td>7925</td>\n",
       "      <td>0</td>\n",
       "    </tr>\n",
       "  </tbody>\n",
       "</table>\n",
       "</div>"
      ],
      "text/plain": [
       "     id  label\n",
       "0  7921      1\n",
       "1  7922      1\n",
       "2  7923      1\n",
       "3  7924      0\n",
       "4  7925      0"
      ]
     },
     "execution_count": 209,
     "metadata": {},
     "output_type": "execute_result"
    }
   ],
   "source": [
    "submission.head()"
   ]
  },
  {
   "cell_type": "code",
   "execution_count": 210,
   "id": "c8cf46d6",
   "metadata": {},
   "outputs": [],
   "source": [
    "submission.to_csv('Sentiment_Identification_submission.csv', index=False)"
   ]
  },
  {
   "cell_type": "code",
   "execution_count": null,
   "id": "e10f26a8",
   "metadata": {},
   "outputs": [],
   "source": []
  },
  {
   "cell_type": "code",
   "execution_count": null,
   "id": "b528a330",
   "metadata": {},
   "outputs": [],
   "source": []
  }
 ],
 "metadata": {
  "kernelspec": {
   "display_name": "Python 3 (ipykernel)",
   "language": "python",
   "name": "python3"
  },
  "language_info": {
   "codemirror_mode": {
    "name": "ipython",
    "version": 3
   },
   "file_extension": ".py",
   "mimetype": "text/x-python",
   "name": "python",
   "nbconvert_exporter": "python",
   "pygments_lexer": "ipython3",
   "version": "3.9.12"
  }
 },
 "nbformat": 4,
 "nbformat_minor": 5
}
