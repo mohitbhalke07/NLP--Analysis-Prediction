{
 "cells": [
  {
   "cell_type": "code",
   "execution_count": 22,
   "id": "ea84acce",
   "metadata": {},
   "outputs": [],
   "source": [
    "import pandas as pd\n",
    "import numpy as np"
   ]
  },
  {
   "cell_type": "code",
   "execution_count": 2,
   "id": "bf7c033f",
   "metadata": {},
   "outputs": [
    {
     "data": {
      "text/html": [
       "<div>\n",
       "<style scoped>\n",
       "    .dataframe tbody tr th:only-of-type {\n",
       "        vertical-align: middle;\n",
       "    }\n",
       "\n",
       "    .dataframe tbody tr th {\n",
       "        vertical-align: top;\n",
       "    }\n",
       "\n",
       "    .dataframe thead th {\n",
       "        text-align: right;\n",
       "    }\n",
       "</style>\n",
       "<table border=\"1\" class=\"dataframe\">\n",
       "  <thead>\n",
       "    <tr style=\"text-align: right;\">\n",
       "      <th></th>\n",
       "      <th>Sentence</th>\n",
       "      <th>Sentiment</th>\n",
       "    </tr>\n",
       "  </thead>\n",
       "  <tbody>\n",
       "    <tr>\n",
       "      <th>0</th>\n",
       "      <td>The GeoSolutions technology will leverage Bene...</td>\n",
       "      <td>positive</td>\n",
       "    </tr>\n",
       "    <tr>\n",
       "      <th>1</th>\n",
       "      <td>$ESI on lows, down $1.50 to $2.50 BK a real po...</td>\n",
       "      <td>negative</td>\n",
       "    </tr>\n",
       "    <tr>\n",
       "      <th>2</th>\n",
       "      <td>For the last quarter of 2010 , Componenta 's n...</td>\n",
       "      <td>positive</td>\n",
       "    </tr>\n",
       "    <tr>\n",
       "      <th>3</th>\n",
       "      <td>According to the Finnish-Russian Chamber of Co...</td>\n",
       "      <td>neutral</td>\n",
       "    </tr>\n",
       "    <tr>\n",
       "      <th>4</th>\n",
       "      <td>The Swedish buyout firm has sold its remaining...</td>\n",
       "      <td>neutral</td>\n",
       "    </tr>\n",
       "    <tr>\n",
       "      <th>5</th>\n",
       "      <td>$SPY wouldn't be surprised to see a green close</td>\n",
       "      <td>positive</td>\n",
       "    </tr>\n",
       "    <tr>\n",
       "      <th>6</th>\n",
       "      <td>Shell's $70 Billion BG Deal Meets Shareholder ...</td>\n",
       "      <td>negative</td>\n",
       "    </tr>\n",
       "    <tr>\n",
       "      <th>7</th>\n",
       "      <td>SSH COMMUNICATIONS SECURITY CORP STOCK EXCHANG...</td>\n",
       "      <td>negative</td>\n",
       "    </tr>\n",
       "    <tr>\n",
       "      <th>8</th>\n",
       "      <td>Kone 's net sales rose by some 14 % year-on-ye...</td>\n",
       "      <td>positive</td>\n",
       "    </tr>\n",
       "    <tr>\n",
       "      <th>9</th>\n",
       "      <td>The Stockmann department store will have a tot...</td>\n",
       "      <td>neutral</td>\n",
       "    </tr>\n",
       "    <tr>\n",
       "      <th>10</th>\n",
       "      <td>Circulation revenue has increased by 5 % in Fi...</td>\n",
       "      <td>positive</td>\n",
       "    </tr>\n",
       "    <tr>\n",
       "      <th>11</th>\n",
       "      <td>$SAP Q1 disappoints as #software licenses down...</td>\n",
       "      <td>negative</td>\n",
       "    </tr>\n",
       "    <tr>\n",
       "      <th>12</th>\n",
       "      <td>The subdivision made sales revenues last year ...</td>\n",
       "      <td>positive</td>\n",
       "    </tr>\n",
       "    <tr>\n",
       "      <th>13</th>\n",
       "      <td>Viking Line has canceled some services .</td>\n",
       "      <td>neutral</td>\n",
       "    </tr>\n",
       "    <tr>\n",
       "      <th>14</th>\n",
       "      <td>Ahlstrom Corporation STOCK EXCHANGE ANNOUNCEME...</td>\n",
       "      <td>neutral</td>\n",
       "    </tr>\n",
       "    <tr>\n",
       "      <th>15</th>\n",
       "      <td>$FB gone green on day</td>\n",
       "      <td>positive</td>\n",
       "    </tr>\n",
       "    <tr>\n",
       "      <th>16</th>\n",
       "      <td>$MSFT SQL Server revenue grew double-digit wit...</td>\n",
       "      <td>positive</td>\n",
       "    </tr>\n",
       "    <tr>\n",
       "      <th>17</th>\n",
       "      <td>According to L+ñnnen Tehtaat 's CEO Matti Karp...</td>\n",
       "      <td>neutral</td>\n",
       "    </tr>\n",
       "    <tr>\n",
       "      <th>18</th>\n",
       "      <td>The company 's share is quoted on NASDAQ OMX H...</td>\n",
       "      <td>neutral</td>\n",
       "    </tr>\n",
       "    <tr>\n",
       "      <th>19</th>\n",
       "      <td>Elcoteq SE is listed on the Nasdaq OMX Helsink...</td>\n",
       "      <td>neutral</td>\n",
       "    </tr>\n",
       "    <tr>\n",
       "      <th>20</th>\n",
       "      <td>Two of these contracts are for turntable anode...</td>\n",
       "      <td>neutral</td>\n",
       "    </tr>\n",
       "    <tr>\n",
       "      <th>21</th>\n",
       "      <td>Aviva, Friends Life top forecasts ahead of 5.6...</td>\n",
       "      <td>positive</td>\n",
       "    </tr>\n",
       "    <tr>\n",
       "      <th>22</th>\n",
       "      <td>In stead of being based on a soft drink , as i...</td>\n",
       "      <td>neutral</td>\n",
       "    </tr>\n",
       "    <tr>\n",
       "      <th>23</th>\n",
       "      <td>The company plans to increase the unit 's spec...</td>\n",
       "      <td>neutral</td>\n",
       "    </tr>\n",
       "    <tr>\n",
       "      <th>24</th>\n",
       "      <td>The company closed last year with a turnover o...</td>\n",
       "      <td>neutral</td>\n",
       "    </tr>\n",
       "    <tr>\n",
       "      <th>25</th>\n",
       "      <td>Shire CEO steps up drive to get Baxalta board ...</td>\n",
       "      <td>positive</td>\n",
       "    </tr>\n",
       "    <tr>\n",
       "      <th>26</th>\n",
       "      <td>Costco: A Premier Retail Dividend Play https:/...</td>\n",
       "      <td>positive</td>\n",
       "    </tr>\n",
       "    <tr>\n",
       "      <th>27</th>\n",
       "      <td>The five-storey , eco-efficient building will ...</td>\n",
       "      <td>neutral</td>\n",
       "    </tr>\n",
       "    <tr>\n",
       "      <th>28</th>\n",
       "      <td>The first installment of the Cinema Series con...</td>\n",
       "      <td>neutral</td>\n",
       "    </tr>\n",
       "    <tr>\n",
       "      <th>29</th>\n",
       "      <td>All are welcome .</td>\n",
       "      <td>neutral</td>\n",
       "    </tr>\n",
       "    <tr>\n",
       "      <th>30</th>\n",
       "      <td>Stockmann and Swedish sector company AB Lindex...</td>\n",
       "      <td>positive</td>\n",
       "    </tr>\n",
       "    <tr>\n",
       "      <th>31</th>\n",
       "      <td>HUHTAMAKI OYJ STOCK EXCHANGE RELEASE , 16.9.20...</td>\n",
       "      <td>neutral</td>\n",
       "    </tr>\n",
       "    <tr>\n",
       "      <th>32</th>\n",
       "      <td>`` We are pleased to welcome Tapeks Noma into ...</td>\n",
       "      <td>positive</td>\n",
       "    </tr>\n",
       "    <tr>\n",
       "      <th>33</th>\n",
       "      <td>- Profit before taxes was EUR 105.9 82.7 milli...</td>\n",
       "      <td>neutral</td>\n",
       "    </tr>\n",
       "    <tr>\n",
       "      <th>34</th>\n",
       "      <td>Royal Dutch Shell to Buy BG Group for Nearly $...</td>\n",
       "      <td>positive</td>\n",
       "    </tr>\n",
       "    <tr>\n",
       "      <th>35</th>\n",
       "      <td>FinancialWire tm is not a press release servic...</td>\n",
       "      <td>neutral</td>\n",
       "    </tr>\n",
       "    <tr>\n",
       "      <th>36</th>\n",
       "      <td>ASSA ABLOY Kaupthing Bank gave a ` neutral ' r...</td>\n",
       "      <td>neutral</td>\n",
       "    </tr>\n",
       "    <tr>\n",
       "      <th>37</th>\n",
       "      <td>The item included restructuring costs of EUR1 ...</td>\n",
       "      <td>positive</td>\n",
       "    </tr>\n",
       "    <tr>\n",
       "      <th>38</th>\n",
       "      <td>In 2005 the bank posted a net profit of Lt 8.2...</td>\n",
       "      <td>neutral</td>\n",
       "    </tr>\n",
       "    <tr>\n",
       "      <th>39</th>\n",
       "      <td>$AAPL afternoon selloff as usual will be bruta...</td>\n",
       "      <td>negative</td>\n",
       "    </tr>\n",
       "    <tr>\n",
       "      <th>40</th>\n",
       "      <td>$TSLA recalling pretty much every single model...</td>\n",
       "      <td>negative</td>\n",
       "    </tr>\n",
       "    <tr>\n",
       "      <th>41</th>\n",
       "      <td>Dolce &amp; Gabbana has asked the European Union t...</td>\n",
       "      <td>negative</td>\n",
       "    </tr>\n",
       "    <tr>\n",
       "      <th>42</th>\n",
       "      <td>InterContinental Hotels first-quarter global r...</td>\n",
       "      <td>negative</td>\n",
       "    </tr>\n",
       "    <tr>\n",
       "      <th>43</th>\n",
       "      <td>According to Finnish pension insurance company...</td>\n",
       "      <td>positive</td>\n",
       "    </tr>\n",
       "    <tr>\n",
       "      <th>44</th>\n",
       "      <td>A portion , $ 12.5 million , will be recorded ...</td>\n",
       "      <td>positive</td>\n",
       "    </tr>\n",
       "    <tr>\n",
       "      <th>45</th>\n",
       "      <td>L&amp;G still paying price for dividend cut during...</td>\n",
       "      <td>negative</td>\n",
       "    </tr>\n",
       "    <tr>\n",
       "      <th>46</th>\n",
       "      <td>The volume of investments in the two phases of...</td>\n",
       "      <td>neutral</td>\n",
       "    </tr>\n",
       "    <tr>\n",
       "      <th>47</th>\n",
       "      <td>Russia accounted for 9 % of the Lagardere maga...</td>\n",
       "      <td>neutral</td>\n",
       "    </tr>\n",
       "    <tr>\n",
       "      <th>48</th>\n",
       "      <td>The company also estimates the already carried...</td>\n",
       "      <td>positive</td>\n",
       "    </tr>\n",
       "    <tr>\n",
       "      <th>49</th>\n",
       "      <td>Profit of the accounting period was EUR 0.3 mn .</td>\n",
       "      <td>neutral</td>\n",
       "    </tr>\n",
       "  </tbody>\n",
       "</table>\n",
       "</div>"
      ],
      "text/plain": [
       "                                             Sentence Sentiment\n",
       "0   The GeoSolutions technology will leverage Bene...  positive\n",
       "1   $ESI on lows, down $1.50 to $2.50 BK a real po...  negative\n",
       "2   For the last quarter of 2010 , Componenta 's n...  positive\n",
       "3   According to the Finnish-Russian Chamber of Co...   neutral\n",
       "4   The Swedish buyout firm has sold its remaining...   neutral\n",
       "5     $SPY wouldn't be surprised to see a green close  positive\n",
       "6   Shell's $70 Billion BG Deal Meets Shareholder ...  negative\n",
       "7   SSH COMMUNICATIONS SECURITY CORP STOCK EXCHANG...  negative\n",
       "8   Kone 's net sales rose by some 14 % year-on-ye...  positive\n",
       "9   The Stockmann department store will have a tot...   neutral\n",
       "10  Circulation revenue has increased by 5 % in Fi...  positive\n",
       "11  $SAP Q1 disappoints as #software licenses down...  negative\n",
       "12  The subdivision made sales revenues last year ...  positive\n",
       "13           Viking Line has canceled some services .   neutral\n",
       "14  Ahlstrom Corporation STOCK EXCHANGE ANNOUNCEME...   neutral\n",
       "15                              $FB gone green on day  positive\n",
       "16  $MSFT SQL Server revenue grew double-digit wit...  positive\n",
       "17  According to L+ñnnen Tehtaat 's CEO Matti Karp...   neutral\n",
       "18  The company 's share is quoted on NASDAQ OMX H...   neutral\n",
       "19  Elcoteq SE is listed on the Nasdaq OMX Helsink...   neutral\n",
       "20  Two of these contracts are for turntable anode...   neutral\n",
       "21  Aviva, Friends Life top forecasts ahead of 5.6...  positive\n",
       "22  In stead of being based on a soft drink , as i...   neutral\n",
       "23  The company plans to increase the unit 's spec...   neutral\n",
       "24  The company closed last year with a turnover o...   neutral\n",
       "25  Shire CEO steps up drive to get Baxalta board ...  positive\n",
       "26  Costco: A Premier Retail Dividend Play https:/...  positive\n",
       "27  The five-storey , eco-efficient building will ...   neutral\n",
       "28  The first installment of the Cinema Series con...   neutral\n",
       "29                                  All are welcome .   neutral\n",
       "30  Stockmann and Swedish sector company AB Lindex...  positive\n",
       "31  HUHTAMAKI OYJ STOCK EXCHANGE RELEASE , 16.9.20...   neutral\n",
       "32  `` We are pleased to welcome Tapeks Noma into ...  positive\n",
       "33  - Profit before taxes was EUR 105.9 82.7 milli...   neutral\n",
       "34  Royal Dutch Shell to Buy BG Group for Nearly $...  positive\n",
       "35  FinancialWire tm is not a press release servic...   neutral\n",
       "36  ASSA ABLOY Kaupthing Bank gave a ` neutral ' r...   neutral\n",
       "37  The item included restructuring costs of EUR1 ...  positive\n",
       "38  In 2005 the bank posted a net profit of Lt 8.2...   neutral\n",
       "39  $AAPL afternoon selloff as usual will be bruta...  negative\n",
       "40  $TSLA recalling pretty much every single model...  negative\n",
       "41  Dolce & Gabbana has asked the European Union t...  negative\n",
       "42  InterContinental Hotels first-quarter global r...  negative\n",
       "43  According to Finnish pension insurance company...  positive\n",
       "44  A portion , $ 12.5 million , will be recorded ...  positive\n",
       "45  L&G still paying price for dividend cut during...  negative\n",
       "46  The volume of investments in the two phases of...   neutral\n",
       "47  Russia accounted for 9 % of the Lagardere maga...   neutral\n",
       "48  The company also estimates the already carried...  positive\n",
       "49   Profit of the accounting period was EUR 0.3 mn .   neutral"
      ]
     },
     "execution_count": 2,
     "metadata": {},
     "output_type": "execute_result"
    }
   ],
   "source": [
    "data = pd.read_csv(\"financial sentiment analysis.csv\")\n",
    "data.head(50)"
   ]
  },
  {
   "cell_type": "code",
   "execution_count": 3,
   "id": "16201b3f",
   "metadata": {},
   "outputs": [
    {
     "data": {
      "text/plain": [
       "\"The GeoSolutions technology will leverage Benefon 's GPS solutions by providing Location Based Search Technology , a Communities Platform , location relevant multimedia content and a new and powerful commercial model .\""
      ]
     },
     "execution_count": 3,
     "metadata": {},
     "output_type": "execute_result"
    }
   ],
   "source": [
    "data[\"Sentence\"][0]"
   ]
  },
  {
   "cell_type": "code",
   "execution_count": 4,
   "id": "e28acec8",
   "metadata": {},
   "outputs": [
    {
     "data": {
      "text/plain": [
       "'$ESI on lows, down $1.50 to $2.50 BK a real possibility'"
      ]
     },
     "execution_count": 4,
     "metadata": {},
     "output_type": "execute_result"
    }
   ],
   "source": [
    "data[\"Sentence\"][1]"
   ]
  },
  {
   "cell_type": "code",
   "execution_count": 5,
   "id": "0d2c1d04",
   "metadata": {},
   "outputs": [
    {
     "data": {
      "text/plain": [
       "'According to the Finnish-Russian Chamber of Commerce , all the major construction companies of Finland are operating in Russia .'"
      ]
     },
     "execution_count": 5,
     "metadata": {},
     "output_type": "execute_result"
    }
   ],
   "source": [
    "data[\"Sentence\"][3]"
   ]
  },
  {
   "cell_type": "code",
   "execution_count": 6,
   "id": "ce82006d",
   "metadata": {},
   "outputs": [
    {
     "data": {
      "text/plain": [
       "neutral     3130\n",
       "positive    1852\n",
       "negative     860\n",
       "Name: Sentiment, dtype: int64"
      ]
     },
     "execution_count": 6,
     "metadata": {},
     "output_type": "execute_result"
    }
   ],
   "source": [
    "data[\"Sentiment\"].value_counts()"
   ]
  },
  {
   "cell_type": "code",
   "execution_count": 7,
   "id": "091725fe",
   "metadata": {},
   "outputs": [
    {
     "data": {
      "text/plain": [
       "Sentence     0\n",
       "Sentiment    0\n",
       "dtype: int64"
      ]
     },
     "execution_count": 7,
     "metadata": {},
     "output_type": "execute_result"
    }
   ],
   "source": [
    "data.isnull().sum()"
   ]
  },
  {
   "cell_type": "markdown",
   "id": "bfeba897",
   "metadata": {},
   "source": [
    "# DATA PREPROCESSING"
   ]
  },
  {
   "cell_type": "code",
   "execution_count": 8,
   "id": "17464d2c",
   "metadata": {},
   "outputs": [],
   "source": [
    "import string\n",
    "import nltk\n",
    "import nltk.corpus\n",
    "from nltk.tokenize import word_tokenize\n",
    "import string\n",
    "from nltk.corpus import stopwords\n",
    "from nltk.stem import PorterStemmer"
   ]
  },
  {
   "cell_type": "code",
   "execution_count": 9,
   "id": "7df88690",
   "metadata": {},
   "outputs": [],
   "source": [
    "def preprocessing(text):\n",
    "    #TOKENISATION\n",
    "    tokens = word_tokenize(text)\n",
    "    \n",
    "    #REMOVING PUNCTUATIONS\n",
    "    punctuations = string.punctuation\n",
    "    txt = []\n",
    "    for i in tokens:\n",
    "        if i not in punctuations:\n",
    "            txt.append(i)\n",
    "            \n",
    "    #REMOVING STOPWORDS & CONVERTING TO LOWERCASE\n",
    "    stopword = stopwords.words(\"english\")\n",
    "    ntxt = []\n",
    "    for j in txt:\n",
    "        if j not in stopword:\n",
    "            ntxt.append(j.lower())\n",
    "    \n",
    "    #STEMMING\n",
    "    stem = []\n",
    "    Stemmer = PorterStemmer()\n",
    "    for i in ntxt:\n",
    "        stem.append(Stemmer.stem(i))\n",
    "    return \" \".join(stem)"
   ]
  },
  {
   "cell_type": "code",
   "execution_count": 10,
   "id": "47d25520",
   "metadata": {
    "scrolled": true
   },
   "outputs": [],
   "source": [
    "data[\"Sentence\"] = data[\"Sentence\"].apply(preprocessing)"
   ]
  },
  {
   "cell_type": "code",
   "execution_count": 11,
   "id": "898d65ba",
   "metadata": {},
   "outputs": [
    {
     "data": {
      "text/plain": [
       "'the price log clearli improv 2009 also price pulpwood gone'"
      ]
     },
     "execution_count": 11,
     "metadata": {},
     "output_type": "execute_result"
    }
   ],
   "source": [
    "data[\"Sentence\"][55]"
   ]
  },
  {
   "cell_type": "code",
   "execution_count": 12,
   "id": "01246565",
   "metadata": {},
   "outputs": [
    {
     "data": {
      "text/html": [
       "<div>\n",
       "<style scoped>\n",
       "    .dataframe tbody tr th:only-of-type {\n",
       "        vertical-align: middle;\n",
       "    }\n",
       "\n",
       "    .dataframe tbody tr th {\n",
       "        vertical-align: top;\n",
       "    }\n",
       "\n",
       "    .dataframe thead th {\n",
       "        text-align: right;\n",
       "    }\n",
       "</style>\n",
       "<table border=\"1\" class=\"dataframe\">\n",
       "  <thead>\n",
       "    <tr style=\"text-align: right;\">\n",
       "      <th></th>\n",
       "      <th>Sentence</th>\n",
       "      <th>Sentiment</th>\n",
       "    </tr>\n",
       "  </thead>\n",
       "  <tbody>\n",
       "    <tr>\n",
       "      <th>0</th>\n",
       "      <td>the geosolut technolog leverag benefon 's gp s...</td>\n",
       "      <td>positive</td>\n",
       "    </tr>\n",
       "    <tr>\n",
       "      <th>1</th>\n",
       "      <td>esi low 1.50 2.50 bk real possibl</td>\n",
       "      <td>negative</td>\n",
       "    </tr>\n",
       "    <tr>\n",
       "      <th>2</th>\n",
       "      <td>for last quarter 2010 componenta 's net sale d...</td>\n",
       "      <td>positive</td>\n",
       "    </tr>\n",
       "    <tr>\n",
       "      <th>3</th>\n",
       "      <td>accord finnish-russian chamber commerc major c...</td>\n",
       "      <td>neutral</td>\n",
       "    </tr>\n",
       "    <tr>\n",
       "      <th>4</th>\n",
       "      <td>the swedish buyout firm sold remain 22.4 perce...</td>\n",
       "      <td>neutral</td>\n",
       "    </tr>\n",
       "    <tr>\n",
       "      <th>5</th>\n",
       "      <td>spi would n't surpris see green close</td>\n",
       "      <td>positive</td>\n",
       "    </tr>\n",
       "    <tr>\n",
       "      <th>6</th>\n",
       "      <td>shell 's 70 billion bg deal meet sharehold ske...</td>\n",
       "      <td>negative</td>\n",
       "    </tr>\n",
       "    <tr>\n",
       "      <th>7</th>\n",
       "      <td>ssh commun secur corp stock exchang releas oct...</td>\n",
       "      <td>negative</td>\n",
       "    </tr>\n",
       "    <tr>\n",
       "      <th>8</th>\n",
       "      <td>kone 's net sale rose 14 year-on-year first ni...</td>\n",
       "      <td>positive</td>\n",
       "    </tr>\n",
       "    <tr>\n",
       "      <th>9</th>\n",
       "      <td>the stockmann depart store total floor space 8...</td>\n",
       "      <td>neutral</td>\n",
       "    </tr>\n",
       "  </tbody>\n",
       "</table>\n",
       "</div>"
      ],
      "text/plain": [
       "                                            Sentence Sentiment\n",
       "0  the geosolut technolog leverag benefon 's gp s...  positive\n",
       "1                  esi low 1.50 2.50 bk real possibl  negative\n",
       "2  for last quarter 2010 componenta 's net sale d...  positive\n",
       "3  accord finnish-russian chamber commerc major c...   neutral\n",
       "4  the swedish buyout firm sold remain 22.4 perce...   neutral\n",
       "5              spi would n't surpris see green close  positive\n",
       "6  shell 's 70 billion bg deal meet sharehold ske...  negative\n",
       "7  ssh commun secur corp stock exchang releas oct...  negative\n",
       "8  kone 's net sale rose 14 year-on-year first ni...  positive\n",
       "9  the stockmann depart store total floor space 8...   neutral"
      ]
     },
     "execution_count": 12,
     "metadata": {},
     "output_type": "execute_result"
    }
   ],
   "source": [
    "data.head(10)"
   ]
  },
  {
   "cell_type": "code",
   "execution_count": 13,
   "id": "d25d7f8f",
   "metadata": {},
   "outputs": [
    {
     "data": {
      "text/plain": [
       "Sentence     0\n",
       "Sentiment    0\n",
       "dtype: int64"
      ]
     },
     "execution_count": 13,
     "metadata": {},
     "output_type": "execute_result"
    }
   ],
   "source": [
    "data.isna().sum()"
   ]
  },
  {
   "cell_type": "markdown",
   "id": "5781cbad",
   "metadata": {},
   "source": [
    "# MODEL BUILDING & TEXT VECTORIZATION"
   ]
  },
  {
   "cell_type": "code",
   "execution_count": 14,
   "id": "bf490642",
   "metadata": {},
   "outputs": [],
   "source": [
    "from sklearn.preprocessing import LabelEncoder\n",
    "from sklearn.feature_extraction.text import CountVectorizer, TfidfVectorizer\n",
    "from sklearn.model_selection import train_test_split\n",
    "from sklearn.compose import make_column_transformer\n",
    "from sklearn.ensemble import RandomForestClassifier\n",
    "from sklearn.naive_bayes import GaussianNB\n",
    "from sklearn.svm import SVC\n",
    "from sklearn.pipeline import make_pipeline\n",
    "from sklearn.metrics import accuracy_score, f1_score"
   ]
  },
  {
   "cell_type": "code",
   "execution_count": 15,
   "id": "abdc758a",
   "metadata": {},
   "outputs": [],
   "source": [
    "x = data[\"Sentence\"]\n",
    "y = data[\"Sentiment\"]"
   ]
  },
  {
   "cell_type": "code",
   "execution_count": 16,
   "id": "d4c9f883",
   "metadata": {},
   "outputs": [],
   "source": [
    "le = LabelEncoder()\n",
    "y = le.fit_transform(y)"
   ]
  },
  {
   "cell_type": "code",
   "execution_count": 17,
   "id": "4d924e4b",
   "metadata": {},
   "outputs": [],
   "source": [
    "tfidf = TfidfVectorizer()\n",
    "x = tfidf.fit_transform(x).toarray()"
   ]
  },
  {
   "cell_type": "code",
   "execution_count": null,
   "id": "00ed3947",
   "metadata": {
    "scrolled": true
   },
   "outputs": [],
   "source": [
    "x_train, x_test, y_train, y_test = train_test_split(x,y, test_size=0.2, random_state=None)\n",
    "model = RandomForestClassifier()\n",
    "model.fit(x_train,y_train)\n",
    "pred = model.predict(x_test)\n",
    "accuracy_score(y_test,pred)*100"
   ]
  },
  {
   "cell_type": "code",
   "execution_count": null,
   "id": "4b03b814",
   "metadata": {},
   "outputs": [],
   "source": [
    "x_train, x_test, y_train, y_test = train_test_split(x,y, test_size=0.2, random_state=None)\n",
    "model2 = GaussianNB()\n",
    "model2.fit(x_train,y_train)\n",
    "pred = model2.predict(x_test)\n",
    "accuracy_score(y_test,pred)*100"
   ]
  },
  {
   "cell_type": "code",
   "execution_count": 23,
   "id": "41a35b20",
   "metadata": {},
   "outputs": [
    {
     "name": "stdout",
     "output_type": "stream",
     "text": [
      "i=  4\n",
      "0.7091531223267751\n"
     ]
    }
   ],
   "source": [
    "score = []\n",
    "for i in range(10):\n",
    "    x_train, x_test, y_train, y_test = train_test_split(x,y, test_size=0.2, random_state=i)\n",
    "    svc = SVC(kernel=\"linear\",tol=0.1)\n",
    "    svc.fit(x_train,y_train)\n",
    "    pred = svc.predict(x_test)\n",
    "    score.append(accuracy_score(y_test,pred))\n",
    "print(\"i= \",np.argmax(score))\n",
    "print(score[np.argmax(score)])"
   ]
  },
  {
   "cell_type": "code",
   "execution_count": 24,
   "id": "2768ff75",
   "metadata": {},
   "outputs": [
    {
     "data": {
      "text/plain": [
       "70.91531223267751"
      ]
     },
     "execution_count": 24,
     "metadata": {},
     "output_type": "execute_result"
    }
   ],
   "source": [
    "x_train, x_test, y_train, y_test = train_test_split(x,y, test_size=0.2, random_state=4)\n",
    "model3 = SVC(kernel=\"linear\",tol=0.1)\n",
    "model3.fit(x_train,y_train)\n",
    "pred = model3.predict(x_test)\n",
    "accuracy_score(y_test,pred)*100"
   ]
  },
  {
   "cell_type": "code",
   "execution_count": null,
   "id": "33fb98f4",
   "metadata": {},
   "outputs": [],
   "source": []
  }
 ],
 "metadata": {
  "kernelspec": {
   "display_name": "Python 3",
   "language": "python",
   "name": "python3"
  },
  "language_info": {
   "codemirror_mode": {
    "name": "ipython",
    "version": 3
   },
   "file_extension": ".py",
   "mimetype": "text/x-python",
   "name": "python",
   "nbconvert_exporter": "python",
   "pygments_lexer": "ipython3",
   "version": "3.8.8"
  }
 },
 "nbformat": 4,
 "nbformat_minor": 5
}
