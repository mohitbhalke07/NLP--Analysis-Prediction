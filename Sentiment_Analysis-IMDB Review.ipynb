{
 "cells": [
  {
   "cell_type": "code",
   "execution_count": 1,
   "id": "b1d2e390",
   "metadata": {},
   "outputs": [],
   "source": [
    "import pandas as pd\n",
    "import numpy as np\n",
    "import seaborn as sns\n",
    "import matplotlib.pyplot as plt\n",
    "\n",
    "import string\n",
    "import nltk\n",
    "import nltk.corpus\n",
    "from nltk.tokenize import word_tokenize\n",
    "from nltk.corpus import stopwords\n",
    "from nltk.stem import PorterStemmer\n",
    "import re\n",
    "\n",
    "from sklearn.model_selection import train_test_split\n",
    "from sklearn.feature_extraction.text import CountVectorizer, TfidfVectorizer\n",
    "\n",
    "from sklearn.linear_model import LogisticRegression\n",
    "from sklearn.tree import DecisionTreeClassifier\n",
    "from sklearn.ensemble import RandomForestClassifier\n",
    "from sklearn.naive_bayes import GaussianNB\n",
    "from sklearn.svm import SVC\n",
    "\n",
    "from sklearn.metrics import accuracy_score\n",
    "from sklearn.model_selection import cross_val_score"
   ]
  },
  {
   "cell_type": "code",
   "execution_count": 2,
   "id": "865bcf5e",
   "metadata": {},
   "outputs": [],
   "source": [
    "data = pd.read_csv(\"train.csv\")"
   ]
  },
  {
   "cell_type": "markdown",
   "id": "1693c939",
   "metadata": {},
   "source": [
    "# Data Understanding"
   ]
  },
  {
   "cell_type": "code",
   "execution_count": 3,
   "id": "a7ab7d65",
   "metadata": {},
   "outputs": [
    {
     "data": {
      "text/html": [
       "<div>\n",
       "<style scoped>\n",
       "    .dataframe tbody tr th:only-of-type {\n",
       "        vertical-align: middle;\n",
       "    }\n",
       "\n",
       "    .dataframe tbody tr th {\n",
       "        vertical-align: top;\n",
       "    }\n",
       "\n",
       "    .dataframe thead th {\n",
       "        text-align: right;\n",
       "    }\n",
       "</style>\n",
       "<table border=\"1\" class=\"dataframe\">\n",
       "  <thead>\n",
       "    <tr style=\"text-align: right;\">\n",
       "      <th></th>\n",
       "      <th>text</th>\n",
       "      <th>label</th>\n",
       "    </tr>\n",
       "  </thead>\n",
       "  <tbody>\n",
       "    <tr>\n",
       "      <th>0</th>\n",
       "      <td>I grew up (b. 1965) watching and loving the Th...</td>\n",
       "      <td>0</td>\n",
       "    </tr>\n",
       "    <tr>\n",
       "      <th>1</th>\n",
       "      <td>When I put this movie in my DVD player, and sa...</td>\n",
       "      <td>0</td>\n",
       "    </tr>\n",
       "    <tr>\n",
       "      <th>2</th>\n",
       "      <td>Why do people who do not know what a particula...</td>\n",
       "      <td>0</td>\n",
       "    </tr>\n",
       "    <tr>\n",
       "      <th>3</th>\n",
       "      <td>Even though I have great interest in Biblical ...</td>\n",
       "      <td>0</td>\n",
       "    </tr>\n",
       "    <tr>\n",
       "      <th>4</th>\n",
       "      <td>Im a die hard Dads Army fan and nothing will e...</td>\n",
       "      <td>1</td>\n",
       "    </tr>\n",
       "  </tbody>\n",
       "</table>\n",
       "</div>"
      ],
      "text/plain": [
       "                                                text  label\n",
       "0  I grew up (b. 1965) watching and loving the Th...      0\n",
       "1  When I put this movie in my DVD player, and sa...      0\n",
       "2  Why do people who do not know what a particula...      0\n",
       "3  Even though I have great interest in Biblical ...      0\n",
       "4  Im a die hard Dads Army fan and nothing will e...      1"
      ]
     },
     "execution_count": 3,
     "metadata": {},
     "output_type": "execute_result"
    }
   ],
   "source": [
    "data.head()"
   ]
  },
  {
   "cell_type": "code",
   "execution_count": 4,
   "id": "18b09a51",
   "metadata": {},
   "outputs": [
    {
     "data": {
      "text/plain": [
       "(40000, 2)"
      ]
     },
     "execution_count": 4,
     "metadata": {},
     "output_type": "execute_result"
    }
   ],
   "source": [
    "data.shape"
   ]
  },
  {
   "cell_type": "code",
   "execution_count": 5,
   "id": "f25b4756",
   "metadata": {},
   "outputs": [
    {
     "data": {
      "text/html": [
       "<div>\n",
       "<style scoped>\n",
       "    .dataframe tbody tr th:only-of-type {\n",
       "        vertical-align: middle;\n",
       "    }\n",
       "\n",
       "    .dataframe tbody tr th {\n",
       "        vertical-align: top;\n",
       "    }\n",
       "\n",
       "    .dataframe thead th {\n",
       "        text-align: right;\n",
       "    }\n",
       "</style>\n",
       "<table border=\"1\" class=\"dataframe\">\n",
       "  <thead>\n",
       "    <tr style=\"text-align: right;\">\n",
       "      <th></th>\n",
       "      <th>text</th>\n",
       "      <th>label</th>\n",
       "    </tr>\n",
       "  </thead>\n",
       "  <tbody>\n",
       "    <tr>\n",
       "      <th>24654</th>\n",
       "      <td>I only bought this DVD because it was dirt che...</td>\n",
       "      <td>0</td>\n",
       "    </tr>\n",
       "    <tr>\n",
       "      <th>3283</th>\n",
       "      <td>This is a romantic comedy with the emphasis on...</td>\n",
       "      <td>1</td>\n",
       "    </tr>\n",
       "    <tr>\n",
       "      <th>8366</th>\n",
       "      <td>This is a wonderful comedy short--one of Keato...</td>\n",
       "      <td>1</td>\n",
       "    </tr>\n",
       "    <tr>\n",
       "      <th>35069</th>\n",
       "      <td>definitely the best game for N64 ever. I most ...</td>\n",
       "      <td>1</td>\n",
       "    </tr>\n",
       "    <tr>\n",
       "      <th>16936</th>\n",
       "      <td>I'm both amused and disgusted by the people wh...</td>\n",
       "      <td>0</td>\n",
       "    </tr>\n",
       "    <tr>\n",
       "      <th>2327</th>\n",
       "      <td>I was very interested in seeing this movie des...</td>\n",
       "      <td>0</td>\n",
       "    </tr>\n",
       "    <tr>\n",
       "      <th>7787</th>\n",
       "      <td>ONCE UPON A TIME, there were different types o...</td>\n",
       "      <td>1</td>\n",
       "    </tr>\n",
       "    <tr>\n",
       "      <th>9665</th>\n",
       "      <td>I had read many good things about this adaptat...</td>\n",
       "      <td>0</td>\n",
       "    </tr>\n",
       "    <tr>\n",
       "      <th>12264</th>\n",
       "      <td>I first remember seeing this one back in the 7...</td>\n",
       "      <td>1</td>\n",
       "    </tr>\n",
       "    <tr>\n",
       "      <th>36561</th>\n",
       "      <td>My complaints here concern the movie's pacing ...</td>\n",
       "      <td>0</td>\n",
       "    </tr>\n",
       "  </tbody>\n",
       "</table>\n",
       "</div>"
      ],
      "text/plain": [
       "                                                    text  label\n",
       "24654  I only bought this DVD because it was dirt che...      0\n",
       "3283   This is a romantic comedy with the emphasis on...      1\n",
       "8366   This is a wonderful comedy short--one of Keato...      1\n",
       "35069  definitely the best game for N64 ever. I most ...      1\n",
       "16936  I'm both amused and disgusted by the people wh...      0\n",
       "2327   I was very interested in seeing this movie des...      0\n",
       "7787   ONCE UPON A TIME, there were different types o...      1\n",
       "9665   I had read many good things about this adaptat...      0\n",
       "12264  I first remember seeing this one back in the 7...      1\n",
       "36561  My complaints here concern the movie's pacing ...      0"
      ]
     },
     "execution_count": 5,
     "metadata": {},
     "output_type": "execute_result"
    }
   ],
   "source": [
    "data.sample(10)"
   ]
  },
  {
   "cell_type": "code",
   "execution_count": 6,
   "id": "0ed4716a",
   "metadata": {},
   "outputs": [
    {
     "name": "stdout",
     "output_type": "stream",
     "text": [
      "<class 'pandas.core.frame.DataFrame'>\n",
      "RangeIndex: 40000 entries, 0 to 39999\n",
      "Data columns (total 2 columns):\n",
      " #   Column  Non-Null Count  Dtype \n",
      "---  ------  --------------  ----- \n",
      " 0   text    40000 non-null  object\n",
      " 1   label   40000 non-null  int64 \n",
      "dtypes: int64(1), object(1)\n",
      "memory usage: 625.1+ KB\n"
     ]
    }
   ],
   "source": [
    "data.info()"
   ]
  },
  {
   "cell_type": "code",
   "execution_count": 7,
   "id": "86870e41",
   "metadata": {},
   "outputs": [
    {
     "data": {
      "text/plain": [
       "text     0.0\n",
       "label    0.0\n",
       "dtype: float64"
      ]
     },
     "execution_count": 7,
     "metadata": {},
     "output_type": "execute_result"
    }
   ],
   "source": [
    "data.isnull().mean()*100"
   ]
  },
  {
   "cell_type": "code",
   "execution_count": 8,
   "id": "31784c91",
   "metadata": {},
   "outputs": [
    {
     "data": {
      "text/plain": [
       "277"
      ]
     },
     "execution_count": 8,
     "metadata": {},
     "output_type": "execute_result"
    }
   ],
   "source": [
    "data.duplicated().sum()"
   ]
  },
  {
   "cell_type": "code",
   "execution_count": 9,
   "id": "218ad0a5",
   "metadata": {},
   "outputs": [
    {
     "data": {
      "text/html": [
       "<div>\n",
       "<style scoped>\n",
       "    .dataframe tbody tr th:only-of-type {\n",
       "        vertical-align: middle;\n",
       "    }\n",
       "\n",
       "    .dataframe tbody tr th {\n",
       "        vertical-align: top;\n",
       "    }\n",
       "\n",
       "    .dataframe thead th {\n",
       "        text-align: right;\n",
       "    }\n",
       "</style>\n",
       "<table border=\"1\" class=\"dataframe\">\n",
       "  <thead>\n",
       "    <tr style=\"text-align: right;\">\n",
       "      <th></th>\n",
       "      <th>text</th>\n",
       "      <th>label</th>\n",
       "    </tr>\n",
       "  </thead>\n",
       "  <tbody>\n",
       "    <tr>\n",
       "      <th>2164</th>\n",
       "      <td>I find it rather useless to comment on this \"m...</td>\n",
       "      <td>0</td>\n",
       "    </tr>\n",
       "    <tr>\n",
       "      <th>3236</th>\n",
       "      <td>An absolutely atrocious adaptation of the wond...</td>\n",
       "      <td>0</td>\n",
       "    </tr>\n",
       "    <tr>\n",
       "      <th>3428</th>\n",
       "      <td>When I first saw this film it was not an impre...</td>\n",
       "      <td>0</td>\n",
       "    </tr>\n",
       "    <tr>\n",
       "      <th>3652</th>\n",
       "      <td>Before I watched this tv movie I did not know ...</td>\n",
       "      <td>1</td>\n",
       "    </tr>\n",
       "    <tr>\n",
       "      <th>3787</th>\n",
       "      <td>What a clunker!&lt;br /&gt;&lt;br /&gt;It MUST have been m...</td>\n",
       "      <td>0</td>\n",
       "    </tr>\n",
       "  </tbody>\n",
       "</table>\n",
       "</div>"
      ],
      "text/plain": [
       "                                                   text  label\n",
       "2164  I find it rather useless to comment on this \"m...      0\n",
       "3236  An absolutely atrocious adaptation of the wond...      0\n",
       "3428  When I first saw this film it was not an impre...      0\n",
       "3652  Before I watched this tv movie I did not know ...      1\n",
       "3787  What a clunker!<br /><br />It MUST have been m...      0"
      ]
     },
     "execution_count": 9,
     "metadata": {},
     "output_type": "execute_result"
    }
   ],
   "source": [
    "data[data[\"text\"].duplicated()].head()"
   ]
  },
  {
   "cell_type": "code",
   "execution_count": 10,
   "id": "d8c9c53e",
   "metadata": {},
   "outputs": [],
   "source": [
    "data.drop_duplicates(inplace=True)"
   ]
  },
  {
   "cell_type": "code",
   "execution_count": null,
   "id": "55aebfc1",
   "metadata": {},
   "outputs": [],
   "source": []
  },
  {
   "cell_type": "markdown",
   "id": "29cfe71b",
   "metadata": {},
   "source": [
    "# Data Cleaning / Preprocessing"
   ]
  },
  {
   "cell_type": "code",
   "execution_count": 11,
   "id": "2541484a",
   "metadata": {},
   "outputs": [
    {
     "data": {
      "text/plain": [
       "'I grew up (b. 1965) watching and loving the Thunderbirds. All my mates at school watched. We played \"Thunderbirds\" before school, during lunch and after school. We all wanted to be Virgil or Scott. No one wanted to be Alan. Counting down from 5 became an art form. I took my children to see the movie hoping they would get a glimpse of what I loved as a child. How bitterly disappointing. The only high point was the snappy theme tune. Not that it could compare with the original score of the Thunderbirds. Thankfully early Saturday mornings one television channel still plays reruns of the series Gerry Anderson and his wife created. Jonatha Frakes should hand in his directors chair, his version was completely hopeless. A waste of film. Utter rubbish. A CGI remake may be acceptable but replacing marionettes with Homo sapiens subsp. sapiens was a huge error of judgment.'"
      ]
     },
     "execution_count": 11,
     "metadata": {},
     "output_type": "execute_result"
    }
   ],
   "source": [
    "data[\"text\"][0]"
   ]
  },
  {
   "cell_type": "code",
   "execution_count": 12,
   "id": "65a121b7",
   "metadata": {},
   "outputs": [
    {
     "data": {
      "text/plain": [
       "1    19908\n",
       "0    19815\n",
       "Name: label, dtype: int64"
      ]
     },
     "execution_count": 12,
     "metadata": {},
     "output_type": "execute_result"
    }
   ],
   "source": [
    "data[\"label\"].value_counts()"
   ]
  },
  {
   "cell_type": "code",
   "execution_count": 13,
   "id": "73c07626",
   "metadata": {},
   "outputs": [],
   "source": [
    "#TOKENISATION AND REMOVING PUNCTUATIONS\n",
    "\n",
    "def preprocessing1(text):\n",
    "    tokens = word_tokenize(text)\n",
    "    \n",
    "    punctuations = string.punctuation\n",
    "    txt = []\n",
    "    for i in tokens:\n",
    "        if i not in punctuations:\n",
    "            txt.append(i)\n",
    "    return txt"
   ]
  },
  {
   "cell_type": "code",
   "execution_count": 14,
   "id": "e0feff9f",
   "metadata": {},
   "outputs": [],
   "source": [
    "data[\"text\"] = data[\"text\"].apply(preprocessing1)"
   ]
  },
  {
   "cell_type": "code",
   "execution_count": 15,
   "id": "82da879f",
   "metadata": {},
   "outputs": [
    {
     "data": {
      "text/plain": [
       "['I',\n",
       " 'grew',\n",
       " 'up',\n",
       " 'b',\n",
       " '1965',\n",
       " 'watching',\n",
       " 'and',\n",
       " 'loving',\n",
       " 'the',\n",
       " 'Thunderbirds',\n",
       " 'All',\n",
       " 'my',\n",
       " 'mates',\n",
       " 'at',\n",
       " 'school',\n",
       " 'watched',\n",
       " 'We',\n",
       " 'played',\n",
       " '``',\n",
       " 'Thunderbirds',\n",
       " \"''\",\n",
       " 'before',\n",
       " 'school',\n",
       " 'during',\n",
       " 'lunch',\n",
       " 'and',\n",
       " 'after',\n",
       " 'school',\n",
       " 'We',\n",
       " 'all',\n",
       " 'wanted',\n",
       " 'to',\n",
       " 'be',\n",
       " 'Virgil',\n",
       " 'or',\n",
       " 'Scott',\n",
       " 'No',\n",
       " 'one',\n",
       " 'wanted',\n",
       " 'to',\n",
       " 'be',\n",
       " 'Alan',\n",
       " 'Counting',\n",
       " 'down',\n",
       " 'from',\n",
       " '5',\n",
       " 'became',\n",
       " 'an',\n",
       " 'art',\n",
       " 'form',\n",
       " 'I',\n",
       " 'took',\n",
       " 'my',\n",
       " 'children',\n",
       " 'to',\n",
       " 'see',\n",
       " 'the',\n",
       " 'movie',\n",
       " 'hoping',\n",
       " 'they',\n",
       " 'would',\n",
       " 'get',\n",
       " 'a',\n",
       " 'glimpse',\n",
       " 'of',\n",
       " 'what',\n",
       " 'I',\n",
       " 'loved',\n",
       " 'as',\n",
       " 'a',\n",
       " 'child',\n",
       " 'How',\n",
       " 'bitterly',\n",
       " 'disappointing',\n",
       " 'The',\n",
       " 'only',\n",
       " 'high',\n",
       " 'point',\n",
       " 'was',\n",
       " 'the',\n",
       " 'snappy',\n",
       " 'theme',\n",
       " 'tune',\n",
       " 'Not',\n",
       " 'that',\n",
       " 'it',\n",
       " 'could',\n",
       " 'compare',\n",
       " 'with',\n",
       " 'the',\n",
       " 'original',\n",
       " 'score',\n",
       " 'of',\n",
       " 'the',\n",
       " 'Thunderbirds',\n",
       " 'Thankfully',\n",
       " 'early',\n",
       " 'Saturday',\n",
       " 'mornings',\n",
       " 'one',\n",
       " 'television',\n",
       " 'channel',\n",
       " 'still',\n",
       " 'plays',\n",
       " 'reruns',\n",
       " 'of',\n",
       " 'the',\n",
       " 'series',\n",
       " 'Gerry',\n",
       " 'Anderson',\n",
       " 'and',\n",
       " 'his',\n",
       " 'wife',\n",
       " 'created',\n",
       " 'Jonatha',\n",
       " 'Frakes',\n",
       " 'should',\n",
       " 'hand',\n",
       " 'in',\n",
       " 'his',\n",
       " 'directors',\n",
       " 'chair',\n",
       " 'his',\n",
       " 'version',\n",
       " 'was',\n",
       " 'completely',\n",
       " 'hopeless',\n",
       " 'A',\n",
       " 'waste',\n",
       " 'of',\n",
       " 'film',\n",
       " 'Utter',\n",
       " 'rubbish',\n",
       " 'A',\n",
       " 'CGI',\n",
       " 'remake',\n",
       " 'may',\n",
       " 'be',\n",
       " 'acceptable',\n",
       " 'but',\n",
       " 'replacing',\n",
       " 'marionettes',\n",
       " 'with',\n",
       " 'Homo',\n",
       " 'sapiens',\n",
       " 'subsp',\n",
       " 'sapiens',\n",
       " 'was',\n",
       " 'a',\n",
       " 'huge',\n",
       " 'error',\n",
       " 'of',\n",
       " 'judgment']"
      ]
     },
     "execution_count": 15,
     "metadata": {},
     "output_type": "execute_result"
    }
   ],
   "source": [
    "data[\"text\"][0]"
   ]
  },
  {
   "cell_type": "code",
   "execution_count": 16,
   "id": "5a94c2be",
   "metadata": {},
   "outputs": [],
   "source": [
    "#REMOVING STOPWORDS & CONVERTING TO LOWERCASE\n",
    "\n",
    "def preprocessing2(text):\n",
    "    stopword = stopwords.words(\"english\")\n",
    "    ntxt = []\n",
    "    for j in text:\n",
    "        if j not in stopword:\n",
    "            ntxt.append(j.lower())\n",
    "    return ntxt"
   ]
  },
  {
   "cell_type": "code",
   "execution_count": 17,
   "id": "4f956988",
   "metadata": {},
   "outputs": [],
   "source": [
    "data[\"text\"] = data[\"text\"].apply(preprocessing2)"
   ]
  },
  {
   "cell_type": "code",
   "execution_count": 18,
   "id": "7fef21ba",
   "metadata": {
    "scrolled": true
   },
   "outputs": [
    {
     "data": {
      "text/plain": [
       "['i',\n",
       " 'grew',\n",
       " 'b',\n",
       " '1965',\n",
       " 'watching',\n",
       " 'loving',\n",
       " 'thunderbirds',\n",
       " 'all',\n",
       " 'mates',\n",
       " 'school',\n",
       " 'watched',\n",
       " 'we',\n",
       " 'played',\n",
       " '``',\n",
       " 'thunderbirds',\n",
       " \"''\",\n",
       " 'school',\n",
       " 'lunch',\n",
       " 'school',\n",
       " 'we',\n",
       " 'wanted',\n",
       " 'virgil',\n",
       " 'scott',\n",
       " 'no',\n",
       " 'one',\n",
       " 'wanted',\n",
       " 'alan',\n",
       " 'counting',\n",
       " '5',\n",
       " 'became',\n",
       " 'art',\n",
       " 'form',\n",
       " 'i',\n",
       " 'took',\n",
       " 'children',\n",
       " 'see',\n",
       " 'movie',\n",
       " 'hoping',\n",
       " 'would',\n",
       " 'get',\n",
       " 'glimpse',\n",
       " 'i',\n",
       " 'loved',\n",
       " 'child',\n",
       " 'how',\n",
       " 'bitterly',\n",
       " 'disappointing',\n",
       " 'the',\n",
       " 'high',\n",
       " 'point',\n",
       " 'snappy',\n",
       " 'theme',\n",
       " 'tune',\n",
       " 'not',\n",
       " 'could',\n",
       " 'compare',\n",
       " 'original',\n",
       " 'score',\n",
       " 'thunderbirds',\n",
       " 'thankfully',\n",
       " 'early',\n",
       " 'saturday',\n",
       " 'mornings',\n",
       " 'one',\n",
       " 'television',\n",
       " 'channel',\n",
       " 'still',\n",
       " 'plays',\n",
       " 'reruns',\n",
       " 'series',\n",
       " 'gerry',\n",
       " 'anderson',\n",
       " 'wife',\n",
       " 'created',\n",
       " 'jonatha',\n",
       " 'frakes',\n",
       " 'hand',\n",
       " 'directors',\n",
       " 'chair',\n",
       " 'version',\n",
       " 'completely',\n",
       " 'hopeless',\n",
       " 'a',\n",
       " 'waste',\n",
       " 'film',\n",
       " 'utter',\n",
       " 'rubbish',\n",
       " 'a',\n",
       " 'cgi',\n",
       " 'remake',\n",
       " 'may',\n",
       " 'acceptable',\n",
       " 'replacing',\n",
       " 'marionettes',\n",
       " 'homo',\n",
       " 'sapiens',\n",
       " 'subsp',\n",
       " 'sapiens',\n",
       " 'huge',\n",
       " 'error',\n",
       " 'judgment']"
      ]
     },
     "execution_count": 18,
     "metadata": {},
     "output_type": "execute_result"
    }
   ],
   "source": [
    "data[\"text\"][0]"
   ]
  },
  {
   "cell_type": "code",
   "execution_count": 19,
   "id": "55548486",
   "metadata": {},
   "outputs": [],
   "source": [
    "#STEMMING\n",
    "\n",
    "def preprocessing3(text):\n",
    "    stem = []\n",
    "    Stemmer = PorterStemmer()\n",
    "    for i in text:\n",
    "        stem.append(Stemmer.stem(i))\n",
    "    return \" \".join(stem)"
   ]
  },
  {
   "cell_type": "code",
   "execution_count": 20,
   "id": "70ece485",
   "metadata": {},
   "outputs": [],
   "source": [
    "data[\"text\"] = data[\"text\"].apply(preprocessing3)"
   ]
  },
  {
   "cell_type": "code",
   "execution_count": 21,
   "id": "8e5536bd",
   "metadata": {},
   "outputs": [
    {
     "data": {
      "text/plain": [
       "\"i grew b 1965 watch love thunderbird all mate school watch we play `` thunderbird '' school lunch school we want virgil scott no one want alan count 5 becam art form i took children see movi hope would get glimps i love child how bitterli disappoint the high point snappi theme tune not could compar origin score thunderbird thank earli saturday morn one televis channel still play rerun seri gerri anderson wife creat jonatha frake hand director chair version complet hopeless a wast film utter rubbish a cgi remak may accept replac marionett homo sapien subsp sapien huge error judgment\""
      ]
     },
     "execution_count": 21,
     "metadata": {},
     "output_type": "execute_result"
    }
   ],
   "source": [
    "data[\"text\"][0]"
   ]
  },
  {
   "cell_type": "code",
   "execution_count": 22,
   "id": "f796f60b",
   "metadata": {},
   "outputs": [],
   "source": [
    "# REMOVING HTML TAGS\n",
    "\n",
    "def preprocessing4(text):\n",
    "    pattern = re.compile(\"<.*?>\")\n",
    "    return pattern.sub(r'',text)"
   ]
  },
  {
   "cell_type": "code",
   "execution_count": 23,
   "id": "56a0c6e6",
   "metadata": {
    "scrolled": true
   },
   "outputs": [],
   "source": [
    "data[\"text\"] = data[\"text\"].apply(preprocessing4)"
   ]
  },
  {
   "cell_type": "code",
   "execution_count": 24,
   "id": "84062ee8",
   "metadata": {},
   "outputs": [
    {
     "data": {
      "text/html": [
       "<div>\n",
       "<style scoped>\n",
       "    .dataframe tbody tr th:only-of-type {\n",
       "        vertical-align: middle;\n",
       "    }\n",
       "\n",
       "    .dataframe tbody tr th {\n",
       "        vertical-align: top;\n",
       "    }\n",
       "\n",
       "    .dataframe thead th {\n",
       "        text-align: right;\n",
       "    }\n",
       "</style>\n",
       "<table border=\"1\" class=\"dataframe\">\n",
       "  <thead>\n",
       "    <tr style=\"text-align: right;\">\n",
       "      <th></th>\n",
       "      <th>text</th>\n",
       "      <th>label</th>\n",
       "    </tr>\n",
       "  </thead>\n",
       "  <tbody>\n",
       "    <tr>\n",
       "      <th>0</th>\n",
       "      <td>i grew b 1965 watch love thunderbird all mate ...</td>\n",
       "      <td>0</td>\n",
       "    </tr>\n",
       "    <tr>\n",
       "      <th>1</th>\n",
       "      <td>when i put movi dvd player sat coke chip i exp...</td>\n",
       "      <td>0</td>\n",
       "    </tr>\n",
       "    <tr>\n",
       "      <th>2</th>\n",
       "      <td>whi peopl know particular time past like feel ...</td>\n",
       "      <td>0</td>\n",
       "    </tr>\n",
       "    <tr>\n",
       "      <th>3</th>\n",
       "      <td>even though i great interest biblic movi i bor...</td>\n",
       "      <td>0</td>\n",
       "    </tr>\n",
       "    <tr>\n",
       "      <th>4</th>\n",
       "      <td>im die hard dad armi fan noth ever chang i got...</td>\n",
       "      <td>1</td>\n",
       "    </tr>\n",
       "    <tr>\n",
       "      <th>5</th>\n",
       "      <td>a terribl movi everyon said what made laugh ca...</td>\n",
       "      <td>0</td>\n",
       "    </tr>\n",
       "    <tr>\n",
       "      <th>6</th>\n",
       "      <td>final watch shock movi last night disturb mind...</td>\n",
       "      <td>1</td>\n",
       "    </tr>\n",
       "    <tr>\n",
       "      <th>7</th>\n",
       "      <td>i caught film azn cabl it sound like would goo...</td>\n",
       "      <td>0</td>\n",
       "    </tr>\n",
       "    <tr>\n",
       "      <th>8</th>\n",
       "      <td>it may remak 1987 autumn 's tale eleven year d...</td>\n",
       "      <td>1</td>\n",
       "    </tr>\n",
       "    <tr>\n",
       "      <th>9</th>\n",
       "      <td>my super ex girlfriend turn pleasant surpris i...</td>\n",
       "      <td>1</td>\n",
       "    </tr>\n",
       "  </tbody>\n",
       "</table>\n",
       "</div>"
      ],
      "text/plain": [
       "                                                text  label\n",
       "0  i grew b 1965 watch love thunderbird all mate ...      0\n",
       "1  when i put movi dvd player sat coke chip i exp...      0\n",
       "2  whi peopl know particular time past like feel ...      0\n",
       "3  even though i great interest biblic movi i bor...      0\n",
       "4  im die hard dad armi fan noth ever chang i got...      1\n",
       "5  a terribl movi everyon said what made laugh ca...      0\n",
       "6  final watch shock movi last night disturb mind...      1\n",
       "7  i caught film azn cabl it sound like would goo...      0\n",
       "8  it may remak 1987 autumn 's tale eleven year d...      1\n",
       "9  my super ex girlfriend turn pleasant surpris i...      1"
      ]
     },
     "execution_count": 24,
     "metadata": {},
     "output_type": "execute_result"
    }
   ],
   "source": [
    "data.head(10)"
   ]
  },
  {
   "cell_type": "code",
   "execution_count": 25,
   "id": "510f0988",
   "metadata": {},
   "outputs": [
    {
     "data": {
      "text/plain": [
       "text     0\n",
       "label    0\n",
       "dtype: int64"
      ]
     },
     "execution_count": 25,
     "metadata": {},
     "output_type": "execute_result"
    }
   ],
   "source": [
    "data.isna().sum()"
   ]
  },
  {
   "cell_type": "code",
   "execution_count": null,
   "id": "58e0ecd0",
   "metadata": {},
   "outputs": [],
   "source": []
  },
  {
   "cell_type": "markdown",
   "id": "b29eee77",
   "metadata": {},
   "source": [
    "# MODEL BUILDING"
   ]
  },
  {
   "cell_type": "code",
   "execution_count": 26,
   "id": "21b6a834",
   "metadata": {},
   "outputs": [],
   "source": [
    "x = data[\"text\"]\n",
    "y = data[\"label\"]"
   ]
  },
  {
   "cell_type": "code",
   "execution_count": 27,
   "id": "2dbfca69",
   "metadata": {
    "scrolled": true
   },
   "outputs": [],
   "source": [
    "tfidf = TfidfVectorizer()\n",
    "x = tfidf.fit_transform(x)"
   ]
  },
  {
   "cell_type": "code",
   "execution_count": 28,
   "id": "15a294a9",
   "metadata": {},
   "outputs": [],
   "source": [
    "x_train, x_test, y_train, y_test = train_test_split(x,y, test_size=0.2, random_state=None)"
   ]
  },
  {
   "cell_type": "markdown",
   "id": "55fcaa90",
   "metadata": {},
   "source": [
    "**Logistic Regression**"
   ]
  },
  {
   "cell_type": "code",
   "execution_count": 29,
   "id": "ad8a5e15",
   "metadata": {},
   "outputs": [
    {
     "data": {
      "text/plain": [
       "88.60918816865954"
      ]
     },
     "execution_count": 29,
     "metadata": {},
     "output_type": "execute_result"
    }
   ],
   "source": [
    "logr = LogisticRegression()\n",
    "model = logr.fit(x_train,y_train)\n",
    "pred = model.predict(x_test)\n",
    "accuracy_score(y_test, pred)*100"
   ]
  },
  {
   "cell_type": "code",
   "execution_count": 30,
   "id": "543361b3",
   "metadata": {
    "scrolled": true
   },
   "outputs": [
    {
     "name": "stderr",
     "output_type": "stream",
     "text": [
      "C:\\Users\\mohit\\anaconda3\\envs\\ML_DL\\lib\\site-packages\\sklearn\\linear_model\\_logistic.py:444: ConvergenceWarning: lbfgs failed to converge (status=1):\n",
      "STOP: TOTAL NO. of ITERATIONS REACHED LIMIT.\n",
      "\n",
      "Increase the number of iterations (max_iter) or scale the data as shown in:\n",
      "    https://scikit-learn.org/stable/modules/preprocessing.html\n",
      "Please also refer to the documentation for alternative solver options:\n",
      "    https://scikit-learn.org/stable/modules/linear_model.html#logistic-regression\n",
      "  n_iter_i = _check_optimize_result(\n",
      "C:\\Users\\mohit\\anaconda3\\envs\\ML_DL\\lib\\site-packages\\sklearn\\linear_model\\_logistic.py:444: ConvergenceWarning: lbfgs failed to converge (status=1):\n",
      "STOP: TOTAL NO. of ITERATIONS REACHED LIMIT.\n",
      "\n",
      "Increase the number of iterations (max_iter) or scale the data as shown in:\n",
      "    https://scikit-learn.org/stable/modules/preprocessing.html\n",
      "Please also refer to the documentation for alternative solver options:\n",
      "    https://scikit-learn.org/stable/modules/linear_model.html#logistic-regression\n",
      "  n_iter_i = _check_optimize_result(\n",
      "C:\\Users\\mohit\\anaconda3\\envs\\ML_DL\\lib\\site-packages\\sklearn\\linear_model\\_logistic.py:444: ConvergenceWarning: lbfgs failed to converge (status=1):\n",
      "STOP: TOTAL NO. of ITERATIONS REACHED LIMIT.\n",
      "\n",
      "Increase the number of iterations (max_iter) or scale the data as shown in:\n",
      "    https://scikit-learn.org/stable/modules/preprocessing.html\n",
      "Please also refer to the documentation for alternative solver options:\n",
      "    https://scikit-learn.org/stable/modules/linear_model.html#logistic-regression\n",
      "  n_iter_i = _check_optimize_result(\n",
      "C:\\Users\\mohit\\anaconda3\\envs\\ML_DL\\lib\\site-packages\\sklearn\\linear_model\\_logistic.py:444: ConvergenceWarning: lbfgs failed to converge (status=1):\n",
      "STOP: TOTAL NO. of ITERATIONS REACHED LIMIT.\n",
      "\n",
      "Increase the number of iterations (max_iter) or scale the data as shown in:\n",
      "    https://scikit-learn.org/stable/modules/preprocessing.html\n",
      "Please also refer to the documentation for alternative solver options:\n",
      "    https://scikit-learn.org/stable/modules/linear_model.html#logistic-regression\n",
      "  n_iter_i = _check_optimize_result(\n"
     ]
    },
    {
     "name": "stdout",
     "output_type": "stream",
     "text": [
      "i=  19\n",
      "89.56576463184392\n"
     ]
    }
   ],
   "source": [
    "score = []\n",
    "for i in range(20):\n",
    "    x = data[\"text\"]\n",
    "    y = data[\"label\"]\n",
    "    x = tfidf.fit_transform(x)\n",
    "    \n",
    "    x_train, x_test, y_train, y_test = train_test_split(x,y, test_size=0.2, random_state=i)\n",
    "    \n",
    "    logr = LogisticRegression()\n",
    "    logr.fit(x_train, y_train)\n",
    "    pred = logr.predict(x_test)\n",
    "    score.append(accuracy_score(y_test,pred)*100)\n",
    "print(\"i= \",np.argmax(score))\n",
    "print(score[np.argmax(score)])"
   ]
  },
  {
   "cell_type": "code",
   "execution_count": 31,
   "id": "23a937cc",
   "metadata": {},
   "outputs": [
    {
     "data": {
      "text/plain": [
       "89.56576463184392"
      ]
     },
     "execution_count": 31,
     "metadata": {},
     "output_type": "execute_result"
    }
   ],
   "source": [
    "logr = LogisticRegression()\n",
    "x = data[\"text\"]\n",
    "y = data[\"label\"]\n",
    "x = tfidf.fit_transform(x)\n",
    "x_train, x_test, y_train, y_test = train_test_split(x,y, test_size=0.2, random_state=np.argmax(score))\n",
    "\n",
    "model1 = logr.fit(x_train,y_train)\n",
    "pred = model1.predict(x_test)\n",
    "accuracy_score(y_test, pred)*100"
   ]
  },
  {
   "cell_type": "code",
   "execution_count": 32,
   "id": "d223698a",
   "metadata": {},
   "outputs": [
    {
     "data": {
      "text/plain": [
       "92.65214928566932"
      ]
     },
     "execution_count": 32,
     "metadata": {},
     "output_type": "execute_result"
    }
   ],
   "source": [
    "# Training Data Accuracy\n",
    "\n",
    "pred = model1.predict(x_train)\n",
    "accuracy_score(y_train, pred)*100     #Generalized"
   ]
  },
  {
   "cell_type": "code",
   "execution_count": 33,
   "id": "87d04842",
   "metadata": {},
   "outputs": [
    {
     "name": "stdout",
     "output_type": "stream",
     "text": [
      "[0.89175582 0.88451857 0.88955318 0.89049717 0.89207048 0.88042794\n",
      " 0.88105727 0.89395846 0.88857413 0.88668555]\n",
      "89.0\n"
     ]
    }
   ],
   "source": [
    "#CROSS VALIDATION TO CHECK WHETHER THE MODEL IS GENERALIZED OR NOT\n",
    "\n",
    "mod1 = cross_val_score(LogisticRegression(), x_train, y_train, cv=10)\n",
    "print(mod1)\n",
    "print(np.round(np.mean(mod1),2)*100)"
   ]
  },
  {
   "cell_type": "code",
   "execution_count": null,
   "id": "d3a88ad3",
   "metadata": {},
   "outputs": [],
   "source": []
  },
  {
   "cell_type": "markdown",
   "id": "0b6685e5",
   "metadata": {},
   "source": [
    "**Decision Tree Classifier**"
   ]
  },
  {
   "cell_type": "code",
   "execution_count": 34,
   "id": "07138ec5",
   "metadata": {},
   "outputs": [
    {
     "data": {
      "text/plain": [
       "71.16425424795469"
      ]
     },
     "execution_count": 34,
     "metadata": {},
     "output_type": "execute_result"
    }
   ],
   "source": [
    "dtc = DecisionTreeClassifier(random_state=4)\n",
    "model = dtc.fit(x_train,y_train)\n",
    "pred = model.predict(x_test)\n",
    "accuracy_score(y_test, pred)*100"
   ]
  },
  {
   "cell_type": "code",
   "execution_count": 35,
   "id": "88a10f23",
   "metadata": {},
   "outputs": [
    {
     "data": {
      "text/plain": [
       "71.16425424795469"
      ]
     },
     "execution_count": 35,
     "metadata": {},
     "output_type": "execute_result"
    }
   ],
   "source": [
    "dtc = DecisionTreeClassifier(random_state=4)\n",
    "x = data[\"text\"]\n",
    "y = data[\"label\"]\n",
    "x = tfidf.fit_transform(x)\n",
    "x_train, x_test, y_train, y_test = train_test_split(x,y, test_size=0.2, random_state=19)\n",
    "\n",
    "model2 = dtc.fit(x_train,y_train)\n",
    "pred = model2.predict(x_test)\n",
    "accuracy_score(y_test, pred)*100"
   ]
  },
  {
   "cell_type": "code",
   "execution_count": 36,
   "id": "2147f360",
   "metadata": {},
   "outputs": [
    {
     "data": {
      "text/plain": [
       "100.0"
      ]
     },
     "execution_count": 36,
     "metadata": {},
     "output_type": "execute_result"
    }
   ],
   "source": [
    "# Training Data Accuracy\n",
    "\n",
    "pred = model2.predict(x_train)\n",
    "accuracy_score(y_train, pred)*100     #Overfitting"
   ]
  },
  {
   "cell_type": "code",
   "execution_count": 37,
   "id": "b82d7a5b",
   "metadata": {},
   "outputs": [
    {
     "name": "stdout",
     "output_type": "stream",
     "text": [
      "[0.71585903 0.70232851 0.70736312 0.71738788 0.7202203 ]\n",
      "71.0\n"
     ]
    }
   ],
   "source": [
    "#CROSS VALIDATION TO CHECK WHETHER THE MODEL IS GENERALIZED OR NOT\n",
    "\n",
    "mod2 = cross_val_score(DecisionTreeClassifier(random_state=4), x_train, y_train, cv=5)\n",
    "print(mod2)\n",
    "print(np.round(np.mean(mod2),2)*100)"
   ]
  },
  {
   "cell_type": "code",
   "execution_count": null,
   "id": "9917a566",
   "metadata": {},
   "outputs": [],
   "source": []
  },
  {
   "cell_type": "markdown",
   "id": "01f2b71d",
   "metadata": {},
   "source": [
    "**RandomForest Classifier**"
   ]
  },
  {
   "cell_type": "code",
   "execution_count": 38,
   "id": "437ce708",
   "metadata": {},
   "outputs": [
    {
     "data": {
      "text/plain": [
       "86.1296412838263"
      ]
     },
     "execution_count": 38,
     "metadata": {},
     "output_type": "execute_result"
    }
   ],
   "source": [
    "rfc = RandomForestClassifier(random_state=4)\n",
    "model = rfc.fit(x_train,y_train)\n",
    "pred = model.predict(x_test)\n",
    "accuracy_score(y_test, pred)*100"
   ]
  },
  {
   "cell_type": "code",
   "execution_count": 39,
   "id": "a36dca62",
   "metadata": {},
   "outputs": [
    {
     "data": {
      "text/plain": [
       "85.43738200125865"
      ]
     },
     "execution_count": 39,
     "metadata": {},
     "output_type": "execute_result"
    }
   ],
   "source": [
    "rfc = RandomForestClassifier()\n",
    "x = data[\"text\"]\n",
    "y = data[\"label\"]\n",
    "x = tfidf.fit_transform(x)\n",
    "x_train, x_test, y_train, y_test = train_test_split(x,y, test_size=0.2, random_state=19)\n",
    "\n",
    "model3 = rfc.fit(x_train,y_train)\n",
    "pred = model3.predict(x_test)\n",
    "accuracy_score(y_test, pred)*100"
   ]
  },
  {
   "cell_type": "code",
   "execution_count": 40,
   "id": "5efd1408",
   "metadata": {},
   "outputs": [
    {
     "data": {
      "text/plain": [
       "100.0"
      ]
     },
     "execution_count": 40,
     "metadata": {},
     "output_type": "execute_result"
    }
   ],
   "source": [
    "# Training Data Accuracy\n",
    "\n",
    "pred = model3.predict(x_train)\n",
    "accuracy_score(y_train, pred)*100     #Overfitting"
   ]
  },
  {
   "cell_type": "code",
   "execution_count": 41,
   "id": "4a5602b5",
   "metadata": {},
   "outputs": [
    {
     "name": "stdout",
     "output_type": "stream",
     "text": [
      "[0.84319834 0.83895025 0.84072885]\n",
      "84.0\n"
     ]
    }
   ],
   "source": [
    "#CROSS VALIDATION TO CHECK WHETHER THE MODEL IS GENERALIZED OR NOT\n",
    "\n",
    "mod3 = cross_val_score(RandomForestClassifier(random_state=4), x_train, y_train, cv=3)\n",
    "print(mod3)\n",
    "print(np.round(np.mean(mod3),2)*100)"
   ]
  },
  {
   "cell_type": "code",
   "execution_count": null,
   "id": "bd13324b",
   "metadata": {},
   "outputs": [],
   "source": []
  },
  {
   "cell_type": "markdown",
   "id": "b5cf8b49",
   "metadata": {},
   "source": [
    "**Support Vector Classifier**"
   ]
  },
  {
   "cell_type": "code",
   "execution_count": 43,
   "id": "978b5f50",
   "metadata": {},
   "outputs": [
    {
     "data": {
      "text/plain": [
       "89.70421648835746"
      ]
     },
     "execution_count": 43,
     "metadata": {},
     "output_type": "execute_result"
    }
   ],
   "source": [
    "svc = SVC(kernel=\"linear\",tol=0.1)\n",
    "model = svc.fit(x_train,y_train)\n",
    "pred = model.predict(x_test)\n",
    "accuracy_score(y_test, pred)*100"
   ]
  },
  {
   "cell_type": "code",
   "execution_count": 45,
   "id": "e43f490e",
   "metadata": {
    "scrolled": true
   },
   "outputs": [
    {
     "data": {
      "text/plain": [
       "89.70421648835746"
      ]
     },
     "execution_count": 45,
     "metadata": {},
     "output_type": "execute_result"
    }
   ],
   "source": [
    "svc = SVC(kernel=\"linear\",tol=0.1)\n",
    "x = data[\"text\"]\n",
    "y = data[\"label\"]\n",
    "x = tfidf.fit_transform(x)\n",
    "x_train, x_test, y_train, y_test = train_test_split(x,y, test_size=0.2, random_state=np.argmax(score))\n",
    "\n",
    "model4 = svc.fit(x_train,y_train)\n",
    "pred = model4.predict(x_test)\n",
    "accuracy_score(y_test, pred)*100"
   ]
  },
  {
   "cell_type": "code",
   "execution_count": 46,
   "id": "6e079893",
   "metadata": {},
   "outputs": [
    {
     "data": {
      "text/plain": [
       "95.2766064572975"
      ]
     },
     "execution_count": 46,
     "metadata": {},
     "output_type": "execute_result"
    }
   ],
   "source": [
    "# Training Data Accuracy\n",
    "\n",
    "pred = model4.predict(x_train)\n",
    "accuracy_score(y_train, pred)*100     #Underfitting"
   ]
  },
  {
   "cell_type": "code",
   "execution_count": 47,
   "id": "103e2036",
   "metadata": {},
   "outputs": [
    {
     "name": "stdout",
     "output_type": "stream",
     "text": [
      "[0.88999371 0.89011957 0.88381168 0.88783988]\n",
      "89.0\n"
     ]
    }
   ],
   "source": [
    "#CROSS VALIDATION TO CHECK WHETHER THE MODEL IS GENERALIZED OR NOT\n",
    "\n",
    "mod4 = cross_val_score(SVC(kernel=\"linear\",tol=0.1), x_train, y_train, cv=4)\n",
    "print(mod4)\n",
    "print(np.round(np.mean(mod4),2)*100)"
   ]
  },
  {
   "cell_type": "code",
   "execution_count": null,
   "id": "5a83c60c",
   "metadata": {},
   "outputs": [],
   "source": []
  }
 ],
 "metadata": {
  "kernelspec": {
   "display_name": "Python 3 (ipykernel)",
   "language": "python",
   "name": "python3"
  },
  "language_info": {
   "codemirror_mode": {
    "name": "ipython",
    "version": 3
   },
   "file_extension": ".py",
   "mimetype": "text/x-python",
   "name": "python",
   "nbconvert_exporter": "python",
   "pygments_lexer": "ipython3",
   "version": "3.9.12"
  }
 },
 "nbformat": 4,
 "nbformat_minor": 5
}
